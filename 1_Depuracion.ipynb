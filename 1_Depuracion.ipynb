{
 "cells": [
  {
   "cell_type": "markdown",
   "metadata": {
    "id": "JYyZhIe32HNs"
   },
   "source": [
    "# **1) Descripción del Problema**\n",
    "\n",
    "Las amenazas financieras están mostrando una tendencia sobre el riesgo crediticio de los bancos comerciales a medida que ha surgido la increíble mejora en la industria financiera. De esta forma, una de las mayores amenazas a las que se enfrentan los bancos comerciales es la predicción del riesgo de los clientes de crédito.\n",
    "\n",
    "Los estudios recientes se centran principalmente en mejorar el rendimiento del clasificador para la predicción de incumplimiento de tarjetas de crédito en lugar de un modelo interpretable\n",
    "\n",
    "En los problemas de clasificación, un conjunto de datos desequilibrado también es crucial para mejorar el rendimiento del modelo porque la mayoría de los casos se encuentran en una clase y solo unos pocos ejemplos están en otras categorías\n",
    "\n",
    "Objetivo General : Encontrar un modelo de clasificación y predicción para predecir el Default de Crédito para Bank of America"
   ]
  },
  {
   "cell_type": "markdown",
   "metadata": {
    "id": "yZT8C_i83Gp-"
   },
   "source": [
    "# **2) Depuración Datos**"
   ]
  },
  {
   "cell_type": "markdown",
   "metadata": {
    "id": "lwR-82rh3QAY"
   },
   "source": [
    "## **2.1) Librerias**"
   ]
  },
  {
   "cell_type": "code",
   "execution_count": 1,
   "metadata": {
    "executionInfo": {
     "elapsed": 1296,
     "status": "ok",
     "timestamp": 1696900466918,
     "user": {
      "displayName": "Oscar Andrés Gaspar Álvarez",
      "userId": "14257180584353120309"
     },
     "user_tz": 300
    },
    "id": "IrMkikBN3Kov",
    "tags": []
   },
   "outputs": [],
   "source": [
    "import pandas as pd\n",
    "import numpy as np\n",
    "import matplotlib.pyplot as plt\n",
    "pd.set_option(\"display.max_columns\",1000) ## Mil columnas\n",
    "import os"
   ]
  },
  {
   "cell_type": "code",
   "execution_count": 2,
   "metadata": {
    "tags": []
   },
   "outputs": [
    {
     "data": {
      "text/plain": [
       "'/Users/osgaspar/Documents/PERSONAL/Cedesistemas/2023/Diplomado2023_02/ModelosSupervisados/Clasificacion/ProyectoMora'"
      ]
     },
     "execution_count": 2,
     "metadata": {},
     "output_type": "execute_result"
    }
   ],
   "source": [
    "os.getcwd()"
   ]
  },
  {
   "cell_type": "code",
   "execution_count": 3,
   "metadata": {
    "tags": []
   },
   "outputs": [],
   "source": [
    "os.chdir(\"/Users/osgaspar/Documents/PERSONAL/Cedesistemas/2023/Diplomado2023_02/ModelosSupervisados/Clasificacion/ProyectoMora\")"
   ]
  },
  {
   "cell_type": "code",
   "execution_count": 4,
   "metadata": {
    "executionInfo": {
     "elapsed": 1140,
     "status": "ok",
     "timestamp": 1696900469581,
     "user": {
      "displayName": "Oscar Andrés Gaspar Álvarez",
      "userId": "14257180584353120309"
     },
     "user_tz": 300
    },
    "id": "FFhd3g2eLWsQ",
    "tags": []
   },
   "outputs": [],
   "source": [
    "os.getcwd()\n",
    "import utils"
   ]
  },
  {
   "cell_type": "markdown",
   "metadata": {
    "id": "eb52JD5l4dXp"
   },
   "source": [
    "## **2.2) Importar Datos**"
   ]
  },
  {
   "cell_type": "code",
   "execution_count": 4,
   "metadata": {
    "executionInfo": {
     "elapsed": 3,
     "status": "ok",
     "timestamp": 1696900469581,
     "user": {
      "displayName": "Oscar Andrés Gaspar Álvarez",
      "userId": "14257180584353120309"
     },
     "user_tz": 300
    },
    "id": "o4SVGDms4J9q",
    "tags": []
   },
   "outputs": [],
   "source": [
    "ruta=\"/Users/osgaspar/Documents/PERSONAL/Cedesistemas/2023/Diplomado2023_02/ModelosSupervisados/Clasificacion/ProyectoMora/UCI_Credit_Card.csv\"\n",
    "ruta_github=\"https://raw.githubusercontent.com/Oscar19922017/ProyectoBancoAmerica/main/UCI_Credit_Card.csv\""
   ]
  },
  {
   "cell_type": "code",
   "execution_count": 5,
   "metadata": {
    "executionInfo": {
     "elapsed": 787,
     "status": "ok",
     "timestamp": 1696900470366,
     "user": {
      "displayName": "Oscar Andrés Gaspar Álvarez",
      "userId": "14257180584353120309"
     },
     "user_tz": 300
    },
    "id": "Mr55965O5TnN",
    "tags": []
   },
   "outputs": [],
   "source": [
    "df=pd.read_csv(ruta_github)"
   ]
  },
  {
   "cell_type": "code",
   "execution_count": 6,
   "metadata": {
    "colab": {
     "base_uri": "https://localhost:8080/"
    },
    "executionInfo": {
     "elapsed": 31,
     "status": "ok",
     "timestamp": 1696900470366,
     "user": {
      "displayName": "Oscar Andrés Gaspar Álvarez",
      "userId": "14257180584353120309"
     },
     "user_tz": 300
    },
    "id": "qEULN33n5Xs9",
    "outputId": "6e88fcbf-c210-47dc-ff8a-36aa5d603e67",
    "tags": []
   },
   "outputs": [
    {
     "name": "stdout",
     "output_type": "stream",
     "text": [
      "La base tiene (30000, 25) filas y columnas\n"
     ]
    }
   ],
   "source": [
    "print(f'La base tiene {df.shape} filas y columnas')"
   ]
  },
  {
   "cell_type": "code",
   "execution_count": 7,
   "metadata": {
    "colab": {
     "base_uri": "https://localhost:8080/",
     "height": 101
    },
    "executionInfo": {
     "elapsed": 28,
     "status": "ok",
     "timestamp": 1696900470366,
     "user": {
      "displayName": "Oscar Andrés Gaspar Álvarez",
      "userId": "14257180584353120309"
     },
     "user_tz": 300
    },
    "id": "0H3XvrbK5u2_",
    "outputId": "797562ac-3657-4a5f-ccb8-8fa0f559fabb",
    "tags": []
   },
   "outputs": [
    {
     "data": {
      "text/html": [
       "<div>\n",
       "<style scoped>\n",
       "    .dataframe tbody tr th:only-of-type {\n",
       "        vertical-align: middle;\n",
       "    }\n",
       "\n",
       "    .dataframe tbody tr th {\n",
       "        vertical-align: top;\n",
       "    }\n",
       "\n",
       "    .dataframe thead th {\n",
       "        text-align: right;\n",
       "    }\n",
       "</style>\n",
       "<table border=\"1\" class=\"dataframe\">\n",
       "  <thead>\n",
       "    <tr style=\"text-align: right;\">\n",
       "      <th></th>\n",
       "      <th>ID</th>\n",
       "      <th>LIMIT_BAL</th>\n",
       "      <th>SEX</th>\n",
       "      <th>EDUCATION</th>\n",
       "      <th>MARRIAGE</th>\n",
       "      <th>AGE</th>\n",
       "      <th>PAY_0</th>\n",
       "      <th>PAY_2</th>\n",
       "      <th>PAY_3</th>\n",
       "      <th>PAY_4</th>\n",
       "      <th>PAY_5</th>\n",
       "      <th>PAY_6</th>\n",
       "      <th>BILL_AMT1</th>\n",
       "      <th>BILL_AMT2</th>\n",
       "      <th>BILL_AMT3</th>\n",
       "      <th>BILL_AMT4</th>\n",
       "      <th>BILL_AMT5</th>\n",
       "      <th>BILL_AMT6</th>\n",
       "      <th>PAY_AMT1</th>\n",
       "      <th>PAY_AMT2</th>\n",
       "      <th>PAY_AMT3</th>\n",
       "      <th>PAY_AMT4</th>\n",
       "      <th>PAY_AMT5</th>\n",
       "      <th>PAY_AMT6</th>\n",
       "      <th>default.payment.next.month</th>\n",
       "    </tr>\n",
       "  </thead>\n",
       "  <tbody>\n",
       "    <tr>\n",
       "      <th>0</th>\n",
       "      <td>1</td>\n",
       "      <td>20000.0</td>\n",
       "      <td>2</td>\n",
       "      <td>2</td>\n",
       "      <td>1</td>\n",
       "      <td>24</td>\n",
       "      <td>2</td>\n",
       "      <td>2</td>\n",
       "      <td>-1</td>\n",
       "      <td>-1</td>\n",
       "      <td>-2</td>\n",
       "      <td>-2</td>\n",
       "      <td>3913.0</td>\n",
       "      <td>3102.0</td>\n",
       "      <td>689.0</td>\n",
       "      <td>0.0</td>\n",
       "      <td>0.0</td>\n",
       "      <td>0.0</td>\n",
       "      <td>0.0</td>\n",
       "      <td>689.0</td>\n",
       "      <td>0.0</td>\n",
       "      <td>0.0</td>\n",
       "      <td>0.0</td>\n",
       "      <td>0.0</td>\n",
       "      <td>1</td>\n",
       "    </tr>\n",
       "  </tbody>\n",
       "</table>\n",
       "</div>"
      ],
      "text/plain": [
       "   ID  LIMIT_BAL  SEX  EDUCATION  MARRIAGE  AGE  PAY_0  PAY_2  PAY_3  PAY_4  \\\n",
       "0   1    20000.0    2          2         1   24      2      2     -1     -1   \n",
       "\n",
       "   PAY_5  PAY_6  BILL_AMT1  BILL_AMT2  BILL_AMT3  BILL_AMT4  BILL_AMT5  \\\n",
       "0     -2     -2     3913.0     3102.0      689.0        0.0        0.0   \n",
       "\n",
       "   BILL_AMT6  PAY_AMT1  PAY_AMT2  PAY_AMT3  PAY_AMT4  PAY_AMT5  PAY_AMT6  \\\n",
       "0        0.0       0.0     689.0       0.0       0.0       0.0       0.0   \n",
       "\n",
       "   default.payment.next.month  \n",
       "0                           1  "
      ]
     },
     "execution_count": 7,
     "metadata": {},
     "output_type": "execute_result"
    }
   ],
   "source": [
    "df.head(1)"
   ]
  },
  {
   "cell_type": "markdown",
   "metadata": {
    "id": "Z0rMLx3i6a3y"
   },
   "source": [
    "## **2.3) Diccionario de Variables**\n",
    "\n",
    "* ID : ID de cada cliente\n",
    "* Monto_Credito : cantidad del crédito otorgado en dólares NT (incluye crédito individual y familiar / suplementario\n",
    "* SEXO : Género (1 = masculino, 2 = femenino)\n",
    "* EDUCACIÓN : (1 = posgrado, 2 = universidad, 3 = bachillerato, 4 = otros, 5 = desconocido, 6 = desconocido)\n",
    "* MATRIMONIO : Estado civil (1 = casado, 2 = soltero, 3 = otros)\n",
    "* EDAD : Edad en años\n",
    "* PAY_0 : Estado de reembolso en septiembre de 2005 (-1 = pago debidamente, 1 = retraso en el pago durante un mes, 2 = retraso en el pago durante dos meses,… 8 = retraso en el pago durante ocho meses, 9 = retraso en el pago durante nueve meses o más)\n",
    "* PAY_2 : Estado de reembolso en agosto de 2005 (escala igual a la anterior)\n",
    "* PAY_3 : Estado de reembolso en julio de 2005 (escala igual a la anterior)\n",
    "* PAY_4 : Estado de reembolso en junio de 2005 (escala igual a la anterior)\n",
    "* PAY_5 : Estado de reembolso en mayo de 2005 (escala igual a la anterior)\n",
    "* PAY_6 : Estado de reembolso en abril de 2005 (escala igual a la anterior)\n",
    "* BILL_AMT1 : Monto del extracto de la factura en septiembre de 2005 (dólar NT)\n",
    "* BILL_AMT2 : Monto del extracto de la factura en agosto de 2005 (dólar NT)\n",
    "* BILL_AMT3 : Monto del extracto de la factura en julio de 2005 (dólar NT)\n",
    "* BILL_AMT4 : Monto del extracto de la factura en junio de 2005 (dólar NT)\n",
    "* BILL_AMT5 : Monto del extracto de la factura en mayo de 2005 (dólar NT)\n",
    "* BILL_AMT6 : Monto del extracto de la factura en abril de 2005 (dólar NT)\n",
    "* PAY_AMT1 : Monto del pago anterior en septiembre de 2005 (dólar NT)\n",
    "* PAY_AMT2 : Monto del pago anterior en agosto de 2005 (dólar NT)\n",
    "* PAY_AMT3 : Monto del pago anterior en julio de 2005 (dólar NT)\n",
    "* PAY_AMT4 : Monto del pago anterior en junio de 2005 (dólar NT)\n",
    "* PAY_AMT5 : Monto del pago anterior en mayo de 2005 (dólar NT)\n",
    "* PAY_AMT6 : Monto del pago anterior en abril de 2005 (dólar NT)\n",
    "* default.payment.next.month : pago predeterminado (1 = sí, 0 = no)\n"
   ]
  },
  {
   "cell_type": "markdown",
   "metadata": {
    "id": "0vh185x568Jf"
   },
   "source": [
    "## **2.4) Renombrar Variables**"
   ]
  },
  {
   "cell_type": "code",
   "execution_count": 9,
   "metadata": {
    "colab": {
     "base_uri": "https://localhost:8080/"
    },
    "executionInfo": {
     "elapsed": 27,
     "status": "ok",
     "timestamp": 1696900470366,
     "user": {
      "displayName": "Oscar Andrés Gaspar Álvarez",
      "userId": "14257180584353120309"
     },
     "user_tz": 300
    },
    "id": "g3Z_r7La7Bo0",
    "outputId": "daed756a-8651-47a4-affa-f0768dd6e024",
    "tags": []
   },
   "outputs": [
    {
     "name": "stdout",
     "output_type": "stream",
     "text": [
      "['ID', 'LIMIT_BAL', 'SEX', 'EDUCATION', 'MARRIAGE', 'AGE', 'PAY_0', 'PAY_2', 'PAY_3', 'PAY_4', 'PAY_5', 'PAY_6', 'BILL_AMT1', 'BILL_AMT2', 'BILL_AMT3', 'BILL_AMT4', 'BILL_AMT5', 'BILL_AMT6', 'PAY_AMT1', 'PAY_AMT2', 'PAY_AMT3', 'PAY_AMT4', 'PAY_AMT5', 'PAY_AMT6', 'default.payment.next.month']\n"
     ]
    }
   ],
   "source": [
    "print(df.columns.tolist())"
   ]
  },
  {
   "cell_type": "code",
   "execution_count": 10,
   "metadata": {
    "executionInfo": {
     "elapsed": 25,
     "status": "ok",
     "timestamp": 1696900470366,
     "user": {
      "displayName": "Oscar Andrés Gaspar Álvarez",
      "userId": "14257180584353120309"
     },
     "user_tz": 300
    },
    "id": "oacI3euG7HRk",
    "tags": []
   },
   "outputs": [],
   "source": [
    "df.rename(columns={'LIMIT_BAL':\"MontoCredito\",'SEX':\"Genero\",'EDUCATION':\"Educacion\",\n",
    "                   'MARRIAGE':\"EstadoCivil\", 'AGE':\"Edad\",'default.payment.next.month':\"Mora\"},inplace=True)"
   ]
  },
  {
   "cell_type": "code",
   "execution_count": 11,
   "metadata": {
    "colab": {
     "base_uri": "https://localhost:8080/",
     "height": 132
    },
    "executionInfo": {
     "elapsed": 25,
     "status": "ok",
     "timestamp": 1696900470367,
     "user": {
      "displayName": "Oscar Andrés Gaspar Álvarez",
      "userId": "14257180584353120309"
     },
     "user_tz": 300
    },
    "id": "_3Mr4ghB7sXU",
    "outputId": "30e496c6-4cc1-419c-d7aa-71e0fe119c2e",
    "tags": []
   },
   "outputs": [
    {
     "data": {
      "text/html": [
       "<div>\n",
       "<style scoped>\n",
       "    .dataframe tbody tr th:only-of-type {\n",
       "        vertical-align: middle;\n",
       "    }\n",
       "\n",
       "    .dataframe tbody tr th {\n",
       "        vertical-align: top;\n",
       "    }\n",
       "\n",
       "    .dataframe thead th {\n",
       "        text-align: right;\n",
       "    }\n",
       "</style>\n",
       "<table border=\"1\" class=\"dataframe\">\n",
       "  <thead>\n",
       "    <tr style=\"text-align: right;\">\n",
       "      <th></th>\n",
       "      <th>ID</th>\n",
       "      <th>MontoCredito</th>\n",
       "      <th>Genero</th>\n",
       "      <th>Educacion</th>\n",
       "      <th>EstadoCivil</th>\n",
       "      <th>Edad</th>\n",
       "      <th>PAY_0</th>\n",
       "      <th>PAY_2</th>\n",
       "      <th>PAY_3</th>\n",
       "      <th>PAY_4</th>\n",
       "      <th>PAY_5</th>\n",
       "      <th>PAY_6</th>\n",
       "      <th>BILL_AMT1</th>\n",
       "      <th>BILL_AMT2</th>\n",
       "      <th>BILL_AMT3</th>\n",
       "      <th>BILL_AMT4</th>\n",
       "      <th>BILL_AMT5</th>\n",
       "      <th>BILL_AMT6</th>\n",
       "      <th>PAY_AMT1</th>\n",
       "      <th>PAY_AMT2</th>\n",
       "      <th>PAY_AMT3</th>\n",
       "      <th>PAY_AMT4</th>\n",
       "      <th>PAY_AMT5</th>\n",
       "      <th>PAY_AMT6</th>\n",
       "      <th>Mora</th>\n",
       "    </tr>\n",
       "  </thead>\n",
       "  <tbody>\n",
       "    <tr>\n",
       "      <th>29998</th>\n",
       "      <td>29999</td>\n",
       "      <td>80000.0</td>\n",
       "      <td>1</td>\n",
       "      <td>3</td>\n",
       "      <td>1</td>\n",
       "      <td>41</td>\n",
       "      <td>1</td>\n",
       "      <td>-1</td>\n",
       "      <td>0</td>\n",
       "      <td>0</td>\n",
       "      <td>0</td>\n",
       "      <td>-1</td>\n",
       "      <td>-1645.0</td>\n",
       "      <td>78379.0</td>\n",
       "      <td>76304.0</td>\n",
       "      <td>52774.0</td>\n",
       "      <td>11855.0</td>\n",
       "      <td>48944.0</td>\n",
       "      <td>85900.0</td>\n",
       "      <td>3409.0</td>\n",
       "      <td>1178.0</td>\n",
       "      <td>1926.0</td>\n",
       "      <td>52964.0</td>\n",
       "      <td>1804.0</td>\n",
       "      <td>1</td>\n",
       "    </tr>\n",
       "    <tr>\n",
       "      <th>29999</th>\n",
       "      <td>30000</td>\n",
       "      <td>50000.0</td>\n",
       "      <td>1</td>\n",
       "      <td>2</td>\n",
       "      <td>1</td>\n",
       "      <td>46</td>\n",
       "      <td>0</td>\n",
       "      <td>0</td>\n",
       "      <td>0</td>\n",
       "      <td>0</td>\n",
       "      <td>0</td>\n",
       "      <td>0</td>\n",
       "      <td>47929.0</td>\n",
       "      <td>48905.0</td>\n",
       "      <td>49764.0</td>\n",
       "      <td>36535.0</td>\n",
       "      <td>32428.0</td>\n",
       "      <td>15313.0</td>\n",
       "      <td>2078.0</td>\n",
       "      <td>1800.0</td>\n",
       "      <td>1430.0</td>\n",
       "      <td>1000.0</td>\n",
       "      <td>1000.0</td>\n",
       "      <td>1000.0</td>\n",
       "      <td>1</td>\n",
       "    </tr>\n",
       "  </tbody>\n",
       "</table>\n",
       "</div>"
      ],
      "text/plain": [
       "          ID  MontoCredito  Genero  Educacion  EstadoCivil  Edad  PAY_0  \\\n",
       "29998  29999       80000.0       1          3            1    41      1   \n",
       "29999  30000       50000.0       1          2            1    46      0   \n",
       "\n",
       "       PAY_2  PAY_3  PAY_4  PAY_5  PAY_6  BILL_AMT1  BILL_AMT2  BILL_AMT3  \\\n",
       "29998     -1      0      0      0     -1    -1645.0    78379.0    76304.0   \n",
       "29999      0      0      0      0      0    47929.0    48905.0    49764.0   \n",
       "\n",
       "       BILL_AMT4  BILL_AMT5  BILL_AMT6  PAY_AMT1  PAY_AMT2  PAY_AMT3  \\\n",
       "29998    52774.0    11855.0    48944.0   85900.0    3409.0    1178.0   \n",
       "29999    36535.0    32428.0    15313.0    2078.0    1800.0    1430.0   \n",
       "\n",
       "       PAY_AMT4  PAY_AMT5  PAY_AMT6  Mora  \n",
       "29998    1926.0   52964.0    1804.0     1  \n",
       "29999    1000.0    1000.0    1000.0     1  "
      ]
     },
     "execution_count": 11,
     "metadata": {},
     "output_type": "execute_result"
    }
   ],
   "source": [
    "df.tail(2)"
   ]
  },
  {
   "cell_type": "code",
   "execution_count": 12,
   "metadata": {
    "colab": {
     "base_uri": "https://localhost:8080/"
    },
    "executionInfo": {
     "elapsed": 24,
     "status": "ok",
     "timestamp": 1696900470367,
     "user": {
      "displayName": "Oscar Andrés Gaspar Álvarez",
      "userId": "14257180584353120309"
     },
     "user_tz": 300
    },
    "id": "MZ2SwY-c7uAD",
    "outputId": "f703dba5-3011-4fd8-ab4a-b9bd4f026332",
    "tags": []
   },
   "outputs": [
    {
     "name": "stdout",
     "output_type": "stream",
     "text": [
      "['ID', 'MontoCredito', 'Genero', 'Educacion', 'EstadoCivil', 'Edad', 'PAY_0', 'PAY_2', 'PAY_3', 'PAY_4', 'PAY_5', 'PAY_6', 'BILL_AMT1', 'BILL_AMT2', 'BILL_AMT3', 'BILL_AMT4', 'BILL_AMT5', 'BILL_AMT6', 'PAY_AMT1', 'PAY_AMT2', 'PAY_AMT3', 'PAY_AMT4', 'PAY_AMT5', 'PAY_AMT6', 'Mora']\n"
     ]
    }
   ],
   "source": [
    "print(df.columns.tolist())"
   ]
  },
  {
   "cell_type": "markdown",
   "metadata": {
    "id": "A-y8r8ZI9SGQ"
   },
   "source": [
    "## **2.5) Mapeo de Variables**\n",
    "* Tipo de Datos\n",
    "* Valores Nulos\n",
    "* Conteo Valores únicos\n",
    "* Valores únicos"
   ]
  },
  {
   "cell_type": "code",
   "execution_count": 13,
   "metadata": {
    "colab": {
     "base_uri": "https://localhost:8080/"
    },
    "executionInfo": {
     "elapsed": 22,
     "status": "ok",
     "timestamp": 1696900470367,
     "user": {
      "displayName": "Oscar Andrés Gaspar Álvarez",
      "userId": "14257180584353120309"
     },
     "user_tz": 300
    },
    "id": "RrdFvnQF9XW5",
    "outputId": "2bb69552-8d7b-4d3c-cb79-51daad821869",
    "tags": []
   },
   "outputs": [
    {
     "name": "stdout",
     "output_type": "stream",
     "text": [
      "25\n"
     ]
    }
   ],
   "source": [
    "Variables=df.columns.tolist()\n",
    "print(len(Variables))"
   ]
  },
  {
   "cell_type": "code",
   "execution_count": 14,
   "metadata": {
    "executionInfo": {
     "elapsed": 21,
     "status": "ok",
     "timestamp": 1696900470367,
     "user": {
      "displayName": "Oscar Andrés Gaspar Álvarez",
      "userId": "14257180584353120309"
     },
     "user_tz": 300
    },
    "id": "_wqyEtlIAClU",
    "tags": []
   },
   "outputs": [],
   "source": [
    "i=4"
   ]
  },
  {
   "cell_type": "code",
   "execution_count": 15,
   "metadata": {
    "colab": {
     "base_uri": "https://localhost:8080/",
     "height": 36
    },
    "executionInfo": {
     "elapsed": 20,
     "status": "ok",
     "timestamp": 1696900470367,
     "user": {
      "displayName": "Oscar Andrés Gaspar Álvarez",
      "userId": "14257180584353120309"
     },
     "user_tz": 300
    },
    "id": "0xuIOCwb_pXz",
    "outputId": "50f4bb0f-b748-4b4d-e812-0d89377d181e",
    "tags": []
   },
   "outputs": [
    {
     "data": {
      "text/plain": [
       "'EstadoCivil'"
      ]
     },
     "execution_count": 15,
     "metadata": {},
     "output_type": "execute_result"
    }
   ],
   "source": [
    "Variables[i]"
   ]
  },
  {
   "cell_type": "code",
   "execution_count": 16,
   "metadata": {
    "colab": {
     "base_uri": "https://localhost:8080/"
    },
    "executionInfo": {
     "elapsed": 20,
     "status": "ok",
     "timestamp": 1696900470368,
     "user": {
      "displayName": "Oscar Andrés Gaspar Álvarez",
      "userId": "14257180584353120309"
     },
     "user_tz": 300
    },
    "id": "8arllR2Y9vXZ",
    "outputId": "aacf5f46-a85e-42d1-eec3-8cb6fa4580f1",
    "tags": []
   },
   "outputs": [
    {
     "data": {
      "text/plain": [
       "4"
      ]
     },
     "execution_count": 16,
     "metadata": {},
     "output_type": "execute_result"
    }
   ],
   "source": [
    "df[Variables[i]].nunique()"
   ]
  },
  {
   "cell_type": "code",
   "execution_count": 17,
   "metadata": {
    "colab": {
     "base_uri": "https://localhost:8080/"
    },
    "executionInfo": {
     "elapsed": 20,
     "status": "ok",
     "timestamp": 1696900470369,
     "user": {
      "displayName": "Oscar Andrés Gaspar Álvarez",
      "userId": "14257180584353120309"
     },
     "user_tz": 300
    },
    "id": "v2JqPcwn99Qa",
    "outputId": "7274f865-70ad-4f67-92d9-e24a8f33f216",
    "tags": []
   },
   "outputs": [
    {
     "data": {
      "text/plain": [
       "[1, 2, 3, 0]"
      ]
     },
     "execution_count": 17,
     "metadata": {},
     "output_type": "execute_result"
    }
   ],
   "source": [
    "df[Variables[i]].unique().tolist()"
   ]
  },
  {
   "cell_type": "code",
   "execution_count": 18,
   "metadata": {
    "colab": {
     "base_uri": "https://localhost:8080/"
    },
    "executionInfo": {
     "elapsed": 19,
     "status": "ok",
     "timestamp": 1696900470369,
     "user": {
      "displayName": "Oscar Andrés Gaspar Álvarez",
      "userId": "14257180584353120309"
     },
     "user_tz": 300
    },
    "id": "SQmv_SJw-lH5",
    "outputId": "c08672b0-b0c9-4c2f-d12d-6532ed514c8a",
    "tags": []
   },
   "outputs": [
    {
     "data": {
      "text/plain": [
       "dtype('int64')"
      ]
     },
     "execution_count": 18,
     "metadata": {},
     "output_type": "execute_result"
    }
   ],
   "source": [
    "df[Variables[i]].dtype"
   ]
  },
  {
   "cell_type": "code",
   "execution_count": 19,
   "metadata": {
    "colab": {
     "base_uri": "https://localhost:8080/"
    },
    "executionInfo": {
     "elapsed": 17,
     "status": "ok",
     "timestamp": 1696900470369,
     "user": {
      "displayName": "Oscar Andrés Gaspar Álvarez",
      "userId": "14257180584353120309"
     },
     "user_tz": 300
    },
    "id": "cYSnj80w_JHp",
    "outputId": "cce8c616-6edd-4da6-b2d1-69f885d2cefb",
    "tags": []
   },
   "outputs": [
    {
     "data": {
      "text/plain": [
       "0"
      ]
     },
     "execution_count": 19,
     "metadata": {},
     "output_type": "execute_result"
    }
   ],
   "source": [
    "df[Variables[i]].isnull().sum()"
   ]
  },
  {
   "cell_type": "markdown",
   "metadata": {
    "id": "6InhhKv0AQpU"
   },
   "source": [
    "**Bucle for**\n",
    "\n",
    "El bucle for se utiliza para iterar sobre una secuencia (como una lista, tupla, rango, etc.) y ejecutar un bloque de código para cada elemento en esa secuencia."
   ]
  },
  {
   "cell_type": "code",
   "execution_count": 20,
   "metadata": {
    "colab": {
     "base_uri": "https://localhost:8080/"
    },
    "executionInfo": {
     "elapsed": 16,
     "status": "ok",
     "timestamp": 1696900470369,
     "user": {
      "displayName": "Oscar Andrés Gaspar Álvarez",
      "userId": "14257180584353120309"
     },
     "user_tz": 300
    },
    "id": "7TKN2L15_giq",
    "outputId": "8407f2df-80ac-42ba-d844-4b23fd991fde",
    "tags": []
   },
   "outputs": [
    {
     "name": "stdout",
     "output_type": "stream",
     "text": [
      "0\n",
      "1\n",
      "2\n",
      "3\n",
      "4\n"
     ]
    }
   ],
   "source": [
    "for contador in range(5):\n",
    "  print(contador)"
   ]
  },
  {
   "cell_type": "code",
   "execution_count": 21,
   "metadata": {
    "colab": {
     "base_uri": "https://localhost:8080/"
    },
    "executionInfo": {
     "elapsed": 14,
     "status": "ok",
     "timestamp": 1696900470369,
     "user": {
      "displayName": "Oscar Andrés Gaspar Álvarez",
      "userId": "14257180584353120309"
     },
     "user_tz": 300
    },
    "id": "hh5UQmCrBaEv",
    "outputId": "f6b15db2-6dff-4eb5-8463-351395ca7d94",
    "tags": []
   },
   "outputs": [
    {
     "name": "stdout",
     "output_type": "stream",
     "text": [
      "ID\n",
      "MontoCredito\n",
      "Genero\n",
      "Educacion\n",
      "EstadoCivil\n",
      "Edad\n",
      "PAY_0\n",
      "PAY_2\n",
      "PAY_3\n",
      "PAY_4\n",
      "PAY_5\n",
      "PAY_6\n",
      "BILL_AMT1\n",
      "BILL_AMT2\n",
      "BILL_AMT3\n",
      "BILL_AMT4\n",
      "BILL_AMT5\n",
      "BILL_AMT6\n",
      "PAY_AMT1\n",
      "PAY_AMT2\n",
      "PAY_AMT3\n",
      "PAY_AMT4\n",
      "PAY_AMT5\n",
      "PAY_AMT6\n",
      "Mora\n"
     ]
    }
   ],
   "source": [
    "## Iterar una lista\n",
    "for elemento in Variables:\n",
    "  print(elemento)"
   ]
  },
  {
   "cell_type": "code",
   "execution_count": 22,
   "metadata": {
    "colab": {
     "base_uri": "https://localhost:8080/"
    },
    "executionInfo": {
     "elapsed": 13,
     "status": "ok",
     "timestamp": 1696900470369,
     "user": {
      "displayName": "Oscar Andrés Gaspar Álvarez",
      "userId": "14257180584353120309"
     },
     "user_tz": 300
    },
    "id": "jmcufpl1Bnww",
    "outputId": "c5a700fe-b5a2-4d4b-f388-9c4f8c201055",
    "tags": []
   },
   "outputs": [
    {
     "name": "stdout",
     "output_type": "stream",
     "text": [
      "0\n",
      "ID\n",
      "1\n",
      "MontoCredito\n",
      "2\n",
      "Genero\n",
      "3\n",
      "Educacion\n",
      "4\n",
      "EstadoCivil\n",
      "5\n",
      "Edad\n",
      "6\n",
      "PAY_0\n",
      "7\n",
      "PAY_2\n",
      "8\n",
      "PAY_3\n",
      "9\n",
      "PAY_4\n",
      "10\n",
      "PAY_5\n",
      "11\n",
      "PAY_6\n",
      "12\n",
      "BILL_AMT1\n",
      "13\n",
      "BILL_AMT2\n",
      "14\n",
      "BILL_AMT3\n",
      "15\n",
      "BILL_AMT4\n",
      "16\n",
      "BILL_AMT5\n",
      "17\n",
      "BILL_AMT6\n",
      "18\n",
      "PAY_AMT1\n",
      "19\n",
      "PAY_AMT2\n",
      "20\n",
      "PAY_AMT3\n",
      "21\n",
      "PAY_AMT4\n",
      "22\n",
      "PAY_AMT5\n",
      "23\n",
      "PAY_AMT6\n",
      "24\n",
      "Mora\n"
     ]
    }
   ],
   "source": [
    "## Iterar una lista por index\n",
    "\n",
    "\n",
    "for posicion in range(len(Variables)):\n",
    "  print(posicion)\n",
    "  print(Variables[posicion])"
   ]
  },
  {
   "cell_type": "code",
   "execution_count": 23,
   "metadata": {
    "executionInfo": {
     "elapsed": 378,
     "status": "ok",
     "timestamp": 1696900470736,
     "user": {
      "displayName": "Oscar Andrés Gaspar Álvarez",
      "userId": "14257180584353120309"
     },
     "user_tz": 300
    },
    "id": "f0kJPXaICK-Z",
    "tags": []
   },
   "outputs": [],
   "source": [
    "Mapo1=utils.MapearVariables(df)"
   ]
  },
  {
   "cell_type": "markdown",
   "metadata": {
    "id": "2DjPeUqxI9Tp"
   },
   "source": [
    "**Funciones**\n",
    "\n",
    "En Python, una función es un bloque de código reutilizable que realiza una tarea específica. Las funciones son una parte fundamental de la programación porque te permiten organizar tu código en bloques más pequeños y manejables, lo que hace que el código sea más legible, modular y fácil de mantener. En lugar de repetir el mismo conjunto de instrucciones cada vez que necesitas realizar una tarea, puedes definir una función una vez y luego llamarla cada vez que la necesites.\n",
    "\n",
    "\n"
   ]
  },
  {
   "cell_type": "code",
   "execution_count": 24,
   "metadata": {
    "executionInfo": {
     "elapsed": 21,
     "status": "ok",
     "timestamp": 1696900470737,
     "user": {
      "displayName": "Oscar Andrés Gaspar Álvarez",
      "userId": "14257180584353120309"
     },
     "user_tz": 300
    },
    "id": "LpQWTUPQJehC",
    "tags": []
   },
   "outputs": [],
   "source": [
    "def sumar_2_numeros(x,y):\n",
    "  resultado=x+y\n",
    "  return resultado"
   ]
  },
  {
   "cell_type": "code",
   "execution_count": 25,
   "metadata": {
    "colab": {
     "base_uri": "https://localhost:8080/"
    },
    "executionInfo": {
     "elapsed": 20,
     "status": "ok",
     "timestamp": 1696900470737,
     "user": {
      "displayName": "Oscar Andrés Gaspar Álvarez",
      "userId": "14257180584353120309"
     },
     "user_tz": 300
    },
    "id": "0XRsmHmQJvXU",
    "outputId": "e20cd075-9f0a-4a80-aaa7-7e7b36d64fef",
    "tags": []
   },
   "outputs": [
    {
     "data": {
      "text/plain": [
       "10"
      ]
     },
     "execution_count": 25,
     "metadata": {},
     "output_type": "execute_result"
    }
   ],
   "source": [
    "sumar_2_numeros(1,9)"
   ]
  },
  {
   "cell_type": "code",
   "execution_count": 26,
   "metadata": {
    "colab": {
     "base_uri": "https://localhost:8080/"
    },
    "executionInfo": {
     "elapsed": 19,
     "status": "ok",
     "timestamp": 1696900470737,
     "user": {
      "displayName": "Oscar Andrés Gaspar Álvarez",
      "userId": "14257180584353120309"
     },
     "user_tz": 300
    },
    "id": "_bJVeANVJx_U",
    "outputId": "d57ab854-3245-4b22-a057-3d38d9b62ce7",
    "tags": []
   },
   "outputs": [
    {
     "data": {
      "text/plain": [
       "20"
      ]
     },
     "execution_count": 26,
     "metadata": {},
     "output_type": "execute_result"
    }
   ],
   "source": [
    "sumar_2_numeros(1,19)"
   ]
  },
  {
   "cell_type": "code",
   "execution_count": 27,
   "metadata": {
    "colab": {
     "base_uri": "https://localhost:8080/",
     "height": 833
    },
    "executionInfo": {
     "elapsed": 17,
     "status": "ok",
     "timestamp": 1696900470737,
     "user": {
      "displayName": "Oscar Andrés Gaspar Álvarez",
      "userId": "14257180584353120309"
     },
     "user_tz": 300
    },
    "id": "h-tZ6IjZJz9j",
    "outputId": "5e551130-3684-4fcc-8a1f-51d52693e3ea",
    "tags": []
   },
   "outputs": [
    {
     "data": {
      "text/html": [
       "<div>\n",
       "<style scoped>\n",
       "    .dataframe tbody tr th:only-of-type {\n",
       "        vertical-align: middle;\n",
       "    }\n",
       "\n",
       "    .dataframe tbody tr th {\n",
       "        vertical-align: top;\n",
       "    }\n",
       "\n",
       "    .dataframe thead th {\n",
       "        text-align: right;\n",
       "    }\n",
       "</style>\n",
       "<table border=\"1\" class=\"dataframe\">\n",
       "  <thead>\n",
       "    <tr style=\"text-align: right;\">\n",
       "      <th></th>\n",
       "      <th>Variable</th>\n",
       "      <th>TipoDato</th>\n",
       "      <th>CatUnicos</th>\n",
       "      <th>VectorUnicos</th>\n",
       "      <th>Nulos</th>\n",
       "      <th>PorcentajeNulos</th>\n",
       "    </tr>\n",
       "  </thead>\n",
       "  <tbody>\n",
       "    <tr>\n",
       "      <th>0</th>\n",
       "      <td>ID</td>\n",
       "      <td>int64</td>\n",
       "      <td>30000</td>\n",
       "      <td>[1, 2, 3, 4, 5, 6, 7, 8, 9, 10, 11, 12, 13, 14...</td>\n",
       "      <td>0</td>\n",
       "      <td>0.0</td>\n",
       "    </tr>\n",
       "    <tr>\n",
       "      <th>1</th>\n",
       "      <td>MontoCredito</td>\n",
       "      <td>float64</td>\n",
       "      <td>81</td>\n",
       "      <td>[20000.0, 120000.0, 90000.0, 50000.0, 500000.0...</td>\n",
       "      <td>0</td>\n",
       "      <td>0.0</td>\n",
       "    </tr>\n",
       "    <tr>\n",
       "      <th>2</th>\n",
       "      <td>Genero</td>\n",
       "      <td>int64</td>\n",
       "      <td>2</td>\n",
       "      <td>[2, 1]</td>\n",
       "      <td>0</td>\n",
       "      <td>0.0</td>\n",
       "    </tr>\n",
       "    <tr>\n",
       "      <th>3</th>\n",
       "      <td>Educacion</td>\n",
       "      <td>int64</td>\n",
       "      <td>7</td>\n",
       "      <td>[2, 1, 3, 5, 4, 6, 0]</td>\n",
       "      <td>0</td>\n",
       "      <td>0.0</td>\n",
       "    </tr>\n",
       "    <tr>\n",
       "      <th>4</th>\n",
       "      <td>EstadoCivil</td>\n",
       "      <td>int64</td>\n",
       "      <td>4</td>\n",
       "      <td>[1, 2, 3, 0]</td>\n",
       "      <td>0</td>\n",
       "      <td>0.0</td>\n",
       "    </tr>\n",
       "    <tr>\n",
       "      <th>5</th>\n",
       "      <td>Edad</td>\n",
       "      <td>int64</td>\n",
       "      <td>56</td>\n",
       "      <td>[24, 26, 34, 37, 57, 29, 23, 28, 35, 51, 41, 3...</td>\n",
       "      <td>0</td>\n",
       "      <td>0.0</td>\n",
       "    </tr>\n",
       "    <tr>\n",
       "      <th>6</th>\n",
       "      <td>PAY_0</td>\n",
       "      <td>int64</td>\n",
       "      <td>11</td>\n",
       "      <td>[2, -1, 0, -2, 1, 3, 4, 8, 7, 5, 6]</td>\n",
       "      <td>0</td>\n",
       "      <td>0.0</td>\n",
       "    </tr>\n",
       "    <tr>\n",
       "      <th>7</th>\n",
       "      <td>PAY_2</td>\n",
       "      <td>int64</td>\n",
       "      <td>11</td>\n",
       "      <td>[2, 0, -1, -2, 3, 5, 7, 4, 1, 6, 8]</td>\n",
       "      <td>0</td>\n",
       "      <td>0.0</td>\n",
       "    </tr>\n",
       "    <tr>\n",
       "      <th>8</th>\n",
       "      <td>PAY_3</td>\n",
       "      <td>int64</td>\n",
       "      <td>11</td>\n",
       "      <td>[-1, 0, 2, -2, 3, 4, 6, 7, 1, 5, 8]</td>\n",
       "      <td>0</td>\n",
       "      <td>0.0</td>\n",
       "    </tr>\n",
       "    <tr>\n",
       "      <th>9</th>\n",
       "      <td>PAY_4</td>\n",
       "      <td>int64</td>\n",
       "      <td>11</td>\n",
       "      <td>[-1, 0, -2, 2, 3, 4, 5, 7, 6, 1, 8]</td>\n",
       "      <td>0</td>\n",
       "      <td>0.0</td>\n",
       "    </tr>\n",
       "    <tr>\n",
       "      <th>10</th>\n",
       "      <td>PAY_5</td>\n",
       "      <td>int64</td>\n",
       "      <td>10</td>\n",
       "      <td>[-2, 0, -1, 2, 3, 5, 4, 7, 8, 6]</td>\n",
       "      <td>0</td>\n",
       "      <td>0.0</td>\n",
       "    </tr>\n",
       "    <tr>\n",
       "      <th>11</th>\n",
       "      <td>PAY_6</td>\n",
       "      <td>int64</td>\n",
       "      <td>10</td>\n",
       "      <td>[-2, 2, 0, -1, 3, 6, 4, 7, 8, 5]</td>\n",
       "      <td>0</td>\n",
       "      <td>0.0</td>\n",
       "    </tr>\n",
       "    <tr>\n",
       "      <th>12</th>\n",
       "      <td>BILL_AMT1</td>\n",
       "      <td>float64</td>\n",
       "      <td>22723</td>\n",
       "      <td>[3913.0, 2682.0, 29239.0, 46990.0, 8617.0, 644...</td>\n",
       "      <td>0</td>\n",
       "      <td>0.0</td>\n",
       "    </tr>\n",
       "    <tr>\n",
       "      <th>13</th>\n",
       "      <td>BILL_AMT2</td>\n",
       "      <td>float64</td>\n",
       "      <td>22346</td>\n",
       "      <td>[3102.0, 1725.0, 14027.0, 48233.0, 5670.0, 570...</td>\n",
       "      <td>0</td>\n",
       "      <td>0.0</td>\n",
       "    </tr>\n",
       "    <tr>\n",
       "      <th>14</th>\n",
       "      <td>BILL_AMT3</td>\n",
       "      <td>float64</td>\n",
       "      <td>22026</td>\n",
       "      <td>[689.0, 2682.0, 13559.0, 49291.0, 35835.0, 576...</td>\n",
       "      <td>0</td>\n",
       "      <td>0.0</td>\n",
       "    </tr>\n",
       "    <tr>\n",
       "      <th>15</th>\n",
       "      <td>BILL_AMT4</td>\n",
       "      <td>float64</td>\n",
       "      <td>21548</td>\n",
       "      <td>[0.0, 3272.0, 14331.0, 28314.0, 20940.0, 19394...</td>\n",
       "      <td>0</td>\n",
       "      <td>0.0</td>\n",
       "    </tr>\n",
       "    <tr>\n",
       "      <th>16</th>\n",
       "      <td>BILL_AMT5</td>\n",
       "      <td>float64</td>\n",
       "      <td>21010</td>\n",
       "      <td>[0.0, 3455.0, 14948.0, 28959.0, 19146.0, 19619...</td>\n",
       "      <td>0</td>\n",
       "      <td>0.0</td>\n",
       "    </tr>\n",
       "    <tr>\n",
       "      <th>17</th>\n",
       "      <td>BILL_AMT6</td>\n",
       "      <td>float64</td>\n",
       "      <td>20604</td>\n",
       "      <td>[0.0, 3261.0, 15549.0, 29547.0, 19131.0, 20024...</td>\n",
       "      <td>0</td>\n",
       "      <td>0.0</td>\n",
       "    </tr>\n",
       "    <tr>\n",
       "      <th>18</th>\n",
       "      <td>PAY_AMT1</td>\n",
       "      <td>float64</td>\n",
       "      <td>7943</td>\n",
       "      <td>[0.0, 1518.0, 2000.0, 2500.0, 55000.0, 380.0, ...</td>\n",
       "      <td>0</td>\n",
       "      <td>0.0</td>\n",
       "    </tr>\n",
       "    <tr>\n",
       "      <th>19</th>\n",
       "      <td>PAY_AMT2</td>\n",
       "      <td>float64</td>\n",
       "      <td>7899</td>\n",
       "      <td>[689.0, 1000.0, 1500.0, 2019.0, 36681.0, 1815....</td>\n",
       "      <td>0</td>\n",
       "      <td>0.0</td>\n",
       "    </tr>\n",
       "    <tr>\n",
       "      <th>20</th>\n",
       "      <td>PAY_AMT3</td>\n",
       "      <td>float64</td>\n",
       "      <td>7518</td>\n",
       "      <td>[0.0, 1000.0, 1200.0, 10000.0, 657.0, 38000.0,...</td>\n",
       "      <td>0</td>\n",
       "      <td>0.0</td>\n",
       "    </tr>\n",
       "    <tr>\n",
       "      <th>21</th>\n",
       "      <td>PAY_AMT4</td>\n",
       "      <td>float64</td>\n",
       "      <td>6937</td>\n",
       "      <td>[0.0, 1000.0, 1100.0, 9000.0, 20239.0, 581.0, ...</td>\n",
       "      <td>0</td>\n",
       "      <td>0.0</td>\n",
       "    </tr>\n",
       "    <tr>\n",
       "      <th>22</th>\n",
       "      <td>PAY_AMT5</td>\n",
       "      <td>float64</td>\n",
       "      <td>6897</td>\n",
       "      <td>[0.0, 1000.0, 1069.0, 689.0, 13750.0, 1687.0, ...</td>\n",
       "      <td>0</td>\n",
       "      <td>0.0</td>\n",
       "    </tr>\n",
       "    <tr>\n",
       "      <th>23</th>\n",
       "      <td>PAY_AMT6</td>\n",
       "      <td>float64</td>\n",
       "      <td>6939</td>\n",
       "      <td>[0.0, 2000.0, 5000.0, 1000.0, 679.0, 800.0, 13...</td>\n",
       "      <td>0</td>\n",
       "      <td>0.0</td>\n",
       "    </tr>\n",
       "    <tr>\n",
       "      <th>24</th>\n",
       "      <td>Mora</td>\n",
       "      <td>int64</td>\n",
       "      <td>2</td>\n",
       "      <td>[1, 0]</td>\n",
       "      <td>0</td>\n",
       "      <td>0.0</td>\n",
       "    </tr>\n",
       "  </tbody>\n",
       "</table>\n",
       "</div>"
      ],
      "text/plain": [
       "        Variable TipoDato  CatUnicos  \\\n",
       "0             ID    int64      30000   \n",
       "1   MontoCredito  float64         81   \n",
       "2         Genero    int64          2   \n",
       "3      Educacion    int64          7   \n",
       "4    EstadoCivil    int64          4   \n",
       "5           Edad    int64         56   \n",
       "6          PAY_0    int64         11   \n",
       "7          PAY_2    int64         11   \n",
       "8          PAY_3    int64         11   \n",
       "9          PAY_4    int64         11   \n",
       "10         PAY_5    int64         10   \n",
       "11         PAY_6    int64         10   \n",
       "12     BILL_AMT1  float64      22723   \n",
       "13     BILL_AMT2  float64      22346   \n",
       "14     BILL_AMT3  float64      22026   \n",
       "15     BILL_AMT4  float64      21548   \n",
       "16     BILL_AMT5  float64      21010   \n",
       "17     BILL_AMT6  float64      20604   \n",
       "18      PAY_AMT1  float64       7943   \n",
       "19      PAY_AMT2  float64       7899   \n",
       "20      PAY_AMT3  float64       7518   \n",
       "21      PAY_AMT4  float64       6937   \n",
       "22      PAY_AMT5  float64       6897   \n",
       "23      PAY_AMT6  float64       6939   \n",
       "24          Mora    int64          2   \n",
       "\n",
       "                                         VectorUnicos  Nulos  PorcentajeNulos  \n",
       "0   [1, 2, 3, 4, 5, 6, 7, 8, 9, 10, 11, 12, 13, 14...      0              0.0  \n",
       "1   [20000.0, 120000.0, 90000.0, 50000.0, 500000.0...      0              0.0  \n",
       "2                                              [2, 1]      0              0.0  \n",
       "3                               [2, 1, 3, 5, 4, 6, 0]      0              0.0  \n",
       "4                                        [1, 2, 3, 0]      0              0.0  \n",
       "5   [24, 26, 34, 37, 57, 29, 23, 28, 35, 51, 41, 3...      0              0.0  \n",
       "6                 [2, -1, 0, -2, 1, 3, 4, 8, 7, 5, 6]      0              0.0  \n",
       "7                 [2, 0, -1, -2, 3, 5, 7, 4, 1, 6, 8]      0              0.0  \n",
       "8                 [-1, 0, 2, -2, 3, 4, 6, 7, 1, 5, 8]      0              0.0  \n",
       "9                 [-1, 0, -2, 2, 3, 4, 5, 7, 6, 1, 8]      0              0.0  \n",
       "10                   [-2, 0, -1, 2, 3, 5, 4, 7, 8, 6]      0              0.0  \n",
       "11                   [-2, 2, 0, -1, 3, 6, 4, 7, 8, 5]      0              0.0  \n",
       "12  [3913.0, 2682.0, 29239.0, 46990.0, 8617.0, 644...      0              0.0  \n",
       "13  [3102.0, 1725.0, 14027.0, 48233.0, 5670.0, 570...      0              0.0  \n",
       "14  [689.0, 2682.0, 13559.0, 49291.0, 35835.0, 576...      0              0.0  \n",
       "15  [0.0, 3272.0, 14331.0, 28314.0, 20940.0, 19394...      0              0.0  \n",
       "16  [0.0, 3455.0, 14948.0, 28959.0, 19146.0, 19619...      0              0.0  \n",
       "17  [0.0, 3261.0, 15549.0, 29547.0, 19131.0, 20024...      0              0.0  \n",
       "18  [0.0, 1518.0, 2000.0, 2500.0, 55000.0, 380.0, ...      0              0.0  \n",
       "19  [689.0, 1000.0, 1500.0, 2019.0, 36681.0, 1815....      0              0.0  \n",
       "20  [0.0, 1000.0, 1200.0, 10000.0, 657.0, 38000.0,...      0              0.0  \n",
       "21  [0.0, 1000.0, 1100.0, 9000.0, 20239.0, 581.0, ...      0              0.0  \n",
       "22  [0.0, 1000.0, 1069.0, 689.0, 13750.0, 1687.0, ...      0              0.0  \n",
       "23  [0.0, 2000.0, 5000.0, 1000.0, 679.0, 800.0, 13...      0              0.0  \n",
       "24                                             [1, 0]      0              0.0  "
      ]
     },
     "execution_count": 27,
     "metadata": {},
     "output_type": "execute_result"
    }
   ],
   "source": [
    "Mapo1"
   ]
  },
  {
   "cell_type": "markdown",
   "metadata": {
    "id": "CgOoakL0cwU_"
   },
   "source": [
    "## **2.6) Recodificación Variables**"
   ]
  },
  {
   "cell_type": "markdown",
   "metadata": {
    "id": "RvoeEKkjc5yH"
   },
   "source": [
    "**Variables Categóricas**\n",
    "\n",
    "\n",
    "Las variables categóricas son un tipo de variable en estadísticas y análisis de datos que representan categorías o grupos distintos en lugar de valores numéricos continuos. Estas variables se utilizan para representar características que pueden ser divididas en distintas categorías o clases, pero que no tienen un orden numérico inherente entre ellas.\n",
    "\n",
    "* Variables categóricas nominales: Estas son categorías que no tienen un orden específico. Por ejemplo, el género (masculino, femenino, otro), la nacionalidad (estadounidense, británico, francés, etc.) o el color de ojos (azul, verde, marrón) son ejemplos de variables categóricas nominales. No hay un sentido intrínseco de jerarquía entre estas categorías.\n",
    "\n",
    "* Variables categóricas ordinales: Estas categorías tienen un orden específico. Por ejemplo, la clasificación educativa (primaria, secundaria, terciaria), la calificación de satisfacción (muy insatisfecho, insatisfecho, neutral, satisfecho, muy satisfecho) o la posición en una competencia (primero, segundo, tercero) son ejemplos de variables categóricas ordinales. Aquí, el orden entre las categorías es importante, pero las diferencias entre los valores individuales pueden no ser uniformes o cuantificables"
   ]
  },
  {
   "cell_type": "markdown",
   "metadata": {
    "id": "PYqZ62L6eyJ_"
   },
   "source": [
    "* SEXO : Género (1 = masculino, 2 = femenino)"
   ]
  },
  {
   "cell_type": "code",
   "execution_count": 28,
   "metadata": {
    "colab": {
     "base_uri": "https://localhost:8080/"
    },
    "executionInfo": {
     "elapsed": 16,
     "status": "ok",
     "timestamp": 1696900470737,
     "user": {
      "displayName": "Oscar Andrés Gaspar Álvarez",
      "userId": "14257180584353120309"
     },
     "user_tz": 300
    },
    "id": "AKMYX8EoONkC",
    "outputId": "7736dccc-71ca-4ed3-e888-2bb5821b7247",
    "tags": []
   },
   "outputs": [
    {
     "data": {
      "text/plain": [
       "Genero\n",
       "2    18112\n",
       "1    11888\n",
       "Name: count, dtype: int64"
      ]
     },
     "execution_count": 28,
     "metadata": {},
     "output_type": "execute_result"
    }
   ],
   "source": [
    "# Revisamos Genero\n",
    "df[\"Genero\"].value_counts()"
   ]
  },
  {
   "cell_type": "code",
   "execution_count": 29,
   "metadata": {
    "colab": {
     "base_uri": "https://localhost:8080/"
    },
    "executionInfo": {
     "elapsed": 14,
     "status": "ok",
     "timestamp": 1696900470737,
     "user": {
      "displayName": "Oscar Andrés Gaspar Álvarez",
      "userId": "14257180584353120309"
     },
     "user_tz": 300
    },
    "id": "cVtdnAmxemXt",
    "outputId": "b509c697-b9ce-433f-9757-7912116ec790",
    "tags": []
   },
   "outputs": [
    {
     "data": {
      "text/plain": [
       "Genero\n",
       "2    0.603733\n",
       "1    0.396267\n",
       "Name: proportion, dtype: float64"
      ]
     },
     "execution_count": 29,
     "metadata": {},
     "output_type": "execute_result"
    }
   ],
   "source": [
    "df[\"Genero\"].value_counts(normalize=True)"
   ]
  },
  {
   "cell_type": "code",
   "execution_count": 30,
   "metadata": {
    "executionInfo": {
     "elapsed": 13,
     "status": "ok",
     "timestamp": 1696900470737,
     "user": {
      "displayName": "Oscar Andrés Gaspar Álvarez",
      "userId": "14257180584353120309"
     },
     "user_tz": 300
    },
    "id": "C3Q0kTDxfE5f",
    "tags": []
   },
   "outputs": [],
   "source": [
    "## Homologar Genero\n",
    "diccionario_genero={1:\"Femenino\",2:\"Masculino\"}"
   ]
  },
  {
   "cell_type": "code",
   "execution_count": 31,
   "metadata": {
    "executionInfo": {
     "elapsed": 13,
     "status": "ok",
     "timestamp": 1696900470738,
     "user": {
      "displayName": "Oscar Andrés Gaspar Álvarez",
      "userId": "14257180584353120309"
     },
     "user_tz": 300
    },
    "id": "jV-8xD6YgIdB",
    "tags": []
   },
   "outputs": [],
   "source": [
    "df[\"Genero_Homologado\"]=df[\"Genero\"].map(diccionario_genero)"
   ]
  },
  {
   "cell_type": "code",
   "execution_count": 32,
   "metadata": {
    "colab": {
     "base_uri": "https://localhost:8080/",
     "height": 226
    },
    "executionInfo": {
     "elapsed": 13,
     "status": "ok",
     "timestamp": 1696900470738,
     "user": {
      "displayName": "Oscar Andrés Gaspar Álvarez",
      "userId": "14257180584353120309"
     },
     "user_tz": 300
    },
    "id": "OkoRqWsEgTKh",
    "outputId": "fe8fdc98-c3e4-4b82-8007-79aa77b4c9d0",
    "tags": []
   },
   "outputs": [
    {
     "data": {
      "text/html": [
       "<div>\n",
       "<style scoped>\n",
       "    .dataframe tbody tr th:only-of-type {\n",
       "        vertical-align: middle;\n",
       "    }\n",
       "\n",
       "    .dataframe tbody tr th {\n",
       "        vertical-align: top;\n",
       "    }\n",
       "\n",
       "    .dataframe thead th {\n",
       "        text-align: right;\n",
       "    }\n",
       "</style>\n",
       "<table border=\"1\" class=\"dataframe\">\n",
       "  <thead>\n",
       "    <tr style=\"text-align: right;\">\n",
       "      <th></th>\n",
       "      <th>ID</th>\n",
       "      <th>MontoCredito</th>\n",
       "      <th>Genero</th>\n",
       "      <th>Educacion</th>\n",
       "      <th>EstadoCivil</th>\n",
       "      <th>Edad</th>\n",
       "      <th>PAY_0</th>\n",
       "      <th>PAY_2</th>\n",
       "      <th>PAY_3</th>\n",
       "      <th>PAY_4</th>\n",
       "      <th>PAY_5</th>\n",
       "      <th>PAY_6</th>\n",
       "      <th>BILL_AMT1</th>\n",
       "      <th>BILL_AMT2</th>\n",
       "      <th>BILL_AMT3</th>\n",
       "      <th>BILL_AMT4</th>\n",
       "      <th>BILL_AMT5</th>\n",
       "      <th>BILL_AMT6</th>\n",
       "      <th>PAY_AMT1</th>\n",
       "      <th>PAY_AMT2</th>\n",
       "      <th>PAY_AMT3</th>\n",
       "      <th>PAY_AMT4</th>\n",
       "      <th>PAY_AMT5</th>\n",
       "      <th>PAY_AMT6</th>\n",
       "      <th>Mora</th>\n",
       "      <th>Genero_Homologado</th>\n",
       "    </tr>\n",
       "  </thead>\n",
       "  <tbody>\n",
       "    <tr>\n",
       "      <th>0</th>\n",
       "      <td>1</td>\n",
       "      <td>20000.0</td>\n",
       "      <td>2</td>\n",
       "      <td>2</td>\n",
       "      <td>1</td>\n",
       "      <td>24</td>\n",
       "      <td>2</td>\n",
       "      <td>2</td>\n",
       "      <td>-1</td>\n",
       "      <td>-1</td>\n",
       "      <td>-2</td>\n",
       "      <td>-2</td>\n",
       "      <td>3913.0</td>\n",
       "      <td>3102.0</td>\n",
       "      <td>689.0</td>\n",
       "      <td>0.0</td>\n",
       "      <td>0.0</td>\n",
       "      <td>0.0</td>\n",
       "      <td>0.0</td>\n",
       "      <td>689.0</td>\n",
       "      <td>0.0</td>\n",
       "      <td>0.0</td>\n",
       "      <td>0.0</td>\n",
       "      <td>0.0</td>\n",
       "      <td>1</td>\n",
       "      <td>Masculino</td>\n",
       "    </tr>\n",
       "    <tr>\n",
       "      <th>1</th>\n",
       "      <td>2</td>\n",
       "      <td>120000.0</td>\n",
       "      <td>2</td>\n",
       "      <td>2</td>\n",
       "      <td>2</td>\n",
       "      <td>26</td>\n",
       "      <td>-1</td>\n",
       "      <td>2</td>\n",
       "      <td>0</td>\n",
       "      <td>0</td>\n",
       "      <td>0</td>\n",
       "      <td>2</td>\n",
       "      <td>2682.0</td>\n",
       "      <td>1725.0</td>\n",
       "      <td>2682.0</td>\n",
       "      <td>3272.0</td>\n",
       "      <td>3455.0</td>\n",
       "      <td>3261.0</td>\n",
       "      <td>0.0</td>\n",
       "      <td>1000.0</td>\n",
       "      <td>1000.0</td>\n",
       "      <td>1000.0</td>\n",
       "      <td>0.0</td>\n",
       "      <td>2000.0</td>\n",
       "      <td>1</td>\n",
       "      <td>Masculino</td>\n",
       "    </tr>\n",
       "    <tr>\n",
       "      <th>2</th>\n",
       "      <td>3</td>\n",
       "      <td>90000.0</td>\n",
       "      <td>2</td>\n",
       "      <td>2</td>\n",
       "      <td>2</td>\n",
       "      <td>34</td>\n",
       "      <td>0</td>\n",
       "      <td>0</td>\n",
       "      <td>0</td>\n",
       "      <td>0</td>\n",
       "      <td>0</td>\n",
       "      <td>0</td>\n",
       "      <td>29239.0</td>\n",
       "      <td>14027.0</td>\n",
       "      <td>13559.0</td>\n",
       "      <td>14331.0</td>\n",
       "      <td>14948.0</td>\n",
       "      <td>15549.0</td>\n",
       "      <td>1518.0</td>\n",
       "      <td>1500.0</td>\n",
       "      <td>1000.0</td>\n",
       "      <td>1000.0</td>\n",
       "      <td>1000.0</td>\n",
       "      <td>5000.0</td>\n",
       "      <td>0</td>\n",
       "      <td>Masculino</td>\n",
       "    </tr>\n",
       "    <tr>\n",
       "      <th>3</th>\n",
       "      <td>4</td>\n",
       "      <td>50000.0</td>\n",
       "      <td>2</td>\n",
       "      <td>2</td>\n",
       "      <td>1</td>\n",
       "      <td>37</td>\n",
       "      <td>0</td>\n",
       "      <td>0</td>\n",
       "      <td>0</td>\n",
       "      <td>0</td>\n",
       "      <td>0</td>\n",
       "      <td>0</td>\n",
       "      <td>46990.0</td>\n",
       "      <td>48233.0</td>\n",
       "      <td>49291.0</td>\n",
       "      <td>28314.0</td>\n",
       "      <td>28959.0</td>\n",
       "      <td>29547.0</td>\n",
       "      <td>2000.0</td>\n",
       "      <td>2019.0</td>\n",
       "      <td>1200.0</td>\n",
       "      <td>1100.0</td>\n",
       "      <td>1069.0</td>\n",
       "      <td>1000.0</td>\n",
       "      <td>0</td>\n",
       "      <td>Masculino</td>\n",
       "    </tr>\n",
       "    <tr>\n",
       "      <th>4</th>\n",
       "      <td>5</td>\n",
       "      <td>50000.0</td>\n",
       "      <td>1</td>\n",
       "      <td>2</td>\n",
       "      <td>1</td>\n",
       "      <td>57</td>\n",
       "      <td>-1</td>\n",
       "      <td>0</td>\n",
       "      <td>-1</td>\n",
       "      <td>0</td>\n",
       "      <td>0</td>\n",
       "      <td>0</td>\n",
       "      <td>8617.0</td>\n",
       "      <td>5670.0</td>\n",
       "      <td>35835.0</td>\n",
       "      <td>20940.0</td>\n",
       "      <td>19146.0</td>\n",
       "      <td>19131.0</td>\n",
       "      <td>2000.0</td>\n",
       "      <td>36681.0</td>\n",
       "      <td>10000.0</td>\n",
       "      <td>9000.0</td>\n",
       "      <td>689.0</td>\n",
       "      <td>679.0</td>\n",
       "      <td>0</td>\n",
       "      <td>Femenino</td>\n",
       "    </tr>\n",
       "  </tbody>\n",
       "</table>\n",
       "</div>"
      ],
      "text/plain": [
       "   ID  MontoCredito  Genero  Educacion  EstadoCivil  Edad  PAY_0  PAY_2  \\\n",
       "0   1       20000.0       2          2            1    24      2      2   \n",
       "1   2      120000.0       2          2            2    26     -1      2   \n",
       "2   3       90000.0       2          2            2    34      0      0   \n",
       "3   4       50000.0       2          2            1    37      0      0   \n",
       "4   5       50000.0       1          2            1    57     -1      0   \n",
       "\n",
       "   PAY_3  PAY_4  PAY_5  PAY_6  BILL_AMT1  BILL_AMT2  BILL_AMT3  BILL_AMT4  \\\n",
       "0     -1     -1     -2     -2     3913.0     3102.0      689.0        0.0   \n",
       "1      0      0      0      2     2682.0     1725.0     2682.0     3272.0   \n",
       "2      0      0      0      0    29239.0    14027.0    13559.0    14331.0   \n",
       "3      0      0      0      0    46990.0    48233.0    49291.0    28314.0   \n",
       "4     -1      0      0      0     8617.0     5670.0    35835.0    20940.0   \n",
       "\n",
       "   BILL_AMT5  BILL_AMT6  PAY_AMT1  PAY_AMT2  PAY_AMT3  PAY_AMT4  PAY_AMT5  \\\n",
       "0        0.0        0.0       0.0     689.0       0.0       0.0       0.0   \n",
       "1     3455.0     3261.0       0.0    1000.0    1000.0    1000.0       0.0   \n",
       "2    14948.0    15549.0    1518.0    1500.0    1000.0    1000.0    1000.0   \n",
       "3    28959.0    29547.0    2000.0    2019.0    1200.0    1100.0    1069.0   \n",
       "4    19146.0    19131.0    2000.0   36681.0   10000.0    9000.0     689.0   \n",
       "\n",
       "   PAY_AMT6  Mora Genero_Homologado  \n",
       "0       0.0     1         Masculino  \n",
       "1    2000.0     1         Masculino  \n",
       "2    5000.0     0         Masculino  \n",
       "3    1000.0     0         Masculino  \n",
       "4     679.0     0          Femenino  "
      ]
     },
     "execution_count": 32,
     "metadata": {},
     "output_type": "execute_result"
    }
   ],
   "source": [
    "df.head()"
   ]
  },
  {
   "cell_type": "markdown",
   "metadata": {
    "id": "8vQrygg7gn_F"
   },
   "source": [
    "**Educación**\n",
    "\n",
    "EDUCACIÓN : (1 = posgrado, 2 = universidad, 3 = bachillerato, 4 = otros, 5 = desconocido, 6 = desconocido)"
   ]
  },
  {
   "cell_type": "code",
   "execution_count": 33,
   "metadata": {
    "colab": {
     "base_uri": "https://localhost:8080/"
    },
    "executionInfo": {
     "elapsed": 12,
     "status": "ok",
     "timestamp": 1696900470738,
     "user": {
      "displayName": "Oscar Andrés Gaspar Álvarez",
      "userId": "14257180584353120309"
     },
     "user_tz": 300
    },
    "id": "GcKUO4ozgtoC",
    "outputId": "74a00444-4b99-4dd2-8215-018489bb59c9",
    "tags": []
   },
   "outputs": [
    {
     "data": {
      "text/plain": [
       "Educacion\n",
       "2    14030\n",
       "1    10585\n",
       "3     4917\n",
       "5      280\n",
       "4      123\n",
       "6       51\n",
       "0       14\n",
       "Name: count, dtype: int64"
      ]
     },
     "execution_count": 33,
     "metadata": {},
     "output_type": "execute_result"
    }
   ],
   "source": [
    "df[\"Educacion\"].value_counts()"
   ]
  },
  {
   "cell_type": "markdown",
   "metadata": {
    "id": "VUqAwXzXhPQ9"
   },
   "source": [
    "**Aplicar: left Join**"
   ]
  },
  {
   "cell_type": "code",
   "execution_count": 34,
   "metadata": {
    "executionInfo": {
     "elapsed": 645,
     "status": "ok",
     "timestamp": 1696900471372,
     "user": {
      "displayName": "Oscar Andrés Gaspar Álvarez",
      "userId": "14257180584353120309"
     },
     "user_tz": 300
    },
    "id": "vAl-xTmuhWDV",
    "tags": []
   },
   "outputs": [],
   "source": [
    "Tabla_Educacion=pd.read_excel(\"/Users/osgaspar/Documents/PERSONAL/Cedesistemas/2023/Diplomado2023_02/ModelosSupervisados/Clasificacion/ProyectoMora/TablaMeaestra.xlsx\",\n",
    "                              sheet_name=\"MaestroEducacion\")\n",
    "\n"
   ]
  },
  {
   "cell_type": "code",
   "execution_count": 35,
   "metadata": {
    "colab": {
     "base_uri": "https://localhost:8080/",
     "height": 269
    },
    "executionInfo": {
     "elapsed": 300,
     "status": "ok",
     "timestamp": 1696900471668,
     "user": {
      "displayName": "Oscar Andrés Gaspar Álvarez",
      "userId": "14257180584353120309"
     },
     "user_tz": 300
    },
    "id": "KHy2dYKnjFjt",
    "outputId": "65efe566-2c51-4f49-e27d-078355fc3934",
    "tags": []
   },
   "outputs": [
    {
     "data": {
      "text/html": [
       "<div>\n",
       "<style scoped>\n",
       "    .dataframe tbody tr th:only-of-type {\n",
       "        vertical-align: middle;\n",
       "    }\n",
       "\n",
       "    .dataframe tbody tr th {\n",
       "        vertical-align: top;\n",
       "    }\n",
       "\n",
       "    .dataframe thead th {\n",
       "        text-align: right;\n",
       "    }\n",
       "</style>\n",
       "<table border=\"1\" class=\"dataframe\">\n",
       "  <thead>\n",
       "    <tr style=\"text-align: right;\">\n",
       "      <th></th>\n",
       "      <th>Nivel Estudios</th>\n",
       "      <th>EducacionHomologada</th>\n",
       "    </tr>\n",
       "  </thead>\n",
       "  <tbody>\n",
       "    <tr>\n",
       "      <th>0</th>\n",
       "      <td>0</td>\n",
       "      <td>NaN</td>\n",
       "    </tr>\n",
       "    <tr>\n",
       "      <th>1</th>\n",
       "      <td>1</td>\n",
       "      <td>Posgrado</td>\n",
       "    </tr>\n",
       "    <tr>\n",
       "      <th>2</th>\n",
       "      <td>2</td>\n",
       "      <td>Pregrado</td>\n",
       "    </tr>\n",
       "    <tr>\n",
       "      <th>3</th>\n",
       "      <td>3</td>\n",
       "      <td>Bachillerato</td>\n",
       "    </tr>\n",
       "    <tr>\n",
       "      <th>4</th>\n",
       "      <td>4</td>\n",
       "      <td>NaN</td>\n",
       "    </tr>\n",
       "    <tr>\n",
       "      <th>5</th>\n",
       "      <td>5</td>\n",
       "      <td>NaN</td>\n",
       "    </tr>\n",
       "    <tr>\n",
       "      <th>6</th>\n",
       "      <td>6</td>\n",
       "      <td>NaN</td>\n",
       "    </tr>\n",
       "  </tbody>\n",
       "</table>\n",
       "</div>"
      ],
      "text/plain": [
       "   Nivel Estudios EducacionHomologada\n",
       "0               0                 NaN\n",
       "1               1            Posgrado\n",
       "2               2            Pregrado\n",
       "3               3        Bachillerato\n",
       "4               4                 NaN\n",
       "5               5                 NaN\n",
       "6               6                 NaN"
      ]
     },
     "execution_count": 35,
     "metadata": {},
     "output_type": "execute_result"
    }
   ],
   "source": [
    "Tabla_Educacion"
   ]
  },
  {
   "cell_type": "code",
   "execution_count": 36,
   "metadata": {
    "executionInfo": {
     "elapsed": 12,
     "status": "ok",
     "timestamp": 1696900471668,
     "user": {
      "displayName": "Oscar Andrés Gaspar Álvarez",
      "userId": "14257180584353120309"
     },
     "user_tz": 300
    },
    "id": "bWTrHAc6jHut",
    "tags": []
   },
   "outputs": [],
   "source": [
    "#df=pd.merge(df,Tabla_Educacion,on=\"Educacion\",how=\"left\")"
   ]
  },
  {
   "cell_type": "code",
   "execution_count": 37,
   "metadata": {
    "executionInfo": {
     "elapsed": 11,
     "status": "ok",
     "timestamp": 1696900471668,
     "user": {
      "displayName": "Oscar Andrés Gaspar Álvarez",
      "userId": "14257180584353120309"
     },
     "user_tz": 300
    },
    "id": "iaQb1BdpjxnT",
    "tags": []
   },
   "outputs": [],
   "source": [
    "df=pd.merge(df,Tabla_Educacion,left_on=\"Educacion\",right_on=\"Nivel Estudios\",how=\"left\").drop(columns=\"Nivel Estudios\")"
   ]
  },
  {
   "cell_type": "code",
   "execution_count": 38,
   "metadata": {
    "colab": {
     "base_uri": "https://localhost:8080/",
     "height": 163
    },
    "executionInfo": {
     "elapsed": 11,
     "status": "ok",
     "timestamp": 1696900471668,
     "user": {
      "displayName": "Oscar Andrés Gaspar Álvarez",
      "userId": "14257180584353120309"
     },
     "user_tz": 300
    },
    "id": "Ow8mxaTrkCLU",
    "outputId": "58c0974d-c635-493d-a6ed-7715f1870515",
    "tags": []
   },
   "outputs": [
    {
     "data": {
      "text/html": [
       "<div>\n",
       "<style scoped>\n",
       "    .dataframe tbody tr th:only-of-type {\n",
       "        vertical-align: middle;\n",
       "    }\n",
       "\n",
       "    .dataframe tbody tr th {\n",
       "        vertical-align: top;\n",
       "    }\n",
       "\n",
       "    .dataframe thead th {\n",
       "        text-align: right;\n",
       "    }\n",
       "</style>\n",
       "<table border=\"1\" class=\"dataframe\">\n",
       "  <thead>\n",
       "    <tr style=\"text-align: right;\">\n",
       "      <th></th>\n",
       "      <th>ID</th>\n",
       "      <th>MontoCredito</th>\n",
       "      <th>Genero</th>\n",
       "      <th>Educacion</th>\n",
       "      <th>EstadoCivil</th>\n",
       "      <th>Edad</th>\n",
       "      <th>PAY_0</th>\n",
       "      <th>PAY_2</th>\n",
       "      <th>PAY_3</th>\n",
       "      <th>PAY_4</th>\n",
       "      <th>PAY_5</th>\n",
       "      <th>PAY_6</th>\n",
       "      <th>BILL_AMT1</th>\n",
       "      <th>BILL_AMT2</th>\n",
       "      <th>BILL_AMT3</th>\n",
       "      <th>BILL_AMT4</th>\n",
       "      <th>BILL_AMT5</th>\n",
       "      <th>BILL_AMT6</th>\n",
       "      <th>PAY_AMT1</th>\n",
       "      <th>PAY_AMT2</th>\n",
       "      <th>PAY_AMT3</th>\n",
       "      <th>PAY_AMT4</th>\n",
       "      <th>PAY_AMT5</th>\n",
       "      <th>PAY_AMT6</th>\n",
       "      <th>Mora</th>\n",
       "      <th>Genero_Homologado</th>\n",
       "      <th>EducacionHomologada</th>\n",
       "    </tr>\n",
       "  </thead>\n",
       "  <tbody>\n",
       "    <tr>\n",
       "      <th>0</th>\n",
       "      <td>1</td>\n",
       "      <td>20000.0</td>\n",
       "      <td>2</td>\n",
       "      <td>2</td>\n",
       "      <td>1</td>\n",
       "      <td>24</td>\n",
       "      <td>2</td>\n",
       "      <td>2</td>\n",
       "      <td>-1</td>\n",
       "      <td>-1</td>\n",
       "      <td>-2</td>\n",
       "      <td>-2</td>\n",
       "      <td>3913.0</td>\n",
       "      <td>3102.0</td>\n",
       "      <td>689.0</td>\n",
       "      <td>0.0</td>\n",
       "      <td>0.0</td>\n",
       "      <td>0.0</td>\n",
       "      <td>0.0</td>\n",
       "      <td>689.0</td>\n",
       "      <td>0.0</td>\n",
       "      <td>0.0</td>\n",
       "      <td>0.0</td>\n",
       "      <td>0.0</td>\n",
       "      <td>1</td>\n",
       "      <td>Masculino</td>\n",
       "      <td>Pregrado</td>\n",
       "    </tr>\n",
       "    <tr>\n",
       "      <th>1</th>\n",
       "      <td>2</td>\n",
       "      <td>120000.0</td>\n",
       "      <td>2</td>\n",
       "      <td>2</td>\n",
       "      <td>2</td>\n",
       "      <td>26</td>\n",
       "      <td>-1</td>\n",
       "      <td>2</td>\n",
       "      <td>0</td>\n",
       "      <td>0</td>\n",
       "      <td>0</td>\n",
       "      <td>2</td>\n",
       "      <td>2682.0</td>\n",
       "      <td>1725.0</td>\n",
       "      <td>2682.0</td>\n",
       "      <td>3272.0</td>\n",
       "      <td>3455.0</td>\n",
       "      <td>3261.0</td>\n",
       "      <td>0.0</td>\n",
       "      <td>1000.0</td>\n",
       "      <td>1000.0</td>\n",
       "      <td>1000.0</td>\n",
       "      <td>0.0</td>\n",
       "      <td>2000.0</td>\n",
       "      <td>1</td>\n",
       "      <td>Masculino</td>\n",
       "      <td>Pregrado</td>\n",
       "    </tr>\n",
       "    <tr>\n",
       "      <th>2</th>\n",
       "      <td>3</td>\n",
       "      <td>90000.0</td>\n",
       "      <td>2</td>\n",
       "      <td>2</td>\n",
       "      <td>2</td>\n",
       "      <td>34</td>\n",
       "      <td>0</td>\n",
       "      <td>0</td>\n",
       "      <td>0</td>\n",
       "      <td>0</td>\n",
       "      <td>0</td>\n",
       "      <td>0</td>\n",
       "      <td>29239.0</td>\n",
       "      <td>14027.0</td>\n",
       "      <td>13559.0</td>\n",
       "      <td>14331.0</td>\n",
       "      <td>14948.0</td>\n",
       "      <td>15549.0</td>\n",
       "      <td>1518.0</td>\n",
       "      <td>1500.0</td>\n",
       "      <td>1000.0</td>\n",
       "      <td>1000.0</td>\n",
       "      <td>1000.0</td>\n",
       "      <td>5000.0</td>\n",
       "      <td>0</td>\n",
       "      <td>Masculino</td>\n",
       "      <td>Pregrado</td>\n",
       "    </tr>\n",
       "  </tbody>\n",
       "</table>\n",
       "</div>"
      ],
      "text/plain": [
       "   ID  MontoCredito  Genero  Educacion  EstadoCivil  Edad  PAY_0  PAY_2  \\\n",
       "0   1       20000.0       2          2            1    24      2      2   \n",
       "1   2      120000.0       2          2            2    26     -1      2   \n",
       "2   3       90000.0       2          2            2    34      0      0   \n",
       "\n",
       "   PAY_3  PAY_4  PAY_5  PAY_6  BILL_AMT1  BILL_AMT2  BILL_AMT3  BILL_AMT4  \\\n",
       "0     -1     -1     -2     -2     3913.0     3102.0      689.0        0.0   \n",
       "1      0      0      0      2     2682.0     1725.0     2682.0     3272.0   \n",
       "2      0      0      0      0    29239.0    14027.0    13559.0    14331.0   \n",
       "\n",
       "   BILL_AMT5  BILL_AMT6  PAY_AMT1  PAY_AMT2  PAY_AMT3  PAY_AMT4  PAY_AMT5  \\\n",
       "0        0.0        0.0       0.0     689.0       0.0       0.0       0.0   \n",
       "1     3455.0     3261.0       0.0    1000.0    1000.0    1000.0       0.0   \n",
       "2    14948.0    15549.0    1518.0    1500.0    1000.0    1000.0    1000.0   \n",
       "\n",
       "   PAY_AMT6  Mora Genero_Homologado EducacionHomologada  \n",
       "0       0.0     1         Masculino            Pregrado  \n",
       "1    2000.0     1         Masculino            Pregrado  \n",
       "2    5000.0     0         Masculino            Pregrado  "
      ]
     },
     "execution_count": 38,
     "metadata": {},
     "output_type": "execute_result"
    }
   ],
   "source": [
    "df.head(3)"
   ]
  },
  {
   "cell_type": "markdown",
   "metadata": {
    "id": "CapAFUIhlTka"
   },
   "source": [
    "* MATRIMONIO : Estado civil (1 = casado, 2 = soltero, 3 = otros)"
   ]
  },
  {
   "cell_type": "code",
   "execution_count": 39,
   "metadata": {
    "colab": {
     "base_uri": "https://localhost:8080/"
    },
    "executionInfo": {
     "elapsed": 10,
     "status": "ok",
     "timestamp": 1696900471668,
     "user": {
      "displayName": "Oscar Andrés Gaspar Álvarez",
      "userId": "14257180584353120309"
     },
     "user_tz": 300
    },
    "id": "bjUVyirNlD6H",
    "outputId": "d3e61da4-a25a-4348-af13-3a4a241cd328",
    "tags": []
   },
   "outputs": [
    {
     "data": {
      "text/plain": [
       "EstadoCivil\n",
       "2    15964\n",
       "1    13659\n",
       "3      323\n",
       "0       54\n",
       "Name: count, dtype: int64"
      ]
     },
     "execution_count": 39,
     "metadata": {},
     "output_type": "execute_result"
    }
   ],
   "source": [
    "df[\"EstadoCivil\"].value_counts()"
   ]
  },
  {
   "cell_type": "code",
   "execution_count": 40,
   "metadata": {
    "executionInfo": {
     "elapsed": 9,
     "status": "ok",
     "timestamp": 1696900471669,
     "user": {
      "displayName": "Oscar Andrés Gaspar Álvarez",
      "userId": "14257180584353120309"
     },
     "user_tz": 300
    },
    "id": "pVD25ugKlXcW",
    "tags": []
   },
   "outputs": [],
   "source": [
    "Tabla_EstadoCivil=pd.read_excel(\"/Users/osgaspar/Documents/PERSONAL/Cedesistemas/2023/Diplomado2023_02/ModelosSupervisados/Clasificacion/ProyectoMora/TablaMeaestra.xlsx\",\n",
    "                              sheet_name=\"MaestroEstadoCivil\")"
   ]
  },
  {
   "cell_type": "code",
   "execution_count": null,
   "metadata": {
    "executionInfo": {
     "elapsed": 8,
     "status": "ok",
     "timestamp": 1696900471669,
     "user": {
      "displayName": "Oscar Andrés Gaspar Álvarez",
      "userId": "14257180584353120309"
     },
     "user_tz": 300
    },
    "id": "4rAYihUCoOA-"
   },
   "outputs": [],
   "source": []
  },
  {
   "cell_type": "code",
   "execution_count": 41,
   "metadata": {
    "executionInfo": {
     "elapsed": 8,
     "status": "ok",
     "timestamp": 1696900471669,
     "user": {
      "displayName": "Oscar Andrés Gaspar Álvarez",
      "userId": "14257180584353120309"
     },
     "user_tz": 300
    },
    "id": "EgJgvvpEomth",
    "tags": []
   },
   "outputs": [],
   "source": [
    "df=pd.merge(df,Tabla_EstadoCivil,on=\"EstadoCivil\",how=\"left\")"
   ]
  },
  {
   "cell_type": "code",
   "execution_count": 42,
   "metadata": {
    "colab": {
     "base_uri": "https://localhost:8080/",
     "height": 226
    },
    "executionInfo": {
     "elapsed": 8,
     "status": "ok",
     "timestamp": 1696900471669,
     "user": {
      "displayName": "Oscar Andrés Gaspar Álvarez",
      "userId": "14257180584353120309"
     },
     "user_tz": 300
    },
    "id": "iS7rS2KoouzS",
    "outputId": "3facf776-8a35-4fc8-b89e-dc5cc183ff06",
    "tags": []
   },
   "outputs": [
    {
     "data": {
      "text/html": [
       "<div>\n",
       "<style scoped>\n",
       "    .dataframe tbody tr th:only-of-type {\n",
       "        vertical-align: middle;\n",
       "    }\n",
       "\n",
       "    .dataframe tbody tr th {\n",
       "        vertical-align: top;\n",
       "    }\n",
       "\n",
       "    .dataframe thead th {\n",
       "        text-align: right;\n",
       "    }\n",
       "</style>\n",
       "<table border=\"1\" class=\"dataframe\">\n",
       "  <thead>\n",
       "    <tr style=\"text-align: right;\">\n",
       "      <th></th>\n",
       "      <th>ID</th>\n",
       "      <th>MontoCredito</th>\n",
       "      <th>Genero</th>\n",
       "      <th>Educacion</th>\n",
       "      <th>EstadoCivil</th>\n",
       "      <th>Edad</th>\n",
       "      <th>PAY_0</th>\n",
       "      <th>PAY_2</th>\n",
       "      <th>PAY_3</th>\n",
       "      <th>PAY_4</th>\n",
       "      <th>PAY_5</th>\n",
       "      <th>PAY_6</th>\n",
       "      <th>BILL_AMT1</th>\n",
       "      <th>BILL_AMT2</th>\n",
       "      <th>BILL_AMT3</th>\n",
       "      <th>BILL_AMT4</th>\n",
       "      <th>BILL_AMT5</th>\n",
       "      <th>BILL_AMT6</th>\n",
       "      <th>PAY_AMT1</th>\n",
       "      <th>PAY_AMT2</th>\n",
       "      <th>PAY_AMT3</th>\n",
       "      <th>PAY_AMT4</th>\n",
       "      <th>PAY_AMT5</th>\n",
       "      <th>PAY_AMT6</th>\n",
       "      <th>Mora</th>\n",
       "      <th>Genero_Homologado</th>\n",
       "      <th>EducacionHomologada</th>\n",
       "      <th>EstadoCivilHomologado</th>\n",
       "    </tr>\n",
       "  </thead>\n",
       "  <tbody>\n",
       "    <tr>\n",
       "      <th>0</th>\n",
       "      <td>1</td>\n",
       "      <td>20000.0</td>\n",
       "      <td>2</td>\n",
       "      <td>2</td>\n",
       "      <td>1</td>\n",
       "      <td>24</td>\n",
       "      <td>2</td>\n",
       "      <td>2</td>\n",
       "      <td>-1</td>\n",
       "      <td>-1</td>\n",
       "      <td>-2</td>\n",
       "      <td>-2</td>\n",
       "      <td>3913.0</td>\n",
       "      <td>3102.0</td>\n",
       "      <td>689.0</td>\n",
       "      <td>0.0</td>\n",
       "      <td>0.0</td>\n",
       "      <td>0.0</td>\n",
       "      <td>0.0</td>\n",
       "      <td>689.0</td>\n",
       "      <td>0.0</td>\n",
       "      <td>0.0</td>\n",
       "      <td>0.0</td>\n",
       "      <td>0.0</td>\n",
       "      <td>1</td>\n",
       "      <td>Masculino</td>\n",
       "      <td>Pregrado</td>\n",
       "      <td>Casado</td>\n",
       "    </tr>\n",
       "    <tr>\n",
       "      <th>1</th>\n",
       "      <td>2</td>\n",
       "      <td>120000.0</td>\n",
       "      <td>2</td>\n",
       "      <td>2</td>\n",
       "      <td>2</td>\n",
       "      <td>26</td>\n",
       "      <td>-1</td>\n",
       "      <td>2</td>\n",
       "      <td>0</td>\n",
       "      <td>0</td>\n",
       "      <td>0</td>\n",
       "      <td>2</td>\n",
       "      <td>2682.0</td>\n",
       "      <td>1725.0</td>\n",
       "      <td>2682.0</td>\n",
       "      <td>3272.0</td>\n",
       "      <td>3455.0</td>\n",
       "      <td>3261.0</td>\n",
       "      <td>0.0</td>\n",
       "      <td>1000.0</td>\n",
       "      <td>1000.0</td>\n",
       "      <td>1000.0</td>\n",
       "      <td>0.0</td>\n",
       "      <td>2000.0</td>\n",
       "      <td>1</td>\n",
       "      <td>Masculino</td>\n",
       "      <td>Pregrado</td>\n",
       "      <td>Soltero</td>\n",
       "    </tr>\n",
       "    <tr>\n",
       "      <th>2</th>\n",
       "      <td>3</td>\n",
       "      <td>90000.0</td>\n",
       "      <td>2</td>\n",
       "      <td>2</td>\n",
       "      <td>2</td>\n",
       "      <td>34</td>\n",
       "      <td>0</td>\n",
       "      <td>0</td>\n",
       "      <td>0</td>\n",
       "      <td>0</td>\n",
       "      <td>0</td>\n",
       "      <td>0</td>\n",
       "      <td>29239.0</td>\n",
       "      <td>14027.0</td>\n",
       "      <td>13559.0</td>\n",
       "      <td>14331.0</td>\n",
       "      <td>14948.0</td>\n",
       "      <td>15549.0</td>\n",
       "      <td>1518.0</td>\n",
       "      <td>1500.0</td>\n",
       "      <td>1000.0</td>\n",
       "      <td>1000.0</td>\n",
       "      <td>1000.0</td>\n",
       "      <td>5000.0</td>\n",
       "      <td>0</td>\n",
       "      <td>Masculino</td>\n",
       "      <td>Pregrado</td>\n",
       "      <td>Soltero</td>\n",
       "    </tr>\n",
       "    <tr>\n",
       "      <th>3</th>\n",
       "      <td>4</td>\n",
       "      <td>50000.0</td>\n",
       "      <td>2</td>\n",
       "      <td>2</td>\n",
       "      <td>1</td>\n",
       "      <td>37</td>\n",
       "      <td>0</td>\n",
       "      <td>0</td>\n",
       "      <td>0</td>\n",
       "      <td>0</td>\n",
       "      <td>0</td>\n",
       "      <td>0</td>\n",
       "      <td>46990.0</td>\n",
       "      <td>48233.0</td>\n",
       "      <td>49291.0</td>\n",
       "      <td>28314.0</td>\n",
       "      <td>28959.0</td>\n",
       "      <td>29547.0</td>\n",
       "      <td>2000.0</td>\n",
       "      <td>2019.0</td>\n",
       "      <td>1200.0</td>\n",
       "      <td>1100.0</td>\n",
       "      <td>1069.0</td>\n",
       "      <td>1000.0</td>\n",
       "      <td>0</td>\n",
       "      <td>Masculino</td>\n",
       "      <td>Pregrado</td>\n",
       "      <td>Casado</td>\n",
       "    </tr>\n",
       "    <tr>\n",
       "      <th>4</th>\n",
       "      <td>5</td>\n",
       "      <td>50000.0</td>\n",
       "      <td>1</td>\n",
       "      <td>2</td>\n",
       "      <td>1</td>\n",
       "      <td>57</td>\n",
       "      <td>-1</td>\n",
       "      <td>0</td>\n",
       "      <td>-1</td>\n",
       "      <td>0</td>\n",
       "      <td>0</td>\n",
       "      <td>0</td>\n",
       "      <td>8617.0</td>\n",
       "      <td>5670.0</td>\n",
       "      <td>35835.0</td>\n",
       "      <td>20940.0</td>\n",
       "      <td>19146.0</td>\n",
       "      <td>19131.0</td>\n",
       "      <td>2000.0</td>\n",
       "      <td>36681.0</td>\n",
       "      <td>10000.0</td>\n",
       "      <td>9000.0</td>\n",
       "      <td>689.0</td>\n",
       "      <td>679.0</td>\n",
       "      <td>0</td>\n",
       "      <td>Femenino</td>\n",
       "      <td>Pregrado</td>\n",
       "      <td>Casado</td>\n",
       "    </tr>\n",
       "  </tbody>\n",
       "</table>\n",
       "</div>"
      ],
      "text/plain": [
       "   ID  MontoCredito  Genero  Educacion  EstadoCivil  Edad  PAY_0  PAY_2  \\\n",
       "0   1       20000.0       2          2            1    24      2      2   \n",
       "1   2      120000.0       2          2            2    26     -1      2   \n",
       "2   3       90000.0       2          2            2    34      0      0   \n",
       "3   4       50000.0       2          2            1    37      0      0   \n",
       "4   5       50000.0       1          2            1    57     -1      0   \n",
       "\n",
       "   PAY_3  PAY_4  PAY_5  PAY_6  BILL_AMT1  BILL_AMT2  BILL_AMT3  BILL_AMT4  \\\n",
       "0     -1     -1     -2     -2     3913.0     3102.0      689.0        0.0   \n",
       "1      0      0      0      2     2682.0     1725.0     2682.0     3272.0   \n",
       "2      0      0      0      0    29239.0    14027.0    13559.0    14331.0   \n",
       "3      0      0      0      0    46990.0    48233.0    49291.0    28314.0   \n",
       "4     -1      0      0      0     8617.0     5670.0    35835.0    20940.0   \n",
       "\n",
       "   BILL_AMT5  BILL_AMT6  PAY_AMT1  PAY_AMT2  PAY_AMT3  PAY_AMT4  PAY_AMT5  \\\n",
       "0        0.0        0.0       0.0     689.0       0.0       0.0       0.0   \n",
       "1     3455.0     3261.0       0.0    1000.0    1000.0    1000.0       0.0   \n",
       "2    14948.0    15549.0    1518.0    1500.0    1000.0    1000.0    1000.0   \n",
       "3    28959.0    29547.0    2000.0    2019.0    1200.0    1100.0    1069.0   \n",
       "4    19146.0    19131.0    2000.0   36681.0   10000.0    9000.0     689.0   \n",
       "\n",
       "   PAY_AMT6  Mora Genero_Homologado EducacionHomologada EstadoCivilHomologado  \n",
       "0       0.0     1         Masculino            Pregrado                Casado  \n",
       "1    2000.0     1         Masculino            Pregrado               Soltero  \n",
       "2    5000.0     0         Masculino            Pregrado               Soltero  \n",
       "3    1000.0     0         Masculino            Pregrado                Casado  \n",
       "4     679.0     0          Femenino            Pregrado                Casado  "
      ]
     },
     "execution_count": 42,
     "metadata": {},
     "output_type": "execute_result"
    }
   ],
   "source": [
    "df.head()"
   ]
  },
  {
   "cell_type": "code",
   "execution_count": 43,
   "metadata": {
    "executionInfo": {
     "elapsed": 7,
     "status": "ok",
     "timestamp": 1696900471669,
     "user": {
      "displayName": "Oscar Andrés Gaspar Álvarez",
      "userId": "14257180584353120309"
     },
     "user_tz": 300
    },
    "id": "FYNGbmU1tN2J",
    "tags": []
   },
   "outputs": [],
   "source": [
    "## ELiminamos las Variables que fueron homologadas\n",
    "df.drop(columns=[\"Genero\"\t,\"Educacion\"\t,\"EstadoCivil\"],inplace=True)"
   ]
  },
  {
   "cell_type": "code",
   "execution_count": 44,
   "metadata": {
    "executionInfo": {
     "elapsed": 7,
     "status": "ok",
     "timestamp": 1696900471669,
     "user": {
      "displayName": "Oscar Andrés Gaspar Álvarez",
      "userId": "14257180584353120309"
     },
     "user_tz": 300
    },
    "id": "0mVS0ln-vMkT",
    "tags": []
   },
   "outputs": [],
   "source": [
    "df[\"ID\"]=df[\"ID\"].astype(str) # Id se convierte en string"
   ]
  },
  {
   "cell_type": "code",
   "execution_count": 45,
   "metadata": {
    "colab": {
     "base_uri": "https://localhost:8080/",
     "height": 833
    },
    "executionInfo": {
     "elapsed": 328,
     "status": "ok",
     "timestamp": 1696900471991,
     "user": {
      "displayName": "Oscar Andrés Gaspar Álvarez",
      "userId": "14257180584353120309"
     },
     "user_tz": 300
    },
    "id": "uySsviKmoymE",
    "outputId": "9530bf32-057f-4cbe-b00f-2c9cef83fb14",
    "tags": []
   },
   "outputs": [
    {
     "data": {
      "text/html": [
       "<div>\n",
       "<style scoped>\n",
       "    .dataframe tbody tr th:only-of-type {\n",
       "        vertical-align: middle;\n",
       "    }\n",
       "\n",
       "    .dataframe tbody tr th {\n",
       "        vertical-align: top;\n",
       "    }\n",
       "\n",
       "    .dataframe thead th {\n",
       "        text-align: right;\n",
       "    }\n",
       "</style>\n",
       "<table border=\"1\" class=\"dataframe\">\n",
       "  <thead>\n",
       "    <tr style=\"text-align: right;\">\n",
       "      <th></th>\n",
       "      <th>Variable</th>\n",
       "      <th>TipoDato</th>\n",
       "      <th>CatUnicos</th>\n",
       "      <th>VectorUnicos</th>\n",
       "      <th>Nulos</th>\n",
       "      <th>PorcentajeNulos</th>\n",
       "    </tr>\n",
       "  </thead>\n",
       "  <tbody>\n",
       "    <tr>\n",
       "      <th>0</th>\n",
       "      <td>ID</td>\n",
       "      <td>object</td>\n",
       "      <td>30000</td>\n",
       "      <td>[1, 2, 3, 4, 5, 6, 7, 8, 9, 10, 11, 12, 13, 14...</td>\n",
       "      <td>0</td>\n",
       "      <td>0.00</td>\n",
       "    </tr>\n",
       "    <tr>\n",
       "      <th>1</th>\n",
       "      <td>MontoCredito</td>\n",
       "      <td>float64</td>\n",
       "      <td>81</td>\n",
       "      <td>[20000.0, 120000.0, 90000.0, 50000.0, 500000.0...</td>\n",
       "      <td>0</td>\n",
       "      <td>0.00</td>\n",
       "    </tr>\n",
       "    <tr>\n",
       "      <th>2</th>\n",
       "      <td>Edad</td>\n",
       "      <td>int64</td>\n",
       "      <td>56</td>\n",
       "      <td>[24, 26, 34, 37, 57, 29, 23, 28, 35, 51, 41, 3...</td>\n",
       "      <td>0</td>\n",
       "      <td>0.00</td>\n",
       "    </tr>\n",
       "    <tr>\n",
       "      <th>3</th>\n",
       "      <td>PAY_0</td>\n",
       "      <td>int64</td>\n",
       "      <td>11</td>\n",
       "      <td>[2, -1, 0, -2, 1, 3, 4, 8, 7, 5, 6]</td>\n",
       "      <td>0</td>\n",
       "      <td>0.00</td>\n",
       "    </tr>\n",
       "    <tr>\n",
       "      <th>4</th>\n",
       "      <td>PAY_2</td>\n",
       "      <td>int64</td>\n",
       "      <td>11</td>\n",
       "      <td>[2, 0, -1, -2, 3, 5, 7, 4, 1, 6, 8]</td>\n",
       "      <td>0</td>\n",
       "      <td>0.00</td>\n",
       "    </tr>\n",
       "    <tr>\n",
       "      <th>5</th>\n",
       "      <td>PAY_3</td>\n",
       "      <td>int64</td>\n",
       "      <td>11</td>\n",
       "      <td>[-1, 0, 2, -2, 3, 4, 6, 7, 1, 5, 8]</td>\n",
       "      <td>0</td>\n",
       "      <td>0.00</td>\n",
       "    </tr>\n",
       "    <tr>\n",
       "      <th>6</th>\n",
       "      <td>PAY_4</td>\n",
       "      <td>int64</td>\n",
       "      <td>11</td>\n",
       "      <td>[-1, 0, -2, 2, 3, 4, 5, 7, 6, 1, 8]</td>\n",
       "      <td>0</td>\n",
       "      <td>0.00</td>\n",
       "    </tr>\n",
       "    <tr>\n",
       "      <th>7</th>\n",
       "      <td>PAY_5</td>\n",
       "      <td>int64</td>\n",
       "      <td>10</td>\n",
       "      <td>[-2, 0, -1, 2, 3, 5, 4, 7, 8, 6]</td>\n",
       "      <td>0</td>\n",
       "      <td>0.00</td>\n",
       "    </tr>\n",
       "    <tr>\n",
       "      <th>8</th>\n",
       "      <td>PAY_6</td>\n",
       "      <td>int64</td>\n",
       "      <td>10</td>\n",
       "      <td>[-2, 2, 0, -1, 3, 6, 4, 7, 8, 5]</td>\n",
       "      <td>0</td>\n",
       "      <td>0.00</td>\n",
       "    </tr>\n",
       "    <tr>\n",
       "      <th>9</th>\n",
       "      <td>BILL_AMT1</td>\n",
       "      <td>float64</td>\n",
       "      <td>22723</td>\n",
       "      <td>[3913.0, 2682.0, 29239.0, 46990.0, 8617.0, 644...</td>\n",
       "      <td>0</td>\n",
       "      <td>0.00</td>\n",
       "    </tr>\n",
       "    <tr>\n",
       "      <th>10</th>\n",
       "      <td>BILL_AMT2</td>\n",
       "      <td>float64</td>\n",
       "      <td>22346</td>\n",
       "      <td>[3102.0, 1725.0, 14027.0, 48233.0, 5670.0, 570...</td>\n",
       "      <td>0</td>\n",
       "      <td>0.00</td>\n",
       "    </tr>\n",
       "    <tr>\n",
       "      <th>11</th>\n",
       "      <td>BILL_AMT3</td>\n",
       "      <td>float64</td>\n",
       "      <td>22026</td>\n",
       "      <td>[689.0, 2682.0, 13559.0, 49291.0, 35835.0, 576...</td>\n",
       "      <td>0</td>\n",
       "      <td>0.00</td>\n",
       "    </tr>\n",
       "    <tr>\n",
       "      <th>12</th>\n",
       "      <td>BILL_AMT4</td>\n",
       "      <td>float64</td>\n",
       "      <td>21548</td>\n",
       "      <td>[0.0, 3272.0, 14331.0, 28314.0, 20940.0, 19394...</td>\n",
       "      <td>0</td>\n",
       "      <td>0.00</td>\n",
       "    </tr>\n",
       "    <tr>\n",
       "      <th>13</th>\n",
       "      <td>BILL_AMT5</td>\n",
       "      <td>float64</td>\n",
       "      <td>21010</td>\n",
       "      <td>[0.0, 3455.0, 14948.0, 28959.0, 19146.0, 19619...</td>\n",
       "      <td>0</td>\n",
       "      <td>0.00</td>\n",
       "    </tr>\n",
       "    <tr>\n",
       "      <th>14</th>\n",
       "      <td>BILL_AMT6</td>\n",
       "      <td>float64</td>\n",
       "      <td>20604</td>\n",
       "      <td>[0.0, 3261.0, 15549.0, 29547.0, 19131.0, 20024...</td>\n",
       "      <td>0</td>\n",
       "      <td>0.00</td>\n",
       "    </tr>\n",
       "    <tr>\n",
       "      <th>15</th>\n",
       "      <td>PAY_AMT1</td>\n",
       "      <td>float64</td>\n",
       "      <td>7943</td>\n",
       "      <td>[0.0, 1518.0, 2000.0, 2500.0, 55000.0, 380.0, ...</td>\n",
       "      <td>0</td>\n",
       "      <td>0.00</td>\n",
       "    </tr>\n",
       "    <tr>\n",
       "      <th>16</th>\n",
       "      <td>PAY_AMT2</td>\n",
       "      <td>float64</td>\n",
       "      <td>7899</td>\n",
       "      <td>[689.0, 1000.0, 1500.0, 2019.0, 36681.0, 1815....</td>\n",
       "      <td>0</td>\n",
       "      <td>0.00</td>\n",
       "    </tr>\n",
       "    <tr>\n",
       "      <th>17</th>\n",
       "      <td>PAY_AMT3</td>\n",
       "      <td>float64</td>\n",
       "      <td>7518</td>\n",
       "      <td>[0.0, 1000.0, 1200.0, 10000.0, 657.0, 38000.0,...</td>\n",
       "      <td>0</td>\n",
       "      <td>0.00</td>\n",
       "    </tr>\n",
       "    <tr>\n",
       "      <th>18</th>\n",
       "      <td>PAY_AMT4</td>\n",
       "      <td>float64</td>\n",
       "      <td>6937</td>\n",
       "      <td>[0.0, 1000.0, 1100.0, 9000.0, 20239.0, 581.0, ...</td>\n",
       "      <td>0</td>\n",
       "      <td>0.00</td>\n",
       "    </tr>\n",
       "    <tr>\n",
       "      <th>19</th>\n",
       "      <td>PAY_AMT5</td>\n",
       "      <td>float64</td>\n",
       "      <td>6897</td>\n",
       "      <td>[0.0, 1000.0, 1069.0, 689.0, 13750.0, 1687.0, ...</td>\n",
       "      <td>0</td>\n",
       "      <td>0.00</td>\n",
       "    </tr>\n",
       "    <tr>\n",
       "      <th>20</th>\n",
       "      <td>PAY_AMT6</td>\n",
       "      <td>float64</td>\n",
       "      <td>6939</td>\n",
       "      <td>[0.0, 2000.0, 5000.0, 1000.0, 679.0, 800.0, 13...</td>\n",
       "      <td>0</td>\n",
       "      <td>0.00</td>\n",
       "    </tr>\n",
       "    <tr>\n",
       "      <th>21</th>\n",
       "      <td>Mora</td>\n",
       "      <td>int64</td>\n",
       "      <td>2</td>\n",
       "      <td>[1, 0]</td>\n",
       "      <td>0</td>\n",
       "      <td>0.00</td>\n",
       "    </tr>\n",
       "    <tr>\n",
       "      <th>22</th>\n",
       "      <td>Genero_Homologado</td>\n",
       "      <td>object</td>\n",
       "      <td>2</td>\n",
       "      <td>[Masculino, Femenino]</td>\n",
       "      <td>0</td>\n",
       "      <td>0.00</td>\n",
       "    </tr>\n",
       "    <tr>\n",
       "      <th>23</th>\n",
       "      <td>EducacionHomologada</td>\n",
       "      <td>object</td>\n",
       "      <td>3</td>\n",
       "      <td>[Pregrado, Posgrado, Bachillerato, nan]</td>\n",
       "      <td>468</td>\n",
       "      <td>1.56</td>\n",
       "    </tr>\n",
       "    <tr>\n",
       "      <th>24</th>\n",
       "      <td>EstadoCivilHomologado</td>\n",
       "      <td>object</td>\n",
       "      <td>3</td>\n",
       "      <td>[Casado, Soltero, Otros, nan]</td>\n",
       "      <td>54</td>\n",
       "      <td>0.18</td>\n",
       "    </tr>\n",
       "  </tbody>\n",
       "</table>\n",
       "</div>"
      ],
      "text/plain": [
       "                 Variable TipoDato  CatUnicos  \\\n",
       "0                      ID   object      30000   \n",
       "1            MontoCredito  float64         81   \n",
       "2                    Edad    int64         56   \n",
       "3                   PAY_0    int64         11   \n",
       "4                   PAY_2    int64         11   \n",
       "5                   PAY_3    int64         11   \n",
       "6                   PAY_4    int64         11   \n",
       "7                   PAY_5    int64         10   \n",
       "8                   PAY_6    int64         10   \n",
       "9               BILL_AMT1  float64      22723   \n",
       "10              BILL_AMT2  float64      22346   \n",
       "11              BILL_AMT3  float64      22026   \n",
       "12              BILL_AMT4  float64      21548   \n",
       "13              BILL_AMT5  float64      21010   \n",
       "14              BILL_AMT6  float64      20604   \n",
       "15               PAY_AMT1  float64       7943   \n",
       "16               PAY_AMT2  float64       7899   \n",
       "17               PAY_AMT3  float64       7518   \n",
       "18               PAY_AMT4  float64       6937   \n",
       "19               PAY_AMT5  float64       6897   \n",
       "20               PAY_AMT6  float64       6939   \n",
       "21                   Mora    int64          2   \n",
       "22      Genero_Homologado   object          2   \n",
       "23    EducacionHomologada   object          3   \n",
       "24  EstadoCivilHomologado   object          3   \n",
       "\n",
       "                                         VectorUnicos  Nulos  PorcentajeNulos  \n",
       "0   [1, 2, 3, 4, 5, 6, 7, 8, 9, 10, 11, 12, 13, 14...      0             0.00  \n",
       "1   [20000.0, 120000.0, 90000.0, 50000.0, 500000.0...      0             0.00  \n",
       "2   [24, 26, 34, 37, 57, 29, 23, 28, 35, 51, 41, 3...      0             0.00  \n",
       "3                 [2, -1, 0, -2, 1, 3, 4, 8, 7, 5, 6]      0             0.00  \n",
       "4                 [2, 0, -1, -2, 3, 5, 7, 4, 1, 6, 8]      0             0.00  \n",
       "5                 [-1, 0, 2, -2, 3, 4, 6, 7, 1, 5, 8]      0             0.00  \n",
       "6                 [-1, 0, -2, 2, 3, 4, 5, 7, 6, 1, 8]      0             0.00  \n",
       "7                    [-2, 0, -1, 2, 3, 5, 4, 7, 8, 6]      0             0.00  \n",
       "8                    [-2, 2, 0, -1, 3, 6, 4, 7, 8, 5]      0             0.00  \n",
       "9   [3913.0, 2682.0, 29239.0, 46990.0, 8617.0, 644...      0             0.00  \n",
       "10  [3102.0, 1725.0, 14027.0, 48233.0, 5670.0, 570...      0             0.00  \n",
       "11  [689.0, 2682.0, 13559.0, 49291.0, 35835.0, 576...      0             0.00  \n",
       "12  [0.0, 3272.0, 14331.0, 28314.0, 20940.0, 19394...      0             0.00  \n",
       "13  [0.0, 3455.0, 14948.0, 28959.0, 19146.0, 19619...      0             0.00  \n",
       "14  [0.0, 3261.0, 15549.0, 29547.0, 19131.0, 20024...      0             0.00  \n",
       "15  [0.0, 1518.0, 2000.0, 2500.0, 55000.0, 380.0, ...      0             0.00  \n",
       "16  [689.0, 1000.0, 1500.0, 2019.0, 36681.0, 1815....      0             0.00  \n",
       "17  [0.0, 1000.0, 1200.0, 10000.0, 657.0, 38000.0,...      0             0.00  \n",
       "18  [0.0, 1000.0, 1100.0, 9000.0, 20239.0, 581.0, ...      0             0.00  \n",
       "19  [0.0, 1000.0, 1069.0, 689.0, 13750.0, 1687.0, ...      0             0.00  \n",
       "20  [0.0, 2000.0, 5000.0, 1000.0, 679.0, 800.0, 13...      0             0.00  \n",
       "21                                             [1, 0]      0             0.00  \n",
       "22                              [Masculino, Femenino]      0             0.00  \n",
       "23            [Pregrado, Posgrado, Bachillerato, nan]    468             1.56  \n",
       "24                      [Casado, Soltero, Otros, nan]     54             0.18  "
      ]
     },
     "execution_count": 45,
     "metadata": {},
     "output_type": "execute_result"
    }
   ],
   "source": [
    "Mapeo2=utils.MapearVariables(df)\n",
    "Mapeo2"
   ]
  },
  {
   "cell_type": "markdown",
   "metadata": {
    "id": "2w-HuE5Rq_S8"
   },
   "source": [
    "**Identificar las Variables Categórcias y Numéricas**"
   ]
  },
  {
   "cell_type": "code",
   "execution_count": 46,
   "metadata": {
    "executionInfo": {
     "elapsed": 19,
     "status": "ok",
     "timestamp": 1696900471991,
     "user": {
      "displayName": "Oscar Andrés Gaspar Álvarez",
      "userId": "14257180584353120309"
     },
     "user_tz": 300
    },
    "id": "N2aJiC9trFHt",
    "tags": []
   },
   "outputs": [],
   "source": [
    "cat_columns=Mapeo2[\"Variable\"][Mapeo2[\"CatUnicos\"]<=11].tolist()"
   ]
  },
  {
   "cell_type": "code",
   "execution_count": 47,
   "metadata": {
    "colab": {
     "base_uri": "https://localhost:8080/"
    },
    "executionInfo": {
     "elapsed": 18,
     "status": "ok",
     "timestamp": 1696900471991,
     "user": {
      "displayName": "Oscar Andrés Gaspar Álvarez",
      "userId": "14257180584353120309"
     },
     "user_tz": 300
    },
    "id": "3IAOUyPys962",
    "outputId": "23bc5b39-10ee-413d-b3de-c2535453eb90",
    "tags": []
   },
   "outputs": [
    {
     "data": {
      "text/plain": [
       "['PAY_0',\n",
       " 'PAY_2',\n",
       " 'PAY_3',\n",
       " 'PAY_4',\n",
       " 'PAY_5',\n",
       " 'PAY_6',\n",
       " 'Mora',\n",
       " 'Genero_Homologado',\n",
       " 'EducacionHomologada',\n",
       " 'EstadoCivilHomologado']"
      ]
     },
     "execution_count": 47,
     "metadata": {},
     "output_type": "execute_result"
    }
   ],
   "source": [
    "cat_columns"
   ]
  },
  {
   "cell_type": "code",
   "execution_count": 48,
   "metadata": {
    "executionInfo": {
     "elapsed": 17,
     "status": "ok",
     "timestamp": 1696900471991,
     "user": {
      "displayName": "Oscar Andrés Gaspar Álvarez",
      "userId": "14257180584353120309"
     },
     "user_tz": 300
    },
    "id": "lT64EUnutAz5",
    "tags": []
   },
   "outputs": [],
   "source": [
    "num_columns=Mapeo2[\"Variable\"][(Mapeo2[\"CatUnicos\"]>11) & (Mapeo2[\"TipoDato\"]!=\"object\")].tolist()"
   ]
  },
  {
   "cell_type": "code",
   "execution_count": 49,
   "metadata": {
    "colab": {
     "base_uri": "https://localhost:8080/"
    },
    "executionInfo": {
     "elapsed": 16,
     "status": "ok",
     "timestamp": 1696900471991,
     "user": {
      "displayName": "Oscar Andrés Gaspar Álvarez",
      "userId": "14257180584353120309"
     },
     "user_tz": 300
    },
    "id": "IuWxzGqFurfX",
    "outputId": "579b0c7e-1249-461e-fe9e-f5c339b83ffb",
    "tags": []
   },
   "outputs": [
    {
     "data": {
      "text/plain": [
       "['MontoCredito',\n",
       " 'Edad',\n",
       " 'BILL_AMT1',\n",
       " 'BILL_AMT2',\n",
       " 'BILL_AMT3',\n",
       " 'BILL_AMT4',\n",
       " 'BILL_AMT5',\n",
       " 'BILL_AMT6',\n",
       " 'PAY_AMT1',\n",
       " 'PAY_AMT2',\n",
       " 'PAY_AMT3',\n",
       " 'PAY_AMT4',\n",
       " 'PAY_AMT5',\n",
       " 'PAY_AMT6']"
      ]
     },
     "execution_count": 49,
     "metadata": {},
     "output_type": "execute_result"
    }
   ],
   "source": [
    "num_columns"
   ]
  },
  {
   "cell_type": "markdown",
   "metadata": {
    "id": "qqI1cujqwF-f"
   },
   "source": [
    "**Las variables numéricas**\n",
    "\n",
    "Las variables numéricas, también conocidas como variables cuantitativas, son tipos de datos que representan cantidades numéricas y permiten realizar operaciones matemáticas sobre ellas. Estas variables se refieren a medidas o valores numéricos que se pueden medir, contar o calcular.\n",
    "\n",
    "Las variables numéricas se pueden dividir en dos categorías principales:\n",
    "\n",
    "* Variables Numéricas Continuas: Estas son variables que pueden tomar cualquier valor dentro de un rango determinado. No existen saltos ni interrupciones en los valores posibles. Por ejemplo, la altura de una persona, el peso de un objeto o la temperatura son ejemplos de variables numéricas continuas.\n",
    "\n",
    "* Variables Numéricas Discretas: Estas son variables que solo pueden tomar valores específicos y a menudo son el resultado de un conteo. No hay valores intermedios posibles entre estos puntos. Ejemplos de variables numéricas discretas incluyen la cantidad de hijos en una familia, el número de automóviles en un estacionamiento o la cantidad de libros en una estantería."
   ]
  },
  {
   "cell_type": "code",
   "execution_count": 50,
   "metadata": {
    "colab": {
     "base_uri": "https://localhost:8080/",
     "height": 833
    },
    "executionInfo": {
     "elapsed": 16,
     "status": "ok",
     "timestamp": 1696900471992,
     "user": {
      "displayName": "Oscar Andrés Gaspar Álvarez",
      "userId": "14257180584353120309"
     },
     "user_tz": 300
    },
    "id": "7k1EKPTZv3ve",
    "outputId": "338d7488-8fbb-465c-bdc2-aaeed9de986a",
    "tags": []
   },
   "outputs": [
    {
     "data": {
      "text/html": [
       "<div>\n",
       "<style scoped>\n",
       "    .dataframe tbody tr th:only-of-type {\n",
       "        vertical-align: middle;\n",
       "    }\n",
       "\n",
       "    .dataframe tbody tr th {\n",
       "        vertical-align: top;\n",
       "    }\n",
       "\n",
       "    .dataframe thead th {\n",
       "        text-align: right;\n",
       "    }\n",
       "</style>\n",
       "<table border=\"1\" class=\"dataframe\">\n",
       "  <thead>\n",
       "    <tr style=\"text-align: right;\">\n",
       "      <th></th>\n",
       "      <th>Variable</th>\n",
       "      <th>TipoDato</th>\n",
       "      <th>CatUnicos</th>\n",
       "      <th>VectorUnicos</th>\n",
       "      <th>Nulos</th>\n",
       "      <th>PorcentajeNulos</th>\n",
       "    </tr>\n",
       "  </thead>\n",
       "  <tbody>\n",
       "    <tr>\n",
       "      <th>0</th>\n",
       "      <td>ID</td>\n",
       "      <td>object</td>\n",
       "      <td>30000</td>\n",
       "      <td>[1, 2, 3, 4, 5, 6, 7, 8, 9, 10, 11, 12, 13, 14...</td>\n",
       "      <td>0</td>\n",
       "      <td>0.00</td>\n",
       "    </tr>\n",
       "    <tr>\n",
       "      <th>1</th>\n",
       "      <td>MontoCredito</td>\n",
       "      <td>float64</td>\n",
       "      <td>81</td>\n",
       "      <td>[20000.0, 120000.0, 90000.0, 50000.0, 500000.0...</td>\n",
       "      <td>0</td>\n",
       "      <td>0.00</td>\n",
       "    </tr>\n",
       "    <tr>\n",
       "      <th>2</th>\n",
       "      <td>Edad</td>\n",
       "      <td>int64</td>\n",
       "      <td>56</td>\n",
       "      <td>[24, 26, 34, 37, 57, 29, 23, 28, 35, 51, 41, 3...</td>\n",
       "      <td>0</td>\n",
       "      <td>0.00</td>\n",
       "    </tr>\n",
       "    <tr>\n",
       "      <th>3</th>\n",
       "      <td>PAY_0</td>\n",
       "      <td>int64</td>\n",
       "      <td>11</td>\n",
       "      <td>[2, -1, 0, -2, 1, 3, 4, 8, 7, 5, 6]</td>\n",
       "      <td>0</td>\n",
       "      <td>0.00</td>\n",
       "    </tr>\n",
       "    <tr>\n",
       "      <th>4</th>\n",
       "      <td>PAY_2</td>\n",
       "      <td>int64</td>\n",
       "      <td>11</td>\n",
       "      <td>[2, 0, -1, -2, 3, 5, 7, 4, 1, 6, 8]</td>\n",
       "      <td>0</td>\n",
       "      <td>0.00</td>\n",
       "    </tr>\n",
       "    <tr>\n",
       "      <th>5</th>\n",
       "      <td>PAY_3</td>\n",
       "      <td>int64</td>\n",
       "      <td>11</td>\n",
       "      <td>[-1, 0, 2, -2, 3, 4, 6, 7, 1, 5, 8]</td>\n",
       "      <td>0</td>\n",
       "      <td>0.00</td>\n",
       "    </tr>\n",
       "    <tr>\n",
       "      <th>6</th>\n",
       "      <td>PAY_4</td>\n",
       "      <td>int64</td>\n",
       "      <td>11</td>\n",
       "      <td>[-1, 0, -2, 2, 3, 4, 5, 7, 6, 1, 8]</td>\n",
       "      <td>0</td>\n",
       "      <td>0.00</td>\n",
       "    </tr>\n",
       "    <tr>\n",
       "      <th>7</th>\n",
       "      <td>PAY_5</td>\n",
       "      <td>int64</td>\n",
       "      <td>10</td>\n",
       "      <td>[-2, 0, -1, 2, 3, 5, 4, 7, 8, 6]</td>\n",
       "      <td>0</td>\n",
       "      <td>0.00</td>\n",
       "    </tr>\n",
       "    <tr>\n",
       "      <th>8</th>\n",
       "      <td>PAY_6</td>\n",
       "      <td>int64</td>\n",
       "      <td>10</td>\n",
       "      <td>[-2, 2, 0, -1, 3, 6, 4, 7, 8, 5]</td>\n",
       "      <td>0</td>\n",
       "      <td>0.00</td>\n",
       "    </tr>\n",
       "    <tr>\n",
       "      <th>9</th>\n",
       "      <td>BILL_AMT1</td>\n",
       "      <td>float64</td>\n",
       "      <td>22723</td>\n",
       "      <td>[3913.0, 2682.0, 29239.0, 46990.0, 8617.0, 644...</td>\n",
       "      <td>0</td>\n",
       "      <td>0.00</td>\n",
       "    </tr>\n",
       "    <tr>\n",
       "      <th>10</th>\n",
       "      <td>BILL_AMT2</td>\n",
       "      <td>float64</td>\n",
       "      <td>22346</td>\n",
       "      <td>[3102.0, 1725.0, 14027.0, 48233.0, 5670.0, 570...</td>\n",
       "      <td>0</td>\n",
       "      <td>0.00</td>\n",
       "    </tr>\n",
       "    <tr>\n",
       "      <th>11</th>\n",
       "      <td>BILL_AMT3</td>\n",
       "      <td>float64</td>\n",
       "      <td>22026</td>\n",
       "      <td>[689.0, 2682.0, 13559.0, 49291.0, 35835.0, 576...</td>\n",
       "      <td>0</td>\n",
       "      <td>0.00</td>\n",
       "    </tr>\n",
       "    <tr>\n",
       "      <th>12</th>\n",
       "      <td>BILL_AMT4</td>\n",
       "      <td>float64</td>\n",
       "      <td>21548</td>\n",
       "      <td>[0.0, 3272.0, 14331.0, 28314.0, 20940.0, 19394...</td>\n",
       "      <td>0</td>\n",
       "      <td>0.00</td>\n",
       "    </tr>\n",
       "    <tr>\n",
       "      <th>13</th>\n",
       "      <td>BILL_AMT5</td>\n",
       "      <td>float64</td>\n",
       "      <td>21010</td>\n",
       "      <td>[0.0, 3455.0, 14948.0, 28959.0, 19146.0, 19619...</td>\n",
       "      <td>0</td>\n",
       "      <td>0.00</td>\n",
       "    </tr>\n",
       "    <tr>\n",
       "      <th>14</th>\n",
       "      <td>BILL_AMT6</td>\n",
       "      <td>float64</td>\n",
       "      <td>20604</td>\n",
       "      <td>[0.0, 3261.0, 15549.0, 29547.0, 19131.0, 20024...</td>\n",
       "      <td>0</td>\n",
       "      <td>0.00</td>\n",
       "    </tr>\n",
       "    <tr>\n",
       "      <th>15</th>\n",
       "      <td>PAY_AMT1</td>\n",
       "      <td>float64</td>\n",
       "      <td>7943</td>\n",
       "      <td>[0.0, 1518.0, 2000.0, 2500.0, 55000.0, 380.0, ...</td>\n",
       "      <td>0</td>\n",
       "      <td>0.00</td>\n",
       "    </tr>\n",
       "    <tr>\n",
       "      <th>16</th>\n",
       "      <td>PAY_AMT2</td>\n",
       "      <td>float64</td>\n",
       "      <td>7899</td>\n",
       "      <td>[689.0, 1000.0, 1500.0, 2019.0, 36681.0, 1815....</td>\n",
       "      <td>0</td>\n",
       "      <td>0.00</td>\n",
       "    </tr>\n",
       "    <tr>\n",
       "      <th>17</th>\n",
       "      <td>PAY_AMT3</td>\n",
       "      <td>float64</td>\n",
       "      <td>7518</td>\n",
       "      <td>[0.0, 1000.0, 1200.0, 10000.0, 657.0, 38000.0,...</td>\n",
       "      <td>0</td>\n",
       "      <td>0.00</td>\n",
       "    </tr>\n",
       "    <tr>\n",
       "      <th>18</th>\n",
       "      <td>PAY_AMT4</td>\n",
       "      <td>float64</td>\n",
       "      <td>6937</td>\n",
       "      <td>[0.0, 1000.0, 1100.0, 9000.0, 20239.0, 581.0, ...</td>\n",
       "      <td>0</td>\n",
       "      <td>0.00</td>\n",
       "    </tr>\n",
       "    <tr>\n",
       "      <th>19</th>\n",
       "      <td>PAY_AMT5</td>\n",
       "      <td>float64</td>\n",
       "      <td>6897</td>\n",
       "      <td>[0.0, 1000.0, 1069.0, 689.0, 13750.0, 1687.0, ...</td>\n",
       "      <td>0</td>\n",
       "      <td>0.00</td>\n",
       "    </tr>\n",
       "    <tr>\n",
       "      <th>20</th>\n",
       "      <td>PAY_AMT6</td>\n",
       "      <td>float64</td>\n",
       "      <td>6939</td>\n",
       "      <td>[0.0, 2000.0, 5000.0, 1000.0, 679.0, 800.0, 13...</td>\n",
       "      <td>0</td>\n",
       "      <td>0.00</td>\n",
       "    </tr>\n",
       "    <tr>\n",
       "      <th>21</th>\n",
       "      <td>Mora</td>\n",
       "      <td>int64</td>\n",
       "      <td>2</td>\n",
       "      <td>[1, 0]</td>\n",
       "      <td>0</td>\n",
       "      <td>0.00</td>\n",
       "    </tr>\n",
       "    <tr>\n",
       "      <th>22</th>\n",
       "      <td>Genero_Homologado</td>\n",
       "      <td>object</td>\n",
       "      <td>2</td>\n",
       "      <td>[Masculino, Femenino]</td>\n",
       "      <td>0</td>\n",
       "      <td>0.00</td>\n",
       "    </tr>\n",
       "    <tr>\n",
       "      <th>23</th>\n",
       "      <td>EducacionHomologada</td>\n",
       "      <td>object</td>\n",
       "      <td>3</td>\n",
       "      <td>[Pregrado, Posgrado, Bachillerato, nan]</td>\n",
       "      <td>468</td>\n",
       "      <td>1.56</td>\n",
       "    </tr>\n",
       "    <tr>\n",
       "      <th>24</th>\n",
       "      <td>EstadoCivilHomologado</td>\n",
       "      <td>object</td>\n",
       "      <td>3</td>\n",
       "      <td>[Casado, Soltero, Otros, nan]</td>\n",
       "      <td>54</td>\n",
       "      <td>0.18</td>\n",
       "    </tr>\n",
       "  </tbody>\n",
       "</table>\n",
       "</div>"
      ],
      "text/plain": [
       "                 Variable TipoDato  CatUnicos  \\\n",
       "0                      ID   object      30000   \n",
       "1            MontoCredito  float64         81   \n",
       "2                    Edad    int64         56   \n",
       "3                   PAY_0    int64         11   \n",
       "4                   PAY_2    int64         11   \n",
       "5                   PAY_3    int64         11   \n",
       "6                   PAY_4    int64         11   \n",
       "7                   PAY_5    int64         10   \n",
       "8                   PAY_6    int64         10   \n",
       "9               BILL_AMT1  float64      22723   \n",
       "10              BILL_AMT2  float64      22346   \n",
       "11              BILL_AMT3  float64      22026   \n",
       "12              BILL_AMT4  float64      21548   \n",
       "13              BILL_AMT5  float64      21010   \n",
       "14              BILL_AMT6  float64      20604   \n",
       "15               PAY_AMT1  float64       7943   \n",
       "16               PAY_AMT2  float64       7899   \n",
       "17               PAY_AMT3  float64       7518   \n",
       "18               PAY_AMT4  float64       6937   \n",
       "19               PAY_AMT5  float64       6897   \n",
       "20               PAY_AMT6  float64       6939   \n",
       "21                   Mora    int64          2   \n",
       "22      Genero_Homologado   object          2   \n",
       "23    EducacionHomologada   object          3   \n",
       "24  EstadoCivilHomologado   object          3   \n",
       "\n",
       "                                         VectorUnicos  Nulos  PorcentajeNulos  \n",
       "0   [1, 2, 3, 4, 5, 6, 7, 8, 9, 10, 11, 12, 13, 14...      0             0.00  \n",
       "1   [20000.0, 120000.0, 90000.0, 50000.0, 500000.0...      0             0.00  \n",
       "2   [24, 26, 34, 37, 57, 29, 23, 28, 35, 51, 41, 3...      0             0.00  \n",
       "3                 [2, -1, 0, -2, 1, 3, 4, 8, 7, 5, 6]      0             0.00  \n",
       "4                 [2, 0, -1, -2, 3, 5, 7, 4, 1, 6, 8]      0             0.00  \n",
       "5                 [-1, 0, 2, -2, 3, 4, 6, 7, 1, 5, 8]      0             0.00  \n",
       "6                 [-1, 0, -2, 2, 3, 4, 5, 7, 6, 1, 8]      0             0.00  \n",
       "7                    [-2, 0, -1, 2, 3, 5, 4, 7, 8, 6]      0             0.00  \n",
       "8                    [-2, 2, 0, -1, 3, 6, 4, 7, 8, 5]      0             0.00  \n",
       "9   [3913.0, 2682.0, 29239.0, 46990.0, 8617.0, 644...      0             0.00  \n",
       "10  [3102.0, 1725.0, 14027.0, 48233.0, 5670.0, 570...      0             0.00  \n",
       "11  [689.0, 2682.0, 13559.0, 49291.0, 35835.0, 576...      0             0.00  \n",
       "12  [0.0, 3272.0, 14331.0, 28314.0, 20940.0, 19394...      0             0.00  \n",
       "13  [0.0, 3455.0, 14948.0, 28959.0, 19146.0, 19619...      0             0.00  \n",
       "14  [0.0, 3261.0, 15549.0, 29547.0, 19131.0, 20024...      0             0.00  \n",
       "15  [0.0, 1518.0, 2000.0, 2500.0, 55000.0, 380.0, ...      0             0.00  \n",
       "16  [689.0, 1000.0, 1500.0, 2019.0, 36681.0, 1815....      0             0.00  \n",
       "17  [0.0, 1000.0, 1200.0, 10000.0, 657.0, 38000.0,...      0             0.00  \n",
       "18  [0.0, 1000.0, 1100.0, 9000.0, 20239.0, 581.0, ...      0             0.00  \n",
       "19  [0.0, 1000.0, 1069.0, 689.0, 13750.0, 1687.0, ...      0             0.00  \n",
       "20  [0.0, 2000.0, 5000.0, 1000.0, 679.0, 800.0, 13...      0             0.00  \n",
       "21                                             [1, 0]      0             0.00  \n",
       "22                              [Masculino, Femenino]      0             0.00  \n",
       "23            [Pregrado, Posgrado, Bachillerato, nan]    468             1.56  \n",
       "24                      [Casado, Soltero, Otros, nan]     54             0.18  "
      ]
     },
     "execution_count": 50,
     "metadata": {},
     "output_type": "execute_result"
    }
   ],
   "source": [
    "Mapeo2"
   ]
  },
  {
   "cell_type": "markdown",
   "metadata": {
    "id": "BUL0OP_FvupO"
   },
   "source": [
    "## **2.7 Tratamiento de Valores Nulos**"
   ]
  },
  {
   "cell_type": "code",
   "execution_count": 51,
   "metadata": {
    "colab": {
     "base_uri": "https://localhost:8080/"
    },
    "executionInfo": {
     "elapsed": 15,
     "status": "ok",
     "timestamp": 1696900471992,
     "user": {
      "displayName": "Oscar Andrés Gaspar Álvarez",
      "userId": "14257180584353120309"
     },
     "user_tz": 300
    },
    "id": "7Ju-tTosusjJ",
    "outputId": "98ab10b2-842b-43a3-e290-47b6ee20463b",
    "tags": []
   },
   "outputs": [
    {
     "data": {
      "text/plain": [
       "EstadoCivilHomologado\n",
       "Soltero    0.533093\n",
       "Casado     0.456121\n",
       "Otros      0.010786\n",
       "Name: proportion, dtype: float64"
      ]
     },
     "execution_count": 51,
     "metadata": {},
     "output_type": "execute_result"
    }
   ],
   "source": [
    "df[\"EstadoCivilHomologado\"].value_counts(normalize=True)"
   ]
  },
  {
   "cell_type": "markdown",
   "metadata": {
    "id": "vELiRMzf5M-U"
   },
   "source": [
    "### **2.7.1 Imputación para variables categóricas por la Moda**"
   ]
  },
  {
   "cell_type": "code",
   "execution_count": 52,
   "metadata": {
    "executionInfo": {
     "elapsed": 13,
     "status": "ok",
     "timestamp": 1696900471992,
     "user": {
      "displayName": "Oscar Andrés Gaspar Álvarez",
      "userId": "14257180584353120309"
     },
     "user_tz": 300
    },
    "id": "3ceiWVMSxAXt",
    "tags": []
   },
   "outputs": [],
   "source": [
    "ModaEstadoCivil=df[\"EstadoCivilHomologado\"].mode()[0]\n",
    "ModaEducacion=df[\"EducacionHomologada\"].mode()[0]\n"
   ]
  },
  {
   "cell_type": "code",
   "execution_count": 53,
   "metadata": {
    "colab": {
     "base_uri": "https://localhost:8080/",
     "height": 36
    },
    "executionInfo": {
     "elapsed": 13,
     "status": "ok",
     "timestamp": 1696900471992,
     "user": {
      "displayName": "Oscar Andrés Gaspar Álvarez",
      "userId": "14257180584353120309"
     },
     "user_tz": 300
    },
    "id": "p5-8oqpR5cxU",
    "outputId": "9fce5b62-6ff9-47c1-a289-d38bb2b0e7ca",
    "tags": []
   },
   "outputs": [
    {
     "data": {
      "text/plain": [
       "'Soltero'"
      ]
     },
     "execution_count": 53,
     "metadata": {},
     "output_type": "execute_result"
    }
   ],
   "source": [
    "ModaEstadoCivil"
   ]
  },
  {
   "cell_type": "code",
   "execution_count": 54,
   "metadata": {
    "colab": {
     "base_uri": "https://localhost:8080/",
     "height": 36
    },
    "executionInfo": {
     "elapsed": 12,
     "status": "ok",
     "timestamp": 1696900471992,
     "user": {
      "displayName": "Oscar Andrés Gaspar Álvarez",
      "userId": "14257180584353120309"
     },
     "user_tz": 300
    },
    "id": "P8cBF3Y8u_n6",
    "outputId": "06485c06-a4c2-40ee-ac9b-761eb977b8d3",
    "tags": []
   },
   "outputs": [
    {
     "data": {
      "text/plain": [
       "'Pregrado'"
      ]
     },
     "execution_count": 54,
     "metadata": {},
     "output_type": "execute_result"
    }
   ],
   "source": [
    "ModaEducacion"
   ]
  },
  {
   "cell_type": "code",
   "execution_count": 55,
   "metadata": {
    "executionInfo": {
     "elapsed": 10,
     "status": "ok",
     "timestamp": 1696900471992,
     "user": {
      "displayName": "Oscar Andrés Gaspar Álvarez",
      "userId": "14257180584353120309"
     },
     "user_tz": 300
    },
    "id": "NZKyTtoG5daG",
    "tags": []
   },
   "outputs": [],
   "source": [
    "df[\"EstadoCivilHomologado\"]=df[\"EstadoCivilHomologado\"].fillna(ModaEstadoCivil)\n",
    "df[\"EducacionHomologada\"]=df[\"EducacionHomologada\"].fillna(ModaEstadoCivil)"
   ]
  },
  {
   "cell_type": "code",
   "execution_count": 56,
   "metadata": {
    "colab": {
     "base_uri": "https://localhost:8080/",
     "height": 833
    },
    "executionInfo": {
     "elapsed": 334,
     "status": "ok",
     "timestamp": 1696900472316,
     "user": {
      "displayName": "Oscar Andrés Gaspar Álvarez",
      "userId": "14257180584353120309"
     },
     "user_tz": 300
    },
    "id": "TbFsHQDP5zCI",
    "outputId": "dc1a158f-1616-4e46-a0b5-f2c90dd2d925",
    "tags": []
   },
   "outputs": [
    {
     "data": {
      "text/html": [
       "<div>\n",
       "<style scoped>\n",
       "    .dataframe tbody tr th:only-of-type {\n",
       "        vertical-align: middle;\n",
       "    }\n",
       "\n",
       "    .dataframe tbody tr th {\n",
       "        vertical-align: top;\n",
       "    }\n",
       "\n",
       "    .dataframe thead th {\n",
       "        text-align: right;\n",
       "    }\n",
       "</style>\n",
       "<table border=\"1\" class=\"dataframe\">\n",
       "  <thead>\n",
       "    <tr style=\"text-align: right;\">\n",
       "      <th></th>\n",
       "      <th>Variable</th>\n",
       "      <th>TipoDato</th>\n",
       "      <th>CatUnicos</th>\n",
       "      <th>VectorUnicos</th>\n",
       "      <th>Nulos</th>\n",
       "      <th>PorcentajeNulos</th>\n",
       "    </tr>\n",
       "  </thead>\n",
       "  <tbody>\n",
       "    <tr>\n",
       "      <th>0</th>\n",
       "      <td>ID</td>\n",
       "      <td>object</td>\n",
       "      <td>30000</td>\n",
       "      <td>[1, 2, 3, 4, 5, 6, 7, 8, 9, 10, 11, 12, 13, 14...</td>\n",
       "      <td>0</td>\n",
       "      <td>0.0</td>\n",
       "    </tr>\n",
       "    <tr>\n",
       "      <th>1</th>\n",
       "      <td>MontoCredito</td>\n",
       "      <td>float64</td>\n",
       "      <td>81</td>\n",
       "      <td>[20000.0, 120000.0, 90000.0, 50000.0, 500000.0...</td>\n",
       "      <td>0</td>\n",
       "      <td>0.0</td>\n",
       "    </tr>\n",
       "    <tr>\n",
       "      <th>2</th>\n",
       "      <td>Edad</td>\n",
       "      <td>int64</td>\n",
       "      <td>56</td>\n",
       "      <td>[24, 26, 34, 37, 57, 29, 23, 28, 35, 51, 41, 3...</td>\n",
       "      <td>0</td>\n",
       "      <td>0.0</td>\n",
       "    </tr>\n",
       "    <tr>\n",
       "      <th>3</th>\n",
       "      <td>PAY_0</td>\n",
       "      <td>int64</td>\n",
       "      <td>11</td>\n",
       "      <td>[2, -1, 0, -2, 1, 3, 4, 8, 7, 5, 6]</td>\n",
       "      <td>0</td>\n",
       "      <td>0.0</td>\n",
       "    </tr>\n",
       "    <tr>\n",
       "      <th>4</th>\n",
       "      <td>PAY_2</td>\n",
       "      <td>int64</td>\n",
       "      <td>11</td>\n",
       "      <td>[2, 0, -1, -2, 3, 5, 7, 4, 1, 6, 8]</td>\n",
       "      <td>0</td>\n",
       "      <td>0.0</td>\n",
       "    </tr>\n",
       "    <tr>\n",
       "      <th>5</th>\n",
       "      <td>PAY_3</td>\n",
       "      <td>int64</td>\n",
       "      <td>11</td>\n",
       "      <td>[-1, 0, 2, -2, 3, 4, 6, 7, 1, 5, 8]</td>\n",
       "      <td>0</td>\n",
       "      <td>0.0</td>\n",
       "    </tr>\n",
       "    <tr>\n",
       "      <th>6</th>\n",
       "      <td>PAY_4</td>\n",
       "      <td>int64</td>\n",
       "      <td>11</td>\n",
       "      <td>[-1, 0, -2, 2, 3, 4, 5, 7, 6, 1, 8]</td>\n",
       "      <td>0</td>\n",
       "      <td>0.0</td>\n",
       "    </tr>\n",
       "    <tr>\n",
       "      <th>7</th>\n",
       "      <td>PAY_5</td>\n",
       "      <td>int64</td>\n",
       "      <td>10</td>\n",
       "      <td>[-2, 0, -1, 2, 3, 5, 4, 7, 8, 6]</td>\n",
       "      <td>0</td>\n",
       "      <td>0.0</td>\n",
       "    </tr>\n",
       "    <tr>\n",
       "      <th>8</th>\n",
       "      <td>PAY_6</td>\n",
       "      <td>int64</td>\n",
       "      <td>10</td>\n",
       "      <td>[-2, 2, 0, -1, 3, 6, 4, 7, 8, 5]</td>\n",
       "      <td>0</td>\n",
       "      <td>0.0</td>\n",
       "    </tr>\n",
       "    <tr>\n",
       "      <th>9</th>\n",
       "      <td>BILL_AMT1</td>\n",
       "      <td>float64</td>\n",
       "      <td>22723</td>\n",
       "      <td>[3913.0, 2682.0, 29239.0, 46990.0, 8617.0, 644...</td>\n",
       "      <td>0</td>\n",
       "      <td>0.0</td>\n",
       "    </tr>\n",
       "    <tr>\n",
       "      <th>10</th>\n",
       "      <td>BILL_AMT2</td>\n",
       "      <td>float64</td>\n",
       "      <td>22346</td>\n",
       "      <td>[3102.0, 1725.0, 14027.0, 48233.0, 5670.0, 570...</td>\n",
       "      <td>0</td>\n",
       "      <td>0.0</td>\n",
       "    </tr>\n",
       "    <tr>\n",
       "      <th>11</th>\n",
       "      <td>BILL_AMT3</td>\n",
       "      <td>float64</td>\n",
       "      <td>22026</td>\n",
       "      <td>[689.0, 2682.0, 13559.0, 49291.0, 35835.0, 576...</td>\n",
       "      <td>0</td>\n",
       "      <td>0.0</td>\n",
       "    </tr>\n",
       "    <tr>\n",
       "      <th>12</th>\n",
       "      <td>BILL_AMT4</td>\n",
       "      <td>float64</td>\n",
       "      <td>21548</td>\n",
       "      <td>[0.0, 3272.0, 14331.0, 28314.0, 20940.0, 19394...</td>\n",
       "      <td>0</td>\n",
       "      <td>0.0</td>\n",
       "    </tr>\n",
       "    <tr>\n",
       "      <th>13</th>\n",
       "      <td>BILL_AMT5</td>\n",
       "      <td>float64</td>\n",
       "      <td>21010</td>\n",
       "      <td>[0.0, 3455.0, 14948.0, 28959.0, 19146.0, 19619...</td>\n",
       "      <td>0</td>\n",
       "      <td>0.0</td>\n",
       "    </tr>\n",
       "    <tr>\n",
       "      <th>14</th>\n",
       "      <td>BILL_AMT6</td>\n",
       "      <td>float64</td>\n",
       "      <td>20604</td>\n",
       "      <td>[0.0, 3261.0, 15549.0, 29547.0, 19131.0, 20024...</td>\n",
       "      <td>0</td>\n",
       "      <td>0.0</td>\n",
       "    </tr>\n",
       "    <tr>\n",
       "      <th>15</th>\n",
       "      <td>PAY_AMT1</td>\n",
       "      <td>float64</td>\n",
       "      <td>7943</td>\n",
       "      <td>[0.0, 1518.0, 2000.0, 2500.0, 55000.0, 380.0, ...</td>\n",
       "      <td>0</td>\n",
       "      <td>0.0</td>\n",
       "    </tr>\n",
       "    <tr>\n",
       "      <th>16</th>\n",
       "      <td>PAY_AMT2</td>\n",
       "      <td>float64</td>\n",
       "      <td>7899</td>\n",
       "      <td>[689.0, 1000.0, 1500.0, 2019.0, 36681.0, 1815....</td>\n",
       "      <td>0</td>\n",
       "      <td>0.0</td>\n",
       "    </tr>\n",
       "    <tr>\n",
       "      <th>17</th>\n",
       "      <td>PAY_AMT3</td>\n",
       "      <td>float64</td>\n",
       "      <td>7518</td>\n",
       "      <td>[0.0, 1000.0, 1200.0, 10000.0, 657.0, 38000.0,...</td>\n",
       "      <td>0</td>\n",
       "      <td>0.0</td>\n",
       "    </tr>\n",
       "    <tr>\n",
       "      <th>18</th>\n",
       "      <td>PAY_AMT4</td>\n",
       "      <td>float64</td>\n",
       "      <td>6937</td>\n",
       "      <td>[0.0, 1000.0, 1100.0, 9000.0, 20239.0, 581.0, ...</td>\n",
       "      <td>0</td>\n",
       "      <td>0.0</td>\n",
       "    </tr>\n",
       "    <tr>\n",
       "      <th>19</th>\n",
       "      <td>PAY_AMT5</td>\n",
       "      <td>float64</td>\n",
       "      <td>6897</td>\n",
       "      <td>[0.0, 1000.0, 1069.0, 689.0, 13750.0, 1687.0, ...</td>\n",
       "      <td>0</td>\n",
       "      <td>0.0</td>\n",
       "    </tr>\n",
       "    <tr>\n",
       "      <th>20</th>\n",
       "      <td>PAY_AMT6</td>\n",
       "      <td>float64</td>\n",
       "      <td>6939</td>\n",
       "      <td>[0.0, 2000.0, 5000.0, 1000.0, 679.0, 800.0, 13...</td>\n",
       "      <td>0</td>\n",
       "      <td>0.0</td>\n",
       "    </tr>\n",
       "    <tr>\n",
       "      <th>21</th>\n",
       "      <td>Mora</td>\n",
       "      <td>int64</td>\n",
       "      <td>2</td>\n",
       "      <td>[1, 0]</td>\n",
       "      <td>0</td>\n",
       "      <td>0.0</td>\n",
       "    </tr>\n",
       "    <tr>\n",
       "      <th>22</th>\n",
       "      <td>Genero_Homologado</td>\n",
       "      <td>object</td>\n",
       "      <td>2</td>\n",
       "      <td>[Masculino, Femenino]</td>\n",
       "      <td>0</td>\n",
       "      <td>0.0</td>\n",
       "    </tr>\n",
       "    <tr>\n",
       "      <th>23</th>\n",
       "      <td>EducacionHomologada</td>\n",
       "      <td>object</td>\n",
       "      <td>4</td>\n",
       "      <td>[Pregrado, Posgrado, Bachillerato, Soltero]</td>\n",
       "      <td>0</td>\n",
       "      <td>0.0</td>\n",
       "    </tr>\n",
       "    <tr>\n",
       "      <th>24</th>\n",
       "      <td>EstadoCivilHomologado</td>\n",
       "      <td>object</td>\n",
       "      <td>3</td>\n",
       "      <td>[Casado, Soltero, Otros]</td>\n",
       "      <td>0</td>\n",
       "      <td>0.0</td>\n",
       "    </tr>\n",
       "  </tbody>\n",
       "</table>\n",
       "</div>"
      ],
      "text/plain": [
       "                 Variable TipoDato  CatUnicos  \\\n",
       "0                      ID   object      30000   \n",
       "1            MontoCredito  float64         81   \n",
       "2                    Edad    int64         56   \n",
       "3                   PAY_0    int64         11   \n",
       "4                   PAY_2    int64         11   \n",
       "5                   PAY_3    int64         11   \n",
       "6                   PAY_4    int64         11   \n",
       "7                   PAY_5    int64         10   \n",
       "8                   PAY_6    int64         10   \n",
       "9               BILL_AMT1  float64      22723   \n",
       "10              BILL_AMT2  float64      22346   \n",
       "11              BILL_AMT3  float64      22026   \n",
       "12              BILL_AMT4  float64      21548   \n",
       "13              BILL_AMT5  float64      21010   \n",
       "14              BILL_AMT6  float64      20604   \n",
       "15               PAY_AMT1  float64       7943   \n",
       "16               PAY_AMT2  float64       7899   \n",
       "17               PAY_AMT3  float64       7518   \n",
       "18               PAY_AMT4  float64       6937   \n",
       "19               PAY_AMT5  float64       6897   \n",
       "20               PAY_AMT6  float64       6939   \n",
       "21                   Mora    int64          2   \n",
       "22      Genero_Homologado   object          2   \n",
       "23    EducacionHomologada   object          4   \n",
       "24  EstadoCivilHomologado   object          3   \n",
       "\n",
       "                                         VectorUnicos  Nulos  PorcentajeNulos  \n",
       "0   [1, 2, 3, 4, 5, 6, 7, 8, 9, 10, 11, 12, 13, 14...      0              0.0  \n",
       "1   [20000.0, 120000.0, 90000.0, 50000.0, 500000.0...      0              0.0  \n",
       "2   [24, 26, 34, 37, 57, 29, 23, 28, 35, 51, 41, 3...      0              0.0  \n",
       "3                 [2, -1, 0, -2, 1, 3, 4, 8, 7, 5, 6]      0              0.0  \n",
       "4                 [2, 0, -1, -2, 3, 5, 7, 4, 1, 6, 8]      0              0.0  \n",
       "5                 [-1, 0, 2, -2, 3, 4, 6, 7, 1, 5, 8]      0              0.0  \n",
       "6                 [-1, 0, -2, 2, 3, 4, 5, 7, 6, 1, 8]      0              0.0  \n",
       "7                    [-2, 0, -1, 2, 3, 5, 4, 7, 8, 6]      0              0.0  \n",
       "8                    [-2, 2, 0, -1, 3, 6, 4, 7, 8, 5]      0              0.0  \n",
       "9   [3913.0, 2682.0, 29239.0, 46990.0, 8617.0, 644...      0              0.0  \n",
       "10  [3102.0, 1725.0, 14027.0, 48233.0, 5670.0, 570...      0              0.0  \n",
       "11  [689.0, 2682.0, 13559.0, 49291.0, 35835.0, 576...      0              0.0  \n",
       "12  [0.0, 3272.0, 14331.0, 28314.0, 20940.0, 19394...      0              0.0  \n",
       "13  [0.0, 3455.0, 14948.0, 28959.0, 19146.0, 19619...      0              0.0  \n",
       "14  [0.0, 3261.0, 15549.0, 29547.0, 19131.0, 20024...      0              0.0  \n",
       "15  [0.0, 1518.0, 2000.0, 2500.0, 55000.0, 380.0, ...      0              0.0  \n",
       "16  [689.0, 1000.0, 1500.0, 2019.0, 36681.0, 1815....      0              0.0  \n",
       "17  [0.0, 1000.0, 1200.0, 10000.0, 657.0, 38000.0,...      0              0.0  \n",
       "18  [0.0, 1000.0, 1100.0, 9000.0, 20239.0, 581.0, ...      0              0.0  \n",
       "19  [0.0, 1000.0, 1069.0, 689.0, 13750.0, 1687.0, ...      0              0.0  \n",
       "20  [0.0, 2000.0, 5000.0, 1000.0, 679.0, 800.0, 13...      0              0.0  \n",
       "21                                             [1, 0]      0              0.0  \n",
       "22                              [Masculino, Femenino]      0              0.0  \n",
       "23        [Pregrado, Posgrado, Bachillerato, Soltero]      0              0.0  \n",
       "24                           [Casado, Soltero, Otros]      0              0.0  "
      ]
     },
     "execution_count": 56,
     "metadata": {},
     "output_type": "execute_result"
    }
   ],
   "source": [
    "utils.MapearVariables(df)"
   ]
  },
  {
   "cell_type": "markdown",
   "metadata": {
    "id": "LdhfcbK5vIJx"
   },
   "source": [
    "# **3)Exportar Base de Datos**"
   ]
  },
  {
   "cell_type": "code",
   "execution_count": 57,
   "metadata": {
    "colab": {
     "base_uri": "https://localhost:8080/",
     "height": 36
    },
    "executionInfo": {
     "elapsed": 6,
     "status": "ok",
     "timestamp": 1696900472316,
     "user": {
      "displayName": "Oscar Andrés Gaspar Álvarez",
      "userId": "14257180584353120309"
     },
     "user_tz": 300
    },
    "id": "gT_kWuBC55H4",
    "outputId": "3ab390fd-2d1d-49a9-9faf-0894da41b4a7",
    "tags": []
   },
   "outputs": [
    {
     "data": {
      "text/plain": [
       "'/Users/osgaspar/Documents/PERSONAL/Cedesistemas/2023/Diplomado2023_02/ModelosSupervisados/Clasificacion/ProyectoMora'"
      ]
     },
     "execution_count": 57,
     "metadata": {},
     "output_type": "execute_result"
    }
   ],
   "source": [
    "os.getcwd()"
   ]
  },
  {
   "cell_type": "code",
   "execution_count": 58,
   "metadata": {
    "executionInfo": {
     "elapsed": 1652,
     "status": "ok",
     "timestamp": 1696900473963,
     "user": {
      "displayName": "Oscar Andrés Gaspar Álvarez",
      "userId": "14257180584353120309"
     },
     "user_tz": 300
    },
    "id": "Nw6zg6swvSFo",
    "tags": []
   },
   "outputs": [],
   "source": [
    "df.to_csv(\"BaseDepurada.csv\",index=False)"
   ]
  },
  {
   "cell_type": "code",
   "execution_count": 59,
   "metadata": {
    "executionInfo": {
     "elapsed": 426,
     "status": "ok",
     "timestamp": 1696900474387,
     "user": {
      "displayName": "Oscar Andrés Gaspar Álvarez",
      "userId": "14257180584353120309"
     },
     "user_tz": 300
    },
    "id": "yu0v-5pbvgeq",
    "tags": []
   },
   "outputs": [],
   "source": [
    "pd.DataFrame({\"variable\":cat_columns}).to_csv(\"cat_columns.csv\",index=False)\n",
    "pd.DataFrame({\"variable\":num_columns}).to_csv(\"num_columns.csv\",index=False)"
   ]
  },
  {
   "cell_type": "markdown",
   "metadata": {
    "id": "tvCY6xr0Q7Kk"
   },
   "source": [
    "# Nueva sección"
   ]
  },
  {
   "cell_type": "code",
   "execution_count": null,
   "metadata": {
    "executionInfo": {
     "elapsed": 5,
     "status": "ok",
     "timestamp": 1696900474388,
     "user": {
      "displayName": "Oscar Andrés Gaspar Álvarez",
      "userId": "14257180584353120309"
     },
     "user_tz": 300
    },
    "id": "osOGr3QT1xn7"
   },
   "outputs": [],
   "source": [
    "6+5"
   ]
  },
  {
   "cell_type": "code",
   "execution_count": null,
   "metadata": {},
   "outputs": [],
   "source": []
  }
 ],
 "metadata": {
  "colab": {
   "provenance": []
  },
  "kernelspec": {
   "display_name": "Python 3 (ipykernel)",
   "language": "python",
   "name": "python3"
  },
  "language_info": {
   "codemirror_mode": {
    "name": "ipython",
    "version": 3
   },
   "file_extension": ".py",
   "mimetype": "text/x-python",
   "name": "python",
   "nbconvert_exporter": "python",
   "pygments_lexer": "ipython3",
   "version": "3.10.13"
  }
 },
 "nbformat": 4,
 "nbformat_minor": 4
}
