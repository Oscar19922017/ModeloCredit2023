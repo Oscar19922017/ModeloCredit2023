{
 "cells": [
  {
   "cell_type": "markdown",
   "id": "83ceea0c-08a5-403d-962c-95c682bd02b1",
   "metadata": {},
   "source": [
    "# **PyCaret**\n",
    "\n",
    "\n",
    "PyCaret es una biblioteca de código abierto de aprendizaje automático (machine learning) para Python que facilita y agiliza el proceso de desarrollo y experimentación con modelos de aprendizaje automático. Fue desarrollado para simplificar tareas comunes en el flujo de trabajo de aprendizaje automático, como la preparación de datos, la selección de características, la creación de modelos, la evaluación y comparación de modelos, y la interpretación de resultados.\n",
    "\n",
    "Las características principales de PyCaret son:\n",
    "\n",
    "* Interfaz sencilla: PyCaret proporciona una interfaz de línea de comandos simple e intuitiva, lo que lo hace accesible incluso para usuarios nuevos en aprendizaje automático.\n",
    "\n",
    "* Automatización del flujo de trabajo: PyCaret automatiza muchas de las tareas repetitivas y tediosas que generalmente se realizan en el proceso de desarrollo de modelos, lo que permite a los usuarios centrarse más en la experimentación y la iteración rápida.\n",
    "\n",
    "* Soporte para múltiples bibliotecas de aprendizaje automático: PyCaret es compatible con varias bibliotecas populares de aprendizaje automático, como scikit-learn, XGBoost, LightGBM, CatBoost, etc. Esto permite a los usuarios comparar fácilmente diferentes algoritmos sin necesidad de escribir mucho código.\n",
    "\n",
    "* Funciones de preprocesamiento de datos: PyCaret ofrece funcionalidades para la preparación y limpieza de datos, incluyendo manejo de valores faltantes, codificación de variables categóricas, y más.\n",
    "\n",
    "* Comparación de modelos: PyCaret permite comparar rápidamente el rendimiento de varios modelos utilizando diferentes métricas, lo que ayuda a seleccionar el mejor modelo para un problema en particular.\n",
    "\n",
    "* Sintonización automática de hiperparámetros: PyCaret puede realizar automáticamente la búsqueda de hiperparámetros para optimizar los modelos, lo que reduce la necesidad de ajustar manualmente los hiperparámetros.\n",
    "\n",
    "* Interpretación de modelos: PyCaret ofrece funciones para interpretar y visualizar los modelos entrenados, lo que facilita la comprensión de cómo funcionan y qué características son más importantes para la predicción.\n",
    "\n",
    "En general, PyCaret es una excelente herramienta para acelerar y simplificar el proceso de desarrollo de modelos de aprendizaje automático, lo que lo hace especialmente útil para usuarios que deseen experimentar con diferentes algoritmos y técnicas de manera eficiente. Sin embargo, es importante tener en cuenta que, como en cualquier biblioteca de alto nivel, la flexibilidad y control sobre el flujo de trabajo pueden ser más limitados que al utilizar bibliotecas de nivel más bajo como scikit-learn."
   ]
  },
  {
   "cell_type": "code",
   "execution_count": 1,
   "id": "4b112f6d-9bc7-4d9e-9a51-c49d1c108445",
   "metadata": {},
   "outputs": [],
   "source": [
    "import numpy as np\n",
    "import pandas as pd\n",
    "from sklearn.model_selection import train_test_split # Dividir la data en entraniemo y prueba\n",
    "import statsmodels.api as sms\n",
    "from sklearn.linear_model import LogisticRegression\n",
    "from sklearn.metrics import confusion_matrix\n",
    "from sklearn.metrics import precision_score,recall_score,f1_score,accuracy_score\n",
    "from sklearn import metrics\n",
    "from skopt import BayesSearchCV\n",
    "import seaborn as sns\n",
    "import matplotlib.pyplot as plt \n",
    "\n",
    "from sklearn.metrics import roc_curve\n",
    "from sklearn.metrics import roc_auc_score\n",
    "import pycaret\n",
    "from pycaret.classification import *\n",
    "\n",
    "import xgboost as xgb\n",
    "import lightgbm as lgb\n",
    "import catboost \n",
    "\n",
    "\n",
    "\n",
    "\n",
    "import warnings\n",
    "warnings.filterwarnings(\"ignore\")\n",
    "\n",
    "\n",
    "def MetricasMatrizConfusion(y,Modelo,X,tipo=\"ML\"):\n",
    "    ## Validar la longitud de los datos\n",
    "    if (len(y)==len(X)):\n",
    "        \n",
    "        if (tipo!=\"ML\"):\n",
    "            Probabilidad=Modelo.predict(exog=X) # Logit\n",
    "            Predicciones=np.where(Probabilidad<0.5,0,1)\n",
    "        else:\n",
    "            Predicciones=Modelo.predict(X) # Modleo de ML    \n",
    "        td1=pd.DataFrame(Predicciones,columns=[\"Predicciones\"])\n",
    "        td2=pd.concat([y.reset_index(drop=True),td1],axis=1)\n",
    "        td2.columns=[\"Realidad\",\"Predicciones\"]\n",
    "        Matriz=pd.crosstab(td2[\"Realidad\"],td2[\"Predicciones\"],margins=True)\n",
    "        \n",
    "        ## Formato porcentaje\n",
    "        MatrizNormalizada=pd.crosstab(td2[\"Realidad\"],td2[\"Predicciones\"],normalize=0)\n",
    "        sns.heatmap(MatrizNormalizada,annot=True,linewidths = 0.01, cmap = \"Blues\")\n",
    "        \n",
    "        ### Métricas, Recall, Precisión\n",
    "        \n",
    "        Accuracy =metrics.accuracy_score(y,Predicciones)\n",
    "        print(f'Accuracy: {Accuracy}')\n",
    "        Reporte=metrics.classification_report(y,Predicciones)\n",
    "        print(f'Reporte : {Reporte}')\n",
    "        \n",
    "    \n",
    "    \n",
    "    else:\n",
    "        \n",
    "        Matriz=[]\n",
    "        print(\"Los datos no tienen la misma longitud\")\n",
    "    \n",
    "    \n",
    "    return Matriz\n",
    "\n",
    "def curva_roc(y,Modelo,X,tipo=\"ML\"):\n",
    "    if (tipo!=\"ML\"):\n",
    "        Probabilidad=Modelo.predict(exog=X) # Logit (statsmodels)\n",
    "    else:\n",
    "        Probabilidad=Modelo.predict_proba(X)[:,1] # cuando es Machine Learning(SKlearn) \n",
    "        \n",
    "    roc_auc=roc_auc_score(y,Probabilidad)\n",
    "    false_positive,true_positive,limites=roc_curve(y,Probabilidad)\n",
    "    ramdom_probs=[0 for i in range(len(y))]\n",
    "    c,d,_=roc_curve(y,ramdom_probs,pos_label=1) ## Diagonal\n",
    "    \n",
    "    plt.plot(false_positive,true_positive,linestyle=\"--\",color=\"green\",label=\"AUC: \"+str(round(roc_auc,2)))\n",
    "    plt.plot(c,d,linestyle=\"--\",color=\"blue\")\n",
    "    plt.xlabel(\"Tasa Falsos Positivos\")\n",
    "    plt.ylabel(\"Tasa Verdaderos Positivos\")\n",
    "    plt.legend()\n",
    "    plt.show()\n",
    "    return roc_auc"
   ]
  },
  {
   "cell_type": "code",
   "execution_count": 2,
   "id": "9d5c2226-bd12-4624-9094-51a51e0af371",
   "metadata": {},
   "outputs": [],
   "source": [
    "## Anaconda \n",
    "# conda install -c conda-forge pycaret [full]\n",
    "# conda install -c conda-forge lightgbm\n",
    "# conda install -c conda-forge catboost\n",
    "# onda install -c conda-forge xgboost\n",
    "# conda install -c conda-forge scikit-optimize"
   ]
  },
  {
   "cell_type": "code",
   "execution_count": 3,
   "id": "af2daa56-2ad4-4bfb-985f-03b09658880d",
   "metadata": {},
   "outputs": [],
   "source": [
    "## Google colab\n",
    "# !pip install pycaret[full]\n",
    "# !pip install lightgbm\n",
    "# !pip install catboost\n",
    "# !pip install xgboost\n",
    "# !pip install scikit-optimize"
   ]
  },
  {
   "cell_type": "markdown",
   "id": "f6ca7a27-9388-4852-a91e-2cb6da75e704",
   "metadata": {},
   "source": [
    "## **Preparar los datos**"
   ]
  },
  {
   "cell_type": "code",
   "execution_count": 4,
   "id": "11dbfc4e-257c-472b-8045-6abe73034c0a",
   "metadata": {},
   "outputs": [],
   "source": [
    "df=pd.read_csv(\"BaseModelos.csv\")"
   ]
  },
  {
   "cell_type": "code",
   "execution_count": 5,
   "id": "6c468d41-9065-4ee0-9422-61ddc465a7eb",
   "metadata": {},
   "outputs": [
    {
     "data": {
      "text/html": [
       "<div>\n",
       "<style scoped>\n",
       "    .dataframe tbody tr th:only-of-type {\n",
       "        vertical-align: middle;\n",
       "    }\n",
       "\n",
       "    .dataframe tbody tr th {\n",
       "        vertical-align: top;\n",
       "    }\n",
       "\n",
       "    .dataframe thead th {\n",
       "        text-align: right;\n",
       "    }\n",
       "</style>\n",
       "<table border=\"1\" class=\"dataframe\">\n",
       "  <thead>\n",
       "    <tr style=\"text-align: right;\">\n",
       "      <th></th>\n",
       "      <th>MontoCredito</th>\n",
       "      <th>Edad</th>\n",
       "      <th>BILL_AMT1</th>\n",
       "      <th>PAY_AMT1</th>\n",
       "      <th>PAY_AMT2</th>\n",
       "      <th>PAY_AMT3</th>\n",
       "      <th>PAY_AMT4</th>\n",
       "      <th>PAY_AMT5</th>\n",
       "      <th>PAY_AMT6</th>\n",
       "      <th>PAY_0_-1</th>\n",
       "      <th>...</th>\n",
       "      <th>PAY_6_5</th>\n",
       "      <th>PAY_6_6</th>\n",
       "      <th>PAY_6_7</th>\n",
       "      <th>PAY_6_8</th>\n",
       "      <th>Genero_Homologado_Masculino</th>\n",
       "      <th>EducacionHomologada_Posgrado</th>\n",
       "      <th>EducacionHomologada_Pregrado</th>\n",
       "      <th>EstadoCivilHomologado_Otros</th>\n",
       "      <th>EstadoCivilHomologado_Soltero</th>\n",
       "      <th>Mora</th>\n",
       "    </tr>\n",
       "  </thead>\n",
       "  <tbody>\n",
       "    <tr>\n",
       "      <th>0</th>\n",
       "      <td>20000.0</td>\n",
       "      <td>24.0</td>\n",
       "      <td>3913.0</td>\n",
       "      <td>0.0</td>\n",
       "      <td>689.0</td>\n",
       "      <td>0.0</td>\n",
       "      <td>0.0</td>\n",
       "      <td>0.0</td>\n",
       "      <td>0.0</td>\n",
       "      <td>0</td>\n",
       "      <td>...</td>\n",
       "      <td>0</td>\n",
       "      <td>0</td>\n",
       "      <td>0</td>\n",
       "      <td>0</td>\n",
       "      <td>1</td>\n",
       "      <td>0</td>\n",
       "      <td>1</td>\n",
       "      <td>0</td>\n",
       "      <td>0</td>\n",
       "      <td>1</td>\n",
       "    </tr>\n",
       "    <tr>\n",
       "      <th>1</th>\n",
       "      <td>120000.0</td>\n",
       "      <td>26.0</td>\n",
       "      <td>2682.0</td>\n",
       "      <td>0.0</td>\n",
       "      <td>1000.0</td>\n",
       "      <td>1000.0</td>\n",
       "      <td>1000.0</td>\n",
       "      <td>0.0</td>\n",
       "      <td>2000.0</td>\n",
       "      <td>1</td>\n",
       "      <td>...</td>\n",
       "      <td>0</td>\n",
       "      <td>0</td>\n",
       "      <td>0</td>\n",
       "      <td>0</td>\n",
       "      <td>1</td>\n",
       "      <td>0</td>\n",
       "      <td>1</td>\n",
       "      <td>0</td>\n",
       "      <td>1</td>\n",
       "      <td>1</td>\n",
       "    </tr>\n",
       "    <tr>\n",
       "      <th>2</th>\n",
       "      <td>90000.0</td>\n",
       "      <td>34.0</td>\n",
       "      <td>29239.0</td>\n",
       "      <td>1518.0</td>\n",
       "      <td>1500.0</td>\n",
       "      <td>1000.0</td>\n",
       "      <td>1000.0</td>\n",
       "      <td>1000.0</td>\n",
       "      <td>5000.0</td>\n",
       "      <td>0</td>\n",
       "      <td>...</td>\n",
       "      <td>0</td>\n",
       "      <td>0</td>\n",
       "      <td>0</td>\n",
       "      <td>0</td>\n",
       "      <td>1</td>\n",
       "      <td>0</td>\n",
       "      <td>1</td>\n",
       "      <td>0</td>\n",
       "      <td>1</td>\n",
       "      <td>0</td>\n",
       "    </tr>\n",
       "    <tr>\n",
       "      <th>3</th>\n",
       "      <td>50000.0</td>\n",
       "      <td>37.0</td>\n",
       "      <td>46990.0</td>\n",
       "      <td>2000.0</td>\n",
       "      <td>2019.0</td>\n",
       "      <td>1200.0</td>\n",
       "      <td>1100.0</td>\n",
       "      <td>1069.0</td>\n",
       "      <td>1000.0</td>\n",
       "      <td>0</td>\n",
       "      <td>...</td>\n",
       "      <td>0</td>\n",
       "      <td>0</td>\n",
       "      <td>0</td>\n",
       "      <td>0</td>\n",
       "      <td>1</td>\n",
       "      <td>0</td>\n",
       "      <td>1</td>\n",
       "      <td>0</td>\n",
       "      <td>0</td>\n",
       "      <td>0</td>\n",
       "    </tr>\n",
       "    <tr>\n",
       "      <th>4</th>\n",
       "      <td>50000.0</td>\n",
       "      <td>57.0</td>\n",
       "      <td>8617.0</td>\n",
       "      <td>2000.0</td>\n",
       "      <td>36681.0</td>\n",
       "      <td>10000.0</td>\n",
       "      <td>9000.0</td>\n",
       "      <td>689.0</td>\n",
       "      <td>679.0</td>\n",
       "      <td>1</td>\n",
       "      <td>...</td>\n",
       "      <td>0</td>\n",
       "      <td>0</td>\n",
       "      <td>0</td>\n",
       "      <td>0</td>\n",
       "      <td>0</td>\n",
       "      <td>0</td>\n",
       "      <td>1</td>\n",
       "      <td>0</td>\n",
       "      <td>0</td>\n",
       "      <td>0</td>\n",
       "    </tr>\n",
       "  </tbody>\n",
       "</table>\n",
       "<p>5 rows × 73 columns</p>\n",
       "</div>"
      ],
      "text/plain": [
       "   MontoCredito  Edad  BILL_AMT1  PAY_AMT1  PAY_AMT2  PAY_AMT3  PAY_AMT4  \\\n",
       "0       20000.0  24.0     3913.0       0.0     689.0       0.0       0.0   \n",
       "1      120000.0  26.0     2682.0       0.0    1000.0    1000.0    1000.0   \n",
       "2       90000.0  34.0    29239.0    1518.0    1500.0    1000.0    1000.0   \n",
       "3       50000.0  37.0    46990.0    2000.0    2019.0    1200.0    1100.0   \n",
       "4       50000.0  57.0     8617.0    2000.0   36681.0   10000.0    9000.0   \n",
       "\n",
       "   PAY_AMT5  PAY_AMT6  PAY_0_-1  ...  PAY_6_5  PAY_6_6  PAY_6_7  PAY_6_8  \\\n",
       "0       0.0       0.0         0  ...        0        0        0        0   \n",
       "1       0.0    2000.0         1  ...        0        0        0        0   \n",
       "2    1000.0    5000.0         0  ...        0        0        0        0   \n",
       "3    1069.0    1000.0         0  ...        0        0        0        0   \n",
       "4     689.0     679.0         1  ...        0        0        0        0   \n",
       "\n",
       "   Genero_Homologado_Masculino  EducacionHomologada_Posgrado  \\\n",
       "0                            1                             0   \n",
       "1                            1                             0   \n",
       "2                            1                             0   \n",
       "3                            1                             0   \n",
       "4                            0                             0   \n",
       "\n",
       "   EducacionHomologada_Pregrado  EstadoCivilHomologado_Otros  \\\n",
       "0                             1                            0   \n",
       "1                             1                            0   \n",
       "2                             1                            0   \n",
       "3                             1                            0   \n",
       "4                             1                            0   \n",
       "\n",
       "   EstadoCivilHomologado_Soltero  Mora  \n",
       "0                              0     1  \n",
       "1                              1     1  \n",
       "2                              1     0  \n",
       "3                              0     0  \n",
       "4                              0     0  \n",
       "\n",
       "[5 rows x 73 columns]"
      ]
     },
     "execution_count": 5,
     "metadata": {},
     "output_type": "execute_result"
    }
   ],
   "source": [
    "df.head()"
   ]
  },
  {
   "cell_type": "code",
   "execution_count": 6,
   "id": "d5699ce8-2c54-46fd-b9b9-66cd54001116",
   "metadata": {},
   "outputs": [],
   "source": [
    "Cat_Chi2=pd.read_csv(\"CatSignificativasChi2.csv\")[\"Variable\"].tolist()\n",
    "Num_Anova=pd.read_csv(\"NumericasSignificativasAnova.csv\")[\"Variable\"].tolist()"
   ]
  },
  {
   "cell_type": "code",
   "execution_count": 7,
   "id": "957b343a-e25c-4f31-8d7e-716d408eaa01",
   "metadata": {},
   "outputs": [],
   "source": [
    "VariablesPredictivas=Cat_Chi2+Num_Anova"
   ]
  },
  {
   "cell_type": "code",
   "execution_count": 8,
   "id": "a330ca00-92bd-419a-8ae6-8ad966c36f62",
   "metadata": {},
   "outputs": [],
   "source": [
    "X=df[VariablesPredictivas]"
   ]
  },
  {
   "cell_type": "code",
   "execution_count": 9,
   "id": "2b77e889-0c59-417d-9f30-1830ef35929d",
   "metadata": {},
   "outputs": [],
   "source": [
    "df.rename(columns={\"Mora\":\"target\"},inplace=True)"
   ]
  },
  {
   "cell_type": "code",
   "execution_count": 10,
   "id": "732289a3-6aee-43c3-8f60-01ea81bb16b1",
   "metadata": {},
   "outputs": [],
   "source": [
    "y=df[\"target\"]"
   ]
  },
  {
   "cell_type": "code",
   "execution_count": 11,
   "id": "6e46c62c-7530-4bd7-bd9b-8fa6fccc2f0e",
   "metadata": {},
   "outputs": [
    {
     "data": {
      "image/png": "[encoded data removed]",
      "text/plain": [
       "<Figure size 432x288 with 1 Axes>"
      ]
     },
     "metadata": {},
     "output_type": "display_data"
    }
   ],
   "source": [
    "y.value_counts().plot(kind=\"pie\",autopct=\"%.2f\");"
   ]
  },
  {
   "cell_type": "code",
   "execution_count": 12,
   "id": "d930ecbb-8db0-4809-bba7-57df06b7429a",
   "metadata": {},
   "outputs": [],
   "source": [
    "x_train,x_test,y_train,y_test = train_test_split(X,y,test_size=0.3,random_state=123, stratify=y)"
   ]
  },
  {
   "cell_type": "code",
   "execution_count": 13,
   "id": "d837ee32-4ec6-4000-9f81-8a31e58e8be9",
   "metadata": {},
   "outputs": [
    {
     "data": {
      "text/plain": [
       "0    0.77881\n",
       "1    0.22119\n",
       "Name: target, dtype: float64"
      ]
     },
     "execution_count": 13,
     "metadata": {},
     "output_type": "execute_result"
    }
   ],
   "source": [
    "y_train.value_counts(normalize=True)"
   ]
  },
  {
   "cell_type": "code",
   "execution_count": 14,
   "id": "a88bebd2-92e4-43e1-8f06-9084427cce0e",
   "metadata": {},
   "outputs": [
    {
     "data": {
      "text/plain": [
       "0    0.778778\n",
       "1    0.221222\n",
       "Name: target, dtype: float64"
      ]
     },
     "execution_count": 14,
     "metadata": {},
     "output_type": "execute_result"
    }
   ],
   "source": [
    "y_test.value_counts(normalize=True)"
   ]
  },
  {
   "cell_type": "markdown",
   "id": "474edb78-8673-40ab-9154-11a2af4b4410",
   "metadata": {},
   "source": [
    "## **Configuración Pycaret**"
   ]
  },
  {
   "cell_type": "code",
   "execution_count": 15,
   "id": "793da3f4-6074-4930-bb79-4be293e30bf4",
   "metadata": {},
   "outputs": [],
   "source": [
    "pycaret_train=pd.concat([x_train,y_train],axis=1)\n",
    "pycaret_test=pd.concat([x_test,y_test],axis=1)"
   ]
  },
  {
   "cell_type": "code",
   "execution_count": 16,
   "id": "5b29980b-c918-4c18-8fb0-4ca77be76f34",
   "metadata": {},
   "outputs": [],
   "source": [
    "#Model=setup(data=pycaret_train,test_data=pycaret_test,target=\"target\",session_id=123,fix_imbalance=True)"
   ]
  },
  {
   "cell_type": "code",
   "execution_count": 17,
   "id": "d2c3fd3f-821c-47dd-9b86-e3fcd14b3168",
   "metadata": {},
   "outputs": [],
   "source": [
    "#models_to_compare=[\"rf\",'lightgbm','xgboost',\"dt\",\"catboost\",\"gbc\",\"lr\",\"et\"]"
   ]
  },
  {
   "cell_type": "code",
   "execution_count": 18,
   "id": "1eb56c33-233c-4c4c-9270-63f2625d3255",
   "metadata": {},
   "outputs": [],
   "source": [
    "#best_model=compare_models(include=models_to_compare,fold=5,sort=\"AUC\")"
   ]
  },
  {
   "cell_type": "code",
   "execution_count": 19,
   "id": "86541a12-5c26-4bfb-84da-7aa051919656",
   "metadata": {},
   "outputs": [],
   "source": [
    "#stop"
   ]
  },
  {
   "cell_type": "code",
   "execution_count": 20,
   "id": "59c6fa2a-23e6-4e6a-9451-15135fc76681",
   "metadata": {},
   "outputs": [],
   "source": [
    "#plot_model(best_model, plot = 'auc')"
   ]
  },
  {
   "cell_type": "markdown",
   "id": "cd8f12df-d31c-4788-8970-a3d8aaf35348",
   "metadata": {},
   "source": [
    "**Seleccionamos Modelo**"
   ]
  },
  {
   "cell_type": "code",
   "execution_count": 21,
   "id": "0425a576-5f4f-4aae-829d-3bf515c19f3d",
   "metadata": {},
   "outputs": [],
   "source": [
    "#best_model=create_model(\"gbc\")"
   ]
  },
  {
   "cell_type": "code",
   "execution_count": 22,
   "id": "692539ee-3252-414b-8246-d846761c806c",
   "metadata": {},
   "outputs": [],
   "source": [
    "#plot_model(best_model,plot=\"learning\")"
   ]
  },
  {
   "cell_type": "code",
   "execution_count": 23,
   "id": "def69610-6f12-46c3-919a-c78636c47103",
   "metadata": {},
   "outputs": [],
   "source": [
    "#plot_model(best_model,plot=\"feature\")"
   ]
  },
  {
   "cell_type": "markdown",
   "id": "fb5a3313-62bf-4282-9943-ce50b2a2bda9",
   "metadata": {},
   "source": [
    "# **La optimización bayesiana**\n",
    "\n",
    "\n",
    "La optimización bayesiana es un enfoque de optimización que se basa en la inferencia bayesiana y la probabilidad para encontrar la configuración óptima de parámetros de un sistema o función objetivo desconocida. Este enfoque es particularmente útil cuando la evaluación de la función objetivo es costosa o requiere mucho tiempo.\n",
    "\n",
    "La idea fundamental detrás de la optimización bayesiana es construir un modelo probabilístico de la función objetivo y utilizar este modelo para guiar la búsqueda de la configuración óptima de los parámetros. A medida que se evalúan diferentes configuraciones, el modelo se actualiza con la nueva información, lo que mejora gradualmente la calidad de las predicciones y la búsqueda de la configuración óptima."
   ]
  },
  {
   "cell_type": "code",
   "execution_count": 24,
   "id": "7f8185da-a3c8-49ed-8547-1e136913558e",
   "metadata": {},
   "outputs": [],
   "source": [
    "#tuned_best_model=tune_model(best_model,search_library=\"scikit-optimize\",return_train_score=True,\n",
    "#                          fold=3,choose_better=True,optimize=\"AUC\",n_iter=2)"
   ]
  },
  {
   "cell_type": "code",
   "execution_count": 25,
   "id": "b0f12feb-376b-4579-9577-d41c57ecd8a1",
   "metadata": {},
   "outputs": [],
   "source": [
    "#tuned_best_model"
   ]
  },
  {
   "cell_type": "code",
   "execution_count": 26,
   "id": "a6938226-7f4d-416a-bb1f-942e56653296",
   "metadata": {},
   "outputs": [],
   "source": [
    "#plot_model(tuned_best_model,plot=\"learning\")"
   ]
  },
  {
   "cell_type": "markdown",
   "id": "c5855ccf-9c60-4a57-9515-0f32b7d76da2",
   "metadata": {},
   "source": [
    "**Entrenamos de forma independiente**"
   ]
  },
  {
   "cell_type": "code",
   "execution_count": 27,
   "id": "ec0c3550-25bc-41f9-97fd-730bbbf1e31a",
   "metadata": {},
   "outputs": [],
   "source": [
    "from sklearn.ensemble import GradientBoostingClassifier"
   ]
  },
  {
   "cell_type": "code",
   "execution_count": 28,
   "id": "57ddf998-5e93-4f7b-a7c9-62fd33c0a537",
   "metadata": {},
   "outputs": [],
   "source": [
    "ModeloFinal=GradientBoostingClassifier(ccp_alpha=0.0, criterion='friedman_mse', init=None,\n",
    "                           learning_rate=0.1, loss='log_loss', max_depth=3,\n",
    "                           max_features=None, max_leaf_nodes=None,\n",
    "                           min_impurity_decrease=0.0, min_samples_leaf=1,\n",
    "                           min_samples_split=2, min_weight_fraction_leaf=0.0,\n",
    "                           n_estimators=100, n_iter_no_change=None,\n",
    "                           random_state=123, subsample=1.0, tol=0.0001,\n",
    "                           validation_fraction=0.1, verbose=0,\n",
    "                           warm_start=False)"
   ]
  },
  {
   "cell_type": "code",
   "execution_count": 29,
   "id": "db2d9d4f-27b5-4868-bb6e-1fdf99a13272",
   "metadata": {},
   "outputs": [
    {
     "data": {
      "text/html": [
       "<style>#sk-container-id-1 {color: black;background-color: white;}#sk-container-id-1 pre{padding: 0;}#sk-container-id-1 div.sk-toggleable {background-color: white;}#sk-container-id-1 label.sk-toggleable__label {cursor: pointer;display: block;width: 100%;margin-bottom: 0;padding: 0.3em;box-sizing: border-box;text-align: center;}#sk-container-id-1 label.sk-toggleable__label-arrow:before {content: \"▸\";float: left;margin-right: 0.25em;color: #696969;}#sk-container-id-1 label.sk-toggleable__label-arrow:hover:before {color: black;}#sk-container-id-1 div.sk-estimator:hover label.sk-toggleable__label-arrow:before {color: black;}#sk-container-id-1 div.sk-toggleable__content {max-height: 0;max-width: 0;overflow: hidden;text-align: left;background-color: #f0f8ff;}#sk-container-id-1 div.sk-toggleable__content pre {margin: 0.2em;color: black;border-radius: 0.25em;background-color: #f0f8ff;}#sk-container-id-1 input.sk-toggleable__control:checked~div.sk-toggleable__content {max-height: 200px;max-width: 100%;overflow: auto;}#sk-container-id-1 input.sk-toggleable__control:checked~label.sk-toggleable__label-arrow:before {content: \"▾\";}#sk-container-id-1 div.sk-estimator input.sk-toggleable__control:checked~label.sk-toggleable__label {background-color: #d4ebff;}#sk-container-id-1 div.sk-label input.sk-toggleable__control:checked~label.sk-toggleable__label {background-color: #d4ebff;}#sk-container-id-1 input.sk-hidden--visually {border: 0;clip: rect(1px 1px 1px 1px);clip: rect(1px, 1px, 1px, 1px);height: 1px;margin: -1px;overflow: hidden;padding: 0;position: absolute;width: 1px;}#sk-container-id-1 div.sk-estimator {font-family: monospace;background-color: #f0f8ff;border: 1px dotted black;border-radius: 0.25em;box-sizing: border-box;margin-bottom: 0.5em;}#sk-container-id-1 div.sk-estimator:hover {background-color: #d4ebff;}#sk-container-id-1 div.sk-parallel-item::after {content: \"\";width: 100%;border-bottom: 1px solid gray;flex-grow: 1;}#sk-container-id-1 div.sk-label:hover label.sk-toggleable__label {background-color: #d4ebff;}#sk-container-id-1 div.sk-serial::before {content: \"\";position: absolute;border-left: 1px solid gray;box-sizing: border-box;top: 0;bottom: 0;left: 50%;z-index: 0;}#sk-container-id-1 div.sk-serial {display: flex;flex-direction: column;align-items: center;background-color: white;padding-right: 0.2em;padding-left: 0.2em;position: relative;}#sk-container-id-1 div.sk-item {position: relative;z-index: 1;}#sk-container-id-1 div.sk-parallel {display: flex;align-items: stretch;justify-content: center;background-color: white;position: relative;}#sk-container-id-1 div.sk-item::before, #sk-container-id-1 div.sk-parallel-item::before {content: \"\";position: absolute;border-left: 1px solid gray;box-sizing: border-box;top: 0;bottom: 0;left: 50%;z-index: -1;}#sk-container-id-1 div.sk-parallel-item {display: flex;flex-direction: column;z-index: 1;position: relative;background-color: white;}#sk-container-id-1 div.sk-parallel-item:first-child::after {align-self: flex-end;width: 50%;}#sk-container-id-1 div.sk-parallel-item:last-child::after {align-self: flex-start;width: 50%;}#sk-container-id-1 div.sk-parallel-item:only-child::after {width: 0;}#sk-container-id-1 div.sk-dashed-wrapped {border: 1px dashed gray;margin: 0 0.4em 0.5em 0.4em;box-sizing: border-box;padding-bottom: 0.4em;background-color: white;}#sk-container-id-1 div.sk-label label {font-family: monospace;font-weight: bold;display: inline-block;line-height: 1.2em;}#sk-container-id-1 div.sk-label-container {text-align: center;}#sk-container-id-1 div.sk-container {/* jupyter's `normalize.less` sets `[hidden] { display: none; }` but bootstrap.min.css set `[hidden] { display: none !important; }` so we also need the `!important` here to be able to override the default hidden behavior on the sphinx rendered scikit-learn.org. See: https://github.com/scikit-learn/scikit-learn/issues/21755 */display: inline-block !important;position: relative;}#sk-container-id-1 div.sk-text-repr-fallback {display: none;}</style><div id=\"sk-container-id-1\" class=\"sk-top-container\"><div class=\"sk-text-repr-fallback\"><pre>GradientBoostingClassifier(random_state=123)</pre><b>In a Jupyter environment, please rerun this cell to show the HTML representation or trust the notebook. <br />On GitHub, the HTML representation is unable to render, please try loading this page with nbviewer.org.</b></div><div class=\"sk-container\" hidden><div class=\"sk-item\"><div class=\"sk-estimator sk-toggleable\"><input class=\"sk-toggleable__control sk-hidden--visually\" id=\"sk-estimator-id-1\" type=\"checkbox\" checked><label for=\"sk-estimator-id-1\" class=\"sk-toggleable__label sk-toggleable__label-arrow\">GradientBoostingClassifier</label><div class=\"sk-toggleable__content\"><pre>GradientBoostingClassifier(random_state=123)</pre></div></div></div></div></div>"
      ],
      "text/plain": [
       "GradientBoostingClassifier(random_state=123)"
      ]
     },
     "execution_count": 29,
     "metadata": {},
     "output_type": "execute_result"
    }
   ],
   "source": [
    "ModeloFinal.fit(x_train,y_train)"
   ]
  },
  {
   "cell_type": "code",
   "execution_count": 30,
   "id": "e8a09777-5745-4b73-adac-93eb2c5eda9f",
   "metadata": {},
   "outputs": [
    {
     "name": "stdout",
     "output_type": "stream",
     "text": [
      "Accuracy: 0.8261904761904761\n",
      "Reporte :               precision    recall  f1-score   support\n",
      "\n",
      "           0       0.84      0.96      0.90     16355\n",
      "           1       0.70      0.37      0.49      4645\n",
      "\n",
      "    accuracy                           0.83     21000\n",
      "   macro avg       0.77      0.66      0.69     21000\n",
      "weighted avg       0.81      0.83      0.80     21000\n",
      "\n"
     ]
    },
    {
     "data": {
      "text/html": [
       "<div>\n",
       "<style scoped>\n",
       "    .dataframe tbody tr th:only-of-type {\n",
       "        vertical-align: middle;\n",
       "    }\n",
       "\n",
       "    .dataframe tbody tr th {\n",
       "        vertical-align: top;\n",
       "    }\n",
       "\n",
       "    .dataframe thead th {\n",
       "        text-align: right;\n",
       "    }\n",
       "</style>\n",
       "<table border=\"1\" class=\"dataframe\">\n",
       "  <thead>\n",
       "    <tr style=\"text-align: right;\">\n",
       "      <th>Predicciones</th>\n",
       "      <th>0</th>\n",
       "      <th>1</th>\n",
       "      <th>All</th>\n",
       "    </tr>\n",
       "    <tr>\n",
       "      <th>Realidad</th>\n",
       "      <th></th>\n",
       "      <th></th>\n",
       "      <th></th>\n",
       "    </tr>\n",
       "  </thead>\n",
       "  <tbody>\n",
       "    <tr>\n",
       "      <th>0</th>\n",
       "      <td>15624</td>\n",
       "      <td>731</td>\n",
       "      <td>16355</td>\n",
       "    </tr>\n",
       "    <tr>\n",
       "      <th>1</th>\n",
       "      <td>2919</td>\n",
       "      <td>1726</td>\n",
       "      <td>4645</td>\n",
       "    </tr>\n",
       "    <tr>\n",
       "      <th>All</th>\n",
       "      <td>18543</td>\n",
       "      <td>2457</td>\n",
       "      <td>21000</td>\n",
       "    </tr>\n",
       "  </tbody>\n",
       "</table>\n",
       "</div>"
      ],
      "text/plain": [
       "Predicciones      0     1    All\n",
       "Realidad                        \n",
       "0             15624   731  16355\n",
       "1              2919  1726   4645\n",
       "All           18543  2457  21000"
      ]
     },
     "execution_count": 30,
     "metadata": {},
     "output_type": "execute_result"
    },
    {
     "data": {
      "image/png": "[encoded data removed]",
      "text/plain": [
       "<Figure size 432x288 with 2 Axes>"
      ]
     },
     "metadata": {
      "needs_background": "light"
     },
     "output_type": "display_data"
    }
   ],
   "source": [
    "MetricasMatrizConfusion(y=y_train,Modelo=ModeloFinal,X=x_train,tipo=\"ML\")"
   ]
  },
  {
   "cell_type": "code",
   "execution_count": 31,
   "id": "c172e6bd-89f8-4e06-bdf0-01e137be60c8",
   "metadata": {},
   "outputs": [
    {
     "data": {
      "image/png": "[encoded data removed]",
      "text/plain": [
       "<Figure size 432x288 with 1 Axes>"
      ]
     },
     "metadata": {
      "needs_background": "light"
     },
     "output_type": "display_data"
    },
    {
     "data": {
      "text/plain": [
       "0.802133923749794"
      ]
     },
     "execution_count": 31,
     "metadata": {},
     "output_type": "execute_result"
    }
   ],
   "source": [
    "curva_roc(y=y_train,Modelo=ModeloFinal,X=x_train,tipo=\"ML\")"
   ]
  },
  {
   "cell_type": "code",
   "execution_count": 32,
   "id": "d363c637-d0a4-4651-a006-a265d1a59230",
   "metadata": {},
   "outputs": [
    {
     "name": "stdout",
     "output_type": "stream",
     "text": [
      "Accuracy: 0.822\n",
      "Reporte :               precision    recall  f1-score   support\n",
      "\n",
      "           0       0.84      0.95      0.89      7009\n",
      "           1       0.69      0.36      0.47      1991\n",
      "\n",
      "    accuracy                           0.82      9000\n",
      "   macro avg       0.76      0.66      0.68      9000\n",
      "weighted avg       0.81      0.82      0.80      9000\n",
      "\n"
     ]
    },
    {
     "data": {
      "text/html": [
       "<div>\n",
       "<style scoped>\n",
       "    .dataframe tbody tr th:only-of-type {\n",
       "        vertical-align: middle;\n",
       "    }\n",
       "\n",
       "    .dataframe tbody tr th {\n",
       "        vertical-align: top;\n",
       "    }\n",
       "\n",
       "    .dataframe thead th {\n",
       "        text-align: right;\n",
       "    }\n",
       "</style>\n",
       "<table border=\"1\" class=\"dataframe\">\n",
       "  <thead>\n",
       "    <tr style=\"text-align: right;\">\n",
       "      <th>Predicciones</th>\n",
       "      <th>0</th>\n",
       "      <th>1</th>\n",
       "      <th>All</th>\n",
       "    </tr>\n",
       "    <tr>\n",
       "      <th>Realidad</th>\n",
       "      <th></th>\n",
       "      <th></th>\n",
       "      <th></th>\n",
       "    </tr>\n",
       "  </thead>\n",
       "  <tbody>\n",
       "    <tr>\n",
       "      <th>0</th>\n",
       "      <td>6684</td>\n",
       "      <td>325</td>\n",
       "      <td>7009</td>\n",
       "    </tr>\n",
       "    <tr>\n",
       "      <th>1</th>\n",
       "      <td>1277</td>\n",
       "      <td>714</td>\n",
       "      <td>1991</td>\n",
       "    </tr>\n",
       "    <tr>\n",
       "      <th>All</th>\n",
       "      <td>7961</td>\n",
       "      <td>1039</td>\n",
       "      <td>9000</td>\n",
       "    </tr>\n",
       "  </tbody>\n",
       "</table>\n",
       "</div>"
      ],
      "text/plain": [
       "Predicciones     0     1   All\n",
       "Realidad                      \n",
       "0             6684   325  7009\n",
       "1             1277   714  1991\n",
       "All           7961  1039  9000"
      ]
     },
     "execution_count": 32,
     "metadata": {},
     "output_type": "execute_result"
    },
    {
     "data": {
      "image/png": "[encoded data removed]",
      "text/plain": [
       "<Figure size 432x288 with 2 Axes>"
      ]
     },
     "metadata": {
      "needs_background": "light"
     },
     "output_type": "display_data"
    }
   ],
   "source": [
    "MetricasMatrizConfusion(y=y_test,Modelo=ModeloFinal,X=x_test,tipo=\"ML\")"
   ]
  },
  {
   "cell_type": "code",
   "execution_count": 33,
   "id": "ed1dd4e0-31c7-4271-996e-1cea96076778",
   "metadata": {},
   "outputs": [
    {
     "data": {
      "image/png": "[encoded data removed]",
      "text/plain": [
       "<Figure size 432x288 with 1 Axes>"
      ]
     },
     "metadata": {
      "needs_background": "light"
     },
     "output_type": "display_data"
    },
    {
     "data": {
      "text/plain": [
       "0.7799288551943583"
      ]
     },
     "execution_count": 33,
     "metadata": {},
     "output_type": "execute_result"
    }
   ],
   "source": [
    "curva_roc(y=y_test,Modelo=ModeloFinal,X=x_test,tipo=\"ML\")"
   ]
  },
  {
   "cell_type": "markdown",
   "id": "28b9546c-0252-4639-826f-234d1ad8d01a",
   "metadata": {},
   "source": [
    "## **Aplicaciones Redes Neuronales**"
   ]
  },
  {
   "cell_type": "markdown",
   "id": "2f072e49-583b-493a-a0aa-c03cf106ca7a",
   "metadata": {},
   "source": [
    "https://www.tensorflow.org/?hl=es-419"
   ]
  },
  {
   "cell_type": "code",
   "execution_count": 34,
   "id": "e4c80a2c-c5cf-4546-aafc-8927de670ce8",
   "metadata": {},
   "outputs": [],
   "source": [
    "import tensorflow as tf\n",
    "from tensorflow.keras.models import Sequential\n",
    "from tensorflow.keras.layers import Dense,Dropout\n",
    "from tensorflow.keras.optimizers import Adam\n",
    "from sklearn.preprocessing import LabelEncoder, StandardScaler"
   ]
  },
  {
   "cell_type": "code",
   "execution_count": 35,
   "id": "5d78af4a-b507-4f60-baf5-c75581da8c05",
   "metadata": {},
   "outputs": [],
   "source": [
    "## codificacoón de etiquetas\n",
    "encoder= LabelEncoder()"
   ]
  },
  {
   "cell_type": "code",
   "execution_count": 36,
   "id": "c193a9fd-0b2d-4f11-9a9e-0ec3df0701bb",
   "metadata": {},
   "outputs": [],
   "source": [
    "y_test=encoder.fit_transform(y_test)\n",
    "y_train=encoder.fit_transform(y_train)"
   ]
  },
  {
   "cell_type": "markdown",
   "id": "4681fd7f-57f2-4037-a261-2e67166fa882",
   "metadata": {},
   "source": [
    "**La capa de Dropout**\n",
    "\n",
    "Es una técnica de regularización utilizada en modelos de redes neuronales para prevenir el sobreajuste (overfitting). El sobreajuste ocurre cuando un modelo se adapta demasiado a los datos de entrenamiento y no generaliza bien a nuevos datos. La capa de Dropout aborda este problema apagando aleatoriamente un conjunto fraccionario de unidades de la red durante el entrenamiento, lo que significa que estas unidades no contribuirán a la propagación hacia adelante ni a la propagación hacia atrás durante una iteración específica del entrenamiento.\n"
   ]
  },
  {
   "cell_type": "code",
   "execution_count": 37,
   "id": "395a4e02-7800-42e6-972b-76adb29cf6f7",
   "metadata": {},
   "outputs": [
    {
     "data": {
      "text/plain": [
       "63"
      ]
     },
     "execution_count": 37,
     "metadata": {},
     "output_type": "execute_result"
    }
   ],
   "source": [
    "x_train.shape[1]"
   ]
  },
  {
   "cell_type": "code",
   "execution_count": 38,
   "id": "c84a3520-3730-4a06-91b6-01d9df1c739e",
   "metadata": {},
   "outputs": [
    {
     "name": "stderr",
     "output_type": "stream",
     "text": [
      "2023-11-29 20:01:18.545214: I tensorflow/core/platform/cpu_feature_guard.cc:193] This TensorFlow binary is optimized with oneAPI Deep Neural Network Library (oneDNN) to use the following CPU instructions in performance-critical operations:  AVX2 FMA\n",
      "To enable them in other operations, rebuild TensorFlow with the appropriate compiler flags.\n"
     ]
    }
   ],
   "source": [
    "## Definir el Modelo\n",
    "model=Sequential()\n",
    "model.add(Dense(63,input_dim=x_train.shape[1],activation=\"relu\")) ## Capa de Entrada\n",
    "model.add(Dropout(0.2)) # Capa de Dropout\n",
    "## Capa Oculta 1\n",
    "model.add(Dense(30,activation=\"relu\")) \n",
    "model.add(Dropout(0.2)) # Capa de Dropout\n",
    "model.add(Dense(15,activation=\"relu\")) \n",
    "model.add(Dropout(0.2)) # Capa de Dropout\n",
    "model.add(Dense(8,activation=\"relu\")) \n",
    "model.add(Dropout(0.2)) # Capa de Dropout\n",
    "model.add(Dense(4,activation=\"relu\")) \n",
    "model.add(Dropout(0.2)) # Capa de Dropout\n",
    "## Capa Oculta 1\n",
    "model.add(Dense(2,activation=\"relu\")) \n",
    "model.add(Dropout(0.2)) # Capa de Dropout\n",
    "## Capa Salida\n",
    "model.add(Dense(1,activation=\"sigmoid\"))"
   ]
  },
  {
   "attachments": {
    "43410fbf-8a66-440a-ae5d-d0cc5fc61b9c.png": {
     "image/png": "[encoded data removed]"
    },
    "5a9c0a3c-588a-467b-8931-b0f42e345b74.png": {
     "image/png": "[encoded data removed]"
    }
   },
   "cell_type": "markdown",
   "id": "edd0149e-e253-421d-bd03-70ce4ffc5623",
   "metadata": {},
   "source": [
    "![image.png](attachment:5a9c0a3c-588a-467b-8931-b0f42e345b74.png)![image.png](attachment:43410fbf-8a66-440a-ae5d-d0cc5fc61b9c.png)"
   ]
  },
  {
   "cell_type": "code",
   "execution_count": 39,
   "id": "7beb43f5-9a33-4124-988e-69f462f5da0e",
   "metadata": {},
   "outputs": [],
   "source": [
    "## Compilar el modelo\n",
    "model.compile(loss='binary_crossentropy',optimizer=Adam(lr=0.01),metrics=[\"AUC\"])"
   ]
  },
  {
   "cell_type": "code",
   "execution_count": 40,
   "id": "b3952d0a-07d0-45e7-ae6b-17ca7fa15b7c",
   "metadata": {},
   "outputs": [
    {
     "name": "stdout",
     "output_type": "stream",
     "text": [
      "Epoch 1/100\n",
      "525/525 [==============================] - 2s 2ms/step - loss: 0.5434 - auc: 0.5023 - val_loss: 0.5299 - val_auc: 0.5000\n",
      "Epoch 2/100\n",
      "525/525 [==============================] - 1s 1ms/step - loss: 0.5282 - auc: 0.4920 - val_loss: 0.5300 - val_auc: 0.5000\n",
      "Epoch 3/100\n",
      "525/525 [==============================] - 1s 1ms/step - loss: 0.5282 - auc: 0.5000 - val_loss: 0.5309 - val_auc: 0.5000\n",
      "Epoch 4/100\n",
      "525/525 [==============================] - 1s 1ms/step - loss: 0.5283 - auc: 0.4976 - val_loss: 0.5299 - val_auc: 0.5000\n",
      "Epoch 5/100\n",
      "525/525 [==============================] - 1s 1ms/step - loss: 0.5282 - auc: 0.4986 - val_loss: 0.5299 - val_auc: 0.5000\n",
      "Epoch 6/100\n",
      "525/525 [==============================] - 1s 1ms/step - loss: 0.5283 - auc: 0.4953 - val_loss: 0.5301 - val_auc: 0.5000\n",
      "Epoch 7/100\n",
      "525/525 [==============================] - 1s 1ms/step - loss: 0.5282 - auc: 0.5010 - val_loss: 0.5300 - val_auc: 0.5000\n",
      "Epoch 8/100\n",
      "525/525 [==============================] - 1s 1ms/step - loss: 0.5283 - auc: 0.4930 - val_loss: 0.5299 - val_auc: 0.5000\n",
      "Epoch 9/100\n",
      "525/525 [==============================] - 1s 2ms/step - loss: 0.5283 - auc: 0.4922 - val_loss: 0.5299 - val_auc: 0.5000\n",
      "Epoch 10/100\n",
      "525/525 [==============================] - 1s 2ms/step - loss: 0.5281 - auc: 0.5016 - val_loss: 0.5303 - val_auc: 0.5000\n",
      "Epoch 11/100\n",
      "525/525 [==============================] - 1s 1ms/step - loss: 0.5282 - auc: 0.5031 - val_loss: 0.5299 - val_auc: 0.5000\n",
      "Epoch 12/100\n",
      "525/525 [==============================] - 1s 1ms/step - loss: 0.5282 - auc: 0.5017 - val_loss: 0.5300 - val_auc: 0.5000\n",
      "Epoch 13/100\n",
      "525/525 [==============================] - 1s 2ms/step - loss: 0.5282 - auc: 0.5007 - val_loss: 0.5301 - val_auc: 0.5000\n",
      "Epoch 14/100\n",
      "525/525 [==============================] - 1s 1ms/step - loss: 0.5283 - auc: 0.4969 - val_loss: 0.5299 - val_auc: 0.5000\n",
      "Epoch 15/100\n",
      "525/525 [==============================] - 1s 1ms/step - loss: 0.5283 - auc: 0.4903 - val_loss: 0.5300 - val_auc: 0.5000\n",
      "Epoch 16/100\n",
      "525/525 [==============================] - 1s 1ms/step - loss: 0.5283 - auc: 0.4980 - val_loss: 0.5300 - val_auc: 0.5000\n",
      "Epoch 17/100\n",
      "525/525 [==============================] - 1s 1ms/step - loss: 0.5283 - auc: 0.4957 - val_loss: 0.5299 - val_auc: 0.5000\n",
      "Epoch 18/100\n",
      "525/525 [==============================] - 1s 1ms/step - loss: 0.5282 - auc: 0.4991 - val_loss: 0.5300 - val_auc: 0.5000\n",
      "Epoch 19/100\n",
      "525/525 [==============================] - 1s 1ms/step - loss: 0.5283 - auc: 0.4981 - val_loss: 0.5299 - val_auc: 0.5000\n",
      "Epoch 20/100\n",
      "525/525 [==============================] - 1s 1ms/step - loss: 0.5282 - auc: 0.4958 - val_loss: 0.5301 - val_auc: 0.5000\n",
      "Epoch 21/100\n",
      "525/525 [==============================] - 1s 1ms/step - loss: 0.5282 - auc: 0.4984 - val_loss: 0.5302 - val_auc: 0.5000\n",
      "Epoch 22/100\n",
      "525/525 [==============================] - 1s 1ms/step - loss: 0.5283 - auc: 0.4998 - val_loss: 0.5300 - val_auc: 0.5000\n",
      "Epoch 23/100\n",
      "525/525 [==============================] - 1s 1ms/step - loss: 0.5283 - auc: 0.4879 - val_loss: 0.5307 - val_auc: 0.5000\n",
      "Epoch 24/100\n",
      "525/525 [==============================] - 1s 1ms/step - loss: 0.5283 - auc: 0.4937 - val_loss: 0.5299 - val_auc: 0.5000\n",
      "Epoch 25/100\n",
      "525/525 [==============================] - 1s 1ms/step - loss: 0.5281 - auc: 0.5058 - val_loss: 0.5299 - val_auc: 0.5000\n",
      "Epoch 26/100\n",
      "525/525 [==============================] - 1s 1ms/step - loss: 0.5283 - auc: 0.4935 - val_loss: 0.5299 - val_auc: 0.5000\n",
      "Epoch 27/100\n",
      "525/525 [==============================] - 1s 1ms/step - loss: 0.5282 - auc: 0.4943 - val_loss: 0.5299 - val_auc: 0.5000\n",
      "Epoch 28/100\n",
      "525/525 [==============================] - 1s 1ms/step - loss: 0.5281 - auc: 0.5071 - val_loss: 0.5301 - val_auc: 0.5000\n",
      "Epoch 29/100\n",
      "525/525 [==============================] - 1s 1ms/step - loss: 0.5282 - auc: 0.4989 - val_loss: 0.5300 - val_auc: 0.5000\n",
      "Epoch 30/100\n",
      "525/525 [==============================] - 1s 1ms/step - loss: 0.5282 - auc: 0.4950 - val_loss: 0.5299 - val_auc: 0.5000\n",
      "Epoch 31/100\n",
      "525/525 [==============================] - 1s 1ms/step - loss: 0.5283 - auc: 0.4884 - val_loss: 0.5299 - val_auc: 0.5000\n",
      "Epoch 32/100\n",
      "525/525 [==============================] - 1s 1ms/step - loss: 0.5283 - auc: 0.4956 - val_loss: 0.5305 - val_auc: 0.5000\n",
      "Epoch 33/100\n",
      "525/525 [==============================] - 1s 1ms/step - loss: 0.5281 - auc: 0.5040 - val_loss: 0.5314 - val_auc: 0.5000\n",
      "Epoch 34/100\n",
      "525/525 [==============================] - 1s 1ms/step - loss: 0.5285 - auc: 0.4868 - val_loss: 0.5299 - val_auc: 0.5000\n",
      "Epoch 35/100\n",
      "525/525 [==============================] - 1s 1ms/step - loss: 0.5282 - auc: 0.4962 - val_loss: 0.5299 - val_auc: 0.5000\n",
      "Epoch 36/100\n",
      "525/525 [==============================] - 1s 1ms/step - loss: 0.5282 - auc: 0.4909 - val_loss: 0.5299 - val_auc: 0.5000\n",
      "Epoch 37/100\n",
      "525/525 [==============================] - 1s 1ms/step - loss: 0.5283 - auc: 0.4932 - val_loss: 0.5300 - val_auc: 0.5000\n",
      "Epoch 38/100\n",
      "525/525 [==============================] - 1s 1ms/step - loss: 0.5282 - auc: 0.4992 - val_loss: 0.5299 - val_auc: 0.5000\n",
      "Epoch 39/100\n",
      "525/525 [==============================] - 1s 1ms/step - loss: 0.5281 - auc: 0.5066 - val_loss: 0.5299 - val_auc: 0.5000\n",
      "Epoch 40/100\n",
      "525/525 [==============================] - 1s 1ms/step - loss: 0.5283 - auc: 0.4969 - val_loss: 0.5304 - val_auc: 0.5000\n",
      "Epoch 41/100\n",
      "525/525 [==============================] - 1s 1ms/step - loss: 0.5283 - auc: 0.4961 - val_loss: 0.5299 - val_auc: 0.5000\n",
      "Epoch 42/100\n",
      "525/525 [==============================] - 1s 1ms/step - loss: 0.5282 - auc: 0.4969 - val_loss: 0.5299 - val_auc: 0.5000\n",
      "Epoch 43/100\n",
      "525/525 [==============================] - 1s 1ms/step - loss: 0.5282 - auc: 0.5003 - val_loss: 0.5299 - val_auc: 0.5000\n",
      "Epoch 44/100\n",
      "525/525 [==============================] - 1s 1ms/step - loss: 0.5282 - auc: 0.4977 - val_loss: 0.5308 - val_auc: 0.5000\n",
      "Epoch 45/100\n",
      "525/525 [==============================] - 1s 1ms/step - loss: 0.5283 - auc: 0.4976 - val_loss: 0.5300 - val_auc: 0.5000\n",
      "Epoch 46/100\n",
      "525/525 [==============================] - 1s 1ms/step - loss: 0.5281 - auc: 0.5048 - val_loss: 0.5301 - val_auc: 0.5000\n",
      "Epoch 47/100\n",
      "525/525 [==============================] - 1s 1ms/step - loss: 0.5284 - auc: 0.4939 - val_loss: 0.5300 - val_auc: 0.5000\n",
      "Epoch 48/100\n",
      "525/525 [==============================] - 1s 1ms/step - loss: 0.5282 - auc: 0.4992 - val_loss: 0.5299 - val_auc: 0.5000\n",
      "Epoch 49/100\n",
      "525/525 [==============================] - 1s 1ms/step - loss: 0.5283 - auc: 0.4961 - val_loss: 0.5304 - val_auc: 0.5000\n",
      "Epoch 50/100\n",
      "525/525 [==============================] - 1s 1ms/step - loss: 0.5284 - auc: 0.4902 - val_loss: 0.5299 - val_auc: 0.5000\n",
      "Epoch 51/100\n",
      "525/525 [==============================] - 1s 1ms/step - loss: 0.5283 - auc: 0.4999 - val_loss: 0.5299 - val_auc: 0.5000\n",
      "Epoch 52/100\n",
      "525/525 [==============================] - 1s 1ms/step - loss: 0.5282 - auc: 0.4968 - val_loss: 0.5300 - val_auc: 0.5000\n",
      "Epoch 53/100\n",
      "525/525 [==============================] - 1s 1ms/step - loss: 0.5281 - auc: 0.4960 - val_loss: 0.5304 - val_auc: 0.5000\n",
      "Epoch 54/100\n",
      "525/525 [==============================] - 1s 1ms/step - loss: 0.5283 - auc: 0.4905 - val_loss: 0.5299 - val_auc: 0.5000\n",
      "Epoch 55/100\n",
      "525/525 [==============================] - 1s 1ms/step - loss: 0.5283 - auc: 0.4948 - val_loss: 0.5299 - val_auc: 0.5000\n",
      "Epoch 56/100\n",
      "525/525 [==============================] - 1s 1ms/step - loss: 0.5282 - auc: 0.5044 - val_loss: 0.5308 - val_auc: 0.5000\n",
      "Epoch 57/100\n",
      "525/525 [==============================] - 1s 1ms/step - loss: 0.5283 - auc: 0.4946 - val_loss: 0.5300 - val_auc: 0.5000\n",
      "Epoch 58/100\n",
      "525/525 [==============================] - 1s 1ms/step - loss: 0.5283 - auc: 0.4955 - val_loss: 0.5301 - val_auc: 0.5000\n",
      "Epoch 59/100\n",
      "525/525 [==============================] - 1s 1ms/step - loss: 0.5283 - auc: 0.4883 - val_loss: 0.5299 - val_auc: 0.5000\n",
      "Epoch 60/100\n",
      "525/525 [==============================] - 1s 1ms/step - loss: 0.5282 - auc: 0.5022 - val_loss: 0.5299 - val_auc: 0.5000\n",
      "Epoch 61/100\n",
      "525/525 [==============================] - 1s 1ms/step - loss: 0.5283 - auc: 0.4887 - val_loss: 0.5299 - val_auc: 0.5000\n",
      "Epoch 62/100\n",
      "525/525 [==============================] - 1s 1ms/step - loss: 0.5282 - auc: 0.5011 - val_loss: 0.5299 - val_auc: 0.5000\n",
      "Epoch 63/100\n",
      "525/525 [==============================] - 1s 1ms/step - loss: 0.5282 - auc: 0.4955 - val_loss: 0.5301 - val_auc: 0.5000\n",
      "Epoch 64/100\n",
      "525/525 [==============================] - 1s 1ms/step - loss: 0.5283 - auc: 0.4964 - val_loss: 0.5299 - val_auc: 0.5000\n",
      "Epoch 65/100\n",
      "525/525 [==============================] - 1s 1ms/step - loss: 0.5283 - auc: 0.4955 - val_loss: 0.5299 - val_auc: 0.5000\n",
      "Epoch 66/100\n",
      "525/525 [==============================] - 1s 1ms/step - loss: 0.5282 - auc: 0.4974 - val_loss: 0.5299 - val_auc: 0.5000\n",
      "Epoch 67/100\n",
      "525/525 [==============================] - 1s 1ms/step - loss: 0.5282 - auc: 0.4984 - val_loss: 0.5300 - val_auc: 0.5000\n",
      "Epoch 68/100\n",
      "525/525 [==============================] - 1s 1ms/step - loss: 0.5284 - auc: 0.4879 - val_loss: 0.5300 - val_auc: 0.5000\n",
      "Epoch 69/100\n",
      "525/525 [==============================] - 1s 1ms/step - loss: 0.5282 - auc: 0.4940 - val_loss: 0.5300 - val_auc: 0.5000\n",
      "Epoch 70/100\n",
      "525/525 [==============================] - 1s 1ms/step - loss: 0.5282 - auc: 0.4975 - val_loss: 0.5300 - val_auc: 0.5000\n",
      "Epoch 71/100\n",
      "525/525 [==============================] - 1s 1ms/step - loss: 0.5282 - auc: 0.4953 - val_loss: 0.5299 - val_auc: 0.5000\n",
      "Epoch 72/100\n",
      "525/525 [==============================] - 1s 1ms/step - loss: 0.5282 - auc: 0.4975 - val_loss: 0.5299 - val_auc: 0.5000\n",
      "Epoch 73/100\n",
      "525/525 [==============================] - 1s 1ms/step - loss: 0.5281 - auc: 0.5034 - val_loss: 0.5300 - val_auc: 0.5000\n",
      "Epoch 74/100\n",
      "525/525 [==============================] - 1s 1ms/step - loss: 0.5282 - auc: 0.5020 - val_loss: 0.5304 - val_auc: 0.5000\n",
      "Epoch 75/100\n",
      "525/525 [==============================] - 1s 1ms/step - loss: 0.5282 - auc: 0.4995 - val_loss: 0.5302 - val_auc: 0.5000\n",
      "Epoch 76/100\n",
      "525/525 [==============================] - 1s 1ms/step - loss: 0.5284 - auc: 0.4907 - val_loss: 0.5299 - val_auc: 0.5000\n",
      "Epoch 77/100\n",
      "525/525 [==============================] - 1s 1ms/step - loss: 0.5281 - auc: 0.5016 - val_loss: 0.5303 - val_auc: 0.5000\n",
      "Epoch 78/100\n",
      "525/525 [==============================] - 1s 1ms/step - loss: 0.5282 - auc: 0.4974 - val_loss: 0.5299 - val_auc: 0.5000\n",
      "Epoch 79/100\n",
      "525/525 [==============================] - 1s 1ms/step - loss: 0.5282 - auc: 0.4978 - val_loss: 0.5300 - val_auc: 0.5000\n",
      "Epoch 80/100\n",
      "525/525 [==============================] - 1s 1ms/step - loss: 0.5283 - auc: 0.4961 - val_loss: 0.5299 - val_auc: 0.5000\n",
      "Epoch 81/100\n",
      "525/525 [==============================] - 1s 1ms/step - loss: 0.5283 - auc: 0.4919 - val_loss: 0.5299 - val_auc: 0.5000\n",
      "Epoch 82/100\n",
      "525/525 [==============================] - 1s 1ms/step - loss: 0.5283 - auc: 0.4970 - val_loss: 0.5299 - val_auc: 0.5000\n",
      "Epoch 83/100\n",
      "525/525 [==============================] - 1s 1ms/step - loss: 0.5283 - auc: 0.4921 - val_loss: 0.5299 - val_auc: 0.5000\n",
      "Epoch 84/100\n",
      "525/525 [==============================] - 1s 1ms/step - loss: 0.5283 - auc: 0.4940 - val_loss: 0.5302 - val_auc: 0.5000\n",
      "Epoch 85/100\n",
      "525/525 [==============================] - 1s 1ms/step - loss: 0.5283 - auc: 0.4929 - val_loss: 0.5300 - val_auc: 0.5000\n",
      "Epoch 86/100\n",
      "525/525 [==============================] - 1s 1ms/step - loss: 0.5283 - auc: 0.4913 - val_loss: 0.5299 - val_auc: 0.5000\n",
      "Epoch 87/100\n",
      "525/525 [==============================] - 1s 1ms/step - loss: 0.5283 - auc: 0.4925 - val_loss: 0.5299 - val_auc: 0.5000\n",
      "Epoch 88/100\n",
      "525/525 [==============================] - 1s 1ms/step - loss: 0.5281 - auc: 0.5027 - val_loss: 0.5301 - val_auc: 0.5000\n",
      "Epoch 89/100\n",
      "525/525 [==============================] - 1s 1ms/step - loss: 0.5283 - auc: 0.4984 - val_loss: 0.5303 - val_auc: 0.5000\n",
      "Epoch 90/100\n",
      "525/525 [==============================] - 1s 1ms/step - loss: 0.5282 - auc: 0.5005 - val_loss: 0.5301 - val_auc: 0.5000\n",
      "Epoch 91/100\n",
      "525/525 [==============================] - 1s 1ms/step - loss: 0.5283 - auc: 0.4978 - val_loss: 0.5300 - val_auc: 0.5000\n",
      "Epoch 92/100\n",
      "525/525 [==============================] - 1s 1ms/step - loss: 0.5282 - auc: 0.4976 - val_loss: 0.5302 - val_auc: 0.5000\n",
      "Epoch 93/100\n",
      "525/525 [==============================] - 1s 2ms/step - loss: 0.5284 - auc: 0.4895 - val_loss: 0.5299 - val_auc: 0.5000\n",
      "Epoch 94/100\n",
      "525/525 [==============================] - 1s 1ms/step - loss: 0.5283 - auc: 0.4888 - val_loss: 0.5299 - val_auc: 0.5000\n",
      "Epoch 95/100\n",
      "525/525 [==============================] - 1s 1ms/step - loss: 0.5283 - auc: 0.4947 - val_loss: 0.5300 - val_auc: 0.5000\n",
      "Epoch 96/100\n",
      "525/525 [==============================] - 1s 1ms/step - loss: 0.5282 - auc: 0.4981 - val_loss: 0.5301 - val_auc: 0.5000\n",
      "Epoch 97/100\n",
      "525/525 [==============================] - 1s 1ms/step - loss: 0.5284 - auc: 0.4901 - val_loss: 0.5300 - val_auc: 0.5000\n",
      "Epoch 98/100\n",
      "525/525 [==============================] - 1s 1ms/step - loss: 0.5282 - auc: 0.4969 - val_loss: 0.5299 - val_auc: 0.5000\n",
      "Epoch 99/100\n",
      "525/525 [==============================] - 1s 1ms/step - loss: 0.5283 - auc: 0.4969 - val_loss: 0.5299 - val_auc: 0.5000\n",
      "Epoch 100/100\n",
      "525/525 [==============================] - 1s 1ms/step - loss: 0.5283 - auc: 0.4951 - val_loss: 0.5300 - val_auc: 0.5000\n"
     ]
    },
    {
     "data": {
      "text/plain": [
       "<keras.callbacks.History at 0x7fd5fbbe39d0>"
      ]
     },
     "execution_count": 40,
     "metadata": {},
     "output_type": "execute_result"
    }
   ],
   "source": [
    "## Entrenamiento\n",
    "model.fit(x_train,y_train,validation_split=0.2,epochs=100)"
   ]
  },
  {
   "cell_type": "code",
   "execution_count": 41,
   "id": "9a20aa75-2e4a-44b8-8631-917f59c3728e",
   "metadata": {},
   "outputs": [],
   "source": [
    "from tensorflow.keras.utils import plot_model\n",
    "#conda install -c conda-forge pydot"
   ]
  },
  {
   "cell_type": "code",
   "execution_count": 42,
   "id": "7fab565f-4d33-4b8d-954c-27d14eff44b4",
   "metadata": {},
   "outputs": [],
   "source": [
    "#plot_model(model, to_file='model_plot.png', show_shapes=True, show_layer_names=True)"
   ]
  },
  {
   "cell_type": "code",
   "execution_count": 43,
   "id": "1071d5b7-b68a-4350-bab9-76900a159db1",
   "metadata": {},
   "outputs": [
    {
     "name": "stdout",
     "output_type": "stream",
     "text": [
      "282/282 [==============================] - 0s 622us/step\n"
     ]
    }
   ],
   "source": [
    "probabilidades=model.predict(x_test)"
   ]
  },
  {
   "cell_type": "code",
   "execution_count": 44,
   "id": "3de38875-87cd-4248-bbec-fe8d0252f94b",
   "metadata": {},
   "outputs": [
    {
     "data": {
      "text/plain": [
       "array([[0.22650097],\n",
       "       [0.22650097],\n",
       "       [0.22650097],\n",
       "       ...,\n",
       "       [0.22650097],\n",
       "       [0.22650097],\n",
       "       [0.22650097]], dtype=float32)"
      ]
     },
     "execution_count": 44,
     "metadata": {},
     "output_type": "execute_result"
    }
   ],
   "source": [
    "probabilidades"
   ]
  },
  {
   "cell_type": "code",
   "execution_count": 45,
   "id": "7aa0d6c1-7019-4534-abe8-76adbc9221a7",
   "metadata": {},
   "outputs": [
    {
     "data": {
      "text/plain": [
       "array([[0],\n",
       "       [0],\n",
       "       [0],\n",
       "       ...,\n",
       "       [0],\n",
       "       [0],\n",
       "       [0]])"
      ]
     },
     "execution_count": 45,
     "metadata": {},
     "output_type": "execute_result"
    }
   ],
   "source": [
    "## Clasifcacion\n",
    "Predicciones=np.where(probabilidades<0.5,0,1)\n",
    "Predicciones"
   ]
  },
  {
   "cell_type": "code",
   "execution_count": 46,
   "id": "e920c975-77f2-4ab5-8c8d-3ea783a31cbf",
   "metadata": {},
   "outputs": [
    {
     "name": "stdout",
     "output_type": "stream",
     "text": [
      "              precision    recall  f1-score   support\n",
      "\n",
      "           0       0.78      1.00      0.88      7009\n",
      "           1       0.00      0.00      0.00      1991\n",
      "\n",
      "    accuracy                           0.78      9000\n",
      "   macro avg       0.39      0.50      0.44      9000\n",
      "weighted avg       0.61      0.78      0.68      9000\n",
      "\n"
     ]
    }
   ],
   "source": [
    "Reporte=metrics.classification_report(y_test,Predicciones)\n",
    "print(Reporte)"
   ]
  },
  {
   "cell_type": "code",
   "execution_count": 47,
   "id": "49718a46-7631-4dba-806f-83a3d7ee0c64",
   "metadata": {},
   "outputs": [
    {
     "name": "stdout",
     "output_type": "stream",
     "text": [
      "0.5\n"
     ]
    },
    {
     "data": {
      "image/png": "[encoded data removed]",
      "text/plain": [
       "<Figure size 432x288 with 1 Axes>"
      ]
     },
     "metadata": {
      "needs_background": "light"
     },
     "output_type": "display_data"
    }
   ],
   "source": [
    "fpr, tpr, thresholds = roc_curve(y_test, probabilidades[:,0])\n",
    "AUC_RN=round(roc_auc_score(y_test,  probabilidades[:,0]),2)\n",
    "print(AUC_RN)\n",
    "random_probs = [0 for i in range(len(y_test))]\n",
    "p_fpr, p_tpr, _ = roc_curve(y_test, random_probs, pos_label=1)\n",
    "plt.plot(fpr,tpr,linestyle=\"--\",color=\"green\",label=\"Decision Tree, AUC=\"+str(AUC_RN))\n",
    "plt.plot(p_fpr, p_tpr, linestyle='--', color='blue')\n",
    "plt.title(\"CURVA ROC\")\n",
    "plt.xlabel(\"Tasa Falsos Positivos\")\n",
    "plt.ylabel(\"Tasa Verdaderos Positivos\")\n",
    "plt.legend()\n",
    "plt.show()"
   ]
  },
  {
   "cell_type": "markdown",
   "id": "3c8500f1-dade-4d03-8745-7d1984643e4c",
   "metadata": {},
   "source": [
    "## **Presentación Empresa**"
   ]
  },
  {
   "cell_type": "code",
   "execution_count": 48,
   "id": "fb37bd76-76ea-4351-962e-f4ef05794ade",
   "metadata": {},
   "outputs": [
    {
     "data": {
      "text/html": [
       "<style>#sk-container-id-2 {color: black;background-color: white;}#sk-container-id-2 pre{padding: 0;}#sk-container-id-2 div.sk-toggleable {background-color: white;}#sk-container-id-2 label.sk-toggleable__label {cursor: pointer;display: block;width: 100%;margin-bottom: 0;padding: 0.3em;box-sizing: border-box;text-align: center;}#sk-container-id-2 label.sk-toggleable__label-arrow:before {content: \"▸\";float: left;margin-right: 0.25em;color: #696969;}#sk-container-id-2 label.sk-toggleable__label-arrow:hover:before {color: black;}#sk-container-id-2 div.sk-estimator:hover label.sk-toggleable__label-arrow:before {color: black;}#sk-container-id-2 div.sk-toggleable__content {max-height: 0;max-width: 0;overflow: hidden;text-align: left;background-color: #f0f8ff;}#sk-container-id-2 div.sk-toggleable__content pre {margin: 0.2em;color: black;border-radius: 0.25em;background-color: #f0f8ff;}#sk-container-id-2 input.sk-toggleable__control:checked~div.sk-toggleable__content {max-height: 200px;max-width: 100%;overflow: auto;}#sk-container-id-2 input.sk-toggleable__control:checked~label.sk-toggleable__label-arrow:before {content: \"▾\";}#sk-container-id-2 div.sk-estimator input.sk-toggleable__control:checked~label.sk-toggleable__label {background-color: #d4ebff;}#sk-container-id-2 div.sk-label input.sk-toggleable__control:checked~label.sk-toggleable__label {background-color: #d4ebff;}#sk-container-id-2 input.sk-hidden--visually {border: 0;clip: rect(1px 1px 1px 1px);clip: rect(1px, 1px, 1px, 1px);height: 1px;margin: -1px;overflow: hidden;padding: 0;position: absolute;width: 1px;}#sk-container-id-2 div.sk-estimator {font-family: monospace;background-color: #f0f8ff;border: 1px dotted black;border-radius: 0.25em;box-sizing: border-box;margin-bottom: 0.5em;}#sk-container-id-2 div.sk-estimator:hover {background-color: #d4ebff;}#sk-container-id-2 div.sk-parallel-item::after {content: \"\";width: 100%;border-bottom: 1px solid gray;flex-grow: 1;}#sk-container-id-2 div.sk-label:hover label.sk-toggleable__label {background-color: #d4ebff;}#sk-container-id-2 div.sk-serial::before {content: \"\";position: absolute;border-left: 1px solid gray;box-sizing: border-box;top: 0;bottom: 0;left: 50%;z-index: 0;}#sk-container-id-2 div.sk-serial {display: flex;flex-direction: column;align-items: center;background-color: white;padding-right: 0.2em;padding-left: 0.2em;position: relative;}#sk-container-id-2 div.sk-item {position: relative;z-index: 1;}#sk-container-id-2 div.sk-parallel {display: flex;align-items: stretch;justify-content: center;background-color: white;position: relative;}#sk-container-id-2 div.sk-item::before, #sk-container-id-2 div.sk-parallel-item::before {content: \"\";position: absolute;border-left: 1px solid gray;box-sizing: border-box;top: 0;bottom: 0;left: 50%;z-index: -1;}#sk-container-id-2 div.sk-parallel-item {display: flex;flex-direction: column;z-index: 1;position: relative;background-color: white;}#sk-container-id-2 div.sk-parallel-item:first-child::after {align-self: flex-end;width: 50%;}#sk-container-id-2 div.sk-parallel-item:last-child::after {align-self: flex-start;width: 50%;}#sk-container-id-2 div.sk-parallel-item:only-child::after {width: 0;}#sk-container-id-2 div.sk-dashed-wrapped {border: 1px dashed gray;margin: 0 0.4em 0.5em 0.4em;box-sizing: border-box;padding-bottom: 0.4em;background-color: white;}#sk-container-id-2 div.sk-label label {font-family: monospace;font-weight: bold;display: inline-block;line-height: 1.2em;}#sk-container-id-2 div.sk-label-container {text-align: center;}#sk-container-id-2 div.sk-container {/* jupyter's `normalize.less` sets `[hidden] { display: none; }` but bootstrap.min.css set `[hidden] { display: none !important; }` so we also need the `!important` here to be able to override the default hidden behavior on the sphinx rendered scikit-learn.org. See: https://github.com/scikit-learn/scikit-learn/issues/21755 */display: inline-block !important;position: relative;}#sk-container-id-2 div.sk-text-repr-fallback {display: none;}</style><div id=\"sk-container-id-2\" class=\"sk-top-container\"><div class=\"sk-text-repr-fallback\"><pre>GradientBoostingClassifier(random_state=123)</pre><b>In a Jupyter environment, please rerun this cell to show the HTML representation or trust the notebook. <br />On GitHub, the HTML representation is unable to render, please try loading this page with nbviewer.org.</b></div><div class=\"sk-container\" hidden><div class=\"sk-item\"><div class=\"sk-estimator sk-toggleable\"><input class=\"sk-toggleable__control sk-hidden--visually\" id=\"sk-estimator-id-2\" type=\"checkbox\" checked><label for=\"sk-estimator-id-2\" class=\"sk-toggleable__label sk-toggleable__label-arrow\">GradientBoostingClassifier</label><div class=\"sk-toggleable__content\"><pre>GradientBoostingClassifier(random_state=123)</pre></div></div></div></div></div>"
      ],
      "text/plain": [
       "GradientBoostingClassifier(random_state=123)"
      ]
     },
     "execution_count": 48,
     "metadata": {},
     "output_type": "execute_result"
    }
   ],
   "source": [
    "ModeloFinal"
   ]
  },
  {
   "cell_type": "markdown",
   "id": "d7fd7bf3-c649-4597-949c-cb817f443be8",
   "metadata": {},
   "source": [
    "## **Shap Values**"
   ]
  },
  {
   "cell_type": "code",
   "execution_count": 49,
   "id": "84a41873-2e33-40b1-85f4-fe665b555826",
   "metadata": {},
   "outputs": [],
   "source": [
    "import shap\n",
    "# conda install -c anaconda shap\n",
    "# !pip install shap"
   ]
  },
  {
   "cell_type": "code",
   "execution_count": 50,
   "id": "e948c970-05d9-4557-bfa5-f6bd858825b4",
   "metadata": {},
   "outputs": [],
   "source": [
    "pred=ModeloFinal.predict(x_train)"
   ]
  },
  {
   "cell_type": "code",
   "execution_count": 51,
   "id": "2ecaf198-6808-4fba-b49d-f8cc5c8b2db2",
   "metadata": {},
   "outputs": [],
   "source": [
    "explainer=shap.TreeExplainer(ModeloFinal)"
   ]
  },
  {
   "cell_type": "code",
   "execution_count": 52,
   "id": "92048f73-5e88-4fb0-91d3-6a8053a96ba2",
   "metadata": {},
   "outputs": [],
   "source": [
    "shap_values=explainer.shap_values(x_train)"
   ]
  },
  {
   "cell_type": "code",
   "execution_count": 53,
   "id": "b4914070-28bd-492b-99e2-6e392fbfa7b3",
   "metadata": {},
   "outputs": [
    {
     "data": {
      "image/png": "[encoded data removed]",
      "text/plain": [
       "<Figure size 576x684 with 2 Axes>"
      ]
     },
     "metadata": {
      "needs_background": "light"
     },
     "output_type": "display_data"
    }
   ],
   "source": [
    "np.abs(shap_values.sum(1) + explainer.expected_value - pred).max()\n",
    "shap.summary_plot(shap_values, x_train)"
   ]
  },
  {
   "cell_type": "markdown",
   "id": "f9248d4e-2fef-4c8e-971b-5bb7d2e11406",
   "metadata": {},
   "source": [
    "**Interación entre Features**"
   ]
  },
  {
   "cell_type": "code",
   "execution_count": 54,
   "id": "cae4cc16-33e5-41b7-a681-dfbbba9e7ba9",
   "metadata": {},
   "outputs": [
    {
     "data": {
      "text/plain": [
       "Index(['PAY_5_6', 'PAY_0_6', 'PAY_6_8', 'PAY_6_5',\n",
       "       'EducacionHomologada_Pregrado', 'PAY_0_5', 'PAY_5_5',\n",
       "       'EstadoCivilHomologado_Soltero', 'PAY_0_8', 'PAY_3_5', 'PAY_0_7',\n",
       "       'PAY_2_7', 'PAY_4_5', 'Genero_Homologado_Masculino', 'PAY_2_6',\n",
       "       'PAY_3_6', 'PAY_2_5', 'PAY_6_6', 'PAY_2_4', 'PAY_6_4',\n",
       "       'EducacionHomologada_Posgrado', 'PAY_3_7', 'PAY_3_4', 'PAY_5_4',\n",
       "       'PAY_4_4', 'PAY_6_-1', 'PAY_0_-1', 'PAY_0_4', 'PAY_6_7', 'PAY_6_0',\n",
       "       'PAY_5_0', 'PAY_5_-1', 'PAY_5_7', 'PAY_4_7', 'PAY_4_-1', 'PAY_2_-1',\n",
       "       'PAY_4_0', 'PAY_3_-1', 'PAY_4_3', 'PAY_3_3', 'PAY_5_3', 'PAY_6_3',\n",
       "       'PAY_3_0', 'PAY_2_3', 'PAY_0_1', 'PAY_2_0', 'PAY_0_3', 'PAY_0_0',\n",
       "       'PAY_6_2', 'PAY_5_2', 'PAY_4_2', 'PAY_3_2', 'PAY_2_2', 'PAY_0_2',\n",
       "       'Edad', 'BILL_AMT1', 'PAY_AMT6', 'PAY_AMT5', 'PAY_AMT3', 'PAY_AMT4',\n",
       "       'PAY_AMT2', 'PAY_AMT1', 'MontoCredito'],\n",
       "      dtype='object')"
      ]
     },
     "execution_count": 54,
     "metadata": {},
     "output_type": "execute_result"
    }
   ],
   "source": [
    "x_train.columns"
   ]
  },
  {
   "cell_type": "code",
   "execution_count": 55,
   "id": "1f9b7664-81f6-4739-be67-0e80681ab080",
   "metadata": {},
   "outputs": [
    {
     "data": {
      "text/plain": [
       "array([ 0.00000000e+00, -6.40282993e-05,  0.00000000e+00,  0.00000000e+00,\n",
       "       -9.14239363e-03,  0.00000000e+00, -1.72898009e-04,  6.17271992e-02,\n",
       "        0.00000000e+00,  2.76084016e-05,  0.00000000e+00, -1.14828202e-04,\n",
       "        0.00000000e+00,  7.95426968e-02, -7.55802399e-05, -7.02357301e-05,\n",
       "        0.00000000e+00,  0.00000000e+00,  2.45897661e-05,  0.00000000e+00,\n",
       "       -5.34259919e-04,  0.00000000e+00, -4.21891679e-05, -3.73835035e-05,\n",
       "       -1.47344992e-04,  9.78915512e-03,  8.23573904e-03, -9.71015105e-04,\n",
       "        0.00000000e+00,  5.68920240e-05, -3.45338252e-06, -4.01609026e-06,\n",
       "        0.00000000e+00, -3.49943380e-04,  0.00000000e+00,  2.62822066e-04,\n",
       "       -1.86393334e-03, -7.06491154e-03, -1.54426050e-03, -2.05433728e-03,\n",
       "       -5.29500157e-04, -1.50592047e-03,  0.00000000e+00, -5.75404121e-03,\n",
       "       -1.22914058e-02, -6.07595878e-06, -7.24626423e-03,  3.64754859e-02,\n",
       "       -2.72887033e-02, -1.85208746e-02, -3.48734652e-02, -3.50076610e-02,\n",
       "       -5.78588172e-02, -1.65869513e-01,  1.68735613e-02,  3.16198995e-03,\n",
       "        4.04147555e-02,  6.26344540e-03,  1.71650765e-02,  3.29966533e-02,\n",
       "        1.35574483e-01,  1.97522041e-01,  3.92401732e-01])"
      ]
     },
     "execution_count": 55,
     "metadata": {},
     "output_type": "execute_result"
    }
   ],
   "source": [
    "shap_values[0]"
   ]
  },
  {
   "cell_type": "code",
   "execution_count": 56,
   "id": "f4334d9a-678e-4564-a495-9b53a6544d25",
   "metadata": {},
   "outputs": [
    {
     "data": {
      "image/png": "[encoded data removed]",
      "text/plain": [
       "<Figure size 540x360 with 2 Axes>"
      ]
     },
     "metadata": {
      "needs_background": "light"
     },
     "output_type": "display_data"
    }
   ],
   "source": [
    "shap.dependence_plot(\"Edad\",shap_values,x_train,interaction_index=\"EstadoCivilHomologado_Soltero\")"
   ]
  },
  {
   "cell_type": "code",
   "execution_count": 57,
   "id": "4933be27-141f-4c4d-bf9f-c397ce575f71",
   "metadata": {},
   "outputs": [
    {
     "name": "stderr",
     "output_type": "stream",
     "text": [
      " 95%|=================== | 19880/21000 [00:16<00:00]       "
     ]
    },
    {
     "data": {
      "image/png": "[encoded data removed]",
      "text/plain": [
       "<Figure size 576x468 with 3 Axes>"
      ]
     },
     "metadata": {},
     "output_type": "display_data"
    }
   ],
   "source": [
    "explainer = shap.TreeExplainer(ModeloFinal, x_train)\n",
    "shap_values = explainer(x_train)\n",
    "shap.plots.waterfall(shap_values[0])"
   ]
  },
  {
   "cell_type": "markdown",
   "id": "3a35e901-e30a-4e44-accb-cfecb397389a",
   "metadata": {},
   "source": [
    "## **Ordenar por Deciles (Calibrar Modelos)**"
   ]
  },
  {
   "cell_type": "code",
   "execution_count": 58,
   "id": "5d14206c-1bce-45f3-a49a-c8308462352c",
   "metadata": {},
   "outputs": [],
   "source": [
    "from sklearn.calibration import CalibratedClassifierCV\n",
    "from sklearn.calibration import calibration_curve\n",
    "from sklearn.metrics import brier_score_loss"
   ]
  },
  {
   "cell_type": "code",
   "execution_count": 59,
   "id": "e3167bbf-b4bf-4af6-84fd-0865c7c39359",
   "metadata": {},
   "outputs": [
    {
     "data": {
      "text/html": [
       "<style>#sk-container-id-3 {color: black;background-color: white;}#sk-container-id-3 pre{padding: 0;}#sk-container-id-3 div.sk-toggleable {background-color: white;}#sk-container-id-3 label.sk-toggleable__label {cursor: pointer;display: block;width: 100%;margin-bottom: 0;padding: 0.3em;box-sizing: border-box;text-align: center;}#sk-container-id-3 label.sk-toggleable__label-arrow:before {content: \"▸\";float: left;margin-right: 0.25em;color: #696969;}#sk-container-id-3 label.sk-toggleable__label-arrow:hover:before {color: black;}#sk-container-id-3 div.sk-estimator:hover label.sk-toggleable__label-arrow:before {color: black;}#sk-container-id-3 div.sk-toggleable__content {max-height: 0;max-width: 0;overflow: hidden;text-align: left;background-color: #f0f8ff;}#sk-container-id-3 div.sk-toggleable__content pre {margin: 0.2em;color: black;border-radius: 0.25em;background-color: #f0f8ff;}#sk-container-id-3 input.sk-toggleable__control:checked~div.sk-toggleable__content {max-height: 200px;max-width: 100%;overflow: auto;}#sk-container-id-3 input.sk-toggleable__control:checked~label.sk-toggleable__label-arrow:before {content: \"▾\";}#sk-container-id-3 div.sk-estimator input.sk-toggleable__control:checked~label.sk-toggleable__label {background-color: #d4ebff;}#sk-container-id-3 div.sk-label input.sk-toggleable__control:checked~label.sk-toggleable__label {background-color: #d4ebff;}#sk-container-id-3 input.sk-hidden--visually {border: 0;clip: rect(1px 1px 1px 1px);clip: rect(1px, 1px, 1px, 1px);height: 1px;margin: -1px;overflow: hidden;padding: 0;position: absolute;width: 1px;}#sk-container-id-3 div.sk-estimator {font-family: monospace;background-color: #f0f8ff;border: 1px dotted black;border-radius: 0.25em;box-sizing: border-box;margin-bottom: 0.5em;}#sk-container-id-3 div.sk-estimator:hover {background-color: #d4ebff;}#sk-container-id-3 div.sk-parallel-item::after {content: \"\";width: 100%;border-bottom: 1px solid gray;flex-grow: 1;}#sk-container-id-3 div.sk-label:hover label.sk-toggleable__label {background-color: #d4ebff;}#sk-container-id-3 div.sk-serial::before {content: \"\";position: absolute;border-left: 1px solid gray;box-sizing: border-box;top: 0;bottom: 0;left: 50%;z-index: 0;}#sk-container-id-3 div.sk-serial {display: flex;flex-direction: column;align-items: center;background-color: white;padding-right: 0.2em;padding-left: 0.2em;position: relative;}#sk-container-id-3 div.sk-item {position: relative;z-index: 1;}#sk-container-id-3 div.sk-parallel {display: flex;align-items: stretch;justify-content: center;background-color: white;position: relative;}#sk-container-id-3 div.sk-item::before, #sk-container-id-3 div.sk-parallel-item::before {content: \"\";position: absolute;border-left: 1px solid gray;box-sizing: border-box;top: 0;bottom: 0;left: 50%;z-index: -1;}#sk-container-id-3 div.sk-parallel-item {display: flex;flex-direction: column;z-index: 1;position: relative;background-color: white;}#sk-container-id-3 div.sk-parallel-item:first-child::after {align-self: flex-end;width: 50%;}#sk-container-id-3 div.sk-parallel-item:last-child::after {align-self: flex-start;width: 50%;}#sk-container-id-3 div.sk-parallel-item:only-child::after {width: 0;}#sk-container-id-3 div.sk-dashed-wrapped {border: 1px dashed gray;margin: 0 0.4em 0.5em 0.4em;box-sizing: border-box;padding-bottom: 0.4em;background-color: white;}#sk-container-id-3 div.sk-label label {font-family: monospace;font-weight: bold;display: inline-block;line-height: 1.2em;}#sk-container-id-3 div.sk-label-container {text-align: center;}#sk-container-id-3 div.sk-container {/* jupyter's `normalize.less` sets `[hidden] { display: none; }` but bootstrap.min.css set `[hidden] { display: none !important; }` so we also need the `!important` here to be able to override the default hidden behavior on the sphinx rendered scikit-learn.org. See: https://github.com/scikit-learn/scikit-learn/issues/21755 */display: inline-block !important;position: relative;}#sk-container-id-3 div.sk-text-repr-fallback {display: none;}</style><div id=\"sk-container-id-3\" class=\"sk-top-container\"><div class=\"sk-text-repr-fallback\"><pre>GradientBoostingClassifier(random_state=123)</pre><b>In a Jupyter environment, please rerun this cell to show the HTML representation or trust the notebook. <br />On GitHub, the HTML representation is unable to render, please try loading this page with nbviewer.org.</b></div><div class=\"sk-container\" hidden><div class=\"sk-item\"><div class=\"sk-estimator sk-toggleable\"><input class=\"sk-toggleable__control sk-hidden--visually\" id=\"sk-estimator-id-3\" type=\"checkbox\" checked><label for=\"sk-estimator-id-3\" class=\"sk-toggleable__label sk-toggleable__label-arrow\">GradientBoostingClassifier</label><div class=\"sk-toggleable__content\"><pre>GradientBoostingClassifier(random_state=123)</pre></div></div></div></div></div>"
      ],
      "text/plain": [
       "GradientBoostingClassifier(random_state=123)"
      ]
     },
     "execution_count": 59,
     "metadata": {},
     "output_type": "execute_result"
    }
   ],
   "source": [
    "ModeloFinal"
   ]
  },
  {
   "cell_type": "code",
   "execution_count": 60,
   "id": "566d94c5-6830-4f88-b038-3558f5d33abb",
   "metadata": {},
   "outputs": [],
   "source": [
    "predicciones  =ModeloFinal.predict_proba(X = x_test)\n",
    "prob_positivo = predicciones[:, 1]"
   ]
  },
  {
   "cell_type": "code",
   "execution_count": 61,
   "id": "2a6eeb47-5173-4dbd-a1f5-bc57f6959cf3",
   "metadata": {},
   "outputs": [],
   "source": [
    "fraccion_positivos, media_prob_predicha = calibration_curve(y_test, prob_positivo, n_bins=20)"
   ]
  },
  {
   "cell_type": "code",
   "execution_count": 62,
   "id": "f132d364-28ab-48c2-ab76-25a7ec82c44c",
   "metadata": {},
   "outputs": [
    {
     "data": {
      "image/png": "[encoded data removed]",
      "text/plain": [
       "<Figure size 432x552.96 with 2 Axes>"
      ]
     },
     "metadata": {
      "needs_background": "light"
     },
     "output_type": "display_data"
    }
   ],
   "source": [
    "fig, axs = plt.subplots(nrows=2, ncols=1,figsize=(6, 2*3.84))\n",
    "\n",
    "axs[0].plot(media_prob_predicha, fraccion_positivos, \"s-\", label=\"XGB Classifier\")\n",
    "axs[0].plot([0, 1], [0, 1], \"k:\", label=\"Calibración perfecta\")\n",
    "axs[0].set_ylabel(\"Proporción de clasificación correcta\")\n",
    "axs[0].set_xlabel(\"Probabilidad media estimada por el modelo (predict_proba)\")\n",
    "axs[0].set_title('Curva de calibrado (reliability curve)')\n",
    "axs[0].legend()\n",
    "\n",
    "axs[1].hist(prob_positivo, range=(0, 1), bins=10, density=True, lw=2, alpha = 0.3)\n",
    "axs[1].set_xlabel(\"Probabilidad estimada por el modelo (predict_proba)\")\n",
    "axs[1].set_ylabel(\"Count\")\n",
    "axs[1].set_title('Distribución de las probabilidades predichas por el modelo')\n",
    "\n",
    "plt.tight_layout()\n",
    "plt.show();"
   ]
  },
  {
   "cell_type": "markdown",
   "id": "8bc8ad60-ce82-4fa5-b8cb-829e81e9b31c",
   "metadata": {},
   "source": [
    "## **Modelo clasificación calibrado**\n",
    "\n",
    "\n",
    "La calibración de modelos en scikitlearn esta implementada de forma que, el objeto final, contiene tanto el modelo principal como el modelo de calibración. Esto permite que al aplicar el método .predic() los resultados ya estén corregidos."
   ]
  },
  {
   "cell_type": "code",
   "execution_count": 63,
   "id": "b2adb993-3afd-4709-9c3d-8cbd62d62d47",
   "metadata": {},
   "outputs": [],
   "source": [
    "ModeloFinal=GradientBoostingClassifier(ccp_alpha=0.0, criterion='friedman_mse', init=None,\n",
    "                           learning_rate=0.1, loss='log_loss', max_depth=3,\n",
    "                           max_features=None, max_leaf_nodes=None,\n",
    "                           min_impurity_decrease=0.0, min_samples_leaf=1,\n",
    "                           min_samples_split=2, min_weight_fraction_leaf=0.0,\n",
    "                           n_estimators=100, n_iter_no_change=None,\n",
    "                           random_state=123, subsample=1.0, tol=0.0001,\n",
    "                           validation_fraction=0.1, verbose=0,\n",
    "                           warm_start=False)"
   ]
  },
  {
   "cell_type": "code",
   "execution_count": 64,
   "id": "bea9d0d5-a1a6-4ee3-96a3-c5a54651a1a5",
   "metadata": {},
   "outputs": [],
   "source": [
    "modelo_calibrado = CalibratedClassifierCV(ModeloFinal, cv=3, method='sigmoid')"
   ]
  },
  {
   "cell_type": "code",
   "execution_count": 65,
   "id": "dc45bbed-2a02-4f65-b39e-f5e3c4c47ad3",
   "metadata": {},
   "outputs": [],
   "source": [
    "_ = modelo_calibrado.fit(x_train, y_train)"
   ]
  },
  {
   "cell_type": "code",
   "execution_count": 66,
   "id": "f4c3863a-4cb1-473c-a529-99a6f6ba18f5",
   "metadata": {},
   "outputs": [],
   "source": [
    "# Predicción con probabilidades calibradas\n",
    "# ==============================================================================\n",
    "predicciones  = modelo_calibrado.predict_proba(X = x_test)\n",
    "# Se extraen las probabilidades de la clase positiva\n",
    "prob_positivo = predicciones[:, 1]"
   ]
  },
  {
   "cell_type": "code",
   "execution_count": 67,
   "id": "a5519d28-5821-49f3-8188-eca3a554e7ab",
   "metadata": {},
   "outputs": [],
   "source": [
    "fraccion_positivos, media_prob_predicha = calibration_curve(y_test, prob_positivo, n_bins=20)"
   ]
  },
  {
   "cell_type": "code",
   "execution_count": 68,
   "id": "78679b53-0c99-40f1-90ab-53f12d41a90a",
   "metadata": {},
   "outputs": [
    {
     "data": {
      "image/png": "[encoded data removed]",
      "text/plain": [
       "<Figure size 432x552.96 with 2 Axes>"
      ]
     },
     "metadata": {
      "needs_background": "light"
     },
     "output_type": "display_data"
    }
   ],
   "source": [
    "fig, axs = plt.subplots(nrows=2, ncols=1,figsize=(6, 2*3.84))\n",
    "\n",
    "axs[0].plot(media_prob_predicha, fraccion_positivos, \"s-\", label=\"Random Forest\")\n",
    "axs[0].plot([0, 1], [0, 1], \"k:\", label=\"Calibración perfecta\")\n",
    "axs[0].set_ylabel(\"Proporción de clasificación correcta\")\n",
    "axs[0].set_xlabel(\"Probabilidad media estimada por el modelo (predict_proba)\")\n",
    "axs[0].set_title('Curva de calibrado (reliability curve)')\n",
    "axs[0].legend()\n",
    "\n",
    "axs[1].hist(prob_positivo, range=(0, 1), bins=10, density=True, lw=2, alpha = 0.3)\n",
    "axs[1].set_xlabel(\"Probabilidad estimada por el modelo (predict_proba)\")\n",
    "axs[1].set_ylabel(\"Count\")\n",
    "axs[1].set_title('Distribución de las probabilidades predichas por el modelo')\n",
    "\n",
    "plt.tight_layout()\n",
    "plt.show();"
   ]
  },
  {
   "cell_type": "code",
   "execution_count": 69,
   "id": "7e9704b8-db9c-4382-8ac3-1d091fdd81c8",
   "metadata": {},
   "outputs": [],
   "source": [
    "Probabilidad_test=modelo_calibrado.predict_proba(x_test)\n",
    "Predicciones=modelo_calibrado.predict(x_test)"
   ]
  },
  {
   "cell_type": "code",
   "execution_count": 70,
   "id": "eb43534e-2bf6-4764-87a4-a8eb96d990e6",
   "metadata": {},
   "outputs": [
    {
     "data": {
      "text/plain": [
       "(9000, 63)"
      ]
     },
     "execution_count": 70,
     "metadata": {},
     "output_type": "execute_result"
    }
   ],
   "source": [
    "x_test.shape"
   ]
  },
  {
   "cell_type": "code",
   "execution_count": 71,
   "id": "66121184-99a2-4bb6-9862-901a5ecd2b09",
   "metadata": {},
   "outputs": [
    {
     "data": {
      "image/png": "[encoded data removed]",
      "text/plain": [
       "<Figure size 432x288 with 1 Axes>"
      ]
     },
     "metadata": {
      "needs_background": "light"
     },
     "output_type": "display_data"
    }
   ],
   "source": [
    "plt.hist(Probabilidad_test[::,1]);"
   ]
  },
  {
   "cell_type": "code",
   "execution_count": 72,
   "id": "59b56cb9-0f35-466b-bee5-f84435c3858c",
   "metadata": {},
   "outputs": [],
   "source": [
    "clientes=x_test.copy()"
   ]
  },
  {
   "cell_type": "code",
   "execution_count": 73,
   "id": "730370f1-45c6-47e8-867d-081fda384ceb",
   "metadata": {},
   "outputs": [],
   "source": [
    "clientes[\"Score\"]=Probabilidad_test[::,1]\n",
    "clientes[\"Prediccion\"]=Predicciones\n",
    "clientes[\"Realidad\"]=y_test"
   ]
  },
  {
   "cell_type": "code",
   "execution_count": 74,
   "id": "f833465e-f205-47e3-809a-7c29896eb510",
   "metadata": {},
   "outputs": [
    {
     "data": {
      "text/html": [
       "<div>\n",
       "<style scoped>\n",
       "    .dataframe tbody tr th:only-of-type {\n",
       "        vertical-align: middle;\n",
       "    }\n",
       "\n",
       "    .dataframe tbody tr th {\n",
       "        vertical-align: top;\n",
       "    }\n",
       "\n",
       "    .dataframe thead th {\n",
       "        text-align: right;\n",
       "    }\n",
       "</style>\n",
       "<table border=\"1\" class=\"dataframe\">\n",
       "  <thead>\n",
       "    <tr style=\"text-align: right;\">\n",
       "      <th></th>\n",
       "      <th>PAY_5_6</th>\n",
       "      <th>PAY_0_6</th>\n",
       "      <th>PAY_6_8</th>\n",
       "      <th>PAY_6_5</th>\n",
       "      <th>EducacionHomologada_Pregrado</th>\n",
       "      <th>PAY_0_5</th>\n",
       "      <th>PAY_5_5</th>\n",
       "      <th>EstadoCivilHomologado_Soltero</th>\n",
       "      <th>PAY_0_8</th>\n",
       "      <th>PAY_3_5</th>\n",
       "      <th>...</th>\n",
       "      <th>PAY_AMT6</th>\n",
       "      <th>PAY_AMT5</th>\n",
       "      <th>PAY_AMT3</th>\n",
       "      <th>PAY_AMT4</th>\n",
       "      <th>PAY_AMT2</th>\n",
       "      <th>PAY_AMT1</th>\n",
       "      <th>MontoCredito</th>\n",
       "      <th>Score</th>\n",
       "      <th>Prediccion</th>\n",
       "      <th>Realidad</th>\n",
       "    </tr>\n",
       "  </thead>\n",
       "  <tbody>\n",
       "    <tr>\n",
       "      <th>45</th>\n",
       "      <td>0</td>\n",
       "      <td>0</td>\n",
       "      <td>0</td>\n",
       "      <td>0</td>\n",
       "      <td>0</td>\n",
       "      <td>0</td>\n",
       "      <td>0</td>\n",
       "      <td>1</td>\n",
       "      <td>0</td>\n",
       "      <td>0</td>\n",
       "      <td>...</td>\n",
       "      <td>0.0</td>\n",
       "      <td>0.0</td>\n",
       "      <td>0.0</td>\n",
       "      <td>0.0</td>\n",
       "      <td>0.0</td>\n",
       "      <td>0.0</td>\n",
       "      <td>210000.0</td>\n",
       "      <td>0.265276</td>\n",
       "      <td>0</td>\n",
       "      <td>1</td>\n",
       "    </tr>\n",
       "    <tr>\n",
       "      <th>18762</th>\n",
       "      <td>0</td>\n",
       "      <td>0</td>\n",
       "      <td>0</td>\n",
       "      <td>0</td>\n",
       "      <td>0</td>\n",
       "      <td>0</td>\n",
       "      <td>0</td>\n",
       "      <td>1</td>\n",
       "      <td>0</td>\n",
       "      <td>0</td>\n",
       "      <td>...</td>\n",
       "      <td>84363.0</td>\n",
       "      <td>0.0</td>\n",
       "      <td>0.0</td>\n",
       "      <td>0.0</td>\n",
       "      <td>0.0</td>\n",
       "      <td>3000.0</td>\n",
       "      <td>420000.0</td>\n",
       "      <td>0.097524</td>\n",
       "      <td>0</td>\n",
       "      <td>0</td>\n",
       "    </tr>\n",
       "    <tr>\n",
       "      <th>9341</th>\n",
       "      <td>0</td>\n",
       "      <td>0</td>\n",
       "      <td>0</td>\n",
       "      <td>0</td>\n",
       "      <td>1</td>\n",
       "      <td>0</td>\n",
       "      <td>0</td>\n",
       "      <td>1</td>\n",
       "      <td>0</td>\n",
       "      <td>0</td>\n",
       "      <td>...</td>\n",
       "      <td>2000.0</td>\n",
       "      <td>1700.0</td>\n",
       "      <td>1600.0</td>\n",
       "      <td>1600.0</td>\n",
       "      <td>2310.0</td>\n",
       "      <td>3400.0</td>\n",
       "      <td>70000.0</td>\n",
       "      <td>0.119997</td>\n",
       "      <td>0</td>\n",
       "      <td>0</td>\n",
       "    </tr>\n",
       "    <tr>\n",
       "      <th>21814</th>\n",
       "      <td>0</td>\n",
       "      <td>0</td>\n",
       "      <td>0</td>\n",
       "      <td>0</td>\n",
       "      <td>1</td>\n",
       "      <td>0</td>\n",
       "      <td>0</td>\n",
       "      <td>1</td>\n",
       "      <td>0</td>\n",
       "      <td>0</td>\n",
       "      <td>...</td>\n",
       "      <td>0.0</td>\n",
       "      <td>0.0</td>\n",
       "      <td>0.0</td>\n",
       "      <td>0.0</td>\n",
       "      <td>1000.0</td>\n",
       "      <td>0.0</td>\n",
       "      <td>180000.0</td>\n",
       "      <td>0.273405</td>\n",
       "      <td>0</td>\n",
       "      <td>0</td>\n",
       "    </tr>\n",
       "    <tr>\n",
       "      <th>25950</th>\n",
       "      <td>0</td>\n",
       "      <td>0</td>\n",
       "      <td>0</td>\n",
       "      <td>0</td>\n",
       "      <td>0</td>\n",
       "      <td>0</td>\n",
       "      <td>0</td>\n",
       "      <td>0</td>\n",
       "      <td>0</td>\n",
       "      <td>0</td>\n",
       "      <td>...</td>\n",
       "      <td>4200.0</td>\n",
       "      <td>8000.0</td>\n",
       "      <td>388.0</td>\n",
       "      <td>110345.0</td>\n",
       "      <td>388.0</td>\n",
       "      <td>388.0</td>\n",
       "      <td>410000.0</td>\n",
       "      <td>0.128648</td>\n",
       "      <td>0</td>\n",
       "      <td>0</td>\n",
       "    </tr>\n",
       "  </tbody>\n",
       "</table>\n",
       "<p>5 rows × 66 columns</p>\n",
       "</div>"
      ],
      "text/plain": [
       "       PAY_5_6  PAY_0_6  PAY_6_8  PAY_6_5  EducacionHomologada_Pregrado  \\\n",
       "45           0        0        0        0                             0   \n",
       "18762        0        0        0        0                             0   \n",
       "9341         0        0        0        0                             1   \n",
       "21814        0        0        0        0                             1   \n",
       "25950        0        0        0        0                             0   \n",
       "\n",
       "       PAY_0_5  PAY_5_5  EstadoCivilHomologado_Soltero  PAY_0_8  PAY_3_5  ...  \\\n",
       "45           0        0                              1        0        0  ...   \n",
       "18762        0        0                              1        0        0  ...   \n",
       "9341         0        0                              1        0        0  ...   \n",
       "21814        0        0                              1        0        0  ...   \n",
       "25950        0        0                              0        0        0  ...   \n",
       "\n",
       "       PAY_AMT6  PAY_AMT5  PAY_AMT3  PAY_AMT4  PAY_AMT2  PAY_AMT1  \\\n",
       "45          0.0       0.0       0.0       0.0       0.0       0.0   \n",
       "18762   84363.0       0.0       0.0       0.0       0.0    3000.0   \n",
       "9341     2000.0    1700.0    1600.0    1600.0    2310.0    3400.0   \n",
       "21814       0.0       0.0       0.0       0.0    1000.0       0.0   \n",
       "25950    4200.0    8000.0     388.0  110345.0     388.0     388.0   \n",
       "\n",
       "       MontoCredito     Score  Prediccion  Realidad  \n",
       "45         210000.0  0.265276           0         1  \n",
       "18762      420000.0  0.097524           0         0  \n",
       "9341        70000.0  0.119997           0         0  \n",
       "21814      180000.0  0.273405           0         0  \n",
       "25950      410000.0  0.128648           0         0  \n",
       "\n",
       "[5 rows x 66 columns]"
      ]
     },
     "execution_count": 74,
     "metadata": {},
     "output_type": "execute_result"
    }
   ],
   "source": [
    "clientes.head()"
   ]
  },
  {
   "cell_type": "code",
   "execution_count": 75,
   "id": "08c0f3e2-1673-41de-a999-f263e425865d",
   "metadata": {},
   "outputs": [
    {
     "data": {
      "text/html": [
       "<div>\n",
       "<style scoped>\n",
       "    .dataframe tbody tr th:only-of-type {\n",
       "        vertical-align: middle;\n",
       "    }\n",
       "\n",
       "    .dataframe tbody tr th {\n",
       "        vertical-align: top;\n",
       "    }\n",
       "\n",
       "    .dataframe thead th {\n",
       "        text-align: right;\n",
       "    }\n",
       "</style>\n",
       "<table border=\"1\" class=\"dataframe\">\n",
       "  <thead>\n",
       "    <tr style=\"text-align: right;\">\n",
       "      <th></th>\n",
       "      <th>PAY_5_6</th>\n",
       "      <th>PAY_0_6</th>\n",
       "      <th>PAY_6_8</th>\n",
       "      <th>PAY_6_5</th>\n",
       "      <th>EducacionHomologada_Pregrado</th>\n",
       "      <th>PAY_0_5</th>\n",
       "      <th>PAY_5_5</th>\n",
       "      <th>EstadoCivilHomologado_Soltero</th>\n",
       "      <th>PAY_0_8</th>\n",
       "      <th>PAY_3_5</th>\n",
       "      <th>...</th>\n",
       "      <th>PAY_AMT6</th>\n",
       "      <th>PAY_AMT5</th>\n",
       "      <th>PAY_AMT3</th>\n",
       "      <th>PAY_AMT4</th>\n",
       "      <th>PAY_AMT2</th>\n",
       "      <th>PAY_AMT1</th>\n",
       "      <th>MontoCredito</th>\n",
       "      <th>Score</th>\n",
       "      <th>Prediccion</th>\n",
       "      <th>Realidad</th>\n",
       "    </tr>\n",
       "  </thead>\n",
       "  <tbody>\n",
       "    <tr>\n",
       "      <th>9154</th>\n",
       "      <td>0</td>\n",
       "      <td>0</td>\n",
       "      <td>0</td>\n",
       "      <td>0</td>\n",
       "      <td>1</td>\n",
       "      <td>0</td>\n",
       "      <td>0</td>\n",
       "      <td>1</td>\n",
       "      <td>0</td>\n",
       "      <td>0</td>\n",
       "      <td>...</td>\n",
       "      <td>20225.0</td>\n",
       "      <td>23033.0</td>\n",
       "      <td>1068.0</td>\n",
       "      <td>3000.0</td>\n",
       "      <td>57428.0</td>\n",
       "      <td>52280.0</td>\n",
       "      <td>490000.0</td>\n",
       "      <td>0.031260</td>\n",
       "      <td>0</td>\n",
       "      <td>0</td>\n",
       "    </tr>\n",
       "    <tr>\n",
       "      <th>5459</th>\n",
       "      <td>0</td>\n",
       "      <td>0</td>\n",
       "      <td>0</td>\n",
       "      <td>0</td>\n",
       "      <td>0</td>\n",
       "      <td>0</td>\n",
       "      <td>0</td>\n",
       "      <td>0</td>\n",
       "      <td>0</td>\n",
       "      <td>0</td>\n",
       "      <td>...</td>\n",
       "      <td>11166.0</td>\n",
       "      <td>80601.0</td>\n",
       "      <td>48846.0</td>\n",
       "      <td>193712.0</td>\n",
       "      <td>47427.0</td>\n",
       "      <td>68536.0</td>\n",
       "      <td>360000.0</td>\n",
       "      <td>0.031486</td>\n",
       "      <td>0</td>\n",
       "      <td>0</td>\n",
       "    </tr>\n",
       "    <tr>\n",
       "      <th>3464</th>\n",
       "      <td>0</td>\n",
       "      <td>0</td>\n",
       "      <td>0</td>\n",
       "      <td>0</td>\n",
       "      <td>0</td>\n",
       "      <td>0</td>\n",
       "      <td>0</td>\n",
       "      <td>1</td>\n",
       "      <td>0</td>\n",
       "      <td>0</td>\n",
       "      <td>...</td>\n",
       "      <td>1241.0</td>\n",
       "      <td>59273.0</td>\n",
       "      <td>29033.0</td>\n",
       "      <td>13120.0</td>\n",
       "      <td>30084.0</td>\n",
       "      <td>42552.0</td>\n",
       "      <td>340000.0</td>\n",
       "      <td>0.031626</td>\n",
       "      <td>0</td>\n",
       "      <td>0</td>\n",
       "    </tr>\n",
       "    <tr>\n",
       "      <th>20688</th>\n",
       "      <td>0</td>\n",
       "      <td>0</td>\n",
       "      <td>0</td>\n",
       "      <td>0</td>\n",
       "      <td>0</td>\n",
       "      <td>0</td>\n",
       "      <td>0</td>\n",
       "      <td>1</td>\n",
       "      <td>0</td>\n",
       "      <td>0</td>\n",
       "      <td>...</td>\n",
       "      <td>11501.0</td>\n",
       "      <td>14501.0</td>\n",
       "      <td>25448.0</td>\n",
       "      <td>10015.0</td>\n",
       "      <td>29748.0</td>\n",
       "      <td>20016.0</td>\n",
       "      <td>440000.0</td>\n",
       "      <td>0.031710</td>\n",
       "      <td>0</td>\n",
       "      <td>0</td>\n",
       "    </tr>\n",
       "    <tr>\n",
       "      <th>3736</th>\n",
       "      <td>0</td>\n",
       "      <td>0</td>\n",
       "      <td>0</td>\n",
       "      <td>0</td>\n",
       "      <td>0</td>\n",
       "      <td>0</td>\n",
       "      <td>0</td>\n",
       "      <td>1</td>\n",
       "      <td>0</td>\n",
       "      <td>0</td>\n",
       "      <td>...</td>\n",
       "      <td>10000.0</td>\n",
       "      <td>7500.0</td>\n",
       "      <td>35002.0</td>\n",
       "      <td>10203.0</td>\n",
       "      <td>52983.0</td>\n",
       "      <td>5873.0</td>\n",
       "      <td>430000.0</td>\n",
       "      <td>0.032771</td>\n",
       "      <td>0</td>\n",
       "      <td>0</td>\n",
       "    </tr>\n",
       "    <tr>\n",
       "      <th>...</th>\n",
       "      <td>...</td>\n",
       "      <td>...</td>\n",
       "      <td>...</td>\n",
       "      <td>...</td>\n",
       "      <td>...</td>\n",
       "      <td>...</td>\n",
       "      <td>...</td>\n",
       "      <td>...</td>\n",
       "      <td>...</td>\n",
       "      <td>...</td>\n",
       "      <td>...</td>\n",
       "      <td>...</td>\n",
       "      <td>...</td>\n",
       "      <td>...</td>\n",
       "      <td>...</td>\n",
       "      <td>...</td>\n",
       "      <td>...</td>\n",
       "      <td>...</td>\n",
       "      <td>...</td>\n",
       "      <td>...</td>\n",
       "      <td>...</td>\n",
       "    </tr>\n",
       "    <tr>\n",
       "      <th>27536</th>\n",
       "      <td>0</td>\n",
       "      <td>0</td>\n",
       "      <td>0</td>\n",
       "      <td>0</td>\n",
       "      <td>0</td>\n",
       "      <td>0</td>\n",
       "      <td>0</td>\n",
       "      <td>0</td>\n",
       "      <td>0</td>\n",
       "      <td>0</td>\n",
       "      <td>...</td>\n",
       "      <td>0.0</td>\n",
       "      <td>0.0</td>\n",
       "      <td>0.0</td>\n",
       "      <td>0.0</td>\n",
       "      <td>0.0</td>\n",
       "      <td>0.0</td>\n",
       "      <td>250000.0</td>\n",
       "      <td>0.886882</td>\n",
       "      <td>1</td>\n",
       "      <td>1</td>\n",
       "    </tr>\n",
       "    <tr>\n",
       "      <th>23691</th>\n",
       "      <td>0</td>\n",
       "      <td>0</td>\n",
       "      <td>0</td>\n",
       "      <td>0</td>\n",
       "      <td>1</td>\n",
       "      <td>0</td>\n",
       "      <td>0</td>\n",
       "      <td>0</td>\n",
       "      <td>0</td>\n",
       "      <td>0</td>\n",
       "      <td>...</td>\n",
       "      <td>500.0</td>\n",
       "      <td>0.0</td>\n",
       "      <td>0.0</td>\n",
       "      <td>1000.0</td>\n",
       "      <td>0.0</td>\n",
       "      <td>2415.0</td>\n",
       "      <td>20000.0</td>\n",
       "      <td>0.892800</td>\n",
       "      <td>1</td>\n",
       "      <td>1</td>\n",
       "    </tr>\n",
       "    <tr>\n",
       "      <th>17232</th>\n",
       "      <td>0</td>\n",
       "      <td>0</td>\n",
       "      <td>0</td>\n",
       "      <td>0</td>\n",
       "      <td>1</td>\n",
       "      <td>0</td>\n",
       "      <td>0</td>\n",
       "      <td>0</td>\n",
       "      <td>0</td>\n",
       "      <td>0</td>\n",
       "      <td>...</td>\n",
       "      <td>0.0</td>\n",
       "      <td>0.0</td>\n",
       "      <td>0.0</td>\n",
       "      <td>2395.0</td>\n",
       "      <td>4000.0</td>\n",
       "      <td>0.0</td>\n",
       "      <td>10000.0</td>\n",
       "      <td>0.897091</td>\n",
       "      <td>1</td>\n",
       "      <td>1</td>\n",
       "    </tr>\n",
       "    <tr>\n",
       "      <th>19485</th>\n",
       "      <td>0</td>\n",
       "      <td>0</td>\n",
       "      <td>0</td>\n",
       "      <td>0</td>\n",
       "      <td>0</td>\n",
       "      <td>0</td>\n",
       "      <td>0</td>\n",
       "      <td>0</td>\n",
       "      <td>0</td>\n",
       "      <td>0</td>\n",
       "      <td>...</td>\n",
       "      <td>318.0</td>\n",
       "      <td>534.0</td>\n",
       "      <td>1475.0</td>\n",
       "      <td>1105.0</td>\n",
       "      <td>1803.0</td>\n",
       "      <td>0.0</td>\n",
       "      <td>280000.0</td>\n",
       "      <td>0.900526</td>\n",
       "      <td>1</td>\n",
       "      <td>1</td>\n",
       "    </tr>\n",
       "    <tr>\n",
       "      <th>360</th>\n",
       "      <td>0</td>\n",
       "      <td>0</td>\n",
       "      <td>0</td>\n",
       "      <td>0</td>\n",
       "      <td>1</td>\n",
       "      <td>0</td>\n",
       "      <td>0</td>\n",
       "      <td>1</td>\n",
       "      <td>0</td>\n",
       "      <td>0</td>\n",
       "      <td>...</td>\n",
       "      <td>19000.0</td>\n",
       "      <td>16000.0</td>\n",
       "      <td>14000.0</td>\n",
       "      <td>16500.0</td>\n",
       "      <td>0.0</td>\n",
       "      <td>10000.0</td>\n",
       "      <td>500000.0</td>\n",
       "      <td>0.930440</td>\n",
       "      <td>1</td>\n",
       "      <td>1</td>\n",
       "    </tr>\n",
       "  </tbody>\n",
       "</table>\n",
       "<p>9000 rows × 66 columns</p>\n",
       "</div>"
      ],
      "text/plain": [
       "       PAY_5_6  PAY_0_6  PAY_6_8  PAY_6_5  EducacionHomologada_Pregrado  \\\n",
       "9154         0        0        0        0                             1   \n",
       "5459         0        0        0        0                             0   \n",
       "3464         0        0        0        0                             0   \n",
       "20688        0        0        0        0                             0   \n",
       "3736         0        0        0        0                             0   \n",
       "...        ...      ...      ...      ...                           ...   \n",
       "27536        0        0        0        0                             0   \n",
       "23691        0        0        0        0                             1   \n",
       "17232        0        0        0        0                             1   \n",
       "19485        0        0        0        0                             0   \n",
       "360          0        0        0        0                             1   \n",
       "\n",
       "       PAY_0_5  PAY_5_5  EstadoCivilHomologado_Soltero  PAY_0_8  PAY_3_5  ...  \\\n",
       "9154         0        0                              1        0        0  ...   \n",
       "5459         0        0                              0        0        0  ...   \n",
       "3464         0        0                              1        0        0  ...   \n",
       "20688        0        0                              1        0        0  ...   \n",
       "3736         0        0                              1        0        0  ...   \n",
       "...        ...      ...                            ...      ...      ...  ...   \n",
       "27536        0        0                              0        0        0  ...   \n",
       "23691        0        0                              0        0        0  ...   \n",
       "17232        0        0                              0        0        0  ...   \n",
       "19485        0        0                              0        0        0  ...   \n",
       "360          0        0                              1        0        0  ...   \n",
       "\n",
       "       PAY_AMT6  PAY_AMT5  PAY_AMT3  PAY_AMT4  PAY_AMT2  PAY_AMT1  \\\n",
       "9154    20225.0   23033.0    1068.0    3000.0   57428.0   52280.0   \n",
       "5459    11166.0   80601.0   48846.0  193712.0   47427.0   68536.0   \n",
       "3464     1241.0   59273.0   29033.0   13120.0   30084.0   42552.0   \n",
       "20688   11501.0   14501.0   25448.0   10015.0   29748.0   20016.0   \n",
       "3736    10000.0    7500.0   35002.0   10203.0   52983.0    5873.0   \n",
       "...         ...       ...       ...       ...       ...       ...   \n",
       "27536       0.0       0.0       0.0       0.0       0.0       0.0   \n",
       "23691     500.0       0.0       0.0    1000.0       0.0    2415.0   \n",
       "17232       0.0       0.0       0.0    2395.0    4000.0       0.0   \n",
       "19485     318.0     534.0    1475.0    1105.0    1803.0       0.0   \n",
       "360     19000.0   16000.0   14000.0   16500.0       0.0   10000.0   \n",
       "\n",
       "       MontoCredito     Score  Prediccion  Realidad  \n",
       "9154       490000.0  0.031260           0         0  \n",
       "5459       360000.0  0.031486           0         0  \n",
       "3464       340000.0  0.031626           0         0  \n",
       "20688      440000.0  0.031710           0         0  \n",
       "3736       430000.0  0.032771           0         0  \n",
       "...             ...       ...         ...       ...  \n",
       "27536      250000.0  0.886882           1         1  \n",
       "23691       20000.0  0.892800           1         1  \n",
       "17232       10000.0  0.897091           1         1  \n",
       "19485      280000.0  0.900526           1         1  \n",
       "360        500000.0  0.930440           1         1  \n",
       "\n",
       "[9000 rows x 66 columns]"
      ]
     },
     "execution_count": 75,
     "metadata": {},
     "output_type": "execute_result"
    }
   ],
   "source": [
    "data_sorted = clientes.sort_values(by='Score', ascending=True)\n",
    "data_sorted"
   ]
  },
  {
   "cell_type": "code",
   "execution_count": 76,
   "id": "1dc523d2-4076-499b-8cf8-d43e150a4732",
   "metadata": {},
   "outputs": [
    {
     "data": {
      "text/plain": [
       "900"
      ]
     },
     "execution_count": 76,
     "metadata": {},
     "output_type": "execute_result"
    }
   ],
   "source": [
    "# Calcular el número de usuarios por decil\n",
    "num_users_per_decile = len(data_sorted) // 10\n",
    "# Crear una nueva columna 'decil' para indicar el decil al que pertenece cada usuario\n",
    "data_sorted['decil'] = (data_sorted.reset_index().index // num_users_per_decile) + 1"
   ]
  },
  {
   "cell_type": "code",
   "execution_count": 77,
   "id": "203021ee-feb9-424f-939c-56c16fa6e025",
   "metadata": {},
   "outputs": [],
   "source": []
  },
  {
   "cell_type": "code",
   "execution_count": 78,
   "id": "db85b31f-84af-41f8-800e-15e15e10eb50",
   "metadata": {},
   "outputs": [
    {
     "data": {
      "text/plain": [
       "1     900\n",
       "2     900\n",
       "3     900\n",
       "4     900\n",
       "5     900\n",
       "6     900\n",
       "7     900\n",
       "8     900\n",
       "9     900\n",
       "10    900\n",
       "Name: decil, dtype: int64"
      ]
     },
     "execution_count": 78,
     "metadata": {},
     "output_type": "execute_result"
    }
   ],
   "source": [
    "data_sorted['decil'].value_counts(normalize=False)"
   ]
  },
  {
   "cell_type": "code",
   "execution_count": 79,
   "id": "85cdf803-ec34-4c9a-ac1e-03ec0fa5dd68",
   "metadata": {},
   "outputs": [
    {
     "data": {
      "text/html": [
       "<div>\n",
       "<style scoped>\n",
       "    .dataframe tbody tr th:only-of-type {\n",
       "        vertical-align: middle;\n",
       "    }\n",
       "\n",
       "    .dataframe tbody tr th {\n",
       "        vertical-align: top;\n",
       "    }\n",
       "\n",
       "    .dataframe thead th {\n",
       "        text-align: right;\n",
       "    }\n",
       "</style>\n",
       "<table border=\"1\" class=\"dataframe\">\n",
       "  <thead>\n",
       "    <tr style=\"text-align: right;\">\n",
       "      <th></th>\n",
       "      <th>decil</th>\n",
       "      <th>Score</th>\n",
       "      <th>Realidad</th>\n",
       "    </tr>\n",
       "  </thead>\n",
       "  <tbody>\n",
       "    <tr>\n",
       "      <th>9154</th>\n",
       "      <td>1</td>\n",
       "      <td>0.031260</td>\n",
       "      <td>0</td>\n",
       "    </tr>\n",
       "    <tr>\n",
       "      <th>5459</th>\n",
       "      <td>1</td>\n",
       "      <td>0.031486</td>\n",
       "      <td>0</td>\n",
       "    </tr>\n",
       "    <tr>\n",
       "      <th>3464</th>\n",
       "      <td>1</td>\n",
       "      <td>0.031626</td>\n",
       "      <td>0</td>\n",
       "    </tr>\n",
       "    <tr>\n",
       "      <th>20688</th>\n",
       "      <td>1</td>\n",
       "      <td>0.031710</td>\n",
       "      <td>0</td>\n",
       "    </tr>\n",
       "    <tr>\n",
       "      <th>3736</th>\n",
       "      <td>1</td>\n",
       "      <td>0.032771</td>\n",
       "      <td>0</td>\n",
       "    </tr>\n",
       "    <tr>\n",
       "      <th>...</th>\n",
       "      <td>...</td>\n",
       "      <td>...</td>\n",
       "      <td>...</td>\n",
       "    </tr>\n",
       "    <tr>\n",
       "      <th>27536</th>\n",
       "      <td>10</td>\n",
       "      <td>0.886882</td>\n",
       "      <td>1</td>\n",
       "    </tr>\n",
       "    <tr>\n",
       "      <th>23691</th>\n",
       "      <td>10</td>\n",
       "      <td>0.892800</td>\n",
       "      <td>1</td>\n",
       "    </tr>\n",
       "    <tr>\n",
       "      <th>17232</th>\n",
       "      <td>10</td>\n",
       "      <td>0.897091</td>\n",
       "      <td>1</td>\n",
       "    </tr>\n",
       "    <tr>\n",
       "      <th>19485</th>\n",
       "      <td>10</td>\n",
       "      <td>0.900526</td>\n",
       "      <td>1</td>\n",
       "    </tr>\n",
       "    <tr>\n",
       "      <th>360</th>\n",
       "      <td>10</td>\n",
       "      <td>0.930440</td>\n",
       "      <td>1</td>\n",
       "    </tr>\n",
       "  </tbody>\n",
       "</table>\n",
       "<p>9000 rows × 3 columns</p>\n",
       "</div>"
      ],
      "text/plain": [
       "       decil     Score  Realidad\n",
       "9154       1  0.031260         0\n",
       "5459       1  0.031486         0\n",
       "3464       1  0.031626         0\n",
       "20688      1  0.031710         0\n",
       "3736       1  0.032771         0\n",
       "...      ...       ...       ...\n",
       "27536     10  0.886882         1\n",
       "23691     10  0.892800         1\n",
       "17232     10  0.897091         1\n",
       "19485     10  0.900526         1\n",
       "360       10  0.930440         1\n",
       "\n",
       "[9000 rows x 3 columns]"
      ]
     },
     "execution_count": 79,
     "metadata": {},
     "output_type": "execute_result"
    }
   ],
   "source": [
    "data_sorted[[\"decil\",\"Score\",\"Realidad\"]]"
   ]
  },
  {
   "cell_type": "code",
   "execution_count": 80,
   "id": "bdd94908-a6d1-4c7d-a0a0-9c53a6d3d6b7",
   "metadata": {},
   "outputs": [
    {
     "data": {
      "image/png": "[encoded data removed]",
      "text/plain": [
       "<Figure size 432x288 with 1 Axes>"
      ]
     },
     "metadata": {},
     "output_type": "display_data"
    }
   ],
   "source": [
    "decil_10=data_sorted[data_sorted[\"decil\"]==10].copy()\n",
    "decil_10.Realidad.value_counts().plot(kind=\"pie\",autopct=\"%.2f\");"
   ]
  },
  {
   "cell_type": "code",
   "execution_count": 81,
   "id": "c4f358e3-dd88-4662-83b8-4e99d5e4ae23",
   "metadata": {},
   "outputs": [
    {
     "data": {
      "image/png": "[encoded data removed]",
      "text/plain": [
       "<Figure size 432x288 with 1 Axes>"
      ]
     },
     "metadata": {},
     "output_type": "display_data"
    }
   ],
   "source": [
    "decil_9=data_sorted[data_sorted[\"decil\"]==9].copy()\n",
    "decil_9.Realidad.value_counts().plot(kind=\"pie\",autopct=\"%.2f\");"
   ]
  },
  {
   "cell_type": "code",
   "execution_count": 82,
   "id": "b60f1cac-247d-4671-a27a-907685bcb8da",
   "metadata": {},
   "outputs": [
    {
     "data": {
      "image/png": "[encoded data removed]",
      "text/plain": [
       "<Figure size 432x288 with 1 Axes>"
      ]
     },
     "metadata": {},
     "output_type": "display_data"
    }
   ],
   "source": [
    "decil_8=data_sorted[data_sorted[\"decil\"]==8].copy()\n",
    "decil_8.Realidad.value_counts().plot(kind=\"pie\",autopct=\"%.2f\");"
   ]
  },
  {
   "cell_type": "code",
   "execution_count": 83,
   "id": "895061d2-c84a-4ea5-a48a-913ec97446b8",
   "metadata": {},
   "outputs": [
    {
     "data": {
      "image/png": "[encoded data removed]",
      "text/plain": [
       "<Figure size 432x288 with 1 Axes>"
      ]
     },
     "metadata": {},
     "output_type": "display_data"
    }
   ],
   "source": [
    "decil_5=data_sorted[data_sorted[\"decil\"]==5].copy()\n",
    "decil_5.Realidad.value_counts().plot(kind=\"pie\",autopct=\"%.2f\");"
   ]
  },
  {
   "cell_type": "code",
   "execution_count": 84,
   "id": "910d6060-5e4e-4b57-bbc8-d57eda48e47a",
   "metadata": {},
   "outputs": [
    {
     "data": {
      "image/png": "[encoded data removed]",
      "text/plain": [
       "<Figure size 432x288 with 1 Axes>"
      ]
     },
     "metadata": {},
     "output_type": "display_data"
    }
   ],
   "source": [
    "decil_2=data_sorted[data_sorted[\"decil\"]==2].copy()\n",
    "decil_2.Realidad.value_counts().plot(kind=\"pie\",autopct=\"%.2f\");"
   ]
  },
  {
   "cell_type": "code",
   "execution_count": 85,
   "id": "66981686-325e-41ea-9cd9-26e54c97b68e",
   "metadata": {},
   "outputs": [
    {
     "data": {
      "image/png": "[encoded data removed]",
      "text/plain": [
       "<Figure size 432x288 with 1 Axes>"
      ]
     },
     "metadata": {},
     "output_type": "display_data"
    }
   ],
   "source": [
    "decil_1=data_sorted[data_sorted[\"decil\"]==1].copy()\n",
    "decil_1.Realidad.value_counts().plot(kind=\"pie\",autopct=\"%.2f\");"
   ]
  },
  {
   "cell_type": "markdown",
   "id": "2f036d14-9ff4-4d1e-9f03-bb2587d43087",
   "metadata": {},
   "source": [
    "## **Exportar Modelo**"
   ]
  },
  {
   "cell_type": "code",
   "execution_count": 86,
   "id": "f075b7af-4377-45c8-bf06-20dc116ca9f3",
   "metadata": {},
   "outputs": [],
   "source": [
    "ModeloProductivo=GradientBoostingClassifier(ccp_alpha=0.0, criterion='friedman_mse', init=None,\n",
    "                           learning_rate=0.1, loss='log_loss', max_depth=3,\n",
    "                           max_features=None, max_leaf_nodes=None,\n",
    "                           min_impurity_decrease=0.0, min_samples_leaf=1,\n",
    "                           min_samples_split=2, min_weight_fraction_leaf=0.0,\n",
    "                           n_estimators=100, n_iter_no_change=None,\n",
    "                           random_state=123, subsample=1.0, tol=0.0001,\n",
    "                           validation_fraction=0.1, verbose=0,\n",
    "                           warm_start=False).fit(X,y)"
   ]
  },
  {
   "cell_type": "code",
   "execution_count": 87,
   "id": "678c7985-76da-480a-b108-c36bb566ce06",
   "metadata": {},
   "outputs": [
    {
     "name": "stdout",
     "output_type": "stream",
     "text": [
      "Accuracy: 0.8257333333333333\n",
      "Reporte :               precision    recall  f1-score   support\n",
      "\n",
      "           0       0.84      0.96      0.90     23364\n",
      "           1       0.70      0.37      0.48      6636\n",
      "\n",
      "    accuracy                           0.83     30000\n",
      "   macro avg       0.77      0.66      0.69     30000\n",
      "weighted avg       0.81      0.83      0.80     30000\n",
      "\n"
     ]
    },
    {
     "data": {
      "text/html": [
       "<div>\n",
       "<style scoped>\n",
       "    .dataframe tbody tr th:only-of-type {\n",
       "        vertical-align: middle;\n",
       "    }\n",
       "\n",
       "    .dataframe tbody tr th {\n",
       "        vertical-align: top;\n",
       "    }\n",
       "\n",
       "    .dataframe thead th {\n",
       "        text-align: right;\n",
       "    }\n",
       "</style>\n",
       "<table border=\"1\" class=\"dataframe\">\n",
       "  <thead>\n",
       "    <tr style=\"text-align: right;\">\n",
       "      <th>Predicciones</th>\n",
       "      <th>0</th>\n",
       "      <th>1</th>\n",
       "      <th>All</th>\n",
       "    </tr>\n",
       "    <tr>\n",
       "      <th>Realidad</th>\n",
       "      <th></th>\n",
       "      <th></th>\n",
       "      <th></th>\n",
       "    </tr>\n",
       "  </thead>\n",
       "  <tbody>\n",
       "    <tr>\n",
       "      <th>0</th>\n",
       "      <td>22324</td>\n",
       "      <td>1040</td>\n",
       "      <td>23364</td>\n",
       "    </tr>\n",
       "    <tr>\n",
       "      <th>1</th>\n",
       "      <td>4188</td>\n",
       "      <td>2448</td>\n",
       "      <td>6636</td>\n",
       "    </tr>\n",
       "    <tr>\n",
       "      <th>All</th>\n",
       "      <td>26512</td>\n",
       "      <td>3488</td>\n",
       "      <td>30000</td>\n",
       "    </tr>\n",
       "  </tbody>\n",
       "</table>\n",
       "</div>"
      ],
      "text/plain": [
       "Predicciones      0     1    All\n",
       "Realidad                        \n",
       "0             22324  1040  23364\n",
       "1              4188  2448   6636\n",
       "All           26512  3488  30000"
      ]
     },
     "execution_count": 87,
     "metadata": {},
     "output_type": "execute_result"
    },
    {
     "data": {
      "image/png": "[encoded data removed]",
      "text/plain": [
       "<Figure size 432x288 with 2 Axes>"
      ]
     },
     "metadata": {
      "needs_background": "light"
     },
     "output_type": "display_data"
    }
   ],
   "source": [
    "MetricasMatrizConfusion(y=y,Modelo=ModeloProductivo,X=X,tipo=\"ML\")"
   ]
  },
  {
   "cell_type": "code",
   "execution_count": 88,
   "id": "084182d9-2c18-43f1-b252-ce90550196db",
   "metadata": {},
   "outputs": [
    {
     "data": {
      "image/png": "[encoded data removed]",
      "text/plain": [
       "<Figure size 432x288 with 1 Axes>"
      ]
     },
     "metadata": {
      "needs_background": "light"
     },
     "output_type": "display_data"
    },
    {
     "data": {
      "text/plain": [
       "0.7964440129010499"
      ]
     },
     "execution_count": 88,
     "metadata": {},
     "output_type": "execute_result"
    }
   ],
   "source": [
    "curva_roc(y=y,Modelo=ModeloProductivo,X=X,tipo=\"ML\")"
   ]
  },
  {
   "cell_type": "code",
   "execution_count": 89,
   "id": "87e82d5e-bcb0-482c-b6d4-dfc0d7c21a27",
   "metadata": {},
   "outputs": [],
   "source": [
    "import pickle\n",
    "with open('ModeloFinalCredit.pkl', 'wb') as file:\n",
    "    pickle.dump(ModeloProductivo, file)"
   ]
  },
  {
   "cell_type": "code",
   "execution_count": 91,
   "id": "a26c51fe-22f6-46d3-aa2c-57bdd21ab225",
   "metadata": {},
   "outputs": [],
   "source": [
    "x_test.to_csv(\"BaseNueva.csv\",index=False)"
   ]
  },
  {
   "cell_type": "code",
   "execution_count": null,
   "id": "50f0dc60-da4d-45fb-b05a-4efbe94a75f9",
   "metadata": {},
   "outputs": [],
   "source": []
  }
 ],
 "metadata": {
  "kernelspec": {
   "display_name": "Python 3 (ipykernel)",
   "language": "python",
   "name": "python3"
  },
  "language_info": {
   "codemirror_mode": {
    "name": "ipython",
    "version": 3
   },
   "file_extension": ".py",
   "mimetype": "text/x-python",
   "name": "python",
   "nbconvert_exporter": "python",
   "pygments_lexer": "ipython3",
   "version": "3.9.16"
  }
 },
 "nbformat": 4,
 "nbformat_minor": 5
}
