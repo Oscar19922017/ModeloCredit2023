{
 "cells": [
  {
   "cell_type": "markdown",
   "id": "83ceea0c-08a5-403d-962c-95c682bd02b1",
   "metadata": {},
   "source": [
    "# **PyCaret**\n",
    "\n",
    "\n",
    "PyCaret es una biblioteca de código abierto de aprendizaje automático (machine learning) para Python que facilita y agiliza el proceso de desarrollo y experimentación con modelos de aprendizaje automático. Fue desarrollado para simplificar tareas comunes en el flujo de trabajo de aprendizaje automático, como la preparación de datos, la selección de características, la creación de modelos, la evaluación y comparación de modelos, y la interpretación de resultados.\n",
    "\n",
    "Las características principales de PyCaret son:\n",
    "\n",
    "* Interfaz sencilla: PyCaret proporciona una interfaz de línea de comandos simple e intuitiva, lo que lo hace accesible incluso para usuarios nuevos en aprendizaje automático.\n",
    "\n",
    "* Automatización del flujo de trabajo: PyCaret automatiza muchas de las tareas repetitivas y tediosas que generalmente se realizan en el proceso de desarrollo de modelos, lo que permite a los usuarios centrarse más en la experimentación y la iteración rápida.\n",
    "\n",
    "* Soporte para múltiples bibliotecas de aprendizaje automático: PyCaret es compatible con varias bibliotecas populares de aprendizaje automático, como scikit-learn, XGBoost, LightGBM, CatBoost, etc. Esto permite a los usuarios comparar fácilmente diferentes algoritmos sin necesidad de escribir mucho código.\n",
    "\n",
    "* Funciones de preprocesamiento de datos: PyCaret ofrece funcionalidades para la preparación y limpieza de datos, incluyendo manejo de valores faltantes, codificación de variables categóricas, y más.\n",
    "\n",
    "* Comparación de modelos: PyCaret permite comparar rápidamente el rendimiento de varios modelos utilizando diferentes métricas, lo que ayuda a seleccionar el mejor modelo para un problema en particular.\n",
    "\n",
    "* Sintonización automática de hiperparámetros: PyCaret puede realizar automáticamente la búsqueda de hiperparámetros para optimizar los modelos, lo que reduce la necesidad de ajustar manualmente los hiperparámetros.\n",
    "\n",
    "* Interpretación de modelos: PyCaret ofrece funciones para interpretar y visualizar los modelos entrenados, lo que facilita la comprensión de cómo funcionan y qué características son más importantes para la predicción.\n",
    "\n",
    "En general, PyCaret es una excelente herramienta para acelerar y simplificar el proceso de desarrollo de modelos de aprendizaje automático, lo que lo hace especialmente útil para usuarios que deseen experimentar con diferentes algoritmos y técnicas de manera eficiente. Sin embargo, es importante tener en cuenta que, como en cualquier biblioteca de alto nivel, la flexibilidad y control sobre el flujo de trabajo pueden ser más limitados que al utilizar bibliotecas de nivel más bajo como scikit-learn."
   ]
  },
  {
   "cell_type": "code",
   "execution_count": 1,
   "id": "4b112f6d-9bc7-4d9e-9a51-c49d1c108445",
   "metadata": {},
   "outputs": [],
   "source": [
    "import numpy as np\n",
    "import pandas as pd\n",
    "from sklearn.model_selection import train_test_split # Dividir la data en entraniemo y prueba\n",
    "import statsmodels.api as sms\n",
    "from sklearn.linear_model import LogisticRegression\n",
    "from sklearn.metrics import confusion_matrix\n",
    "from sklearn.metrics import precision_score,recall_score,f1_score,accuracy_score\n",
    "from sklearn import metrics\n",
    "from skopt import BayesSearchCV\n",
    "import seaborn as sns\n",
    "import matplotlib.pyplot as plt \n",
    "\n",
    "from sklearn.metrics import roc_curve\n",
    "from sklearn.metrics import roc_auc_score\n",
    "import pycaret\n",
    "from pycaret.classification import *\n",
    "\n",
    "import xgboost as xgb\n",
    "import lightgbm as lgb\n",
    "import catboost \n",
    "\n",
    "\n",
    "\n",
    "\n",
    "import warnings\n",
    "warnings.filterwarnings(\"ignore\")\n",
    "\n",
    "\n",
    "def MetricasMatrizConfusion(y,Modelo,X,tipo=\"ML\"):\n",
    "    ## Validar la longitud de los datos\n",
    "    if (len(y)==len(X)):\n",
    "        \n",
    "        if (tipo!=\"ML\"):\n",
    "            Probabilidad=Modelo.predict(exog=X) # Logit\n",
    "            Predicciones=np.where(Probabilidad<0.5,0,1)\n",
    "        else:\n",
    "            Predicciones=Modelo.predict(X) # Modleo de ML    \n",
    "        td1=pd.DataFrame(Predicciones,columns=[\"Predicciones\"])\n",
    "        td2=pd.concat([y.reset_index(drop=True),td1],axis=1)\n",
    "        td2.columns=[\"Realidad\",\"Predicciones\"]\n",
    "        Matriz=pd.crosstab(td2[\"Realidad\"],td2[\"Predicciones\"],margins=True)\n",
    "        \n",
    "        ## Formato porcentaje\n",
    "        MatrizNormalizada=pd.crosstab(td2[\"Realidad\"],td2[\"Predicciones\"],normalize=0)\n",
    "        sns.heatmap(MatrizNormalizada,annot=True,linewidths = 0.01, cmap = \"Blues\")\n",
    "        \n",
    "        ### Métricas, Recall, Precisión\n",
    "        \n",
    "        Accuracy =metrics.accuracy_score(y,Predicciones)\n",
    "        print(f'Accuracy: {Accuracy}')\n",
    "        Reporte=metrics.classification_report(y,Predicciones)\n",
    "        print(f'Reporte : {Reporte}')\n",
    "        \n",
    "    \n",
    "    \n",
    "    else:\n",
    "        \n",
    "        Matriz=[]\n",
    "        print(\"Los datos no tienen la misma longitud\")\n",
    "    \n",
    "    \n",
    "    return Matriz\n",
    "\n",
    "def curva_roc(y,Modelo,X,tipo=\"ML\"):\n",
    "    if (tipo!=\"ML\"):\n",
    "        Probabilidad=Modelo.predict(exog=X) # Logit (statsmodels)\n",
    "    else:\n",
    "        Probabilidad=Modelo.predict_proba(X)[:,1] # cuando es Machine Learning(SKlearn) \n",
    "        \n",
    "    roc_auc=roc_auc_score(y,Probabilidad)\n",
    "    false_positive,true_positive,limites=roc_curve(y,Probabilidad)\n",
    "    ramdom_probs=[0 for i in range(len(y))]\n",
    "    c,d,_=roc_curve(y,ramdom_probs,pos_label=1) ## Diagonal\n",
    "    \n",
    "    plt.plot(false_positive,true_positive,linestyle=\"--\",color=\"green\",label=\"AUC: \"+str(round(roc_auc,2)))\n",
    "    plt.plot(c,d,linestyle=\"--\",color=\"blue\")\n",
    "    plt.xlabel(\"Tasa Falsos Positivos\")\n",
    "    plt.ylabel(\"Tasa Verdaderos Positivos\")\n",
    "    plt.legend()\n",
    "    plt.show()\n",
    "    return roc_auc"
   ]
  },
  {
   "cell_type": "code",
   "execution_count": 2,
   "id": "9d5c2226-bd12-4624-9094-51a51e0af371",
   "metadata": {},
   "outputs": [],
   "source": [
    "## Anaconda \n",
    "# conda install -c conda-forge pycaret [full]\n",
    "# conda install -c conda-forge lightgbm\n",
    "# conda install -c conda-forge catboost\n",
    "# onda install -c conda-forge xgboost\n",
    "# conda install -c conda-forge scikit-optimize"
   ]
  },
  {
   "cell_type": "code",
   "execution_count": 3,
   "id": "af2daa56-2ad4-4bfb-985f-03b09658880d",
   "metadata": {},
   "outputs": [],
   "source": [
    "## Google colab\n",
    "# !pip install pycaret[full]\n",
    "# !pip install lightgbm\n",
    "# !pip install catboost\n",
    "# !pip install xgboost\n",
    "# !pip install scikit-optimize"
   ]
  },
  {
   "cell_type": "markdown",
   "id": "f6ca7a27-9388-4852-a91e-2cb6da75e704",
   "metadata": {},
   "source": [
    "## **Preparar los datos**"
   ]
  },
  {
   "cell_type": "code",
   "execution_count": 4,
   "id": "11dbfc4e-257c-472b-8045-6abe73034c0a",
   "metadata": {},
   "outputs": [],
   "source": [
    "df=pd.read_csv(\"BaseModelos.csv\")"
   ]
  },
  {
   "cell_type": "code",
   "execution_count": 5,
   "id": "6c468d41-9065-4ee0-9422-61ddc465a7eb",
   "metadata": {},
   "outputs": [
    {
     "data": {
      "text/html": [
       "<div>\n",
       "<style scoped>\n",
       "    .dataframe tbody tr th:only-of-type {\n",
       "        vertical-align: middle;\n",
       "    }\n",
       "\n",
       "    .dataframe tbody tr th {\n",
       "        vertical-align: top;\n",
       "    }\n",
       "\n",
       "    .dataframe thead th {\n",
       "        text-align: right;\n",
       "    }\n",
       "</style>\n",
       "<table border=\"1\" class=\"dataframe\">\n",
       "  <thead>\n",
       "    <tr style=\"text-align: right;\">\n",
       "      <th></th>\n",
       "      <th>MontoCredito</th>\n",
       "      <th>Edad</th>\n",
       "      <th>BILL_AMT1</th>\n",
       "      <th>PAY_AMT1</th>\n",
       "      <th>PAY_AMT2</th>\n",
       "      <th>PAY_AMT3</th>\n",
       "      <th>PAY_AMT4</th>\n",
       "      <th>PAY_AMT5</th>\n",
       "      <th>PAY_AMT6</th>\n",
       "      <th>PAY_0_-1</th>\n",
       "      <th>...</th>\n",
       "      <th>PAY_6_5</th>\n",
       "      <th>PAY_6_6</th>\n",
       "      <th>PAY_6_7</th>\n",
       "      <th>PAY_6_8</th>\n",
       "      <th>Genero_Homologado_Masculino</th>\n",
       "      <th>EducacionHomologada_Posgrado</th>\n",
       "      <th>EducacionHomologada_Pregrado</th>\n",
       "      <th>EstadoCivilHomologado_Otros</th>\n",
       "      <th>EstadoCivilHomologado_Soltero</th>\n",
       "      <th>Mora</th>\n",
       "    </tr>\n",
       "  </thead>\n",
       "  <tbody>\n",
       "    <tr>\n",
       "      <th>0</th>\n",
       "      <td>20000.0</td>\n",
       "      <td>24.0</td>\n",
       "      <td>3913.0</td>\n",
       "      <td>0.0</td>\n",
       "      <td>689.0</td>\n",
       "      <td>0.0</td>\n",
       "      <td>0.0</td>\n",
       "      <td>0.0</td>\n",
       "      <td>0.0</td>\n",
       "      <td>0</td>\n",
       "      <td>...</td>\n",
       "      <td>0</td>\n",
       "      <td>0</td>\n",
       "      <td>0</td>\n",
       "      <td>0</td>\n",
       "      <td>1</td>\n",
       "      <td>0</td>\n",
       "      <td>1</td>\n",
       "      <td>0</td>\n",
       "      <td>0</td>\n",
       "      <td>1</td>\n",
       "    </tr>\n",
       "    <tr>\n",
       "      <th>1</th>\n",
       "      <td>120000.0</td>\n",
       "      <td>26.0</td>\n",
       "      <td>2682.0</td>\n",
       "      <td>0.0</td>\n",
       "      <td>1000.0</td>\n",
       "      <td>1000.0</td>\n",
       "      <td>1000.0</td>\n",
       "      <td>0.0</td>\n",
       "      <td>2000.0</td>\n",
       "      <td>1</td>\n",
       "      <td>...</td>\n",
       "      <td>0</td>\n",
       "      <td>0</td>\n",
       "      <td>0</td>\n",
       "      <td>0</td>\n",
       "      <td>1</td>\n",
       "      <td>0</td>\n",
       "      <td>1</td>\n",
       "      <td>0</td>\n",
       "      <td>1</td>\n",
       "      <td>1</td>\n",
       "    </tr>\n",
       "    <tr>\n",
       "      <th>2</th>\n",
       "      <td>90000.0</td>\n",
       "      <td>34.0</td>\n",
       "      <td>29239.0</td>\n",
       "      <td>1518.0</td>\n",
       "      <td>1500.0</td>\n",
       "      <td>1000.0</td>\n",
       "      <td>1000.0</td>\n",
       "      <td>1000.0</td>\n",
       "      <td>5000.0</td>\n",
       "      <td>0</td>\n",
       "      <td>...</td>\n",
       "      <td>0</td>\n",
       "      <td>0</td>\n",
       "      <td>0</td>\n",
       "      <td>0</td>\n",
       "      <td>1</td>\n",
       "      <td>0</td>\n",
       "      <td>1</td>\n",
       "      <td>0</td>\n",
       "      <td>1</td>\n",
       "      <td>0</td>\n",
       "    </tr>\n",
       "    <tr>\n",
       "      <th>3</th>\n",
       "      <td>50000.0</td>\n",
       "      <td>37.0</td>\n",
       "      <td>46990.0</td>\n",
       "      <td>2000.0</td>\n",
       "      <td>2019.0</td>\n",
       "      <td>1200.0</td>\n",
       "      <td>1100.0</td>\n",
       "      <td>1069.0</td>\n",
       "      <td>1000.0</td>\n",
       "      <td>0</td>\n",
       "      <td>...</td>\n",
       "      <td>0</td>\n",
       "      <td>0</td>\n",
       "      <td>0</td>\n",
       "      <td>0</td>\n",
       "      <td>1</td>\n",
       "      <td>0</td>\n",
       "      <td>1</td>\n",
       "      <td>0</td>\n",
       "      <td>0</td>\n",
       "      <td>0</td>\n",
       "    </tr>\n",
       "    <tr>\n",
       "      <th>4</th>\n",
       "      <td>50000.0</td>\n",
       "      <td>57.0</td>\n",
       "      <td>8617.0</td>\n",
       "      <td>2000.0</td>\n",
       "      <td>36681.0</td>\n",
       "      <td>10000.0</td>\n",
       "      <td>9000.0</td>\n",
       "      <td>689.0</td>\n",
       "      <td>679.0</td>\n",
       "      <td>1</td>\n",
       "      <td>...</td>\n",
       "      <td>0</td>\n",
       "      <td>0</td>\n",
       "      <td>0</td>\n",
       "      <td>0</td>\n",
       "      <td>0</td>\n",
       "      <td>0</td>\n",
       "      <td>1</td>\n",
       "      <td>0</td>\n",
       "      <td>0</td>\n",
       "      <td>0</td>\n",
       "    </tr>\n",
       "  </tbody>\n",
       "</table>\n",
       "<p>5 rows × 73 columns</p>\n",
       "</div>"
      ],
      "text/plain": [
       "   MontoCredito  Edad  BILL_AMT1  PAY_AMT1  PAY_AMT2  PAY_AMT3  PAY_AMT4  \\\n",
       "0       20000.0  24.0     3913.0       0.0     689.0       0.0       0.0   \n",
       "1      120000.0  26.0     2682.0       0.0    1000.0    1000.0    1000.0   \n",
       "2       90000.0  34.0    29239.0    1518.0    1500.0    1000.0    1000.0   \n",
       "3       50000.0  37.0    46990.0    2000.0    2019.0    1200.0    1100.0   \n",
       "4       50000.0  57.0     8617.0    2000.0   36681.0   10000.0    9000.0   \n",
       "\n",
       "   PAY_AMT5  PAY_AMT6  PAY_0_-1  ...  PAY_6_5  PAY_6_6  PAY_6_7  PAY_6_8  \\\n",
       "0       0.0       0.0         0  ...        0        0        0        0   \n",
       "1       0.0    2000.0         1  ...        0        0        0        0   \n",
       "2    1000.0    5000.0         0  ...        0        0        0        0   \n",
       "3    1069.0    1000.0         0  ...        0        0        0        0   \n",
       "4     689.0     679.0         1  ...        0        0        0        0   \n",
       "\n",
       "   Genero_Homologado_Masculino  EducacionHomologada_Posgrado  \\\n",
       "0                            1                             0   \n",
       "1                            1                             0   \n",
       "2                            1                             0   \n",
       "3                            1                             0   \n",
       "4                            0                             0   \n",
       "\n",
       "   EducacionHomologada_Pregrado  EstadoCivilHomologado_Otros  \\\n",
       "0                             1                            0   \n",
       "1                             1                            0   \n",
       "2                             1                            0   \n",
       "3                             1                            0   \n",
       "4                             1                            0   \n",
       "\n",
       "   EstadoCivilHomologado_Soltero  Mora  \n",
       "0                              0     1  \n",
       "1                              1     1  \n",
       "2                              1     0  \n",
       "3                              0     0  \n",
       "4                              0     0  \n",
       "\n",
       "[5 rows x 73 columns]"
      ]
     },
     "execution_count": 5,
     "metadata": {},
     "output_type": "execute_result"
    }
   ],
   "source": [
    "df.head()"
   ]
  },
  {
   "cell_type": "code",
   "execution_count": 6,
   "id": "d5699ce8-2c54-46fd-b9b9-66cd54001116",
   "metadata": {},
   "outputs": [],
   "source": [
    "Cat_Chi2=pd.read_csv(\"CatSignificativasChi2.csv\")[\"Variable\"].tolist()\n",
    "Num_Anova=pd.read_csv(\"NumericasSignificativasAnova.csv\")[\"Variable\"].tolist()"
   ]
  },
  {
   "cell_type": "code",
   "execution_count": 7,
   "id": "957b343a-e25c-4f31-8d7e-716d408eaa01",
   "metadata": {},
   "outputs": [],
   "source": [
    "VariablesPredictivas=Cat_Chi2+Num_Anova"
   ]
  },
  {
   "cell_type": "code",
   "execution_count": 8,
   "id": "a330ca00-92bd-419a-8ae6-8ad966c36f62",
   "metadata": {},
   "outputs": [],
   "source": [
    "X=df[VariablesPredictivas]"
   ]
  },
  {
   "cell_type": "code",
   "execution_count": 9,
   "id": "732289a3-6aee-43c3-8f60-01ea81bb16b1",
   "metadata": {},
   "outputs": [],
   "source": [
    "y=df[[\"Mora\"]]"
   ]
  },
  {
   "cell_type": "code",
   "execution_count": 10,
   "id": "6e46c62c-7530-4bd7-bd9b-8fa6fccc2f0e",
   "metadata": {},
   "outputs": [
    {
     "data": {
      "image/png": "[encoded data removed]",
      "text/plain": [
       "<Figure size 432x288 with 1 Axes>"
      ]
     },
     "metadata": {},
     "output_type": "display_data"
    }
   ],
   "source": [
    "y.value_counts().plot(kind=\"pie\",autopct=\"%.2f\");"
   ]
  },
  {
   "cell_type": "code",
   "execution_count": 11,
   "id": "d930ecbb-8db0-4809-bba7-57df06b7429a",
   "metadata": {},
   "outputs": [],
   "source": [
    "x_train,x_test,y_train,y_test = train_test_split(X,y,test_size=0.3,random_state=123, stratify=y)"
   ]
  },
  {
   "cell_type": "code",
   "execution_count": 12,
   "id": "d837ee32-4ec6-4000-9f81-8a31e58e8be9",
   "metadata": {},
   "outputs": [
    {
     "data": {
      "text/plain": [
       "Mora\n",
       "0       0.77881\n",
       "1       0.22119\n",
       "dtype: float64"
      ]
     },
     "execution_count": 12,
     "metadata": {},
     "output_type": "execute_result"
    }
   ],
   "source": [
    "y_train.value_counts(normalize=True)"
   ]
  },
  {
   "cell_type": "code",
   "execution_count": 13,
   "id": "a88bebd2-92e4-43e1-8f06-9084427cce0e",
   "metadata": {},
   "outputs": [
    {
     "data": {
      "text/plain": [
       "Mora\n",
       "0       0.778778\n",
       "1       0.221222\n",
       "dtype: float64"
      ]
     },
     "execution_count": 13,
     "metadata": {},
     "output_type": "execute_result"
    }
   ],
   "source": [
    "y_test.value_counts(normalize=True)"
   ]
  },
  {
   "cell_type": "markdown",
   "id": "474edb78-8673-40ab-9154-11a2af4b4410",
   "metadata": {},
   "source": [
    "## **Configuración Pycaret**"
   ]
  },
  {
   "cell_type": "code",
   "execution_count": 14,
   "id": "793da3f4-6074-4930-bb79-4be293e30bf4",
   "metadata": {},
   "outputs": [],
   "source": [
    "pycaret_train=pd.concat([x_train,y_train],axis=1)\n",
    "pycaret_test=pd.concat([x_test,y_test],axis=1)"
   ]
  },
  {
   "cell_type": "code",
   "execution_count": 15,
   "id": "5b29980b-c918-4c18-8fb0-4ca77be76f34",
   "metadata": {},
   "outputs": [
    {
     "data": {
      "text/html": [
       "<style type=\"text/css\">\n",
       "#T_41f9c_row8_col1, #T_41f9c_row13_col1 {\n",
       "  background-color: lightgreen;\n",
       "}\n",
       "</style>\n",
       "<table id=\"T_41f9c\">\n",
       "  <thead>\n",
       "    <tr>\n",
       "      <th class=\"blank level0\" >&nbsp;</th>\n",
       "      <th id=\"T_41f9c_level0_col0\" class=\"col_heading level0 col0\" >Description</th>\n",
       "      <th id=\"T_41f9c_level0_col1\" class=\"col_heading level0 col1\" >Value</th>\n",
       "    </tr>\n",
       "  </thead>\n",
       "  <tbody>\n",
       "    <tr>\n",
       "      <th id=\"T_41f9c_level0_row0\" class=\"row_heading level0 row0\" >0</th>\n",
       "      <td id=\"T_41f9c_row0_col0\" class=\"data row0 col0\" >Session id</td>\n",
       "      <td id=\"T_41f9c_row0_col1\" class=\"data row0 col1\" >123</td>\n",
       "    </tr>\n",
       "    <tr>\n",
       "      <th id=\"T_41f9c_level0_row1\" class=\"row_heading level0 row1\" >1</th>\n",
       "      <td id=\"T_41f9c_row1_col0\" class=\"data row1 col0\" >Target</td>\n",
       "      <td id=\"T_41f9c_row1_col1\" class=\"data row1 col1\" >Mora</td>\n",
       "    </tr>\n",
       "    <tr>\n",
       "      <th id=\"T_41f9c_level0_row2\" class=\"row_heading level0 row2\" >2</th>\n",
       "      <td id=\"T_41f9c_row2_col0\" class=\"data row2 col0\" >Target type</td>\n",
       "      <td id=\"T_41f9c_row2_col1\" class=\"data row2 col1\" >Binary</td>\n",
       "    </tr>\n",
       "    <tr>\n",
       "      <th id=\"T_41f9c_level0_row3\" class=\"row_heading level0 row3\" >3</th>\n",
       "      <td id=\"T_41f9c_row3_col0\" class=\"data row3 col0\" >Original data shape</td>\n",
       "      <td id=\"T_41f9c_row3_col1\" class=\"data row3 col1\" >(30000, 64)</td>\n",
       "    </tr>\n",
       "    <tr>\n",
       "      <th id=\"T_41f9c_level0_row4\" class=\"row_heading level0 row4\" >4</th>\n",
       "      <td id=\"T_41f9c_row4_col0\" class=\"data row4 col0\" >Transformed data shape</td>\n",
       "      <td id=\"T_41f9c_row4_col1\" class=\"data row4 col1\" >(41710, 64)</td>\n",
       "    </tr>\n",
       "    <tr>\n",
       "      <th id=\"T_41f9c_level0_row5\" class=\"row_heading level0 row5\" >5</th>\n",
       "      <td id=\"T_41f9c_row5_col0\" class=\"data row5 col0\" >Transformed train set shape</td>\n",
       "      <td id=\"T_41f9c_row5_col1\" class=\"data row5 col1\" >(32710, 64)</td>\n",
       "    </tr>\n",
       "    <tr>\n",
       "      <th id=\"T_41f9c_level0_row6\" class=\"row_heading level0 row6\" >6</th>\n",
       "      <td id=\"T_41f9c_row6_col0\" class=\"data row6 col0\" >Transformed test set shape</td>\n",
       "      <td id=\"T_41f9c_row6_col1\" class=\"data row6 col1\" >(9000, 64)</td>\n",
       "    </tr>\n",
       "    <tr>\n",
       "      <th id=\"T_41f9c_level0_row7\" class=\"row_heading level0 row7\" >7</th>\n",
       "      <td id=\"T_41f9c_row7_col0\" class=\"data row7 col0\" >Numeric features</td>\n",
       "      <td id=\"T_41f9c_row7_col1\" class=\"data row7 col1\" >63</td>\n",
       "    </tr>\n",
       "    <tr>\n",
       "      <th id=\"T_41f9c_level0_row8\" class=\"row_heading level0 row8\" >8</th>\n",
       "      <td id=\"T_41f9c_row8_col0\" class=\"data row8 col0\" >Preprocess</td>\n",
       "      <td id=\"T_41f9c_row8_col1\" class=\"data row8 col1\" >True</td>\n",
       "    </tr>\n",
       "    <tr>\n",
       "      <th id=\"T_41f9c_level0_row9\" class=\"row_heading level0 row9\" >9</th>\n",
       "      <td id=\"T_41f9c_row9_col0\" class=\"data row9 col0\" >Imputation type</td>\n",
       "      <td id=\"T_41f9c_row9_col1\" class=\"data row9 col1\" >simple</td>\n",
       "    </tr>\n",
       "    <tr>\n",
       "      <th id=\"T_41f9c_level0_row10\" class=\"row_heading level0 row10\" >10</th>\n",
       "      <td id=\"T_41f9c_row10_col0\" class=\"data row10 col0\" >Numeric imputation</td>\n",
       "      <td id=\"T_41f9c_row10_col1\" class=\"data row10 col1\" >mean</td>\n",
       "    </tr>\n",
       "    <tr>\n",
       "      <th id=\"T_41f9c_level0_row11\" class=\"row_heading level0 row11\" >11</th>\n",
       "      <td id=\"T_41f9c_row11_col0\" class=\"data row11 col0\" >Categorical imputation</td>\n",
       "      <td id=\"T_41f9c_row11_col1\" class=\"data row11 col1\" >constant</td>\n",
       "    </tr>\n",
       "    <tr>\n",
       "      <th id=\"T_41f9c_level0_row12\" class=\"row_heading level0 row12\" >12</th>\n",
       "      <td id=\"T_41f9c_row12_col0\" class=\"data row12 col0\" >Low variance threshold</td>\n",
       "      <td id=\"T_41f9c_row12_col1\" class=\"data row12 col1\" >0</td>\n",
       "    </tr>\n",
       "    <tr>\n",
       "      <th id=\"T_41f9c_level0_row13\" class=\"row_heading level0 row13\" >13</th>\n",
       "      <td id=\"T_41f9c_row13_col0\" class=\"data row13 col0\" >Fix imbalance</td>\n",
       "      <td id=\"T_41f9c_row13_col1\" class=\"data row13 col1\" >True</td>\n",
       "    </tr>\n",
       "    <tr>\n",
       "      <th id=\"T_41f9c_level0_row14\" class=\"row_heading level0 row14\" >14</th>\n",
       "      <td id=\"T_41f9c_row14_col0\" class=\"data row14 col0\" >Fix imbalance method</td>\n",
       "      <td id=\"T_41f9c_row14_col1\" class=\"data row14 col1\" >SMOTE</td>\n",
       "    </tr>\n",
       "    <tr>\n",
       "      <th id=\"T_41f9c_level0_row15\" class=\"row_heading level0 row15\" >15</th>\n",
       "      <td id=\"T_41f9c_row15_col0\" class=\"data row15 col0\" >Fold Generator</td>\n",
       "      <td id=\"T_41f9c_row15_col1\" class=\"data row15 col1\" >StratifiedKFold</td>\n",
       "    </tr>\n",
       "    <tr>\n",
       "      <th id=\"T_41f9c_level0_row16\" class=\"row_heading level0 row16\" >16</th>\n",
       "      <td id=\"T_41f9c_row16_col0\" class=\"data row16 col0\" >Fold Number</td>\n",
       "      <td id=\"T_41f9c_row16_col1\" class=\"data row16 col1\" >10</td>\n",
       "    </tr>\n",
       "    <tr>\n",
       "      <th id=\"T_41f9c_level0_row17\" class=\"row_heading level0 row17\" >17</th>\n",
       "      <td id=\"T_41f9c_row17_col0\" class=\"data row17 col0\" >CPU Jobs</td>\n",
       "      <td id=\"T_41f9c_row17_col1\" class=\"data row17 col1\" >-1</td>\n",
       "    </tr>\n",
       "    <tr>\n",
       "      <th id=\"T_41f9c_level0_row18\" class=\"row_heading level0 row18\" >18</th>\n",
       "      <td id=\"T_41f9c_row18_col0\" class=\"data row18 col0\" >Use GPU</td>\n",
       "      <td id=\"T_41f9c_row18_col1\" class=\"data row18 col1\" >False</td>\n",
       "    </tr>\n",
       "    <tr>\n",
       "      <th id=\"T_41f9c_level0_row19\" class=\"row_heading level0 row19\" >19</th>\n",
       "      <td id=\"T_41f9c_row19_col0\" class=\"data row19 col0\" >Log Experiment</td>\n",
       "      <td id=\"T_41f9c_row19_col1\" class=\"data row19 col1\" >False</td>\n",
       "    </tr>\n",
       "    <tr>\n",
       "      <th id=\"T_41f9c_level0_row20\" class=\"row_heading level0 row20\" >20</th>\n",
       "      <td id=\"T_41f9c_row20_col0\" class=\"data row20 col0\" >Experiment Name</td>\n",
       "      <td id=\"T_41f9c_row20_col1\" class=\"data row20 col1\" >clf-default-name</td>\n",
       "    </tr>\n",
       "    <tr>\n",
       "      <th id=\"T_41f9c_level0_row21\" class=\"row_heading level0 row21\" >21</th>\n",
       "      <td id=\"T_41f9c_row21_col0\" class=\"data row21 col0\" >USI</td>\n",
       "      <td id=\"T_41f9c_row21_col1\" class=\"data row21 col1\" >ce1a</td>\n",
       "    </tr>\n",
       "  </tbody>\n",
       "</table>\n"
      ],
      "text/plain": [
       "<pandas.io.formats.style.Styler at 0x7fc6581bdca0>"
      ]
     },
     "metadata": {},
     "output_type": "display_data"
    }
   ],
   "source": [
    "Model=setup(data=pycaret_train,test_data=pycaret_test,target=\"Mora\",session_id=123,fix_imbalance=True)"
   ]
  },
  {
   "cell_type": "code",
   "execution_count": 16,
   "id": "d2c3fd3f-821c-47dd-9b86-e3fcd14b3168",
   "metadata": {},
   "outputs": [],
   "source": [
    "models_to_compare=[\"rf\",'lightgbm','xgboost',\"dt\",\"catboost\",\"gbc\",\"lr\",\"et\"]"
   ]
  },
  {
   "cell_type": "code",
   "execution_count": 17,
   "id": "1eb56c33-233c-4c4c-9270-63f2625d3255",
   "metadata": {},
   "outputs": [
    {
     "data": {
      "text/html": [],
      "text/plain": [
       "<IPython.core.display.HTML object>"
      ]
     },
     "metadata": {},
     "output_type": "display_data"
    },
    {
     "data": {
      "text/html": [
       "<style type=\"text/css\">\n",
       "#T_50403 th {\n",
       "  text-align: left;\n",
       "}\n",
       "#T_50403_row0_col0, #T_50403_row0_col1, #T_50403_row0_col3, #T_50403_row0_col5, #T_50403_row0_col6, #T_50403_row0_col7, #T_50403_row1_col0, #T_50403_row1_col2, #T_50403_row1_col3, #T_50403_row1_col4, #T_50403_row1_col5, #T_50403_row2_col0, #T_50403_row2_col1, #T_50403_row2_col2, #T_50403_row2_col3, #T_50403_row2_col4, #T_50403_row2_col6, #T_50403_row2_col7, #T_50403_row3_col0, #T_50403_row3_col1, #T_50403_row3_col2, #T_50403_row3_col3, #T_50403_row3_col4, #T_50403_row3_col5, #T_50403_row3_col6, #T_50403_row3_col7, #T_50403_row4_col0, #T_50403_row4_col1, #T_50403_row4_col2, #T_50403_row4_col3, #T_50403_row4_col4, #T_50403_row4_col5, #T_50403_row4_col6, #T_50403_row4_col7, #T_50403_row5_col0, #T_50403_row5_col1, #T_50403_row5_col2, #T_50403_row5_col3, #T_50403_row5_col4, #T_50403_row5_col5, #T_50403_row5_col6, #T_50403_row5_col7, #T_50403_row6_col0, #T_50403_row6_col1, #T_50403_row6_col2, #T_50403_row6_col4, #T_50403_row6_col5, #T_50403_row6_col6, #T_50403_row6_col7, #T_50403_row7_col0, #T_50403_row7_col1, #T_50403_row7_col2, #T_50403_row7_col3, #T_50403_row7_col4, #T_50403_row7_col5, #T_50403_row7_col6, #T_50403_row7_col7 {\n",
       "  text-align: left;\n",
       "}\n",
       "#T_50403_row0_col2, #T_50403_row0_col4, #T_50403_row1_col1, #T_50403_row1_col6, #T_50403_row1_col7, #T_50403_row2_col5, #T_50403_row6_col3 {\n",
       "  text-align: left;\n",
       "  background-color: yellow;\n",
       "}\n",
       "#T_50403_row0_col8, #T_50403_row1_col8, #T_50403_row2_col8, #T_50403_row3_col8, #T_50403_row4_col8, #T_50403_row5_col8, #T_50403_row7_col8 {\n",
       "  text-align: left;\n",
       "  background-color: lightgrey;\n",
       "}\n",
       "#T_50403_row6_col8 {\n",
       "  text-align: left;\n",
       "  background-color: yellow;\n",
       "  background-color: lightgrey;\n",
       "}\n",
       "</style>\n",
       "<table id=\"T_50403\">\n",
       "  <thead>\n",
       "    <tr>\n",
       "      <th class=\"blank level0\" >&nbsp;</th>\n",
       "      <th id=\"T_50403_level0_col0\" class=\"col_heading level0 col0\" >Model</th>\n",
       "      <th id=\"T_50403_level0_col1\" class=\"col_heading level0 col1\" >Accuracy</th>\n",
       "      <th id=\"T_50403_level0_col2\" class=\"col_heading level0 col2\" >AUC</th>\n",
       "      <th id=\"T_50403_level0_col3\" class=\"col_heading level0 col3\" >Recall</th>\n",
       "      <th id=\"T_50403_level0_col4\" class=\"col_heading level0 col4\" >Prec.</th>\n",
       "      <th id=\"T_50403_level0_col5\" class=\"col_heading level0 col5\" >F1</th>\n",
       "      <th id=\"T_50403_level0_col6\" class=\"col_heading level0 col6\" >Kappa</th>\n",
       "      <th id=\"T_50403_level0_col7\" class=\"col_heading level0 col7\" >MCC</th>\n",
       "      <th id=\"T_50403_level0_col8\" class=\"col_heading level0 col8\" >TT (Sec)</th>\n",
       "    </tr>\n",
       "  </thead>\n",
       "  <tbody>\n",
       "    <tr>\n",
       "      <th id=\"T_50403_level0_row0\" class=\"row_heading level0 row0\" >gbc</th>\n",
       "      <td id=\"T_50403_row0_col0\" class=\"data row0 col0\" >Gradient Boosting Classifier</td>\n",
       "      <td id=\"T_50403_row0_col1\" class=\"data row0 col1\" >0.8179</td>\n",
       "      <td id=\"T_50403_row0_col2\" class=\"data row0 col2\" >0.7752</td>\n",
       "      <td id=\"T_50403_row0_col3\" class=\"data row0 col3\" >0.3653</td>\n",
       "      <td id=\"T_50403_row0_col4\" class=\"data row0 col4\" >0.6597</td>\n",
       "      <td id=\"T_50403_row0_col5\" class=\"data row0 col5\" >0.4702</td>\n",
       "      <td id=\"T_50403_row0_col6\" class=\"data row0 col6\" >0.3710</td>\n",
       "      <td id=\"T_50403_row0_col7\" class=\"data row0 col7\" >0.3947</td>\n",
       "      <td id=\"T_50403_row0_col8\" class=\"data row0 col8\" >5.5980</td>\n",
       "    </tr>\n",
       "    <tr>\n",
       "      <th id=\"T_50403_level0_row1\" class=\"row_heading level0 row1\" >lightgbm</th>\n",
       "      <td id=\"T_50403_row1_col0\" class=\"data row1 col0\" >Light Gradient Boosting Machine</td>\n",
       "      <td id=\"T_50403_row1_col1\" class=\"data row1 col1\" >0.8185</td>\n",
       "      <td id=\"T_50403_row1_col2\" class=\"data row1 col2\" >0.7728</td>\n",
       "      <td id=\"T_50403_row1_col3\" class=\"data row1 col3\" >0.3722</td>\n",
       "      <td id=\"T_50403_row1_col4\" class=\"data row1 col4\" >0.6590</td>\n",
       "      <td id=\"T_50403_row1_col5\" class=\"data row1 col5\" >0.4756</td>\n",
       "      <td id=\"T_50403_row1_col6\" class=\"data row1 col6\" >0.3760</td>\n",
       "      <td id=\"T_50403_row1_col7\" class=\"data row1 col7\" >0.3985</td>\n",
       "      <td id=\"T_50403_row1_col8\" class=\"data row1 col8\" >0.6940</td>\n",
       "    </tr>\n",
       "    <tr>\n",
       "      <th id=\"T_50403_level0_row2\" class=\"row_heading level0 row2\" >catboost</th>\n",
       "      <td id=\"T_50403_row2_col0\" class=\"data row2 col0\" >CatBoost Classifier</td>\n",
       "      <td id=\"T_50403_row2_col1\" class=\"data row2 col1\" >0.8168</td>\n",
       "      <td id=\"T_50403_row2_col2\" class=\"data row2 col2\" >0.7714</td>\n",
       "      <td id=\"T_50403_row2_col3\" class=\"data row2 col3\" >0.3791</td>\n",
       "      <td id=\"T_50403_row2_col4\" class=\"data row2 col4\" >0.6467</td>\n",
       "      <td id=\"T_50403_row2_col5\" class=\"data row2 col5\" >0.4779</td>\n",
       "      <td id=\"T_50403_row2_col6\" class=\"data row2 col6\" >0.3759</td>\n",
       "      <td id=\"T_50403_row2_col7\" class=\"data row2 col7\" >0.3957</td>\n",
       "      <td id=\"T_50403_row2_col8\" class=\"data row2 col8\" >9.6980</td>\n",
       "    </tr>\n",
       "    <tr>\n",
       "      <th id=\"T_50403_level0_row3\" class=\"row_heading level0 row3\" >rf</th>\n",
       "      <td id=\"T_50403_row3_col0\" class=\"data row3 col0\" >Random Forest Classifier</td>\n",
       "      <td id=\"T_50403_row3_col1\" class=\"data row3 col1\" >0.8131</td>\n",
       "      <td id=\"T_50403_row3_col2\" class=\"data row3 col2\" >0.7577</td>\n",
       "      <td id=\"T_50403_row3_col3\" class=\"data row3 col3\" >0.3804</td>\n",
       "      <td id=\"T_50403_row3_col4\" class=\"data row3 col4\" >0.6280</td>\n",
       "      <td id=\"T_50403_row3_col5\" class=\"data row3 col5\" >0.4738</td>\n",
       "      <td id=\"T_50403_row3_col6\" class=\"data row3 col6\" >0.3684</td>\n",
       "      <td id=\"T_50403_row3_col7\" class=\"data row3 col7\" >0.3855</td>\n",
       "      <td id=\"T_50403_row3_col8\" class=\"data row3 col8\" >2.1620</td>\n",
       "    </tr>\n",
       "    <tr>\n",
       "      <th id=\"T_50403_level0_row4\" class=\"row_heading level0 row4\" >xgboost</th>\n",
       "      <td id=\"T_50403_row4_col0\" class=\"data row4 col0\" >Extreme Gradient Boosting</td>\n",
       "      <td id=\"T_50403_row4_col1\" class=\"data row4 col1\" >0.8090</td>\n",
       "      <td id=\"T_50403_row4_col2\" class=\"data row4 col2\" >0.7553</td>\n",
       "      <td id=\"T_50403_row4_col3\" class=\"data row4 col3\" >0.3612</td>\n",
       "      <td id=\"T_50403_row4_col4\" class=\"data row4 col4\" >0.6168</td>\n",
       "      <td id=\"T_50403_row4_col5\" class=\"data row4 col5\" >0.4556</td>\n",
       "      <td id=\"T_50403_row4_col6\" class=\"data row4 col6\" >0.3492</td>\n",
       "      <td id=\"T_50403_row4_col7\" class=\"data row4 col7\" >0.3677</td>\n",
       "      <td id=\"T_50403_row4_col8\" class=\"data row4 col8\" >3.7340</td>\n",
       "    </tr>\n",
       "    <tr>\n",
       "      <th id=\"T_50403_level0_row5\" class=\"row_heading level0 row5\" >et</th>\n",
       "      <td id=\"T_50403_row5_col0\" class=\"data row5 col0\" >Extra Trees Classifier</td>\n",
       "      <td id=\"T_50403_row5_col1\" class=\"data row5 col1\" >0.8025</td>\n",
       "      <td id=\"T_50403_row5_col2\" class=\"data row5 col2\" >0.7384</td>\n",
       "      <td id=\"T_50403_row5_col3\" class=\"data row5 col3\" >0.3750</td>\n",
       "      <td id=\"T_50403_row5_col4\" class=\"data row5 col4\" >0.5833</td>\n",
       "      <td id=\"T_50403_row5_col5\" class=\"data row5 col5\" >0.4565</td>\n",
       "      <td id=\"T_50403_row5_col6\" class=\"data row5 col6\" >0.3428</td>\n",
       "      <td id=\"T_50403_row5_col7\" class=\"data row5 col7\" >0.3553</td>\n",
       "      <td id=\"T_50403_row5_col8\" class=\"data row5 col8\" >1.5220</td>\n",
       "    </tr>\n",
       "    <tr>\n",
       "      <th id=\"T_50403_level0_row6\" class=\"row_heading level0 row6\" >lr</th>\n",
       "      <td id=\"T_50403_row6_col0\" class=\"data row6 col0\" >Logistic Regression</td>\n",
       "      <td id=\"T_50403_row6_col1\" class=\"data row6 col1\" >0.5449</td>\n",
       "      <td id=\"T_50403_row6_col2\" class=\"data row6 col2\" >0.6381</td>\n",
       "      <td id=\"T_50403_row6_col3\" class=\"data row6 col3\" >0.7107</td>\n",
       "      <td id=\"T_50403_row6_col4\" class=\"data row6 col4\" >0.2867</td>\n",
       "      <td id=\"T_50403_row6_col5\" class=\"data row6 col5\" >0.4085</td>\n",
       "      <td id=\"T_50403_row6_col6\" class=\"data row6 col6\" >0.1363</td>\n",
       "      <td id=\"T_50403_row6_col7\" class=\"data row6 col7\" >0.1739</td>\n",
       "      <td id=\"T_50403_row6_col8\" class=\"data row6 col8\" >0.3020</td>\n",
       "    </tr>\n",
       "    <tr>\n",
       "      <th id=\"T_50403_level0_row7\" class=\"row_heading level0 row7\" >dt</th>\n",
       "      <td id=\"T_50403_row7_col0\" class=\"data row7 col0\" >Decision Tree Classifier</td>\n",
       "      <td id=\"T_50403_row7_col1\" class=\"data row7 col1\" >0.7211</td>\n",
       "      <td id=\"T_50403_row7_col2\" class=\"data row7 col2\" >0.6130</td>\n",
       "      <td id=\"T_50403_row7_col3\" class=\"data row7 col3\" >0.4181</td>\n",
       "      <td id=\"T_50403_row7_col4\" class=\"data row7 col4\" >0.3812</td>\n",
       "      <td id=\"T_50403_row7_col5\" class=\"data row7 col5\" >0.3987</td>\n",
       "      <td id=\"T_50403_row7_col6\" class=\"data row7 col6\" >0.2177</td>\n",
       "      <td id=\"T_50403_row7_col7\" class=\"data row7 col7\" >0.2182</td>\n",
       "      <td id=\"T_50403_row7_col8\" class=\"data row7 col8\" >0.8220</td>\n",
       "    </tr>\n",
       "  </tbody>\n",
       "</table>\n"
      ],
      "text/plain": [
       "<pandas.io.formats.style.Styler at 0x7fc6581f8af0>"
      ]
     },
     "metadata": {},
     "output_type": "display_data"
    },
    {
     "data": {
      "application/vnd.jupyter.widget-view+json": {
       "model_id": "",
       "version_major": 2,
       "version_minor": 0
      },
      "text/plain": [
       "Processing:   0%|          | 0/37 [00:00<?, ?it/s]"
      ]
     },
     "metadata": {},
     "output_type": "display_data"
    }
   ],
   "source": [
    "best_model=compare_models(include=models_to_compare,fold=5,sort=\"AUC\")"
   ]
  },
  {
   "cell_type": "code",
   "execution_count": 19,
   "id": "86541a12-5c26-4bfb-84da-7aa051919656",
   "metadata": {},
   "outputs": [],
   "source": [
    "#stop"
   ]
  },
  {
   "cell_type": "code",
   "execution_count": null,
   "id": "59c6fa2a-23e6-4e6a-9451-15135fc76681",
   "metadata": {},
   "outputs": [],
   "source": [
    "#plot_model(best_model, plot = 'auc')"
   ]
  },
  {
   "cell_type": "markdown",
   "id": "cd8f12df-d31c-4788-8970-a3d8aaf35348",
   "metadata": {},
   "source": [
    "**Seleccionamos Modelo**"
   ]
  },
  {
   "cell_type": "code",
   "execution_count": 20,
   "id": "0425a576-5f4f-4aae-829d-3bf515c19f3d",
   "metadata": {},
   "outputs": [
    {
     "data": {
      "text/html": [],
      "text/plain": [
       "<IPython.core.display.HTML object>"
      ]
     },
     "metadata": {},
     "output_type": "display_data"
    },
    {
     "data": {
      "text/html": [
       "<style type=\"text/css\">\n",
       "#T_7310c_row10_col0, #T_7310c_row10_col1, #T_7310c_row10_col2, #T_7310c_row10_col3, #T_7310c_row10_col4, #T_7310c_row10_col5, #T_7310c_row10_col6 {\n",
       "  background: yellow;\n",
       "}\n",
       "</style>\n",
       "<table id=\"T_7310c\">\n",
       "  <thead>\n",
       "    <tr>\n",
       "      <th class=\"blank level0\" >&nbsp;</th>\n",
       "      <th id=\"T_7310c_level0_col0\" class=\"col_heading level0 col0\" >Accuracy</th>\n",
       "      <th id=\"T_7310c_level0_col1\" class=\"col_heading level0 col1\" >AUC</th>\n",
       "      <th id=\"T_7310c_level0_col2\" class=\"col_heading level0 col2\" >Recall</th>\n",
       "      <th id=\"T_7310c_level0_col3\" class=\"col_heading level0 col3\" >Prec.</th>\n",
       "      <th id=\"T_7310c_level0_col4\" class=\"col_heading level0 col4\" >F1</th>\n",
       "      <th id=\"T_7310c_level0_col5\" class=\"col_heading level0 col5\" >Kappa</th>\n",
       "      <th id=\"T_7310c_level0_col6\" class=\"col_heading level0 col6\" >MCC</th>\n",
       "    </tr>\n",
       "    <tr>\n",
       "      <th class=\"index_name level0\" >Fold</th>\n",
       "      <th class=\"blank col0\" >&nbsp;</th>\n",
       "      <th class=\"blank col1\" >&nbsp;</th>\n",
       "      <th class=\"blank col2\" >&nbsp;</th>\n",
       "      <th class=\"blank col3\" >&nbsp;</th>\n",
       "      <th class=\"blank col4\" >&nbsp;</th>\n",
       "      <th class=\"blank col5\" >&nbsp;</th>\n",
       "      <th class=\"blank col6\" >&nbsp;</th>\n",
       "    </tr>\n",
       "  </thead>\n",
       "  <tbody>\n",
       "    <tr>\n",
       "      <th id=\"T_7310c_level0_row0\" class=\"row_heading level0 row0\" >0</th>\n",
       "      <td id=\"T_7310c_row0_col0\" class=\"data row0 col0\" >0.8105</td>\n",
       "      <td id=\"T_7310c_row0_col1\" class=\"data row0 col1\" >0.7849</td>\n",
       "      <td id=\"T_7310c_row0_col2\" class=\"data row0 col2\" >0.3685</td>\n",
       "      <td id=\"T_7310c_row0_col3\" class=\"data row0 col3\" >0.6196</td>\n",
       "      <td id=\"T_7310c_row0_col4\" class=\"data row0 col4\" >0.4622</td>\n",
       "      <td id=\"T_7310c_row0_col5\" class=\"data row0 col5\" >0.3560</td>\n",
       "      <td id=\"T_7310c_row0_col6\" class=\"data row0 col6\" >0.3737</td>\n",
       "    </tr>\n",
       "    <tr>\n",
       "      <th id=\"T_7310c_level0_row1\" class=\"row_heading level0 row1\" >1</th>\n",
       "      <td id=\"T_7310c_row1_col0\" class=\"data row1 col0\" >0.8252</td>\n",
       "      <td id=\"T_7310c_row1_col1\" class=\"data row1 col1\" >0.7840</td>\n",
       "      <td id=\"T_7310c_row1_col2\" class=\"data row1 col2\" >0.3750</td>\n",
       "      <td id=\"T_7310c_row1_col3\" class=\"data row1 col3\" >0.6932</td>\n",
       "      <td id=\"T_7310c_row1_col4\" class=\"data row1 col4\" >0.4867</td>\n",
       "      <td id=\"T_7310c_row1_col5\" class=\"data row1 col5\" >0.3925</td>\n",
       "      <td id=\"T_7310c_row1_col6\" class=\"data row1 col6\" >0.4194</td>\n",
       "    </tr>\n",
       "    <tr>\n",
       "      <th id=\"T_7310c_level0_row2\" class=\"row_heading level0 row2\" >2</th>\n",
       "      <td id=\"T_7310c_row2_col0\" class=\"data row2 col0\" >0.8133</td>\n",
       "      <td id=\"T_7310c_row2_col1\" class=\"data row2 col1\" >0.7722</td>\n",
       "      <td id=\"T_7310c_row2_col2\" class=\"data row2 col2\" >0.3578</td>\n",
       "      <td id=\"T_7310c_row2_col3\" class=\"data row2 col3\" >0.6385</td>\n",
       "      <td id=\"T_7310c_row2_col4\" class=\"data row2 col4\" >0.4586</td>\n",
       "      <td id=\"T_7310c_row2_col5\" class=\"data row2 col5\" >0.3564</td>\n",
       "      <td id=\"T_7310c_row2_col6\" class=\"data row2 col6\" >0.3783</td>\n",
       "    </tr>\n",
       "    <tr>\n",
       "      <th id=\"T_7310c_level0_row3\" class=\"row_heading level0 row3\" >3</th>\n",
       "      <td id=\"T_7310c_row3_col0\" class=\"data row3 col0\" >0.8071</td>\n",
       "      <td id=\"T_7310c_row3_col1\" class=\"data row3 col1\" >0.7476</td>\n",
       "      <td id=\"T_7310c_row3_col2\" class=\"data row3 col2\" >0.3254</td>\n",
       "      <td id=\"T_7310c_row3_col3\" class=\"data row3 col3\" >0.6214</td>\n",
       "      <td id=\"T_7310c_row3_col4\" class=\"data row3 col4\" >0.4272</td>\n",
       "      <td id=\"T_7310c_row3_col5\" class=\"data row3 col5\" >0.3246</td>\n",
       "      <td id=\"T_7310c_row3_col6\" class=\"data row3 col6\" >0.3491</td>\n",
       "    </tr>\n",
       "    <tr>\n",
       "      <th id=\"T_7310c_level0_row4\" class=\"row_heading level0 row4\" >4</th>\n",
       "      <td id=\"T_7310c_row4_col0\" class=\"data row4 col0\" >0.8200</td>\n",
       "      <td id=\"T_7310c_row4_col1\" class=\"data row4 col1\" >0.7797</td>\n",
       "      <td id=\"T_7310c_row4_col2\" class=\"data row4 col2\" >0.3642</td>\n",
       "      <td id=\"T_7310c_row4_col3\" class=\"data row4 col3\" >0.6706</td>\n",
       "      <td id=\"T_7310c_row4_col4\" class=\"data row4 col4\" >0.4721</td>\n",
       "      <td id=\"T_7310c_row4_col5\" class=\"data row4 col5\" >0.3748</td>\n",
       "      <td id=\"T_7310c_row4_col6\" class=\"data row4 col6\" >0.4002</td>\n",
       "    </tr>\n",
       "    <tr>\n",
       "      <th id=\"T_7310c_level0_row5\" class=\"row_heading level0 row5\" >5</th>\n",
       "      <td id=\"T_7310c_row5_col0\" class=\"data row5 col0\" >0.8214</td>\n",
       "      <td id=\"T_7310c_row5_col1\" class=\"data row5 col1\" >0.7645</td>\n",
       "      <td id=\"T_7310c_row5_col2\" class=\"data row5 col2\" >0.3828</td>\n",
       "      <td id=\"T_7310c_row5_col3\" class=\"data row5 col3\" >0.6692</td>\n",
       "      <td id=\"T_7310c_row5_col4\" class=\"data row5 col4\" >0.4870</td>\n",
       "      <td id=\"T_7310c_row5_col5\" class=\"data row5 col5\" >0.3885</td>\n",
       "      <td id=\"T_7310c_row5_col6\" class=\"data row5 col6\" >0.4107</td>\n",
       "    </tr>\n",
       "    <tr>\n",
       "      <th id=\"T_7310c_level0_row6\" class=\"row_heading level0 row6\" >6</th>\n",
       "      <td id=\"T_7310c_row6_col0\" class=\"data row6 col0\" >0.8119</td>\n",
       "      <td id=\"T_7310c_row6_col1\" class=\"data row6 col1\" >0.7761</td>\n",
       "      <td id=\"T_7310c_row6_col2\" class=\"data row6 col2\" >0.3484</td>\n",
       "      <td id=\"T_7310c_row6_col3\" class=\"data row6 col3\" >0.6378</td>\n",
       "      <td id=\"T_7310c_row6_col4\" class=\"data row6 col4\" >0.4506</td>\n",
       "      <td id=\"T_7310c_row6_col5\" class=\"data row6 col5\" >0.3487</td>\n",
       "      <td id=\"T_7310c_row6_col6\" class=\"data row6 col6\" >0.3720</td>\n",
       "    </tr>\n",
       "    <tr>\n",
       "      <th id=\"T_7310c_level0_row7\" class=\"row_heading level0 row7\" >7</th>\n",
       "      <td id=\"T_7310c_row7_col0\" class=\"data row7 col0\" >0.8248</td>\n",
       "      <td id=\"T_7310c_row7_col1\" class=\"data row7 col1\" >0.7984</td>\n",
       "      <td id=\"T_7310c_row7_col2\" class=\"data row7 col2\" >0.3849</td>\n",
       "      <td id=\"T_7310c_row7_col3\" class=\"data row7 col3\" >0.6858</td>\n",
       "      <td id=\"T_7310c_row7_col4\" class=\"data row7 col4\" >0.4931</td>\n",
       "      <td id=\"T_7310c_row7_col5\" class=\"data row7 col5\" >0.3971</td>\n",
       "      <td id=\"T_7310c_row7_col6\" class=\"data row7 col6\" >0.4214</td>\n",
       "    </tr>\n",
       "    <tr>\n",
       "      <th id=\"T_7310c_level0_row8\" class=\"row_heading level0 row8\" >8</th>\n",
       "      <td id=\"T_7310c_row8_col0\" class=\"data row8 col0\" >0.8238</td>\n",
       "      <td id=\"T_7310c_row8_col1\" class=\"data row8 col1\" >0.7855</td>\n",
       "      <td id=\"T_7310c_row8_col2\" class=\"data row8 col2\" >0.3677</td>\n",
       "      <td id=\"T_7310c_row8_col3\" class=\"data row8 col3\" >0.6923</td>\n",
       "      <td id=\"T_7310c_row8_col4\" class=\"data row8 col4\" >0.4803</td>\n",
       "      <td id=\"T_7310c_row8_col5\" class=\"data row8 col5\" >0.3860</td>\n",
       "      <td id=\"T_7310c_row8_col6\" class=\"data row8 col6\" >0.4141</td>\n",
       "    </tr>\n",
       "    <tr>\n",
       "      <th id=\"T_7310c_level0_row9\" class=\"row_heading level0 row9\" >9</th>\n",
       "      <td id=\"T_7310c_row9_col0\" class=\"data row9 col0\" >0.8148</td>\n",
       "      <td id=\"T_7310c_row9_col1\" class=\"data row9 col1\" >0.7570</td>\n",
       "      <td id=\"T_7310c_row9_col2\" class=\"data row9 col2\" >0.3505</td>\n",
       "      <td id=\"T_7310c_row9_col3\" class=\"data row9 col3\" >0.6520</td>\n",
       "      <td id=\"T_7310c_row9_col4\" class=\"data row9 col4\" >0.4559</td>\n",
       "      <td id=\"T_7310c_row9_col5\" class=\"data row9 col5\" >0.3563</td>\n",
       "      <td id=\"T_7310c_row9_col6\" class=\"data row9 col6\" >0.3812</td>\n",
       "    </tr>\n",
       "    <tr>\n",
       "      <th id=\"T_7310c_level0_row10\" class=\"row_heading level0 row10\" >Mean</th>\n",
       "      <td id=\"T_7310c_row10_col0\" class=\"data row10 col0\" >0.8173</td>\n",
       "      <td id=\"T_7310c_row10_col1\" class=\"data row10 col1\" >0.7750</td>\n",
       "      <td id=\"T_7310c_row10_col2\" class=\"data row10 col2\" >0.3625</td>\n",
       "      <td id=\"T_7310c_row10_col3\" class=\"data row10 col3\" >0.6580</td>\n",
       "      <td id=\"T_7310c_row10_col4\" class=\"data row10 col4\" >0.4674</td>\n",
       "      <td id=\"T_7310c_row10_col5\" class=\"data row10 col5\" >0.3681</td>\n",
       "      <td id=\"T_7310c_row10_col6\" class=\"data row10 col6\" >0.3920</td>\n",
       "    </tr>\n",
       "    <tr>\n",
       "      <th id=\"T_7310c_level0_row11\" class=\"row_heading level0 row11\" >Std</th>\n",
       "      <td id=\"T_7310c_row11_col0\" class=\"data row11 col0\" >0.0062</td>\n",
       "      <td id=\"T_7310c_row11_col1\" class=\"data row11 col1\" >0.0143</td>\n",
       "      <td id=\"T_7310c_row11_col2\" class=\"data row11 col2\" >0.0170</td>\n",
       "      <td id=\"T_7310c_row11_col3\" class=\"data row11 col3\" >0.0267</td>\n",
       "      <td id=\"T_7310c_row11_col4\" class=\"data row11 col4\" >0.0194</td>\n",
       "      <td id=\"T_7310c_row11_col5\" class=\"data row11 col5\" >0.0222</td>\n",
       "      <td id=\"T_7310c_row11_col6\" class=\"data row11 col6\" >0.0232</td>\n",
       "    </tr>\n",
       "  </tbody>\n",
       "</table>\n"
      ],
      "text/plain": [
       "<pandas.io.formats.style.Styler at 0x7fc655e6f040>"
      ]
     },
     "metadata": {},
     "output_type": "display_data"
    },
    {
     "data": {
      "application/vnd.jupyter.widget-view+json": {
       "model_id": "",
       "version_major": 2,
       "version_minor": 0
      },
      "text/plain": [
       "Processing:   0%|          | 0/4 [00:00<?, ?it/s]"
      ]
     },
     "metadata": {},
     "output_type": "display_data"
    }
   ],
   "source": [
    "best_model=create_model(\"gbc\")"
   ]
  },
  {
   "cell_type": "code",
   "execution_count": 21,
   "id": "692539ee-3252-414b-8246-d846761c806c",
   "metadata": {},
   "outputs": [],
   "source": [
    "#plot_model(best_model,plot=\"learning\")"
   ]
  },
  {
   "cell_type": "code",
   "execution_count": 22,
   "id": "def69610-6f12-46c3-919a-c78636c47103",
   "metadata": {},
   "outputs": [],
   "source": [
    "#plot_model(best_model,plot=\"feature\")"
   ]
  },
  {
   "cell_type": "markdown",
   "id": "fb5a3313-62bf-4282-9943-ce50b2a2bda9",
   "metadata": {},
   "source": [
    "# **La optimización bayesiana**\n",
    "\n",
    "\n",
    "La optimización bayesiana es un enfoque de optimización que se basa en la inferencia bayesiana y la probabilidad para encontrar la configuración óptima de parámetros de un sistema o función objetivo desconocida. Este enfoque es particularmente útil cuando la evaluación de la función objetivo es costosa o requiere mucho tiempo.\n",
    "\n",
    "La idea fundamental detrás de la optimización bayesiana es construir un modelo probabilístico de la función objetivo y utilizar este modelo para guiar la búsqueda de la configuración óptima de los parámetros. A medida que se evalúan diferentes configuraciones, el modelo se actualiza con la nueva información, lo que mejora gradualmente la calidad de las predicciones y la búsqueda de la configuración óptima."
   ]
  },
  {
   "cell_type": "code",
   "execution_count": 23,
   "id": "512de1fa-9cc6-42e9-ae48-c08251aa482b",
   "metadata": {},
   "outputs": [
    {
     "data": {
      "text/html": [],
      "text/plain": [
       "<IPython.core.display.HTML object>"
      ]
     },
     "metadata": {},
     "output_type": "display_data"
    },
    {
     "data": {
      "text/html": [
       "<style type=\"text/css\">\n",
       "#T_81246_row6_col0, #T_81246_row6_col1, #T_81246_row6_col2, #T_81246_row6_col3, #T_81246_row6_col4, #T_81246_row6_col5, #T_81246_row6_col6, #T_81246_row8_col0, #T_81246_row8_col1, #T_81246_row8_col2, #T_81246_row8_col3, #T_81246_row8_col4, #T_81246_row8_col5, #T_81246_row8_col6 {\n",
       "  background: yellow;\n",
       "}\n",
       "</style>\n",
       "<table id=\"T_81246\">\n",
       "  <thead>\n",
       "    <tr>\n",
       "      <th class=\"blank\" >&nbsp;</th>\n",
       "      <th class=\"blank level0\" >&nbsp;</th>\n",
       "      <th id=\"T_81246_level0_col0\" class=\"col_heading level0 col0\" >Accuracy</th>\n",
       "      <th id=\"T_81246_level0_col1\" class=\"col_heading level0 col1\" >AUC</th>\n",
       "      <th id=\"T_81246_level0_col2\" class=\"col_heading level0 col2\" >Recall</th>\n",
       "      <th id=\"T_81246_level0_col3\" class=\"col_heading level0 col3\" >Prec.</th>\n",
       "      <th id=\"T_81246_level0_col4\" class=\"col_heading level0 col4\" >F1</th>\n",
       "      <th id=\"T_81246_level0_col5\" class=\"col_heading level0 col5\" >Kappa</th>\n",
       "      <th id=\"T_81246_level0_col6\" class=\"col_heading level0 col6\" >MCC</th>\n",
       "    </tr>\n",
       "    <tr>\n",
       "      <th class=\"index_name level0\" >Split</th>\n",
       "      <th class=\"index_name level1\" >Fold</th>\n",
       "      <th class=\"blank col0\" >&nbsp;</th>\n",
       "      <th class=\"blank col1\" >&nbsp;</th>\n",
       "      <th class=\"blank col2\" >&nbsp;</th>\n",
       "      <th class=\"blank col3\" >&nbsp;</th>\n",
       "      <th class=\"blank col4\" >&nbsp;</th>\n",
       "      <th class=\"blank col5\" >&nbsp;</th>\n",
       "      <th class=\"blank col6\" >&nbsp;</th>\n",
       "    </tr>\n",
       "  </thead>\n",
       "  <tbody>\n",
       "    <tr>\n",
       "      <th id=\"T_81246_level0_row0\" class=\"row_heading level0 row0\" rowspan=\"3\">CV-Train</th>\n",
       "      <th id=\"T_81246_level1_row0\" class=\"row_heading level1 row0\" >0</th>\n",
       "      <td id=\"T_81246_row0_col0\" class=\"data row0 col0\" >0.8371</td>\n",
       "      <td id=\"T_81246_row0_col1\" class=\"data row0 col1\" >0.8405</td>\n",
       "      <td id=\"T_81246_row0_col2\" class=\"data row0 col2\" >0.4104</td>\n",
       "      <td id=\"T_81246_row0_col3\" class=\"data row0 col3\" >0.7364</td>\n",
       "      <td id=\"T_81246_row0_col4\" class=\"data row0 col4\" >0.5271</td>\n",
       "      <td id=\"T_81246_row0_col5\" class=\"data row0 col5\" >0.4381</td>\n",
       "      <td id=\"T_81246_row0_col6\" class=\"data row0 col6\" >0.4654</td>\n",
       "    </tr>\n",
       "    <tr>\n",
       "      <th id=\"T_81246_level1_row1\" class=\"row_heading level1 row1\" >1</th>\n",
       "      <td id=\"T_81246_row1_col0\" class=\"data row1 col0\" >0.8406</td>\n",
       "      <td id=\"T_81246_row1_col1\" class=\"data row1 col1\" >0.8466</td>\n",
       "      <td id=\"T_81246_row1_col2\" class=\"data row1 col2\" >0.4411</td>\n",
       "      <td id=\"T_81246_row1_col3\" class=\"data row1 col3\" >0.7317</td>\n",
       "      <td id=\"T_81246_row1_col4\" class=\"data row1 col4\" >0.5504</td>\n",
       "      <td id=\"T_81246_row1_col5\" class=\"data row1 col5\" >0.4606</td>\n",
       "      <td id=\"T_81246_row1_col6\" class=\"data row1 col6\" >0.4824</td>\n",
       "    </tr>\n",
       "    <tr>\n",
       "      <th id=\"T_81246_level1_row2\" class=\"row_heading level1 row2\" >2</th>\n",
       "      <td id=\"T_81246_row2_col0\" class=\"data row2 col0\" >0.8367</td>\n",
       "      <td id=\"T_81246_row2_col1\" class=\"data row2 col1\" >0.8381</td>\n",
       "      <td id=\"T_81246_row2_col2\" class=\"data row2 col2\" >0.4073</td>\n",
       "      <td id=\"T_81246_row2_col3\" class=\"data row2 col3\" >0.7366</td>\n",
       "      <td id=\"T_81246_row2_col4\" class=\"data row2 col4\" >0.5245</td>\n",
       "      <td id=\"T_81246_row2_col5\" class=\"data row2 col5\" >0.4357</td>\n",
       "      <td id=\"T_81246_row2_col6\" class=\"data row2 col6\" >0.4636</td>\n",
       "    </tr>\n",
       "    <tr>\n",
       "      <th id=\"T_81246_level0_row3\" class=\"row_heading level0 row3\" rowspan=\"3\">CV-Val</th>\n",
       "      <th id=\"T_81246_level1_row3\" class=\"row_heading level1 row3\" >0</th>\n",
       "      <td id=\"T_81246_row3_col0\" class=\"data row3 col0\" >0.8191</td>\n",
       "      <td id=\"T_81246_row3_col1\" class=\"data row3 col1\" >0.7747</td>\n",
       "      <td id=\"T_81246_row3_col2\" class=\"data row3 col2\" >0.3779</td>\n",
       "      <td id=\"T_81246_row3_col3\" class=\"data row3 col3\" >0.6588</td>\n",
       "      <td id=\"T_81246_row3_col4\" class=\"data row3 col4\" >0.4803</td>\n",
       "      <td id=\"T_81246_row3_col5\" class=\"data row3 col5\" >0.3804</td>\n",
       "      <td id=\"T_81246_row3_col6\" class=\"data row3 col6\" >0.4019</td>\n",
       "    </tr>\n",
       "    <tr>\n",
       "      <th id=\"T_81246_level1_row4\" class=\"row_heading level1 row4\" >1</th>\n",
       "      <td id=\"T_81246_row4_col0\" class=\"data row4 col0\" >0.8130</td>\n",
       "      <td id=\"T_81246_row4_col1\" class=\"data row4 col1\" >0.7670</td>\n",
       "      <td id=\"T_81246_row4_col2\" class=\"data row4 col2\" >0.3663</td>\n",
       "      <td id=\"T_81246_row4_col3\" class=\"data row4 col3\" >0.6335</td>\n",
       "      <td id=\"T_81246_row4_col4\" class=\"data row4 col4\" >0.4642</td>\n",
       "      <td id=\"T_81246_row4_col5\" class=\"data row4 col5\" >0.3606</td>\n",
       "      <td id=\"T_81246_row4_col6\" class=\"data row4 col6\" >0.3804</td>\n",
       "    </tr>\n",
       "    <tr>\n",
       "      <th id=\"T_81246_level1_row5\" class=\"row_heading level1 row5\" >2</th>\n",
       "      <td id=\"T_81246_row5_col0\" class=\"data row5 col0\" >0.8199</td>\n",
       "      <td id=\"T_81246_row5_col1\" class=\"data row5 col1\" >0.7812</td>\n",
       "      <td id=\"T_81246_row5_col2\" class=\"data row5 col2\" >0.3712</td>\n",
       "      <td id=\"T_81246_row5_col3\" class=\"data row5 col3\" >0.6671</td>\n",
       "      <td id=\"T_81246_row5_col4\" class=\"data row5 col4\" >0.4770</td>\n",
       "      <td id=\"T_81246_row5_col5\" class=\"data row5 col5\" >0.3787</td>\n",
       "      <td id=\"T_81246_row5_col6\" class=\"data row5 col6\" >0.4024</td>\n",
       "    </tr>\n",
       "    <tr>\n",
       "      <th id=\"T_81246_level0_row6\" class=\"row_heading level0 row6\" rowspan=\"2\">CV-Train</th>\n",
       "      <th id=\"T_81246_level1_row6\" class=\"row_heading level1 row6\" >Mean</th>\n",
       "      <td id=\"T_81246_row6_col0\" class=\"data row6 col0\" >0.8381</td>\n",
       "      <td id=\"T_81246_row6_col1\" class=\"data row6 col1\" >0.8417</td>\n",
       "      <td id=\"T_81246_row6_col2\" class=\"data row6 col2\" >0.4196</td>\n",
       "      <td id=\"T_81246_row6_col3\" class=\"data row6 col3\" >0.7349</td>\n",
       "      <td id=\"T_81246_row6_col4\" class=\"data row6 col4\" >0.5340</td>\n",
       "      <td id=\"T_81246_row6_col5\" class=\"data row6 col5\" >0.4448</td>\n",
       "      <td id=\"T_81246_row6_col6\" class=\"data row6 col6\" >0.4705</td>\n",
       "    </tr>\n",
       "    <tr>\n",
       "      <th id=\"T_81246_level1_row7\" class=\"row_heading level1 row7\" >Std</th>\n",
       "      <td id=\"T_81246_row7_col0\" class=\"data row7 col0\" >0.0017</td>\n",
       "      <td id=\"T_81246_row7_col1\" class=\"data row7 col1\" >0.0036</td>\n",
       "      <td id=\"T_81246_row7_col2\" class=\"data row7 col2\" >0.0152</td>\n",
       "      <td id=\"T_81246_row7_col3\" class=\"data row7 col3\" >0.0023</td>\n",
       "      <td id=\"T_81246_row7_col4\" class=\"data row7 col4\" >0.0116</td>\n",
       "      <td id=\"T_81246_row7_col5\" class=\"data row7 col5\" >0.0112</td>\n",
       "      <td id=\"T_81246_row7_col6\" class=\"data row7 col6\" >0.0085</td>\n",
       "    </tr>\n",
       "    <tr>\n",
       "      <th id=\"T_81246_level0_row8\" class=\"row_heading level0 row8\" rowspan=\"2\">CV-Val</th>\n",
       "      <th id=\"T_81246_level1_row8\" class=\"row_heading level1 row8\" >Mean</th>\n",
       "      <td id=\"T_81246_row8_col0\" class=\"data row8 col0\" >0.8173</td>\n",
       "      <td id=\"T_81246_row8_col1\" class=\"data row8 col1\" >0.7743</td>\n",
       "      <td id=\"T_81246_row8_col2\" class=\"data row8 col2\" >0.3718</td>\n",
       "      <td id=\"T_81246_row8_col3\" class=\"data row8 col3\" >0.6531</td>\n",
       "      <td id=\"T_81246_row8_col4\" class=\"data row8 col4\" >0.4738</td>\n",
       "      <td id=\"T_81246_row8_col5\" class=\"data row8 col5\" >0.3732</td>\n",
       "      <td id=\"T_81246_row8_col6\" class=\"data row8 col6\" >0.3949</td>\n",
       "    </tr>\n",
       "    <tr>\n",
       "      <th id=\"T_81246_level1_row9\" class=\"row_heading level1 row9\" >Std</th>\n",
       "      <td id=\"T_81246_row9_col0\" class=\"data row9 col0\" >0.0031</td>\n",
       "      <td id=\"T_81246_row9_col1\" class=\"data row9 col1\" >0.0058</td>\n",
       "      <td id=\"T_81246_row9_col2\" class=\"data row9 col2\" >0.0048</td>\n",
       "      <td id=\"T_81246_row9_col3\" class=\"data row9 col3\" >0.0143</td>\n",
       "      <td id=\"T_81246_row9_col4\" class=\"data row9 col4\" >0.0069</td>\n",
       "      <td id=\"T_81246_row9_col5\" class=\"data row9 col5\" >0.0090</td>\n",
       "      <td id=\"T_81246_row9_col6\" class=\"data row9 col6\" >0.0102</td>\n",
       "    </tr>\n",
       "    <tr>\n",
       "      <th id=\"T_81246_level0_row10\" class=\"row_heading level0 row10\" >Train</th>\n",
       "      <th id=\"T_81246_level1_row10\" class=\"row_heading level1 row10\" >nan</th>\n",
       "      <td id=\"T_81246_row10_col0\" class=\"data row10 col0\" >0.8354</td>\n",
       "      <td id=\"T_81246_row10_col1\" class=\"data row10 col1\" >0.8260</td>\n",
       "      <td id=\"T_81246_row10_col2\" class=\"data row10 col2\" >0.4142</td>\n",
       "      <td id=\"T_81246_row10_col3\" class=\"data row10 col3\" >0.7236</td>\n",
       "      <td id=\"T_81246_row10_col4\" class=\"data row10 col4\" >0.5268</td>\n",
       "      <td id=\"T_81246_row10_col5\" class=\"data row10 col5\" >0.4360</td>\n",
       "      <td id=\"T_81246_row10_col6\" class=\"data row10 col6\" >0.4609</td>\n",
       "    </tr>\n",
       "  </tbody>\n",
       "</table>\n"
      ],
      "text/plain": [
       "<pandas.io.formats.style.Styler at 0x7fc655f17700>"
      ]
     },
     "metadata": {},
     "output_type": "display_data"
    },
    {
     "data": {
      "application/vnd.jupyter.widget-view+json": {
       "model_id": "",
       "version_major": 2,
       "version_minor": 0
      },
      "text/plain": [
       "Processing:   0%|          | 0/7 [00:00<?, ?it/s]"
      ]
     },
     "metadata": {},
     "output_type": "display_data"
    },
    {
     "name": "stdout",
     "output_type": "stream",
     "text": [
      "Fitting 3 folds for each of 1 candidates, totalling 3 fits\n",
      "Fitting 3 folds for each of 1 candidates, totalling 3 fits\n",
      "Original model was better than the tuned model, hence it will be returned. NOTE: The display metrics are for the tuned model (not the original one).\n"
     ]
    }
   ],
   "source": [
    "tuned_best_model=tune_model(best_model,search_library=\"scikit-optimize\",return_train_score=True,\n",
    "                           fold=3,choose_better=True,optimize=\"AUC\",n_iter=2)"
   ]
  },
  {
   "cell_type": "code",
   "execution_count": 24,
   "id": "b0f12feb-376b-4579-9577-d41c57ecd8a1",
   "metadata": {},
   "outputs": [
    {
     "data": {
      "text/html": [
       "<style>#sk-container-id-1 {color: black;background-color: white;}#sk-container-id-1 pre{padding: 0;}#sk-container-id-1 div.sk-toggleable {background-color: white;}#sk-container-id-1 label.sk-toggleable__label {cursor: pointer;display: block;width: 100%;margin-bottom: 0;padding: 0.3em;box-sizing: border-box;text-align: center;}#sk-container-id-1 label.sk-toggleable__label-arrow:before {content: \"▸\";float: left;margin-right: 0.25em;color: #696969;}#sk-container-id-1 label.sk-toggleable__label-arrow:hover:before {color: black;}#sk-container-id-1 div.sk-estimator:hover label.sk-toggleable__label-arrow:before {color: black;}#sk-container-id-1 div.sk-toggleable__content {max-height: 0;max-width: 0;overflow: hidden;text-align: left;background-color: #f0f8ff;}#sk-container-id-1 div.sk-toggleable__content pre {margin: 0.2em;color: black;border-radius: 0.25em;background-color: #f0f8ff;}#sk-container-id-1 input.sk-toggleable__control:checked~div.sk-toggleable__content {max-height: 200px;max-width: 100%;overflow: auto;}#sk-container-id-1 input.sk-toggleable__control:checked~label.sk-toggleable__label-arrow:before {content: \"▾\";}#sk-container-id-1 div.sk-estimator input.sk-toggleable__control:checked~label.sk-toggleable__label {background-color: #d4ebff;}#sk-container-id-1 div.sk-label input.sk-toggleable__control:checked~label.sk-toggleable__label {background-color: #d4ebff;}#sk-container-id-1 input.sk-hidden--visually {border: 0;clip: rect(1px 1px 1px 1px);clip: rect(1px, 1px, 1px, 1px);height: 1px;margin: -1px;overflow: hidden;padding: 0;position: absolute;width: 1px;}#sk-container-id-1 div.sk-estimator {font-family: monospace;background-color: #f0f8ff;border: 1px dotted black;border-radius: 0.25em;box-sizing: border-box;margin-bottom: 0.5em;}#sk-container-id-1 div.sk-estimator:hover {background-color: #d4ebff;}#sk-container-id-1 div.sk-parallel-item::after {content: \"\";width: 100%;border-bottom: 1px solid gray;flex-grow: 1;}#sk-container-id-1 div.sk-label:hover label.sk-toggleable__label {background-color: #d4ebff;}#sk-container-id-1 div.sk-serial::before {content: \"\";position: absolute;border-left: 1px solid gray;box-sizing: border-box;top: 0;bottom: 0;left: 50%;z-index: 0;}#sk-container-id-1 div.sk-serial {display: flex;flex-direction: column;align-items: center;background-color: white;padding-right: 0.2em;padding-left: 0.2em;position: relative;}#sk-container-id-1 div.sk-item {position: relative;z-index: 1;}#sk-container-id-1 div.sk-parallel {display: flex;align-items: stretch;justify-content: center;background-color: white;position: relative;}#sk-container-id-1 div.sk-item::before, #sk-container-id-1 div.sk-parallel-item::before {content: \"\";position: absolute;border-left: 1px solid gray;box-sizing: border-box;top: 0;bottom: 0;left: 50%;z-index: -1;}#sk-container-id-1 div.sk-parallel-item {display: flex;flex-direction: column;z-index: 1;position: relative;background-color: white;}#sk-container-id-1 div.sk-parallel-item:first-child::after {align-self: flex-end;width: 50%;}#sk-container-id-1 div.sk-parallel-item:last-child::after {align-self: flex-start;width: 50%;}#sk-container-id-1 div.sk-parallel-item:only-child::after {width: 0;}#sk-container-id-1 div.sk-dashed-wrapped {border: 1px dashed gray;margin: 0 0.4em 0.5em 0.4em;box-sizing: border-box;padding-bottom: 0.4em;background-color: white;}#sk-container-id-1 div.sk-label label {font-family: monospace;font-weight: bold;display: inline-block;line-height: 1.2em;}#sk-container-id-1 div.sk-label-container {text-align: center;}#sk-container-id-1 div.sk-container {/* jupyter's `normalize.less` sets `[hidden] { display: none; }` but bootstrap.min.css set `[hidden] { display: none !important; }` so we also need the `!important` here to be able to override the default hidden behavior on the sphinx rendered scikit-learn.org. See: https://github.com/scikit-learn/scikit-learn/issues/21755 */display: inline-block !important;position: relative;}#sk-container-id-1 div.sk-text-repr-fallback {display: none;}</style><div id=\"sk-container-id-1\" class=\"sk-top-container\"><div class=\"sk-text-repr-fallback\"><pre>GradientBoostingClassifier(ccp_alpha=0.0, criterion=&#x27;friedman_mse&#x27;, init=None,\n",
       "                           learning_rate=0.1, loss=&#x27;log_loss&#x27;, max_depth=3,\n",
       "                           max_features=None, max_leaf_nodes=None,\n",
       "                           min_impurity_decrease=0.0, min_samples_leaf=1,\n",
       "                           min_samples_split=2, min_weight_fraction_leaf=0.0,\n",
       "                           n_estimators=100, n_iter_no_change=None,\n",
       "                           random_state=123, subsample=1.0, tol=0.0001,\n",
       "                           validation_fraction=0.1, verbose=0,\n",
       "                           warm_start=False)</pre><b>In a Jupyter environment, please rerun this cell to show the HTML representation or trust the notebook. <br />On GitHub, the HTML representation is unable to render, please try loading this page with nbviewer.org.</b></div><div class=\"sk-container\" hidden><div class=\"sk-item\"><div class=\"sk-estimator sk-toggleable\"><input class=\"sk-toggleable__control sk-hidden--visually\" id=\"sk-estimator-id-1\" type=\"checkbox\" checked><label for=\"sk-estimator-id-1\" class=\"sk-toggleable__label sk-toggleable__label-arrow\">GradientBoostingClassifier</label><div class=\"sk-toggleable__content\"><pre>GradientBoostingClassifier(ccp_alpha=0.0, criterion=&#x27;friedman_mse&#x27;, init=None,\n",
       "                           learning_rate=0.1, loss=&#x27;log_loss&#x27;, max_depth=3,\n",
       "                           max_features=None, max_leaf_nodes=None,\n",
       "                           min_impurity_decrease=0.0, min_samples_leaf=1,\n",
       "                           min_samples_split=2, min_weight_fraction_leaf=0.0,\n",
       "                           n_estimators=100, n_iter_no_change=None,\n",
       "                           random_state=123, subsample=1.0, tol=0.0001,\n",
       "                           validation_fraction=0.1, verbose=0,\n",
       "                           warm_start=False)</pre></div></div></div></div></div>"
      ],
      "text/plain": [
       "GradientBoostingClassifier(ccp_alpha=0.0, criterion='friedman_mse', init=None,\n",
       "                           learning_rate=0.1, loss='log_loss', max_depth=3,\n",
       "                           max_features=None, max_leaf_nodes=None,\n",
       "                           min_impurity_decrease=0.0, min_samples_leaf=1,\n",
       "                           min_samples_split=2, min_weight_fraction_leaf=0.0,\n",
       "                           n_estimators=100, n_iter_no_change=None,\n",
       "                           random_state=123, subsample=1.0, tol=0.0001,\n",
       "                           validation_fraction=0.1, verbose=0,\n",
       "                           warm_start=False)"
      ]
     },
     "execution_count": 24,
     "metadata": {},
     "output_type": "execute_result"
    }
   ],
   "source": [
    "tuned_best_model"
   ]
  },
  {
   "cell_type": "code",
   "execution_count": 25,
   "id": "a6938226-7f4d-416a-bb1f-942e56653296",
   "metadata": {},
   "outputs": [],
   "source": [
    "#plot_model(tuned_best_model,plot=\"learning\")"
   ]
  },
  {
   "cell_type": "markdown",
   "id": "c5855ccf-9c60-4a57-9515-0f32b7d76da2",
   "metadata": {},
   "source": [
    "**Entrenamos de forma independiente**"
   ]
  },
  {
   "cell_type": "code",
   "execution_count": 26,
   "id": "ec0c3550-25bc-41f9-97fd-730bbbf1e31a",
   "metadata": {},
   "outputs": [],
   "source": [
    "from sklearn.ensemble import GradientBoostingClassifier"
   ]
  },
  {
   "cell_type": "code",
   "execution_count": 27,
   "id": "57ddf998-5e93-4f7b-a7c9-62fd33c0a537",
   "metadata": {},
   "outputs": [],
   "source": [
    "ModeloFinal=GradientBoostingClassifier(ccp_alpha=0.0, criterion='friedman_mse', init=None,\n",
    "                           learning_rate=0.1, loss='log_loss', max_depth=3,\n",
    "                           max_features=None, max_leaf_nodes=None,\n",
    "                           min_impurity_decrease=0.0, min_samples_leaf=1,\n",
    "                           min_samples_split=2, min_weight_fraction_leaf=0.0,\n",
    "                           n_estimators=100, n_iter_no_change=None,\n",
    "                           random_state=123, subsample=1.0, tol=0.0001,\n",
    "                           validation_fraction=0.1, verbose=0,\n",
    "                           warm_start=False)"
   ]
  },
  {
   "cell_type": "code",
   "execution_count": 28,
   "id": "db2d9d4f-27b5-4868-bb6e-1fdf99a13272",
   "metadata": {},
   "outputs": [
    {
     "data": {
      "text/html": [
       "<style>#sk-container-id-2 {color: black;background-color: white;}#sk-container-id-2 pre{padding: 0;}#sk-container-id-2 div.sk-toggleable {background-color: white;}#sk-container-id-2 label.sk-toggleable__label {cursor: pointer;display: block;width: 100%;margin-bottom: 0;padding: 0.3em;box-sizing: border-box;text-align: center;}#sk-container-id-2 label.sk-toggleable__label-arrow:before {content: \"▸\";float: left;margin-right: 0.25em;color: #696969;}#sk-container-id-2 label.sk-toggleable__label-arrow:hover:before {color: black;}#sk-container-id-2 div.sk-estimator:hover label.sk-toggleable__label-arrow:before {color: black;}#sk-container-id-2 div.sk-toggleable__content {max-height: 0;max-width: 0;overflow: hidden;text-align: left;background-color: #f0f8ff;}#sk-container-id-2 div.sk-toggleable__content pre {margin: 0.2em;color: black;border-radius: 0.25em;background-color: #f0f8ff;}#sk-container-id-2 input.sk-toggleable__control:checked~div.sk-toggleable__content {max-height: 200px;max-width: 100%;overflow: auto;}#sk-container-id-2 input.sk-toggleable__control:checked~label.sk-toggleable__label-arrow:before {content: \"▾\";}#sk-container-id-2 div.sk-estimator input.sk-toggleable__control:checked~label.sk-toggleable__label {background-color: #d4ebff;}#sk-container-id-2 div.sk-label input.sk-toggleable__control:checked~label.sk-toggleable__label {background-color: #d4ebff;}#sk-container-id-2 input.sk-hidden--visually {border: 0;clip: rect(1px 1px 1px 1px);clip: rect(1px, 1px, 1px, 1px);height: 1px;margin: -1px;overflow: hidden;padding: 0;position: absolute;width: 1px;}#sk-container-id-2 div.sk-estimator {font-family: monospace;background-color: #f0f8ff;border: 1px dotted black;border-radius: 0.25em;box-sizing: border-box;margin-bottom: 0.5em;}#sk-container-id-2 div.sk-estimator:hover {background-color: #d4ebff;}#sk-container-id-2 div.sk-parallel-item::after {content: \"\";width: 100%;border-bottom: 1px solid gray;flex-grow: 1;}#sk-container-id-2 div.sk-label:hover label.sk-toggleable__label {background-color: #d4ebff;}#sk-container-id-2 div.sk-serial::before {content: \"\";position: absolute;border-left: 1px solid gray;box-sizing: border-box;top: 0;bottom: 0;left: 50%;z-index: 0;}#sk-container-id-2 div.sk-serial {display: flex;flex-direction: column;align-items: center;background-color: white;padding-right: 0.2em;padding-left: 0.2em;position: relative;}#sk-container-id-2 div.sk-item {position: relative;z-index: 1;}#sk-container-id-2 div.sk-parallel {display: flex;align-items: stretch;justify-content: center;background-color: white;position: relative;}#sk-container-id-2 div.sk-item::before, #sk-container-id-2 div.sk-parallel-item::before {content: \"\";position: absolute;border-left: 1px solid gray;box-sizing: border-box;top: 0;bottom: 0;left: 50%;z-index: -1;}#sk-container-id-2 div.sk-parallel-item {display: flex;flex-direction: column;z-index: 1;position: relative;background-color: white;}#sk-container-id-2 div.sk-parallel-item:first-child::after {align-self: flex-end;width: 50%;}#sk-container-id-2 div.sk-parallel-item:last-child::after {align-self: flex-start;width: 50%;}#sk-container-id-2 div.sk-parallel-item:only-child::after {width: 0;}#sk-container-id-2 div.sk-dashed-wrapped {border: 1px dashed gray;margin: 0 0.4em 0.5em 0.4em;box-sizing: border-box;padding-bottom: 0.4em;background-color: white;}#sk-container-id-2 div.sk-label label {font-family: monospace;font-weight: bold;display: inline-block;line-height: 1.2em;}#sk-container-id-2 div.sk-label-container {text-align: center;}#sk-container-id-2 div.sk-container {/* jupyter's `normalize.less` sets `[hidden] { display: none; }` but bootstrap.min.css set `[hidden] { display: none !important; }` so we also need the `!important` here to be able to override the default hidden behavior on the sphinx rendered scikit-learn.org. See: https://github.com/scikit-learn/scikit-learn/issues/21755 */display: inline-block !important;position: relative;}#sk-container-id-2 div.sk-text-repr-fallback {display: none;}</style><div id=\"sk-container-id-2\" class=\"sk-top-container\"><div class=\"sk-text-repr-fallback\"><pre>GradientBoostingClassifier(ccp_alpha=0.0, criterion=&#x27;friedman_mse&#x27;, init=None,\n",
       "                           learning_rate=0.1, loss=&#x27;log_loss&#x27;, max_depth=3,\n",
       "                           max_features=None, max_leaf_nodes=None,\n",
       "                           min_impurity_decrease=0.0, min_samples_leaf=1,\n",
       "                           min_samples_split=2, min_weight_fraction_leaf=0.0,\n",
       "                           n_estimators=100, n_iter_no_change=None,\n",
       "                           random_state=123, subsample=1.0, tol=0.0001,\n",
       "                           validation_fraction=0.1, verbose=0,\n",
       "                           warm_start=False)</pre><b>In a Jupyter environment, please rerun this cell to show the HTML representation or trust the notebook. <br />On GitHub, the HTML representation is unable to render, please try loading this page with nbviewer.org.</b></div><div class=\"sk-container\" hidden><div class=\"sk-item\"><div class=\"sk-estimator sk-toggleable\"><input class=\"sk-toggleable__control sk-hidden--visually\" id=\"sk-estimator-id-2\" type=\"checkbox\" checked><label for=\"sk-estimator-id-2\" class=\"sk-toggleable__label sk-toggleable__label-arrow\">GradientBoostingClassifier</label><div class=\"sk-toggleable__content\"><pre>GradientBoostingClassifier(ccp_alpha=0.0, criterion=&#x27;friedman_mse&#x27;, init=None,\n",
       "                           learning_rate=0.1, loss=&#x27;log_loss&#x27;, max_depth=3,\n",
       "                           max_features=None, max_leaf_nodes=None,\n",
       "                           min_impurity_decrease=0.0, min_samples_leaf=1,\n",
       "                           min_samples_split=2, min_weight_fraction_leaf=0.0,\n",
       "                           n_estimators=100, n_iter_no_change=None,\n",
       "                           random_state=123, subsample=1.0, tol=0.0001,\n",
       "                           validation_fraction=0.1, verbose=0,\n",
       "                           warm_start=False)</pre></div></div></div></div></div>"
      ],
      "text/plain": [
       "GradientBoostingClassifier(ccp_alpha=0.0, criterion='friedman_mse', init=None,\n",
       "                           learning_rate=0.1, loss='log_loss', max_depth=3,\n",
       "                           max_features=None, max_leaf_nodes=None,\n",
       "                           min_impurity_decrease=0.0, min_samples_leaf=1,\n",
       "                           min_samples_split=2, min_weight_fraction_leaf=0.0,\n",
       "                           n_estimators=100, n_iter_no_change=None,\n",
       "                           random_state=123, subsample=1.0, tol=0.0001,\n",
       "                           validation_fraction=0.1, verbose=0,\n",
       "                           warm_start=False)"
      ]
     },
     "execution_count": 28,
     "metadata": {},
     "output_type": "execute_result"
    }
   ],
   "source": [
    "ModeloFinal.fit(x_train,y_train)"
   ]
  },
  {
   "cell_type": "code",
   "execution_count": 29,
   "id": "e8a09777-5745-4b73-adac-93eb2c5eda9f",
   "metadata": {},
   "outputs": [
    {
     "name": "stdout",
     "output_type": "stream",
     "text": [
      "Accuracy: 0.8261904761904761\n",
      "Reporte :               precision    recall  f1-score   support\n",
      "\n",
      "           0       0.84      0.96      0.90     16355\n",
      "           1       0.70      0.37      0.49      4645\n",
      "\n",
      "    accuracy                           0.83     21000\n",
      "   macro avg       0.77      0.66      0.69     21000\n",
      "weighted avg       0.81      0.83      0.80     21000\n",
      "\n"
     ]
    },
    {
     "data": {
      "text/html": [
       "<div>\n",
       "<style scoped>\n",
       "    .dataframe tbody tr th:only-of-type {\n",
       "        vertical-align: middle;\n",
       "    }\n",
       "\n",
       "    .dataframe tbody tr th {\n",
       "        vertical-align: top;\n",
       "    }\n",
       "\n",
       "    .dataframe thead th {\n",
       "        text-align: right;\n",
       "    }\n",
       "</style>\n",
       "<table border=\"1\" class=\"dataframe\">\n",
       "  <thead>\n",
       "    <tr style=\"text-align: right;\">\n",
       "      <th>Predicciones</th>\n",
       "      <th>0</th>\n",
       "      <th>1</th>\n",
       "      <th>All</th>\n",
       "    </tr>\n",
       "    <tr>\n",
       "      <th>Realidad</th>\n",
       "      <th></th>\n",
       "      <th></th>\n",
       "      <th></th>\n",
       "    </tr>\n",
       "  </thead>\n",
       "  <tbody>\n",
       "    <tr>\n",
       "      <th>0</th>\n",
       "      <td>15624</td>\n",
       "      <td>731</td>\n",
       "      <td>16355</td>\n",
       "    </tr>\n",
       "    <tr>\n",
       "      <th>1</th>\n",
       "      <td>2919</td>\n",
       "      <td>1726</td>\n",
       "      <td>4645</td>\n",
       "    </tr>\n",
       "    <tr>\n",
       "      <th>All</th>\n",
       "      <td>18543</td>\n",
       "      <td>2457</td>\n",
       "      <td>21000</td>\n",
       "    </tr>\n",
       "  </tbody>\n",
       "</table>\n",
       "</div>"
      ],
      "text/plain": [
       "Predicciones      0     1    All\n",
       "Realidad                        \n",
       "0             15624   731  16355\n",
       "1              2919  1726   4645\n",
       "All           18543  2457  21000"
      ]
     },
     "execution_count": 29,
     "metadata": {},
     "output_type": "execute_result"
    },
    {
     "data": {
      "image/png": "[encoded data removed]",
      "text/plain": [
       "<Figure size 432x288 with 2 Axes>"
      ]
     },
     "metadata": {
      "needs_background": "light"
     },
     "output_type": "display_data"
    }
   ],
   "source": [
    "MetricasMatrizConfusion(y=y_train,Modelo=ModeloFinal,X=x_train,tipo=\"ML\")"
   ]
  },
  {
   "cell_type": "code",
   "execution_count": 30,
   "id": "c172e6bd-89f8-4e06-bdf0-01e137be60c8",
   "metadata": {},
   "outputs": [
    {
     "data": {
      "image/png": "[encoded data removed]",
      "text/plain": [
       "<Figure size 432x288 with 1 Axes>"
      ]
     },
     "metadata": {
      "needs_background": "light"
     },
     "output_type": "display_data"
    },
    {
     "data": {
      "text/plain": [
       "0.802133923749794"
      ]
     },
     "execution_count": 30,
     "metadata": {},
     "output_type": "execute_result"
    }
   ],
   "source": [
    "curva_roc(y=y_train,Modelo=ModeloFinal,X=x_train,tipo=\"ML\")"
   ]
  },
  {
   "cell_type": "code",
   "execution_count": 31,
   "id": "d363c637-d0a4-4651-a006-a265d1a59230",
   "metadata": {},
   "outputs": [
    {
     "name": "stdout",
     "output_type": "stream",
     "text": [
      "Accuracy: 0.822\n",
      "Reporte :               precision    recall  f1-score   support\n",
      "\n",
      "           0       0.84      0.95      0.89      7009\n",
      "           1       0.69      0.36      0.47      1991\n",
      "\n",
      "    accuracy                           0.82      9000\n",
      "   macro avg       0.76      0.66      0.68      9000\n",
      "weighted avg       0.81      0.82      0.80      9000\n",
      "\n"
     ]
    },
    {
     "data": {
      "text/html": [
       "<div>\n",
       "<style scoped>\n",
       "    .dataframe tbody tr th:only-of-type {\n",
       "        vertical-align: middle;\n",
       "    }\n",
       "\n",
       "    .dataframe tbody tr th {\n",
       "        vertical-align: top;\n",
       "    }\n",
       "\n",
       "    .dataframe thead th {\n",
       "        text-align: right;\n",
       "    }\n",
       "</style>\n",
       "<table border=\"1\" class=\"dataframe\">\n",
       "  <thead>\n",
       "    <tr style=\"text-align: right;\">\n",
       "      <th>Predicciones</th>\n",
       "      <th>0</th>\n",
       "      <th>1</th>\n",
       "      <th>All</th>\n",
       "    </tr>\n",
       "    <tr>\n",
       "      <th>Realidad</th>\n",
       "      <th></th>\n",
       "      <th></th>\n",
       "      <th></th>\n",
       "    </tr>\n",
       "  </thead>\n",
       "  <tbody>\n",
       "    <tr>\n",
       "      <th>0</th>\n",
       "      <td>6684</td>\n",
       "      <td>325</td>\n",
       "      <td>7009</td>\n",
       "    </tr>\n",
       "    <tr>\n",
       "      <th>1</th>\n",
       "      <td>1277</td>\n",
       "      <td>714</td>\n",
       "      <td>1991</td>\n",
       "    </tr>\n",
       "    <tr>\n",
       "      <th>All</th>\n",
       "      <td>7961</td>\n",
       "      <td>1039</td>\n",
       "      <td>9000</td>\n",
       "    </tr>\n",
       "  </tbody>\n",
       "</table>\n",
       "</div>"
      ],
      "text/plain": [
       "Predicciones     0     1   All\n",
       "Realidad                      \n",
       "0             6684   325  7009\n",
       "1             1277   714  1991\n",
       "All           7961  1039  9000"
      ]
     },
     "execution_count": 31,
     "metadata": {},
     "output_type": "execute_result"
    },
    {
     "data": {
      "image/png": "[encoded data removed]",
      "text/plain": [
       "<Figure size 432x288 with 2 Axes>"
      ]
     },
     "metadata": {
      "needs_background": "light"
     },
     "output_type": "display_data"
    }
   ],
   "source": [
    "MetricasMatrizConfusion(y=y_test,Modelo=ModeloFinal,X=x_test,tipo=\"ML\")"
   ]
  },
  {
   "cell_type": "code",
   "execution_count": 32,
   "id": "ed1dd4e0-31c7-4271-996e-1cea96076778",
   "metadata": {},
   "outputs": [
    {
     "data": {
      "image/png": "[encoded data removed]",
      "text/plain": [
       "<Figure size 432x288 with 1 Axes>"
      ]
     },
     "metadata": {
      "needs_background": "light"
     },
     "output_type": "display_data"
    },
    {
     "data": {
      "text/plain": [
       "0.7799288551943583"
      ]
     },
     "execution_count": 32,
     "metadata": {},
     "output_type": "execute_result"
    }
   ],
   "source": [
    "curva_roc(y=y_test,Modelo=ModeloFinal,X=x_test,tipo=\"ML\")"
   ]
  },
  {
   "cell_type": "markdown",
   "id": "6c495a1e-02d8-49d2-9ab5-d48c798f8e45",
   "metadata": {},
   "source": [
    "## **Exportar Modelo**"
   ]
  },
  {
   "cell_type": "code",
   "execution_count": 33,
   "id": "31c5fd2c-d85b-4738-b335-c066b219763a",
   "metadata": {},
   "outputs": [],
   "source": [
    "import pickle"
   ]
  },
  {
   "cell_type": "code",
   "execution_count": 34,
   "id": "e3ca25f6-d3f4-4fa9-b8bf-bf30ed6b4b29",
   "metadata": {},
   "outputs": [],
   "source": [
    "with open('ModeloFinalCredit.pkl', 'wb') as file:\n",
    "    pickle.dump(ModeloFinal, file)"
   ]
  },
  {
   "cell_type": "markdown",
   "id": "3c8500f1-dade-4d03-8745-7d1984643e4c",
   "metadata": {},
   "source": [
    "## **Presentación Empresa**"
   ]
  },
  {
   "cell_type": "code",
   "execution_count": null,
   "id": "87e82d5e-bcb0-482c-b6d4-dfc0d7c21a27",
   "metadata": {},
   "outputs": [],
   "source": []
  },
  {
   "cell_type": "code",
   "execution_count": null,
   "id": "a26c51fe-22f6-46d3-aa2c-57bdd21ab225",
   "metadata": {},
   "outputs": [],
   "source": []
  },
  {
   "cell_type": "code",
   "execution_count": null,
   "id": "50f0dc60-da4d-45fb-b05a-4efbe94a75f9",
   "metadata": {},
   "outputs": [],
   "source": []
  }
 ],
 "metadata": {
  "kernelspec": {
   "display_name": "Python 3 (ipykernel)",
   "language": "python",
   "name": "python3"
  },
  "language_info": {
   "codemirror_mode": {
    "name": "ipython",
    "version": 3
   },
   "file_extension": ".py",
   "mimetype": "text/x-python",
   "name": "python",
   "nbconvert_exporter": "python",
   "pygments_lexer": "ipython3",
   "version": "3.9.16"
  }
 },
 "nbformat": 4,
 "nbformat_minor": 5
}
