{
 "cells": [
  {
   "cell_type": "code",
   "execution_count": 6,
   "id": "7f8e1ed4-4621-41f8-b9d0-46b960f866bc",
   "metadata": {},
   "outputs": [],
   "source": [
    "import pandas as pd\n",
    "import numpy as np\n",
    "import seaborn as sns\n",
    "import matplotlib.pyplot as plt \n",
    "import os\n",
    "\n",
    "import statsmodels.api as sms \n",
    "from sklearn.model_selection import train_test_split"
   ]
  },
  {
   "cell_type": "markdown",
   "id": "493e8af4-564a-4a2c-87ca-16c3da52a4df",
   "metadata": {},
   "source": [
    "# **Importar Datos** "
   ]
  },
  {
   "cell_type": "code",
   "execution_count": 7,
   "id": "bc34c706-af38-41b1-a872-82aad0a23b63",
   "metadata": {
    "tags": []
   },
   "outputs": [
    {
     "data": {
      "text/plain": [
       "'/Users/osgaspar/Documents/PERSONAL/Cedesistemas/2023/Diplomado2023_02/ModelosSupervisados/Clasificacion/ProyectoMora'"
      ]
     },
     "execution_count": 7,
     "metadata": {},
     "output_type": "execute_result"
    }
   ],
   "source": [
    "os.getcwd()"
   ]
  },
  {
   "cell_type": "code",
   "execution_count": null,
   "id": "c5b65bbe-5a74-4817-9957-bcd2a6d44e91",
   "metadata": {},
   "outputs": [],
   "source": [
    "df=pd.read_csv(\"\")"
   ]
  }
 ],
 "metadata": {
  "kernelspec": {
   "display_name": "Python 3 (ipykernel)",
   "language": "python",
   "name": "python3"
  },
  "language_info": {
   "codemirror_mode": {
    "name": "ipython",
    "version": 3
   },
   "file_extension": ".py",
   "mimetype": "text/x-python",
   "name": "python",
   "nbconvert_exporter": "python",
   "pygments_lexer": "ipython3",
   "version": "3.10.13"
  }
 },
 "nbformat": 4,
 "nbformat_minor": 5
}
