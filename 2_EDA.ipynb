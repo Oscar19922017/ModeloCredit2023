{
  "nbformat": 4,
  "nbformat_minor": 0,
  "metadata": {
    "colab": {
      "provenance": [],
      "toc_visible": true,
      "authorship_tag": "ABX9TyNugOIMxLK94FbZCc3KIW3G",
      "include_colab_link": true
    },
    "kernelspec": {
      "name": "python3",
      "display_name": "Python 3"
    },
    "language_info": {
      "name": "python"
    }
  },
  "cells": [
    {
      "cell_type": "markdown",
      "metadata": {
        "id": "view-in-github",
        "colab_type": "text"
      },
      "source": [
        "<a href=\"https://colab.research.google.com/github/Oscar19922017/ModeloCredit2023/blob/main/2_EDA.ipynb\" target=\"_parent\"><img src=\"https://colab.research.google.com/assets/colab-badge.svg\" alt=\"Open In Colab\"/></a>"
      ]
    },
    {
      "cell_type": "markdown",
      "source": [
        "# **1) Librerias**"
      ],
      "metadata": {
        "id": "S2hqPlnv2SvF"
      }
    },
    {
      "cell_type": "code",
      "source": [
        "import pandas as pd\n",
        "import numpy as np\n",
        "import matplotlib.pyplot as plt ####\n",
        "import seaborn as sns\n",
        "from scipy import stats"
      ],
      "metadata": {
        "id": "i0t7mwf02YHs"
      },
      "execution_count": 27,
      "outputs": []
    },
    {
      "cell_type": "markdown",
      "source": [
        "# **2 Importar Datos**"
      ],
      "metadata": {
        "id": "fyQbOrjP2zL2"
      }
    },
    {
      "cell_type": "code",
      "source": [
        "df=pd.read_csv(\"https://raw.githubusercontent.com/Oscar19922017/ModeloCredit2023/main/BaseDepurada.csv\")\n",
        "cat_columns=pd.read_csv(\"https://raw.githubusercontent.com/Oscar19922017/ModeloCredit2023/main/cat_columns.csv\")[\"variable\"].tolist()\n",
        "num_columns=pd.read_csv(\"https://raw.githubusercontent.com/Oscar19922017/ModeloCredit2023/main/num_columns.csv\")[\"variable\"].tolist()"
      ],
      "metadata": {
        "id": "Y9CWhmsB2g3s"
      },
      "execution_count": 14,
      "outputs": []
    },
    {
      "cell_type": "code",
      "source": [
        "df.shape"
      ],
      "metadata": {
        "colab": {
          "base_uri": "https://localhost:8080/"
        },
        "id": "78AWINvW3qhW",
        "outputId": "444fe439-88ec-4311-8ab9-2226574c4a8a"
      },
      "execution_count": 15,
      "outputs": [
        {
          "output_type": "execute_result",
          "data": {
            "text/plain": [
              "(30000, 25)"
            ]
          },
          "metadata": {},
          "execution_count": 15
        }
      ]
    },
    {
      "cell_type": "code",
      "source": [
        "len(cat_columns)"
      ],
      "metadata": {
        "colab": {
          "base_uri": "https://localhost:8080/"
        },
        "id": "jdphkV-33rH3",
        "outputId": "40fe0cd4-b11f-419a-fd1f-de1802b6a886"
      },
      "execution_count": 16,
      "outputs": [
        {
          "output_type": "execute_result",
          "data": {
            "text/plain": [
              "10"
            ]
          },
          "metadata": {},
          "execution_count": 16
        }
      ]
    },
    {
      "cell_type": "code",
      "source": [
        "cat_columns"
      ],
      "metadata": {
        "colab": {
          "base_uri": "https://localhost:8080/"
        },
        "id": "x2KHKBvr4hyZ",
        "outputId": "8b6205e0-f91b-482e-97cb-09306f6a1683"
      },
      "execution_count": 17,
      "outputs": [
        {
          "output_type": "execute_result",
          "data": {
            "text/plain": [
              "['PAY_0',\n",
              " 'PAY_2',\n",
              " 'PAY_3',\n",
              " 'PAY_4',\n",
              " 'PAY_5',\n",
              " 'PAY_6',\n",
              " 'Mora',\n",
              " 'Genero_Homologado',\n",
              " 'EducacionHomologada',\n",
              " 'EstadoCivilHomologado']"
            ]
          },
          "metadata": {},
          "execution_count": 17
        }
      ]
    },
    {
      "cell_type": "code",
      "source": [
        "len(num_columns)"
      ],
      "metadata": {
        "colab": {
          "base_uri": "https://localhost:8080/"
        },
        "id": "EtcvIz2n4jD4",
        "outputId": "1dda0e15-b301-476f-c23d-3d6dc08449aa"
      },
      "execution_count": 18,
      "outputs": [
        {
          "output_type": "execute_result",
          "data": {
            "text/plain": [
              "14"
            ]
          },
          "metadata": {},
          "execution_count": 18
        }
      ]
    },
    {
      "cell_type": "code",
      "source": [
        "num_columns"
      ],
      "metadata": {
        "colab": {
          "base_uri": "https://localhost:8080/"
        },
        "id": "Hp6GSiml4k6o",
        "outputId": "794d1bc7-a113-4a85-e4ab-3fcd50df198f"
      },
      "execution_count": 19,
      "outputs": [
        {
          "output_type": "execute_result",
          "data": {
            "text/plain": [
              "['MontoCredito',\n",
              " 'Edad',\n",
              " 'BILL_AMT1',\n",
              " 'BILL_AMT2',\n",
              " 'BILL_AMT3',\n",
              " 'BILL_AMT4',\n",
              " 'BILL_AMT5',\n",
              " 'BILL_AMT6',\n",
              " 'PAY_AMT1',\n",
              " 'PAY_AMT2',\n",
              " 'PAY_AMT3',\n",
              " 'PAY_AMT4',\n",
              " 'PAY_AMT5',\n",
              " 'PAY_AMT6']"
            ]
          },
          "metadata": {},
          "execution_count": 19
        }
      ]
    },
    {
      "cell_type": "code",
      "source": [
        "df.head()"
      ],
      "metadata": {
        "colab": {
          "base_uri": "https://localhost:8080/",
          "height": 255
        },
        "id": "LpYHA4iF4l1K",
        "outputId": "bddb4a14-8a83-404f-9a67-2ac7f6e2c20b"
      },
      "execution_count": 20,
      "outputs": [
        {
          "output_type": "execute_result",
          "data": {
            "text/plain": [
              "   ID  MontoCredito  Edad  PAY_0  PAY_2  PAY_3  PAY_4  PAY_5  PAY_6  \\\n",
              "0   1       20000.0    24      2      2     -1     -1     -2     -2   \n",
              "1   2      120000.0    26     -1      2      0      0      0      2   \n",
              "2   3       90000.0    34      0      0      0      0      0      0   \n",
              "3   4       50000.0    37      0      0      0      0      0      0   \n",
              "4   5       50000.0    57     -1      0     -1      0      0      0   \n",
              "\n",
              "   BILL_AMT1  ...  PAY_AMT1  PAY_AMT2  PAY_AMT3  PAY_AMT4  PAY_AMT5  PAY_AMT6  \\\n",
              "0     3913.0  ...       0.0     689.0       0.0       0.0       0.0       0.0   \n",
              "1     2682.0  ...       0.0    1000.0    1000.0    1000.0       0.0    2000.0   \n",
              "2    29239.0  ...    1518.0    1500.0    1000.0    1000.0    1000.0    5000.0   \n",
              "3    46990.0  ...    2000.0    2019.0    1200.0    1100.0    1069.0    1000.0   \n",
              "4     8617.0  ...    2000.0   36681.0   10000.0    9000.0     689.0     679.0   \n",
              "\n",
              "   Mora  Genero_Homologado  EducacionHomologada  EstadoCivilHomologado  \n",
              "0     1          Masculino             Pregrado                 Casado  \n",
              "1     1          Masculino             Pregrado                Soltero  \n",
              "2     0          Masculino             Pregrado                Soltero  \n",
              "3     0          Masculino             Pregrado                 Casado  \n",
              "4     0           Femenino             Pregrado                 Casado  \n",
              "\n",
              "[5 rows x 25 columns]"
            ],
            "text/html": [
              "\n",
              "  <div id=\"df-8c3cfdc4-a61c-4305-af28-81906a2b6601\" class=\"colab-df-container\">\n",
              "    <div>\n",
              "<style scoped>\n",
              "    .dataframe tbody tr th:only-of-type {\n",
              "        vertical-align: middle;\n",
              "    }\n",
              "\n",
              "    .dataframe tbody tr th {\n",
              "        vertical-align: top;\n",
              "    }\n",
              "\n",
              "    .dataframe thead th {\n",
              "        text-align: right;\n",
              "    }\n",
              "</style>\n",
              "<table border=\"1\" class=\"dataframe\">\n",
              "  <thead>\n",
              "    <tr style=\"text-align: right;\">\n",
              "      <th></th>\n",
              "      <th>ID</th>\n",
              "      <th>MontoCredito</th>\n",
              "      <th>Edad</th>\n",
              "      <th>PAY_0</th>\n",
              "      <th>PAY_2</th>\n",
              "      <th>PAY_3</th>\n",
              "      <th>PAY_4</th>\n",
              "      <th>PAY_5</th>\n",
              "      <th>PAY_6</th>\n",
              "      <th>BILL_AMT1</th>\n",
              "      <th>...</th>\n",
              "      <th>PAY_AMT1</th>\n",
              "      <th>PAY_AMT2</th>\n",
              "      <th>PAY_AMT3</th>\n",
              "      <th>PAY_AMT4</th>\n",
              "      <th>PAY_AMT5</th>\n",
              "      <th>PAY_AMT6</th>\n",
              "      <th>Mora</th>\n",
              "      <th>Genero_Homologado</th>\n",
              "      <th>EducacionHomologada</th>\n",
              "      <th>EstadoCivilHomologado</th>\n",
              "    </tr>\n",
              "  </thead>\n",
              "  <tbody>\n",
              "    <tr>\n",
              "      <th>0</th>\n",
              "      <td>1</td>\n",
              "      <td>20000.0</td>\n",
              "      <td>24</td>\n",
              "      <td>2</td>\n",
              "      <td>2</td>\n",
              "      <td>-1</td>\n",
              "      <td>-1</td>\n",
              "      <td>-2</td>\n",
              "      <td>-2</td>\n",
              "      <td>3913.0</td>\n",
              "      <td>...</td>\n",
              "      <td>0.0</td>\n",
              "      <td>689.0</td>\n",
              "      <td>0.0</td>\n",
              "      <td>0.0</td>\n",
              "      <td>0.0</td>\n",
              "      <td>0.0</td>\n",
              "      <td>1</td>\n",
              "      <td>Masculino</td>\n",
              "      <td>Pregrado</td>\n",
              "      <td>Casado</td>\n",
              "    </tr>\n",
              "    <tr>\n",
              "      <th>1</th>\n",
              "      <td>2</td>\n",
              "      <td>120000.0</td>\n",
              "      <td>26</td>\n",
              "      <td>-1</td>\n",
              "      <td>2</td>\n",
              "      <td>0</td>\n",
              "      <td>0</td>\n",
              "      <td>0</td>\n",
              "      <td>2</td>\n",
              "      <td>2682.0</td>\n",
              "      <td>...</td>\n",
              "      <td>0.0</td>\n",
              "      <td>1000.0</td>\n",
              "      <td>1000.0</td>\n",
              "      <td>1000.0</td>\n",
              "      <td>0.0</td>\n",
              "      <td>2000.0</td>\n",
              "      <td>1</td>\n",
              "      <td>Masculino</td>\n",
              "      <td>Pregrado</td>\n",
              "      <td>Soltero</td>\n",
              "    </tr>\n",
              "    <tr>\n",
              "      <th>2</th>\n",
              "      <td>3</td>\n",
              "      <td>90000.0</td>\n",
              "      <td>34</td>\n",
              "      <td>0</td>\n",
              "      <td>0</td>\n",
              "      <td>0</td>\n",
              "      <td>0</td>\n",
              "      <td>0</td>\n",
              "      <td>0</td>\n",
              "      <td>29239.0</td>\n",
              "      <td>...</td>\n",
              "      <td>1518.0</td>\n",
              "      <td>1500.0</td>\n",
              "      <td>1000.0</td>\n",
              "      <td>1000.0</td>\n",
              "      <td>1000.0</td>\n",
              "      <td>5000.0</td>\n",
              "      <td>0</td>\n",
              "      <td>Masculino</td>\n",
              "      <td>Pregrado</td>\n",
              "      <td>Soltero</td>\n",
              "    </tr>\n",
              "    <tr>\n",
              "      <th>3</th>\n",
              "      <td>4</td>\n",
              "      <td>50000.0</td>\n",
              "      <td>37</td>\n",
              "      <td>0</td>\n",
              "      <td>0</td>\n",
              "      <td>0</td>\n",
              "      <td>0</td>\n",
              "      <td>0</td>\n",
              "      <td>0</td>\n",
              "      <td>46990.0</td>\n",
              "      <td>...</td>\n",
              "      <td>2000.0</td>\n",
              "      <td>2019.0</td>\n",
              "      <td>1200.0</td>\n",
              "      <td>1100.0</td>\n",
              "      <td>1069.0</td>\n",
              "      <td>1000.0</td>\n",
              "      <td>0</td>\n",
              "      <td>Masculino</td>\n",
              "      <td>Pregrado</td>\n",
              "      <td>Casado</td>\n",
              "    </tr>\n",
              "    <tr>\n",
              "      <th>4</th>\n",
              "      <td>5</td>\n",
              "      <td>50000.0</td>\n",
              "      <td>57</td>\n",
              "      <td>-1</td>\n",
              "      <td>0</td>\n",
              "      <td>-1</td>\n",
              "      <td>0</td>\n",
              "      <td>0</td>\n",
              "      <td>0</td>\n",
              "      <td>8617.0</td>\n",
              "      <td>...</td>\n",
              "      <td>2000.0</td>\n",
              "      <td>36681.0</td>\n",
              "      <td>10000.0</td>\n",
              "      <td>9000.0</td>\n",
              "      <td>689.0</td>\n",
              "      <td>679.0</td>\n",
              "      <td>0</td>\n",
              "      <td>Femenino</td>\n",
              "      <td>Pregrado</td>\n",
              "      <td>Casado</td>\n",
              "    </tr>\n",
              "  </tbody>\n",
              "</table>\n",
              "<p>5 rows × 25 columns</p>\n",
              "</div>\n",
              "    <div class=\"colab-df-buttons\">\n",
              "\n",
              "  <div class=\"colab-df-container\">\n",
              "    <button class=\"colab-df-convert\" onclick=\"convertToInteractive('df-8c3cfdc4-a61c-4305-af28-81906a2b6601')\"\n",
              "            title=\"Convert this dataframe to an interactive table.\"\n",
              "            style=\"display:none;\">\n",
              "\n",
              "  <svg xmlns=\"http://www.w3.org/2000/svg\" height=\"24px\" viewBox=\"0 -960 960 960\">\n",
              "    <path d=\"M120-120v-720h720v720H120Zm60-500h600v-160H180v160Zm220 220h160v-160H400v160Zm0 220h160v-160H400v160ZM180-400h160v-160H180v160Zm440 0h160v-160H620v160ZM180-180h160v-160H180v160Zm440 0h160v-160H620v160Z\"/>\n",
              "  </svg>\n",
              "    </button>\n",
              "\n",
              "  <style>\n",
              "    .colab-df-container {\n",
              "      display:flex;\n",
              "      gap: 12px;\n",
              "    }\n",
              "\n",
              "    .colab-df-convert {\n",
              "      background-color: #E8F0FE;\n",
              "      border: none;\n",
              "      border-radius: 50%;\n",
              "      cursor: pointer;\n",
              "      display: none;\n",
              "      fill: #1967D2;\n",
              "      height: 32px;\n",
              "      padding: 0 0 0 0;\n",
              "      width: 32px;\n",
              "    }\n",
              "\n",
              "    .colab-df-convert:hover {\n",
              "      background-color: #E2EBFA;\n",
              "      box-shadow: 0px 1px 2px rgba(60, 64, 67, 0.3), 0px 1px 3px 1px rgba(60, 64, 67, 0.15);\n",
              "      fill: #174EA6;\n",
              "    }\n",
              "\n",
              "    .colab-df-buttons div {\n",
              "      margin-bottom: 4px;\n",
              "    }\n",
              "\n",
              "    [theme=dark] .colab-df-convert {\n",
              "      background-color: #3B4455;\n",
              "      fill: #D2E3FC;\n",
              "    }\n",
              "\n",
              "    [theme=dark] .colab-df-convert:hover {\n",
              "      background-color: #434B5C;\n",
              "      box-shadow: 0px 1px 3px 1px rgba(0, 0, 0, 0.15);\n",
              "      filter: drop-shadow(0px 1px 2px rgba(0, 0, 0, 0.3));\n",
              "      fill: #FFFFFF;\n",
              "    }\n",
              "  </style>\n",
              "\n",
              "    <script>\n",
              "      const buttonEl =\n",
              "        document.querySelector('#df-8c3cfdc4-a61c-4305-af28-81906a2b6601 button.colab-df-convert');\n",
              "      buttonEl.style.display =\n",
              "        google.colab.kernel.accessAllowed ? 'block' : 'none';\n",
              "\n",
              "      async function convertToInteractive(key) {\n",
              "        const element = document.querySelector('#df-8c3cfdc4-a61c-4305-af28-81906a2b6601');\n",
              "        const dataTable =\n",
              "          await google.colab.kernel.invokeFunction('convertToInteractive',\n",
              "                                                    [key], {});\n",
              "        if (!dataTable) return;\n",
              "\n",
              "        const docLinkHtml = 'Like what you see? Visit the ' +\n",
              "          '<a target=\"_blank\" href=https://colab.research.google.com/notebooks/data_table.ipynb>data table notebook</a>'\n",
              "          + ' to learn more about interactive tables.';\n",
              "        element.innerHTML = '';\n",
              "        dataTable['output_type'] = 'display_data';\n",
              "        await google.colab.output.renderOutput(dataTable, element);\n",
              "        const docLink = document.createElement('div');\n",
              "        docLink.innerHTML = docLinkHtml;\n",
              "        element.appendChild(docLink);\n",
              "      }\n",
              "    </script>\n",
              "  </div>\n",
              "\n",
              "\n",
              "<div id=\"df-8f550dc6-b8b5-4651-b038-429e6d3a68c7\">\n",
              "  <button class=\"colab-df-quickchart\" onclick=\"quickchart('df-8f550dc6-b8b5-4651-b038-429e6d3a68c7')\"\n",
              "            title=\"Suggest charts.\"\n",
              "            style=\"display:none;\">\n",
              "\n",
              "<svg xmlns=\"http://www.w3.org/2000/svg\" height=\"24px\"viewBox=\"0 0 24 24\"\n",
              "     width=\"24px\">\n",
              "    <g>\n",
              "        <path d=\"M19 3H5c-1.1 0-2 .9-2 2v14c0 1.1.9 2 2 2h14c1.1 0 2-.9 2-2V5c0-1.1-.9-2-2-2zM9 17H7v-7h2v7zm4 0h-2V7h2v10zm4 0h-2v-4h2v4z\"/>\n",
              "    </g>\n",
              "</svg>\n",
              "  </button>\n",
              "\n",
              "<style>\n",
              "  .colab-df-quickchart {\n",
              "    background-color: #E8F0FE;\n",
              "    border: none;\n",
              "    border-radius: 50%;\n",
              "    cursor: pointer;\n",
              "    display: none;\n",
              "    fill: #1967D2;\n",
              "    height: 32px;\n",
              "    padding: 0 0 0 0;\n",
              "    width: 32px;\n",
              "  }\n",
              "\n",
              "  .colab-df-quickchart:hover {\n",
              "    background-color: #E2EBFA;\n",
              "    box-shadow: 0px 1px 2px rgba(60, 64, 67, 0.3), 0px 1px 3px 1px rgba(60, 64, 67, 0.15);\n",
              "    fill: #174EA6;\n",
              "  }\n",
              "\n",
              "  [theme=dark] .colab-df-quickchart {\n",
              "    background-color: #3B4455;\n",
              "    fill: #D2E3FC;\n",
              "  }\n",
              "\n",
              "  [theme=dark] .colab-df-quickchart:hover {\n",
              "    background-color: #434B5C;\n",
              "    box-shadow: 0px 1px 3px 1px rgba(0, 0, 0, 0.15);\n",
              "    filter: drop-shadow(0px 1px 2px rgba(0, 0, 0, 0.3));\n",
              "    fill: #FFFFFF;\n",
              "  }\n",
              "</style>\n",
              "\n",
              "  <script>\n",
              "    async function quickchart(key) {\n",
              "      const charts = await google.colab.kernel.invokeFunction(\n",
              "          'suggestCharts', [key], {});\n",
              "    }\n",
              "    (() => {\n",
              "      let quickchartButtonEl =\n",
              "        document.querySelector('#df-8f550dc6-b8b5-4651-b038-429e6d3a68c7 button');\n",
              "      quickchartButtonEl.style.display =\n",
              "        google.colab.kernel.accessAllowed ? 'block' : 'none';\n",
              "    })();\n",
              "  </script>\n",
              "</div>\n",
              "    </div>\n",
              "  </div>\n"
            ]
          },
          "metadata": {},
          "execution_count": 20
        }
      ]
    },
    {
      "cell_type": "markdown",
      "source": [
        "# **3) Análisis Exploratorio y Descriptivo de los Datos**\n",
        "\n",
        "Es un enfoque inicial y esencial en el análisis de datos que permite comprender la estructura, las relaciones y las principales características de los datos antes de proceder a técnicas de modelado o inferencia estadística más complejas.\n",
        "\n",
        "El EDA es un paso fundamental en cualquier proyecto de análisis de datos o ciencia de datos. Permite a los analistas familiarizarse con los datos, comprender sus peculiaridades y, a menudo, guiar el camino para los análisis subsiguientes.\n",
        "\n",
        "\n",
        "* Visualizar la distribución de los datos.\n",
        "* Identificar patrones y relaciones entre variables.\n",
        "* Detectar anomalías o valores atípicos.\n",
        "* Testear suposiciones o hipótesis.\n",
        "\n",
        "\n",
        "* Histogramas: para visualizar la distribución univariada de una variable.\n",
        "* Boxplots (diagramas de caja): para visualizar la distribución y detectar valores atípicos.\n",
        "* Diagramas de dispersión (scatter plots): para explorar relaciones entre dos variables.\n",
        "* Matrices de correlación: para identificar relaciones lineales entre variables.\n",
        "* Mapas de calor (heatmaps): para visualizar matrices de * correlación o la distribución conjunta de dos variables categóricas.\n",
        "* Gráficos de barras: para visualizar la distribución de variables categóricas"
      ],
      "metadata": {
        "id": "epdQ1p1L4sbC"
      }
    },
    {
      "cell_type": "markdown",
      "source": [
        "## **3.1) Análisis Univariado: variables categóricas**"
      ],
      "metadata": {
        "id": "VWWDVibq5qkW"
      }
    },
    {
      "cell_type": "markdown",
      "source": [
        "### **Distribucción**"
      ],
      "metadata": {
        "id": "2QYDje6v6Bsl"
      }
    },
    {
      "cell_type": "code",
      "source": [
        "df[\"Mora\"].value_counts()"
      ],
      "metadata": {
        "colab": {
          "base_uri": "https://localhost:8080/"
        },
        "id": "hy3vbHhE4pLR",
        "outputId": "2bfe0164-93ba-4492-b4ae-04da1949ea9a"
      },
      "execution_count": 22,
      "outputs": [
        {
          "output_type": "execute_result",
          "data": {
            "text/plain": [
              "0    23364\n",
              "1     6636\n",
              "Name: Mora, dtype: int64"
            ]
          },
          "metadata": {},
          "execution_count": 22
        }
      ]
    },
    {
      "cell_type": "code",
      "source": [
        "df[\"Mora\"].value_counts(normalize=True)"
      ],
      "metadata": {
        "colab": {
          "base_uri": "https://localhost:8080/"
        },
        "id": "z94UICkj527N",
        "outputId": "7ed036f0-3368-486b-cbce-f3b6f3cb3c17"
      },
      "execution_count": 23,
      "outputs": [
        {
          "output_type": "execute_result",
          "data": {
            "text/plain": [
              "0    0.7788\n",
              "1    0.2212\n",
              "Name: Mora, dtype: float64"
            ]
          },
          "metadata": {},
          "execution_count": 23
        }
      ]
    },
    {
      "cell_type": "markdown",
      "source": [
        "**Gráficas**"
      ],
      "metadata": {
        "id": "Gw5kWwPD6VSZ"
      }
    },
    {
      "cell_type": "code",
      "source": [
        "homologacion_mora={0:\"Pago\",1:\"No Pago\"}"
      ],
      "metadata": {
        "id": "XqOhRpLj8UgI"
      },
      "execution_count": 49,
      "outputs": []
    },
    {
      "cell_type": "code",
      "source": [
        "conteo_mora=df[[\"Mora\"]]\n",
        "conteo_mora[\"Mora\"]=conteo_mora[\"Mora\"].map(homologacion_mora)"
      ],
      "metadata": {
        "colab": {
          "base_uri": "https://localhost:8080/"
        },
        "id": "fSVnyp6O6QHe",
        "outputId": "1dd1b195-e79c-42e3-cf1e-5de5cd555b57"
      },
      "execution_count": 55,
      "outputs": [
        {
          "output_type": "stream",
          "name": "stderr",
          "text": [
            "<ipython-input-55-1fda85d2304a>:2: SettingWithCopyWarning: \n",
            "A value is trying to be set on a copy of a slice from a DataFrame.\n",
            "Try using .loc[row_indexer,col_indexer] = value instead\n",
            "\n",
            "See the caveats in the documentation: https://pandas.pydata.org/pandas-docs/stable/user_guide/indexing.html#returning-a-view-versus-a-copy\n",
            "  conteo_mora[\"Mora\"]=conteo_mora[\"Mora\"].map(homologacion_mora)\n"
          ]
        }
      ]
    },
    {
      "cell_type": "code",
      "source": [
        "colors={\"#808080\",\"#00FFFF\"}"
      ],
      "metadata": {
        "id": "1Ai5CoE0-LoA"
      },
      "execution_count": 70,
      "outputs": []
    },
    {
      "cell_type": "code",
      "source": [
        "plt.figure(figsize=(8,5))\n",
        "sns.set_palette(sns.color_palette(colors))\n",
        "sns.countplot(data=conteo_mora,x=\"Mora\")\n",
        "plt.title(\"Distribucción Mora\")\n",
        "plt.ylabel(\"Frecuencia\")\n",
        "ax = plt.gca()\n",
        "for p in ax.patches:\n",
        "    ax.text(p.get_x() + p.get_width()/2., p.get_height(),\n",
        "            f'{int(p.get_height())}',\n",
        "            ha='center', va='bottom')\n",
        "plt.show()"
      ],
      "metadata": {
        "colab": {
          "base_uri": "https://localhost:8080/",
          "height": 487
        },
        "id": "4tFIkBb47MGp",
        "outputId": "f2eee175-7a78-4e2e-f10b-0a5a7f43328e"
      },
      "execution_count": 71,
      "outputs": [
        {
          "output_type": "display_data",
          "data": {
            "text/plain": [
              "<Figure size 800x500 with 1 Axes>"
            ],
            "image/png": "[encoded data removed]"
          },
          "metadata": {}
        }
      ]
    },
    {
      "cell_type": "code",
      "source": [
        "plt.figure(figsize=(8,5))\n",
        "conteo_mora.value_counts().plot(kind=\"pie\", autopct='%1.0f%%')\n",
        "plt.title(\"Distribucción pagos\")\n",
        "plt.show()"
      ],
      "metadata": {
        "colab": {
          "base_uri": "https://localhost:8080/",
          "height": 444
        },
        "id": "bEaHmJ0y7SCq",
        "outputId": "a9b71850-9712-4466-9f17-df5ae1ecea5f"
      },
      "execution_count": 92,
      "outputs": [
        {
          "output_type": "display_data",
          "data": {
            "text/plain": [
              "<Figure size 800x500 with 1 Axes>"
            ],
            "image/png": "[encoded data removed]"
          },
          "metadata": {}
        }
      ]
    },
    {
      "cell_type": "code",
      "source": [
        "labels=conteo_mora[\"Mora\"].value_counts().index.tolist()\n",
        "sizes=conteo_mora[\"Mora\"].value_counts().values.tolist()"
      ],
      "metadata": {
        "id": "Mwt7gMsoB_EY"
      },
      "execution_count": 122,
      "outputs": []
    },
    {
      "cell_type": "code",
      "source": [
        "explode = (0, 0.02)  # only \"explode\" the 2nd slice (i.e. 'Hogs')\n",
        "fig, ax = plt.subplots()\n",
        "ax.pie(sizes, explode=explode, labels=labels, autopct='%1.0f%%',\n",
        "        shadow=True, startangle=90)\n",
        "plt.title(\"Distribucción Mora\")\n",
        "plt.show()"
      ],
      "metadata": {
        "colab": {
          "base_uri": "https://localhost:8080/",
          "height": 428
        },
        "id": "XKiOkb0-AY1Y",
        "outputId": "9fd2e7db-16dd-4ec3-9c67-5ecdfd7a21be"
      },
      "execution_count": 127,
      "outputs": [
        {
          "output_type": "display_data",
          "data": {
            "text/plain": [
              "<Figure size 640x480 with 1 Axes>"
            ],
            "image/png": "[encoded data removed]"
          },
          "metadata": {}
        }
      ]
    },
    {
      "cell_type": "markdown",
      "source": [
        "* 22% son usuarios que entraron de dafault vs 78% no han entrado en default. Distribucción desbalanceada"
      ],
      "metadata": {
        "id": "mjfSeuTmDZt_"
      }
    },
    {
      "cell_type": "markdown",
      "source": [
        "## **3.2) Análisis Univariado: variables Numéricas**"
      ],
      "metadata": {
        "id": "QhjRJSzIK0BP"
      }
    },
    {
      "cell_type": "markdown",
      "source": [
        "### **Distribucción**"
      ],
      "metadata": {
        "id": "NSop_LwsK-Df"
      }
    },
    {
      "cell_type": "code",
      "source": [
        "valor_credito=df[\"MontoCredito\"]"
      ],
      "metadata": {
        "id": "v-jagXkjCxhb"
      },
      "execution_count": 138,
      "outputs": []
    },
    {
      "cell_type": "markdown",
      "source": [
        "**Histograma**\n",
        "\n",
        "Un histograma es una representación gráfica que muestra la distribución de frecuencia de un conjunto de datos continuos o discretos. En un histograma, el rango total de valores se divide en intervalos o \"bins\", y se cuenta cuántas veces caen los datos en cada intervalo. Luego, estos recuentos se representan como barras en un gráfico, donde la altura de cada barra representa la frecuencia de los datos en ese intervalo."
      ],
      "metadata": {
        "id": "ORTULX2cLRQ5"
      }
    },
    {
      "cell_type": "code",
      "source": [
        "valor_credito.describe()"
      ],
      "metadata": {
        "colab": {
          "base_uri": "https://localhost:8080/"
        },
        "id": "yKNiGXWrMFeN",
        "outputId": "7a799e65-344a-4c1d-e643-761e427ec09b"
      },
      "execution_count": 139,
      "outputs": [
        {
          "output_type": "execute_result",
          "data": {
            "text/plain": [
              "count      30000.000000\n",
              "mean      167484.322667\n",
              "std       129747.661567\n",
              "min        10000.000000\n",
              "25%        50000.000000\n",
              "50%       140000.000000\n",
              "75%       240000.000000\n",
              "max      1000000.000000\n",
              "Name: MontoCredito, dtype: float64"
            ]
          },
          "metadata": {},
          "execution_count": 139
        }
      ]
    },
    {
      "cell_type": "markdown",
      "source": [
        "#### **Medidas de Tendencia Central**\n",
        "\n",
        "![image.png](data:image/png;base64,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)\n",
        "\n",
        "* El promedio, también conocido como media, es una medida estadística utilizada para representar un valor central o típico en un conjunto de datos numéricos. Se calcula sumando todos los valores en el conjunto y luego dividiendo esa suma por la cantidad total de valores. El promedio es una forma de resumir la tendencia central de un conjunto de datos y proporciona una idea general de la magnitud típica de los valores. Por ejemplo, considera el conjunto de datos: 10, 15, 20, 25, 30. El promedio se calcula sumando los valores y dividiendo por la cantidad de valores:\n",
        "\n",
        "Promedio = (10 + 15 + 20 + 25 + 30) / 5 = 20\n",
        "\n",
        "En este caso, el promedio de los valores es 20.\n",
        "\n",
        "Es importante tener en cuenta que el promedio puede ser influenciado por valores atípicos o extremos en el conjunto de datos, ya que se basa en la suma de todos los valores. En situaciones en las que los valores atípicos son un problema, otras medidas de tendencia central, como la mediana o la moda, pueden ser más apropiadas para representar la \"típica\" magnitud de los datos.\n",
        "\n",
        "* La mediana es una medida estadística de tendencia central que representa el valor que se encuentra en el centro de un conjunto de datos ordenados. En otras palabras, la mediana es el valor que separa al conjunto de datos en dos partes iguales: la mitad de los valores se encuentran por encima de la mediana y la mitad se encuentran por debajo.\n",
        "\n",
        "Para calcular la mediana, primero debes ordenar los valores del conjunto de datos de manera ascendente o descendente y luego encontrar el valor que está exactamente en el medio. Si hay un número impar de valores, la mediana es simplemente el valor central. Si hay un número par de valores, la mediana es el promedio de los dos valores centrales.\n",
        "\n",
        "La mediana es especialmente útil cuando se tienen valores atípicos o extremos en el conjunto de datos, ya que no se ve tan afectada por estos valores como lo es el promedio. Por lo tanto, puede dar una idea más robusta de la \"típica\" magnitud de los datos."
      ],
      "metadata": {
        "id": "Siosbft7Mo3O"
      }
    },
    {
      "cell_type": "code",
      "source": [
        "promedio_valor_credito=np.mean(valor_credito)\n",
        "promedio_valor_credito"
      ],
      "metadata": {
        "colab": {
          "base_uri": "https://localhost:8080/"
        },
        "id": "f9Z2uZEGNBdS",
        "outputId": "0dfe5180-1295-4fe0-bda7-7e0f2c80cc50"
      },
      "execution_count": 143,
      "outputs": [
        {
          "output_type": "execute_result",
          "data": {
            "text/plain": [
              "167484.32266666667"
            ]
          },
          "metadata": {},
          "execution_count": 143
        }
      ]
    },
    {
      "cell_type": "code",
      "source": [
        "mediana_valor_credito=np.median(valor_credito)\n",
        "mediana_valor_credito"
      ],
      "metadata": {
        "colab": {
          "base_uri": "https://localhost:8080/"
        },
        "id": "5sVH0kFIPr7R",
        "outputId": "5a895c3b-e64c-438c-fea8-43ef71575a9e"
      },
      "execution_count": 144,
      "outputs": [
        {
          "output_type": "execute_result",
          "data": {
            "text/plain": [
              "140000.0"
            ]
          },
          "metadata": {},
          "execution_count": 144
        }
      ]
    },
    {
      "cell_type": "code",
      "source": [
        "promedio_valor_credito-mediana_valor_credito"
      ],
      "metadata": {
        "colab": {
          "base_uri": "https://localhost:8080/"
        },
        "id": "yAAbZsb_Pxmw",
        "outputId": "daf11fc8-3317-41d6-d36d-21c57220560c"
      },
      "execution_count": 145,
      "outputs": [
        {
          "output_type": "execute_result",
          "data": {
            "text/plain": [
              "27484.322666666674"
            ]
          },
          "metadata": {},
          "execution_count": 145
        }
      ]
    },
    {
      "cell_type": "code",
      "source": [
        "plt.figure(figsize=(8,5))\n",
        "plt.axvline(mediana_valor_credito,color=\"red\",linestyle=\"--\",label=\"Mediana\")\n",
        "plt.axvline(promedio_valor_credito,color=\"blue\",linestyle=\"--\",label=\"Promedio\")\n",
        "plt.legend()\n",
        "plt.hist(valor_credito,bins=30);"
      ],
      "metadata": {
        "colab": {
          "base_uri": "https://localhost:8080/",
          "height": 463
        },
        "id": "l-Ou0B7CLTio",
        "outputId": "c425d48f-3736-43c7-eb62-151d1ac360ca"
      },
      "execution_count": 148,
      "outputs": [
        {
          "output_type": "display_data",
          "data": {
            "text/plain": [
              "<Figure size 800x500 with 1 Axes>"
            ],
            "image/png": "[encoded data removed]"
          },
          "metadata": {}
        }
      ]
    },
    {
      "cell_type": "markdown",
      "source": [
        "**Pruba de Normalidad**\n",
        "\n",
        "Una prueba de hipótesis es una regla que especifica si se puede aceptar o rechazar una afirmación acerca de una población dependiendo de la evidencia proporcionada por una muestra de datos.\n",
        "\n",
        "Un punto de decisión importante al trabajar con una muestra de datos es si utilizar métodos estadísticos paramétricos o no paramétricos. Los métodos estadísticos paramétricos asumen que los datos tienen una distribución conocida y específica, a menudo una distribución gaussiana. Si una muestra de datos no es gaussiana, entonces se violan los supuestos de las pruebas estadísticas paramétricas y deben usarse métodos estadísticos no paramétricos.\n",
        "\n",
        "**Interpretación de una prueba**\n",
        "* H0: El monto del credito proviene de una distribucción Normal\n",
        "* Ha:El monto del credito No proviene de una distribucción Normal\n",
        "\n",
        "p valor;\n",
        "\n",
        "* p <= alfa : rechazar H0, no es normal.\n",
        "* p> alpha : No rechazar H0, No significa que sea cierta normalidad, Significa que es muy probable que sea Normal\n",
        "\n",
        "\n",
        "Prueba de Shapiro-Wilk Shapiro-Wilk evalúa una muestra de datos y cuantifica la probabilidad de que los datos se extraigan de una distribución gaussiana, llamada así por Samuel Shapiro y Martin Wilk.\n",
        "\n",
        "En la práctica, se cree que la prueba de Shapiro-Wilk es una prueba confiable de normalidad, aunque se sugiere que la prueba puede ser adecuada para muestras de datos más pequeñas, por ejemplo, miles de observaciones o menos\n",
        "\n",
        "D'Agostino's K-squared test La prueba de D'Agostino-Pearson verifica si la forma de la distribución es similar a la forma de la distribución normal. Esta es una combinación de la prueba de asimetría y la prueba de curtosis"
      ],
      "metadata": {
        "id": "UMEr7H6YQfUm"
      }
    },
    {
      "cell_type": "code",
      "source": [
        "alfa=0.05"
      ],
      "metadata": {
        "id": "evjklDWRL6a5"
      },
      "execution_count": 149,
      "outputs": []
    },
    {
      "cell_type": "code",
      "source": [
        "stat,p_valor=stats.shapiro(valor_credito)"
      ],
      "metadata": {
        "colab": {
          "base_uri": "https://localhost:8080/"
        },
        "id": "Ultqe_V1S_d_",
        "outputId": "54bdd008-3020-42ad-8303-75eadef1815b"
      },
      "execution_count": 150,
      "outputs": [
        {
          "output_type": "stream",
          "name": "stderr",
          "text": [
            "/usr/local/lib/python3.10/dist-packages/scipy/stats/_morestats.py:1816: UserWarning: p-value may not be accurate for N > 5000.\n",
            "  warnings.warn(\"p-value may not be accurate for N > 5000.\")\n"
          ]
        }
      ]
    },
    {
      "cell_type": "code",
      "source": [
        "p_valor"
      ],
      "metadata": {
        "colab": {
          "base_uri": "https://localhost:8080/"
        },
        "id": "5gcesfSsUE7J",
        "outputId": "2cd5ba51-7fea-41d9-90ae-2848ce2e042f"
      },
      "execution_count": 151,
      "outputs": [
        {
          "output_type": "execute_result",
          "data": {
            "text/plain": [
              "0.0"
            ]
          },
          "metadata": {},
          "execution_count": 151
        }
      ]
    },
    {
      "cell_type": "code",
      "source": [
        "if (p_valor <0.05):\n",
        "  print(\"Rechazo Normalidad\")\n",
        "else:\n",
        "  print(\"La variables es muy probable que tenga una distribucción normal\")"
      ],
      "metadata": {
        "colab": {
          "base_uri": "https://localhost:8080/"
        },
        "id": "KCVAidKdUGPX",
        "outputId": "054e9b71-c49f-4872-ece4-237150d30e62"
      },
      "execution_count": 152,
      "outputs": [
        {
          "output_type": "stream",
          "name": "stdout",
          "text": [
            "Rechazo Normalidad\n"
          ]
        }
      ]
    },
    {
      "cell_type": "markdown",
      "source": [
        "# **Normalidad puede estar afectada por Datos Atipicos**"
      ],
      "metadata": {
        "id": "JoM1QlYtUbms"
      }
    },
    {
      "cell_type": "code",
      "source": [],
      "metadata": {
        "id": "kAW-iqn4UVOJ"
      },
      "execution_count": null,
      "outputs": []
    }
  ]
}